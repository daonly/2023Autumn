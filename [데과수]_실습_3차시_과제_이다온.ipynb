{
  "nbformat": 4,
  "nbformat_minor": 0,
  "metadata": {
    "colab": {
      "provenance": [],
      "authorship_tag": "ABX9TyNVVNDDnDWh47v/wf1k0cLK",
      "include_colab_link": true
    },
    "kernelspec": {
      "name": "python3",
      "display_name": "Python 3"
    },
    "language_info": {
      "name": "python"
    }
  },
  "cells": [
    {
      "cell_type": "markdown",
      "metadata": {
        "id": "view-in-github",
        "colab_type": "text"
      },
      "source": [
        "<a href=\"https://colab.research.google.com/github/daonly/2023Autumn/blob/main/%5B%EB%8D%B0%EA%B3%BC%EC%88%98%5D_%EC%8B%A4%EC%8A%B5_3%EC%B0%A8%EC%8B%9C_%EA%B3%BC%EC%A0%9C_%EC%9D%B4%EB%8B%A4%EC%98%A8.ipynb\" target=\"_parent\"><img src=\"https://colab.research.google.com/assets/colab-badge.svg\" alt=\"Open In Colab\"/></a>"
      ]
    },
    {
      "cell_type": "markdown",
      "source": [
        "### 1번\n",
        "\n",
        "1) $f(t) = e^{-t}$ 일 때, $\\int_0^{x} f(t) dt$ 의 값을 구하는 함수를 작성하시오. ($x \\geq 0$)\n",
        "\n",
        "2) 위에서 정의한 함수를 사용하여 아래 값을 구하라.\n",
        "\n",
        "$$\\int_0^{1} f(t) dt$$\n",
        "\n",
        "참고: 이는 파라미터가 1인 지수 분포([Exponential distribution](https://ko.wikipedia.org/wiki/%EC%A7%80%EC%88%98_%EB%B6%84%ED%8F%AC))의 누적 분포 함수([Cumulative distribution function](https://en.wikipedia.org/wiki/Cumulative_distribution_function))를 구하는 것과 같다.\n"
      ],
      "metadata": {
        "id": "FE1pCmfMh-FL"
      }
    },
    {
      "cell_type": "code",
      "execution_count": 2,
      "metadata": {
        "colab": {
          "base_uri": "https://localhost:8080/",
          "height": 37
        },
        "id": "X73SL9GKf6Bb",
        "outputId": "8e0d1feb-ed86-458f-ba06-9b2e9cb4f4f4"
      },
      "outputs": [
        {
          "output_type": "execute_result",
          "data": {
            "text/plain": [
              "0.632120558828558"
            ],
            "text/latex": "$\\displaystyle 0.632120558828558$"
          },
          "metadata": {},
          "execution_count": 2
        }
      ],
      "source": [
        "from sympy import Symbol, Integral, exp, N\n",
        "\n",
        "t = Symbol('t')\n",
        "ft = exp(-t)\n",
        "\n",
        "def exp_cdf(x):\n",
        "  goal = Integral(ft, (t, 0, x))\n",
        "  return N(goal)\n",
        "\n",
        "exp_cdf(1)"
      ]
    },
    {
      "cell_type": "markdown",
      "source": [
        "### 2번\n",
        "\n",
        "두 함수 $y = f(x), y = g(x)$가 구간 $[a,b]$에서 연속일 때, 두 곡선 $y = f(x), y = g(x)$와 두 직선 $x = a, x = b$로 둘러싸인 도형의 넓이 $S$는 다음과 같다.\n",
        "\n",
        "$$S = \\int_a^b |f(x) - g(x)| dx$$\n",
        "\n",
        "a) 두 곡선 $y=f(x)$, $y=g(x)$ 와 두 직선 $x=a$, $x=b$ 으로 둘러쌓인 부분의 **넓이** $S$을 구하는 함수를 작성하시오.\n",
        "\n",
        "b) 본인이 작성한 함수에 아래 곡선과 직선을 입력하여 결과를 출력하시오.\n",
        "\n",
        "$$f(x)=\\sin{x}, g(x)=\\sin^2{x}, x = 0, x = 2 \\pi$$"
      ],
      "metadata": {
        "id": "WIXHrC2gnbeZ"
      }
    },
    {
      "cell_type": "markdown",
      "source": [
        "### 3번\n",
        "\n",
        "a) 구간 $[a, b]$에서 곡선 $y = f(x)$와 두 직선 $x = a$,\n",
        "$x = b$와 $x$축으로 둘러싸인 도형을 **$x$축 기준으로 회전**하여 생기는 회전체의 **부피** $V$를 구하는 함수를 작성하시오.\n",
        "\n",
        "*   함수는 한 곡선의 식 $f(x)$ 와 두 직선 $x = a$, $x = b$ 에 해당하는 $a$, $b$을 입력으로 받습니다.\n",
        "*   함수는 $x$축 기준으로 회전하여 생기는 입체도형의 부피를 출력합니다.\n",
        "\n",
        "b) 본인이 작성한 함수에 아래 곡선과 직선을 입력하였을 때의 결과를 산출하시오.\n",
        "\n",
        "$$y = e^x, x = 0, x=2$$"
      ],
      "metadata": {
        "id": "_Q9OgHdXngK4"
      }
    },
    {
      "cell_type": "markdown",
      "source": [
        "### 4번\n",
        "\n",
        "함수 $y = f(x)$가 구간 $[a, b]$에서 연속일 때 함수 $f(x)$의 $a$에서 $b$까지의 정적분은 다음과 같다.\n",
        "\n",
        "$$\\int_a^b f(x) dx = \\displaystyle{\\lim_{n \\to \\infty} \\sum_{k=1}^{n} f(x_k) \\Delta x} \\hspace{5pt} \\text{단, } \\Delta x = \\frac{b-a}{n}, x_k = a + k \\Delta x$$\n"
      ],
      "metadata": {
        "id": "vJO2a75snjNH"
      }
    },
    {
      "cell_type": "markdown",
      "source": [
        "a) 함수 `f`, 구간의 시작 `a`, 구간의 끝 `b`, 분할 수 `n`을 입력으로 받고 위 식에 따라 정적분의 값을 산출하는 함수를 정의하시오."
      ],
      "metadata": {
        "id": "zmvTJ7k_nnyZ"
      }
    },
    {
      "cell_type": "markdown",
      "source": [
        "b) 본인이 작성한 함수에 $f(x) = 3x^2$ 일 때의 결과를 산출하시오."
      ],
      "metadata": {
        "id": "yCYaZpBpntRu"
      }
    },
    {
      "cell_type": "markdown",
      "source": [
        "c) sympy의 Integral 결과와 비교하시오."
      ],
      "metadata": {
        "id": "RHpxR4G3nvpQ"
      }
    },
    {
      "cell_type": "markdown",
      "source": [
        "### 5번"
      ],
      "metadata": {
        "id": "e0ftMGrJn9NR"
      }
    },
    {
      "cell_type": "markdown",
      "source": [
        "함수 $y = f(x)$가 구간 $[a, b]$에서 연속일 때 함수 $f(x)$의 $a$에서 $b$까지의 곡선의 길이는 다음과 같다.\n",
        "\n",
        "$$L = \\displaystyle{\\lim_{n \\to \\infty}} \\sum_{k=0}^{n-1} \\sqrt{(\\Delta x_i)^2 + (\\Delta y_i)^2} \\hspace{5pt} \\text{단, } \\Delta x = \\frac{b-a}{n}, \\Delta y = f(x_{k+1}) - f(x_k),  x_k = a + k \\Delta x$$"
      ],
      "metadata": {
        "id": "Bnh3VIijnydA"
      }
    },
    {
      "cell_type": "markdown",
      "source": [
        "a) 함수 `f`, 구간의 시작 `a`, 구간의 끝 `b`, 분할 수 `n`을 입력으로 받고 위 식에 따라 곡선의 길이 값을 산출하는 함수를 정의하시오."
      ],
      "metadata": {
        "id": "HvOrH8CUoCWI"
      }
    },
    {
      "cell_type": "markdown",
      "source": [
        "b) 본인이 작성한 함수를 활용하여 다음 곡선 $f(x)$의 $x = 1$에서 $x = 4$까지의 길이를 구하라.\n",
        "\n",
        "$$f(x) = \\frac{2}{3}(x-1)^\\frac{3}{2}$$"
      ],
      "metadata": {
        "id": "CvHBomzwoDUe"
      }
    },
    {
      "cell_type": "code",
      "source": [],
      "metadata": {
        "id": "9ZLrmjpDoJP4"
      },
      "execution_count": null,
      "outputs": []
    }
  ]
}
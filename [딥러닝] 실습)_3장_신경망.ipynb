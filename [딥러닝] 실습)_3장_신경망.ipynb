{
  "cells": [
    {
      "cell_type": "markdown",
      "metadata": {
        "id": "view-in-github",
        "colab_type": "text"
      },
      "source": [
        "<a href=\"https://colab.research.google.com/github/daonly/2023Autumn/blob/main/%5B%EB%94%A5%EB%9F%AC%EB%8B%9D%5D%20%E1%84%89%E1%85%B5%E1%86%AF%E1%84%89%E1%85%B3%E1%86%B8)_3%E1%84%8C%E1%85%A1%E1%86%BC_%E1%84%89%E1%85%B5%E1%86%AB%E1%84%80%E1%85%A7%E1%86%BC%E1%84%86%E1%85%A1%E1%86%BC.ipynb\" target=\"_parent\"><img src=\"https://colab.research.google.com/assets/colab-badge.svg\" alt=\"Open In Colab\"/></a>"
      ]
    },
    {
      "cell_type": "markdown",
      "id": "5b2fafa3",
      "metadata": {
        "id": "5b2fafa3"
      },
      "source": [
        "## 활성화 함수"
      ]
    },
    {
      "cell_type": "markdown",
      "id": "f873d86c",
      "metadata": {
        "id": "f873d86c"
      },
      "source": [
        "### 계단 함수 구현하기"
      ]
    },
    {
      "cell_type": "code",
      "execution_count": 11,
      "id": "d900cb98",
      "metadata": {
        "ExecuteTime": {
          "end_time": "2023-09-21T08:02:23.731473Z",
          "start_time": "2023-09-21T08:02:23.716524Z"
        },
        "id": "d900cb98"
      },
      "outputs": [],
      "source": [
        "def step_function(x):\n",
        "    if x > 0:\n",
        "        return 1\n",
        "    else:\n",
        "        return 0"
      ]
    },
    {
      "cell_type": "raw",
      "id": "645a0e6a",
      "metadata": {
        "id": "645a0e6a"
      },
      "source": [
        "넘파이 배열도 지원하는 함수"
      ]
    },
    {
      "cell_type": "code",
      "execution_count": 12,
      "id": "ec18b5ab",
      "metadata": {
        "ExecuteTime": {
          "end_time": "2023-09-21T08:02:23.747420Z",
          "start_time": "2023-09-21T08:02:23.732470Z"
        },
        "id": "ec18b5ab"
      },
      "outputs": [],
      "source": [
        "def step_function(x):\n",
        "    y = x > 0\n",
        "    return y.astype(np.int64)"
      ]
    },
    {
      "cell_type": "code",
      "execution_count": 13,
      "id": "94c91cde",
      "metadata": {
        "ExecuteTime": {
          "end_time": "2023-09-21T09:03:33.025700Z",
          "start_time": "2023-09-21T09:03:33.007761Z"
        },
        "colab": {
          "base_uri": "https://localhost:8080/"
        },
        "id": "94c91cde",
        "outputId": "4fb3fd8a-dd2d-4890-b6ac-3f6563284fcc"
      },
      "outputs": [
        {
          "output_type": "stream",
          "name": "stdout",
          "text": [
            "[-1.  1.  2.]\n",
            "[False  True  True]\n",
            "[0 1 1]\n"
          ]
        }
      ],
      "source": [
        "import numpy as np\n",
        "\n",
        "x = np.array([-1.0, 1.0, 2.0])\n",
        "print(x)\n",
        "y = x > 0\n",
        "print(y)\n",
        "y = y.astype(np.int64)\n",
        "print(y)"
      ]
    },
    {
      "cell_type": "markdown",
      "id": "abca6035",
      "metadata": {
        "id": "abca6035"
      },
      "source": [
        "### 계단 함수의 그래프"
      ]
    },
    {
      "cell_type": "code",
      "execution_count": 14,
      "id": "5249a984",
      "metadata": {
        "ExecuteTime": {
          "end_time": "2023-09-21T08:02:24.233584Z",
          "start_time": "2023-09-21T08:02:23.843067Z"
        },
        "colab": {
          "base_uri": "https://localhost:8080/",
          "height": 0
        },
        "id": "5249a984",
        "outputId": "0fe855c0-283f-4236-afb8-a0c1c1c316db"
      },
      "outputs": [
        {
          "output_type": "display_data",
          "data": {
            "text/plain": [
              "<Figure size 640x480 with 1 Axes>"
            ],
            "image/png": "[encoded data removed]"
          },
          "metadata": {}
        }
      ],
      "source": [
        "# coding: utf-8\n",
        "import numpy as np\n",
        "import matplotlib.pylab as plt\n",
        "\n",
        "\n",
        "def step_function(x):\n",
        "    return np.array(x > 0, dtype=np.int64)\n",
        "\n",
        "X = np.arange(-5.0, 5.0, 0.1)\n",
        "Y = step_function(X)\n",
        "plt.plot(X, Y)\n",
        "plt.ylim(-0.1, 1.1)  # y축의 범위 지정\n",
        "plt.show()"
      ]
    },
    {
      "cell_type": "markdown",
      "id": "e88ab26f",
      "metadata": {
        "id": "e88ab26f"
      },
      "source": [
        "### 시그모이드 함수 구현하기"
      ]
    },
    {
      "cell_type": "code",
      "execution_count": 15,
      "id": "e4803b54",
      "metadata": {
        "ExecuteTime": {
          "end_time": "2023-09-21T08:02:24.243370Z",
          "start_time": "2023-09-21T08:02:24.234580Z"
        },
        "id": "e4803b54"
      },
      "outputs": [],
      "source": [
        "def sigmoid(x):\n",
        "    return 1/(1+np.exp(-x))"
      ]
    },
    {
      "cell_type": "code",
      "execution_count": 16,
      "id": "6af99133",
      "metadata": {
        "ExecuteTime": {
          "end_time": "2023-09-21T08:02:24.259044Z",
          "start_time": "2023-09-21T08:02:24.243370Z"
        },
        "colab": {
          "base_uri": "https://localhost:8080/"
        },
        "id": "6af99133",
        "outputId": "60705087-dc51-4a4c-9d13-ad1b4d6d4537"
      },
      "outputs": [
        {
          "output_type": "execute_result",
          "data": {
            "text/plain": [
              "array([0.26894142, 0.73105858, 0.88079708])"
            ]
          },
          "metadata": {},
          "execution_count": 16
        }
      ],
      "source": [
        "x = np.array([-1.0, 1.0, 2.0])\n",
        "sigmoid(x)"
      ]
    },
    {
      "cell_type": "code",
      "execution_count": 17,
      "id": "8af87992",
      "metadata": {
        "ExecuteTime": {
          "end_time": "2023-09-21T09:02:38.836843Z",
          "start_time": "2023-09-21T09:02:38.826877Z"
        },
        "colab": {
          "base_uri": "https://localhost:8080/"
        },
        "id": "8af87992",
        "outputId": "62ca1419-08ed-4fab-b5d3-afb6a45699b4"
      },
      "outputs": [
        {
          "output_type": "stream",
          "name": "stdout",
          "text": [
            "[2. 3. 4.]\n",
            "[1.         0.5        0.33333333]\n"
          ]
        }
      ],
      "source": [
        "t = np.array([1.0, 2.0, 3.0])\n",
        "print(1.0 + t)\n",
        "print(1.0 / t)"
      ]
    },
    {
      "cell_type": "code",
      "execution_count": 18,
      "id": "53ead5e9",
      "metadata": {
        "ExecuteTime": {
          "end_time": "2023-09-21T08:02:24.337937Z",
          "start_time": "2023-09-21T08:02:24.291934Z"
        },
        "colab": {
          "base_uri": "https://localhost:8080/",
          "height": 0
        },
        "id": "53ead5e9",
        "outputId": "6b737455-8f4e-4e78-f8a3-d12ec91b10a2"
      },
      "outputs": [
        {
          "output_type": "display_data",
          "data": {
            "text/plain": [
              "<Figure size 640x480 with 1 Axes>"
            ],
            "image/png": "[encoded data removed]"
          },
          "metadata": {}
        }
      ],
      "source": [
        "import numpy as np\n",
        "import matplotlib.pylab as plt\n",
        "\n",
        "\n",
        "def sigmoid(x):\n",
        "    return 1 / (1 + np.exp(-x))\n",
        "\n",
        "X = np.arange(-5.0, 5.0, 0.1)\n",
        "Y = sigmoid(X)\n",
        "plt.plot(X, Y)\n",
        "plt.ylim(-0.1, 1.1)\n",
        "plt.show()"
      ]
    },
    {
      "cell_type": "markdown",
      "id": "a319a21a",
      "metadata": {
        "id": "a319a21a"
      },
      "source": [
        "### 시그모이드 함수와 계단 함수 비교"
      ]
    },
    {
      "cell_type": "code",
      "execution_count": 19,
      "id": "ac7a111d",
      "metadata": {
        "ExecuteTime": {
          "end_time": "2023-09-21T08:02:24.381987Z",
          "start_time": "2023-09-21T08:02:24.338934Z"
        },
        "colab": {
          "base_uri": "https://localhost:8080/",
          "height": 0
        },
        "id": "ac7a111d",
        "outputId": "61d7833a-f36f-4edb-c7ba-218e69080db8"
      },
      "outputs": [
        {
          "output_type": "display_data",
          "data": {
            "text/plain": [
              "<Figure size 640x480 with 1 Axes>"
            ],
            "image/png": "[encoded data removed]"
          },
          "metadata": {}
        }
      ],
      "source": [
        "# coding: utf-8\n",
        "import numpy as np\n",
        "import matplotlib.pylab as plt\n",
        "\n",
        "\n",
        "def sigmoid(x):\n",
        "    return 1 / (1 + np.exp(-x))\n",
        "\n",
        "\n",
        "def step_function(x):\n",
        "    return np.array(x > 0, dtype=np.int64)\n",
        "\n",
        "x = np.arange(-5.0, 5.0, 0.1)\n",
        "y1 = sigmoid(x)\n",
        "y2 = step_function(x)\n",
        "\n",
        "plt.plot(x, y1)\n",
        "plt.plot(x, y2, 'k--')\n",
        "plt.ylim(-0.1, 1.1) # y축 범위 지정\n",
        "plt.show()"
      ]
    },
    {
      "cell_type": "markdown",
      "id": "45ceedbe",
      "metadata": {
        "id": "45ceedbe"
      },
      "source": [
        "### ReLU 함수"
      ]
    },
    {
      "cell_type": "code",
      "execution_count": 20,
      "id": "26a4efe0",
      "metadata": {
        "ExecuteTime": {
          "end_time": "2023-09-21T08:02:24.433854Z",
          "start_time": "2023-09-21T08:02:24.382984Z"
        },
        "colab": {
          "base_uri": "https://localhost:8080/",
          "height": 0
        },
        "id": "26a4efe0",
        "outputId": "c5cdeeee-5485-494f-92d0-0405323159c8"
      },
      "outputs": [
        {
          "output_type": "display_data",
          "data": {
            "text/plain": [
              "<Figure size 640x480 with 1 Axes>"
            ],
            "image/png": "[encoded data removed]"
          },
          "metadata": {}
        }
      ],
      "source": [
        "import numpy as np\n",
        "import matplotlib.pylab as plt\n",
        "\n",
        "\n",
        "def relu(x):\n",
        "    return np.maximum(0, x)\n",
        "\n",
        "x = np.arange(-5.0, 5.0, 0.1)\n",
        "y = relu(x)\n",
        "plt.plot(x, y)\n",
        "plt.ylim(-1.0, 5.5)\n",
        "plt.show()"
      ]
    },
    {
      "cell_type": "markdown",
      "id": "067a1ce8",
      "metadata": {
        "id": "067a1ce8"
      },
      "source": [
        "## 다차원 배열"
      ]
    },
    {
      "cell_type": "code",
      "execution_count": null,
      "id": "0eaac372",
      "metadata": {
        "ExecuteTime": {
          "end_time": "2023-09-21T09:06:17.030168Z",
          "start_time": "2023-09-21T09:06:17.019205Z"
        },
        "colab": {
          "base_uri": "https://localhost:8080/"
        },
        "id": "0eaac372",
        "outputId": "3b62e0be-9b72-46c3-a9c9-96769fe357f1"
      },
      "outputs": [
        {
          "output_type": "stream",
          "name": "stdout",
          "text": [
            "[1 2 3 4]\n",
            "1\n",
            "(4,)\n",
            "4\n",
            "\n",
            "\n",
            "[[1 2]\n",
            " [3 4]\n",
            " [5 6]]\n",
            "2\n",
            "(3, 2)\n"
          ]
        }
      ],
      "source": [
        "import numpy as np\n",
        "A = np.array([1,2,3,4])\n",
        "print(A)\n",
        "print(np.ndim(A))\n",
        "print(A.shape)\n",
        "print(A.shape[0])\n",
        "\n",
        "print('\\n')\n",
        "B = np.array([[1,2], [3,4], [5,6]])\n",
        "print(B)\n",
        "print(np.ndim(B))\n",
        "print(B.shape)"
      ]
    },
    {
      "cell_type": "markdown",
      "id": "e766a191",
      "metadata": {
        "id": "e766a191"
      },
      "source": [
        "### 행렬의 내적"
      ]
    },
    {
      "cell_type": "code",
      "execution_count": null,
      "id": "512b1468",
      "metadata": {
        "ExecuteTime": {
          "end_time": "2023-09-21T09:06:37.038277Z",
          "start_time": "2023-09-21T09:06:37.022653Z"
        },
        "colab": {
          "base_uri": "https://localhost:8080/"
        },
        "id": "512b1468",
        "outputId": "24fcc07c-3599-4518-b05c-c3bcc9da841e"
      },
      "outputs": [
        {
          "output_type": "stream",
          "name": "stdout",
          "text": [
            "(2, 2)\n",
            "(2, 2)\n",
            "[[19 22]\n",
            " [43 50]]\n"
          ]
        }
      ],
      "source": [
        "A = np.array([[1,2], [3,4]])\n",
        "print(A.shape)\n",
        "B = np.array(([5,6], [7,8]))\n",
        "print(B.shape)\n",
        "print(np.dot(A,B))"
      ]
    },
    {
      "cell_type": "code",
      "execution_count": null,
      "id": "bbad7411",
      "metadata": {
        "ExecuteTime": {
          "end_time": "2023-09-21T09:06:54.531104Z",
          "start_time": "2023-09-21T09:06:54.515158Z"
        },
        "colab": {
          "base_uri": "https://localhost:8080/"
        },
        "id": "bbad7411",
        "outputId": "2a2feeb1-453a-4249-b772-ea07689c9378"
      },
      "outputs": [
        {
          "output_type": "stream",
          "name": "stdout",
          "text": [
            "(2, 3)\n",
            "(3, 2)\n",
            "[[22 28]\n",
            " [49 64]]\n"
          ]
        }
      ],
      "source": [
        "A = np.array([[1,2,3], [4,5,6]])\n",
        "print(A.shape)\n",
        "B = np.array(([1,2],[3,4],[5,6]))\n",
        "print(B.shape)\n",
        "print(np.dot(A,B))"
      ]
    },
    {
      "cell_type": "code",
      "execution_count": null,
      "id": "8a0ca722",
      "metadata": {
        "ExecuteTime": {
          "end_time": "2023-09-21T09:06:55.001526Z",
          "start_time": "2023-09-21T09:06:54.971567Z"
        },
        "colab": {
          "base_uri": "https://localhost:8080/",
          "height": 276
        },
        "id": "8a0ca722",
        "outputId": "f11b2b4e-3a02-48c8-e1a8-1b874886b129"
      },
      "outputs": [
        {
          "output_type": "stream",
          "name": "stdout",
          "text": [
            "(2, 2)\n"
          ]
        },
        {
          "output_type": "error",
          "ename": "ValueError",
          "evalue": "ignored",
          "traceback": [
            "\u001b[0;31m---------------------------------------------------------------------------\u001b[0m",
            "\u001b[0;31mValueError\u001b[0m                                Traceback (most recent call last)",
            "\u001b[0;32m<ipython-input-14-85f34f266791>\u001b[0m in \u001b[0;36m<cell line: 3>\u001b[0;34m()\u001b[0m\n\u001b[1;32m      1\u001b[0m \u001b[0mC\u001b[0m \u001b[0;34m=\u001b[0m \u001b[0mnp\u001b[0m\u001b[0;34m.\u001b[0m\u001b[0marray\u001b[0m\u001b[0;34m(\u001b[0m\u001b[0;34m[\u001b[0m\u001b[0;34m[\u001b[0m\u001b[0;36m1\u001b[0m\u001b[0;34m,\u001b[0m\u001b[0;36m2\u001b[0m\u001b[0;34m]\u001b[0m\u001b[0;34m,\u001b[0m\u001b[0;34m[\u001b[0m\u001b[0;36m3\u001b[0m\u001b[0;34m,\u001b[0m\u001b[0;36m4\u001b[0m\u001b[0;34m]\u001b[0m\u001b[0;34m]\u001b[0m\u001b[0;34m)\u001b[0m\u001b[0;34m\u001b[0m\u001b[0;34m\u001b[0m\u001b[0m\n\u001b[1;32m      2\u001b[0m \u001b[0mprint\u001b[0m\u001b[0;34m(\u001b[0m\u001b[0mC\u001b[0m\u001b[0;34m.\u001b[0m\u001b[0mshape\u001b[0m\u001b[0;34m)\u001b[0m\u001b[0;34m\u001b[0m\u001b[0;34m\u001b[0m\u001b[0m\n\u001b[0;32m----> 3\u001b[0;31m \u001b[0mprint\u001b[0m\u001b[0;34m(\u001b[0m\u001b[0mnp\u001b[0m\u001b[0;34m.\u001b[0m\u001b[0mdot\u001b[0m\u001b[0;34m(\u001b[0m\u001b[0mA\u001b[0m\u001b[0;34m,\u001b[0m\u001b[0mC\u001b[0m\u001b[0;34m)\u001b[0m\u001b[0;34m)\u001b[0m\u001b[0;34m\u001b[0m\u001b[0;34m\u001b[0m\u001b[0m\n\u001b[0m",
            "\u001b[0;32m/usr/local/lib/python3.10/dist-packages/numpy/core/overrides.py\u001b[0m in \u001b[0;36mdot\u001b[0;34m(*args, **kwargs)\u001b[0m\n",
            "\u001b[0;31mValueError\u001b[0m: shapes (2,3) and (2,2) not aligned: 3 (dim 1) != 2 (dim 0)"
          ]
        }
      ],
      "source": [
        "C = np.array([[1,2],[3,4]])\n",
        "print(C.shape)\n",
        "print(np.dot(A,C))"
      ]
    },
    {
      "cell_type": "code",
      "execution_count": null,
      "id": "a47055ff",
      "metadata": {
        "ExecuteTime": {
          "end_time": "2023-09-21T08:02:24.736024Z",
          "start_time": "2023-09-21T08:02:24.652430Z"
        },
        "colab": {
          "base_uri": "https://localhost:8080/"
        },
        "id": "a47055ff",
        "outputId": "81ccd9b6-ccfd-48d8-ade6-5a1a36550a21"
      },
      "outputs": [
        {
          "output_type": "stream",
          "name": "stdout",
          "text": [
            "(3, 2)\n",
            "(2,)\n",
            "[23 53 83]\n"
          ]
        }
      ],
      "source": [
        "A = np.array(([1,2],[3,4],[5,6]))\n",
        "print(A.shape)\n",
        "B = np.array(([7,8]))\n",
        "print(B.shape)\n",
        "print(np.dot(A,B))"
      ]
    },
    {
      "cell_type": "markdown",
      "id": "7f3b7d40",
      "metadata": {
        "id": "7f3b7d40"
      },
      "source": [
        "### 신경망의 내적"
      ]
    },
    {
      "cell_type": "code",
      "execution_count": null,
      "id": "59e70a78",
      "metadata": {
        "ExecuteTime": {
          "end_time": "2023-09-21T09:07:28.411434Z",
          "start_time": "2023-09-21T09:07:28.400471Z"
        },
        "colab": {
          "base_uri": "https://localhost:8080/"
        },
        "id": "59e70a78",
        "outputId": "50deb6e9-0122-4224-bfb2-34a6b1526f07"
      },
      "outputs": [
        {
          "output_type": "stream",
          "name": "stdout",
          "text": [
            "(2,)\n",
            "[[1 3 5]\n",
            " [2 4 6]]\n",
            "(2, 3)\n",
            "[ 5 11 17]\n"
          ]
        }
      ],
      "source": [
        "X = np.array([1,2])\n",
        "print(X.shape)\n",
        "W = np.array([[1,3,5], [2,4,6]])\n",
        "print(W)\n",
        "print(W.shape)\n",
        "Y = np.dot(X, W)\n",
        "print(Y)"
      ]
    },
    {
      "cell_type": "markdown",
      "id": "f737ef21",
      "metadata": {
        "id": "f737ef21"
      },
      "source": [
        "##  3층 신경망 구현하기"
      ]
    },
    {
      "cell_type": "code",
      "execution_count": null,
      "id": "ae122c0f",
      "metadata": {
        "ExecuteTime": {
          "end_time": "2023-09-21T08:02:42.695395Z",
          "start_time": "2023-09-21T08:02:42.686425Z"
        },
        "colab": {
          "base_uri": "https://localhost:8080/"
        },
        "id": "ae122c0f",
        "outputId": "f48bd551-97b1-478f-c82b-1c1616ad9776"
      },
      "outputs": [
        {
          "output_type": "stream",
          "name": "stdout",
          "text": [
            "(2, 3)\n",
            "(2,)\n",
            "(3,)\n",
            "[1.2 2.5 3.8]\n",
            "[0.76852478 0.92414182 0.97811873]\n"
          ]
        }
      ],
      "source": [
        "X = np.array([1.0, 5.0])\n",
        "W1 = np.array([[0.1, 0.3, 0.5], [0.2, 0.4, 0.6]])\n",
        "B1 = np.array([0.1, 0.2, 0.3])\n",
        "\n",
        "print(W1.shape)\n",
        "print(X.shape)\n",
        "print(B1.shape)\n",
        "\n",
        "A1 = np.dot(X, W1) + B1\n",
        "Z1 = sigmoid(A1)\n",
        "\n",
        "print(A1)\n",
        "print(Z1)"
      ]
    },
    {
      "cell_type": "code",
      "execution_count": null,
      "id": "02343fb1",
      "metadata": {
        "ExecuteTime": {
          "end_time": "2023-09-21T08:02:43.274146Z",
          "start_time": "2023-09-21T08:02:43.258524Z"
        },
        "colab": {
          "base_uri": "https://localhost:8080/"
        },
        "id": "02343fb1",
        "outputId": "2973119f-c7a6-4be1-f6ec-a452520918e7"
      },
      "outputs": [
        {
          "output_type": "stream",
          "name": "stdout",
          "text": [
            "(3,)\n",
            "(3, 2)\n",
            "(2,)\n"
          ]
        }
      ],
      "source": [
        "W2 = np.array([[0.1, 0.4], [0.2,0.5], [0.3,0.6]])\n",
        "B2 = np.array([0.1, 0.2])\n",
        "\n",
        "print(Z1.shape)\n",
        "print(W2.shape)\n",
        "print(B2.shape)\n",
        "\n",
        "A2 = np.dot(Z1, W2) + B2\n",
        "Z2 = sigmoid(A2)"
      ]
    },
    {
      "cell_type": "code",
      "execution_count": null,
      "id": "9ddb89f5",
      "metadata": {
        "ExecuteTime": {
          "end_time": "2023-09-21T08:40:11.018131Z",
          "start_time": "2023-09-21T08:40:11.004178Z"
        },
        "id": "9ddb89f5"
      },
      "outputs": [],
      "source": [
        "def identity_function(x):\n",
        "    return x"
      ]
    },
    {
      "cell_type": "code",
      "execution_count": null,
      "id": "fd3aab14",
      "metadata": {
        "ExecuteTime": {
          "end_time": "2023-09-21T08:40:16.858067Z",
          "start_time": "2023-09-21T08:40:16.848100Z"
        },
        "id": "fd3aab14"
      },
      "outputs": [],
      "source": [
        "W3 = np.array([[0.1, 0.3], [0.2,0.4]])\n",
        "B3 = np.array([0.1, 0.2])\n",
        "\n",
        "A3 = np.dot(Z2, W3) + B3\n",
        "Y = identity_function(A3)"
      ]
    },
    {
      "cell_type": "markdown",
      "id": "47ffe758",
      "metadata": {
        "id": "47ffe758"
      },
      "source": [
        "### 구현 정리"
      ]
    },
    {
      "cell_type": "code",
      "execution_count": null,
      "id": "ce3ad63e",
      "metadata": {
        "ExecuteTime": {
          "end_time": "2023-09-21T08:41:24.973432Z",
          "start_time": "2023-09-21T08:41:24.965458Z"
        },
        "colab": {
          "base_uri": "https://localhost:8080/"
        },
        "id": "ce3ad63e",
        "outputId": "e6aade4c-228d-4a62-de63-f77e7628d995"
      },
      "outputs": [
        {
          "output_type": "stream",
          "name": "stdout",
          "text": [
            "[0.31682708 0.69627909]\n"
          ]
        }
      ],
      "source": [
        "def init_network():\n",
        "    network = {}\n",
        "    network['W1'] = np.array([[0.1, 0.3, 0.5], [0.2, 0.4, 0.6]])\n",
        "    network['b1'] = np.array([0.1, 0.2, 0.3])\n",
        "    network['W2'] = np.array([[0.1, 0.4], [0.2,0.5], [0.3,0.6]])\n",
        "    network['b2'] = np.array([0.1, 0.2])\n",
        "    network['W3'] = np.array([[0.1, 0.3], [0.2,0.4]])\n",
        "    network['b3'] = np.array([0.1, 0.2])\n",
        "\n",
        "    return network\n",
        "\n",
        "def forward(network, x):\n",
        "    W1, W2, W3 = network['W1'], network['W2'], network['W3']\n",
        "    b1, b2, b3 = network['b1'], network['b2'], network['b3']\n",
        "\n",
        "    x = np.dot(x, W1)+b1\n",
        "    x = sigmoid(x)\n",
        "    x = np.dot(x, W2)+b2\n",
        "    x = sigmoid(x)\n",
        "    x = np.dot(x, W3)+b3\n",
        "    x = identity_function(x)\n",
        "\n",
        "    return x\n",
        "\n",
        "network = init_network()\n",
        "x = np.array([1.0, 0.5])\n",
        "y = forward(network, x)\n",
        "print(y)"
      ]
    },
    {
      "cell_type": "markdown",
      "id": "3958e553",
      "metadata": {
        "id": "3958e553"
      },
      "source": [
        "## 출력층 설계하기"
      ]
    },
    {
      "cell_type": "markdown",
      "id": "a21eba8e",
      "metadata": {
        "id": "a21eba8e"
      },
      "source": [
        "### 항등 함수와 소프트맥스 함수 구현하기"
      ]
    },
    {
      "cell_type": "code",
      "execution_count": null,
      "id": "5722d8bc",
      "metadata": {
        "colab": {
          "base_uri": "https://localhost:8080/"
        },
        "id": "5722d8bc",
        "outputId": "0562dadc-5beb-4431-d0c5-7fe8ad24322e"
      },
      "outputs": [
        {
          "output_type": "stream",
          "name": "stdout",
          "text": [
            "[ 1.34985881 18.17414537 54.59815003]\n",
            "74.1221542101633\n",
            "[0.01821127 0.24519181 0.73659691]\n"
          ]
        }
      ],
      "source": [
        "import numpy as np\n",
        "\n",
        "a = np.array([0.3,2.9,4.0])\n",
        "\n",
        "exp_a = np.exp(a)\n",
        "print(exp_a)\n",
        "\n",
        "sum_exp_a = np.sum(exp_a)\n",
        "print(sum_exp_a)\n",
        "\n",
        "y = exp_a / sum_exp_a\n",
        "print(y)"
      ]
    },
    {
      "cell_type": "code",
      "execution_count": null,
      "id": "de5c77cd",
      "metadata": {
        "ExecuteTime": {
          "end_time": "2023-09-21T08:46:45.645116Z",
          "start_time": "2023-09-21T08:46:45.631163Z"
        },
        "id": "de5c77cd"
      },
      "outputs": [],
      "source": [
        "import numpy as np\n",
        "\n",
        "def softmax(a):\n",
        "    c = np.max(a)\n",
        "    exp_a = np.exp(a-c)\n",
        "    sum_exp_a = np.sum(exp_a)\n",
        "    y = exp_a / sum_exp_a\n",
        "    return y"
      ]
    },
    {
      "cell_type": "markdown",
      "id": "d5823620",
      "metadata": {
        "id": "d5823620"
      },
      "source": [
        "### 소프트맥스 함수 구현 시 주의점"
      ]
    },
    {
      "cell_type": "code",
      "execution_count": null,
      "id": "320945ac",
      "metadata": {
        "ExecuteTime": {
          "end_time": "2023-09-21T09:08:31.145603Z",
          "start_time": "2023-09-21T09:08:31.134640Z"
        },
        "colab": {
          "base_uri": "https://localhost:8080/"
        },
        "id": "320945ac",
        "outputId": "32e6923d-d3f4-4d5a-fd8e-7ba0f9bb724e"
      },
      "outputs": [
        {
          "output_type": "stream",
          "name": "stdout",
          "text": [
            "[nan nan nan]\n"
          ]
        },
        {
          "output_type": "stream",
          "name": "stderr",
          "text": [
            "<ipython-input-24-7dfcd5d919c7>:2: RuntimeWarning: overflow encountered in exp\n",
            "  print(np.exp(a) / np.sum(np.exp(a)))\n",
            "<ipython-input-24-7dfcd5d919c7>:2: RuntimeWarning: invalid value encountered in divide\n",
            "  print(np.exp(a) / np.sum(np.exp(a)))\n"
          ]
        }
      ],
      "source": [
        "a = np.array([1010, 1000, 990])\n",
        "print(np.exp(a) / np.sum(np.exp(a)))"
      ]
    },
    {
      "cell_type": "code",
      "execution_count": null,
      "id": "257606d4",
      "metadata": {
        "ExecuteTime": {
          "end_time": "2023-09-21T09:08:56.484420Z",
          "start_time": "2023-09-21T09:08:56.472460Z"
        },
        "colab": {
          "base_uri": "https://localhost:8080/"
        },
        "id": "257606d4",
        "outputId": "697b15d0-349a-4582-92d1-b1857fb180ff"
      },
      "outputs": [
        {
          "output_type": "stream",
          "name": "stdout",
          "text": [
            "[  0 -10 -20]\n",
            "[9.99954600e-01 4.53978686e-05 2.06106005e-09]\n"
          ]
        }
      ],
      "source": [
        "c = np.max(a)\n",
        "print(a - c)\n",
        "print(np.exp(a-c) / np.sum(np.exp(a-c)))"
      ]
    },
    {
      "cell_type": "markdown",
      "id": "99d512a2",
      "metadata": {
        "id": "99d512a2"
      },
      "source": [
        "### 소프트맥스 함수의 특징"
      ]
    },
    {
      "cell_type": "code",
      "execution_count": null,
      "id": "bc3696fb",
      "metadata": {
        "ExecuteTime": {
          "end_time": "2023-09-21T08:46:47.213700Z",
          "start_time": "2023-09-21T08:46:47.198750Z"
        },
        "colab": {
          "base_uri": "https://localhost:8080/"
        },
        "id": "bc3696fb",
        "outputId": "e8048b22-7a76-4f14-8402-ea3eb79277c7"
      },
      "outputs": [
        {
          "output_type": "stream",
          "name": "stdout",
          "text": [
            "[0.01821127 0.24519181 0.73659691]\n"
          ]
        },
        {
          "output_type": "execute_result",
          "data": {
            "text/plain": [
              "1.0"
            ]
          },
          "metadata": {},
          "execution_count": 26
        }
      ],
      "source": [
        "a = np.array([0.3,2.9,4.0])\n",
        "y = softmax(a)\n",
        "print(y)\n",
        "np.sum(y)"
      ]
    },
    {
      "cell_type": "markdown",
      "id": "062d6deb",
      "metadata": {
        "id": "062d6deb"
      },
      "source": [
        "## 손글씨 숫자 인식"
      ]
    },
    {
      "cell_type": "code",
      "source": [
        "from google.colab import drive # 코랩과 구글드라이드를 연동해줍니다.\n",
        "drive.mount('/gdrive', force_remount=True)"
      ],
      "metadata": {
        "colab": {
          "base_uri": "https://localhost:8080/"
        },
        "id": "Gb65QW2gPN-B",
        "outputId": "3fdd382a-0ef2-428c-a09a-356579cb7269"
      },
      "id": "Gb65QW2gPN-B",
      "execution_count": 21,
      "outputs": [
        {
          "output_type": "stream",
          "name": "stdout",
          "text": [
            "Mounted at /gdrive\n"
          ]
        }
      ]
    },
    {
      "cell_type": "code",
      "source": [
        "import os\n",
        "os.chdir(\"/gdrive/My Drive\")"
      ],
      "metadata": {
        "id": "xogJaHXDPPxR"
      },
      "id": "xogJaHXDPPxR",
      "execution_count": null,
      "outputs": []
    },
    {
      "cell_type": "markdown",
      "id": "0079cf15",
      "metadata": {
        "id": "0079cf15"
      },
      "source": [
        "### MNIST 데이터셋"
      ]
    },
    {
      "cell_type": "code",
      "execution_count": null,
      "id": "fe86305a",
      "metadata": {
        "ExecuteTime": {
          "end_time": "2023-09-21T08:53:25.573206Z",
          "start_time": "2023-09-21T08:53:25.558532Z"
        },
        "colab": {
          "base_uri": "https://localhost:8080/"
        },
        "id": "fe86305a",
        "outputId": "2fab596d-646a-471f-d656-57312561b45f"
      },
      "outputs": [
        {
          "output_type": "stream",
          "name": "stdout",
          "text": [
            "(60000, 784)\n",
            "(60000,)\n",
            "(10000, 784)\n",
            "(10000,)\n"
          ]
        }
      ],
      "source": [
        "import sys, os\n",
        "sys.path.append(os.pardir)  # 부모 디렉터리의 파일을 가져올 수 있도록 설정\n",
        "from dataset.mnist import load_mnist\n",
        "\n",
        "(x_train, t_train), (x_test, t_test) = load_mnist(flatten=True, normalize=False)\n",
        "\n",
        "print(x_train.shape)\n",
        "print(t_train.shape)\n",
        "print(x_test.shape)\n",
        "print(t_test.shape)"
      ]
    },
    {
      "cell_type": "code",
      "execution_count": null,
      "id": "9200000c",
      "metadata": {
        "ExecuteTime": {
          "end_time": "2023-09-21T08:54:06.479923Z",
          "start_time": "2023-09-21T08:54:06.464892Z"
        },
        "colab": {
          "base_uri": "https://localhost:8080/"
        },
        "id": "9200000c",
        "outputId": "8cc917a2-389a-411a-d1f7-ffa5776cd010"
      },
      "outputs": [
        {
          "output_type": "stream",
          "name": "stdout",
          "text": [
            "5\n",
            "(784,)\n",
            "(28, 28)\n"
          ]
        }
      ],
      "source": [
        "# coding: utf-8\n",
        "import sys, os\n",
        "sys.path.append(os.pardir)  # 부모 디렉터리의 파일을 가져올 수 있도록 설정\n",
        "import numpy as np\n",
        "from dataset.mnist import load_mnist\n",
        "from PIL import Image\n",
        "\n",
        "\n",
        "def img_show(img):\n",
        "    pil_img = Image.fromarray(np.uint8(img))\n",
        "    pil_img.show()\n",
        "\n",
        "(x_train, t_train), (x_test, t_test) = load_mnist(flatten=True, normalize=False)\n",
        "\n",
        "img = x_train[0]\n",
        "label = t_train[0]\n",
        "print(label)  # 5\n",
        "\n",
        "print(img.shape)  # (784,)\n",
        "img = img.reshape(28, 28)  # 형상을 원래 이미지의 크기로 변형\n",
        "print(img.shape)  # (28, 28)\n",
        "\n",
        "img_show(img)"
      ]
    },
    {
      "cell_type": "markdown",
      "id": "857320a9",
      "metadata": {
        "id": "857320a9"
      },
      "source": [
        "### 신경망의 추론 처리"
      ]
    },
    {
      "cell_type": "code",
      "execution_count": null,
      "id": "9d68e134",
      "metadata": {
        "colab": {
          "base_uri": "https://localhost:8080/"
        },
        "id": "9d68e134",
        "outputId": "6bb20674-cc1f-480d-d283-879ced2b6e71"
      },
      "outputs": [
        {
          "output_type": "stream",
          "name": "stdout",
          "text": [
            "Accuracy:0.9352\n"
          ]
        }
      ],
      "source": [
        "# coding: utf-8\n",
        "import sys, os\n",
        "sys.path.append(os.pardir)  # 부모 디렉터리의 파일을 가져올 수 있도록 설정\n",
        "import numpy as np\n",
        "import pickle\n",
        "from dataset.mnist import load_mnist\n",
        "from common.functions import sigmoid, softmax\n",
        "\n",
        "\n",
        "def get_data():\n",
        "    (x_train, t_train), (x_test, t_test) = load_mnist(normalize=True, flatten=True, one_hot_label=False)\n",
        "    return x_test, t_test\n",
        "\n",
        "\n",
        "def init_network():\n",
        "    with open(\"sample_weight.pkl\", 'rb') as f:\n",
        "        network = pickle.load(f)\n",
        "    return network\n",
        "\n",
        "\n",
        "def predict(network, x):\n",
        "    W1, W2, W3 = network['W1'], network['W2'], network['W3']\n",
        "    b1, b2, b3 = network['b1'], network['b2'], network['b3']\n",
        "\n",
        "    a1 = np.dot(x, W1) + b1\n",
        "    z1 = sigmoid(a1)\n",
        "    a2 = np.dot(z1, W2) + b2\n",
        "    z2 = sigmoid(a2)\n",
        "    a3 = np.dot(z2, W3) + b3\n",
        "    y = softmax(a3)\n",
        "\n",
        "    return y\n",
        "\n",
        "\n",
        "x, t = get_data()\n",
        "network = init_network()\n",
        "accuracy_cnt = 0\n",
        "for i in range(len(x)):\n",
        "    y = predict(network, x[i])\n",
        "    p= np.argmax(y) # 확률이 가장 높은 원소의 인덱스를 얻는다.\n",
        "    if p == t[i]:\n",
        "        accuracy_cnt += 1\n",
        "\n",
        "print(\"Accuracy:\" + str(float(accuracy_cnt) / len(x)))"
      ]
    },
    {
      "cell_type": "markdown",
      "id": "e5d99bd9",
      "metadata": {
        "id": "e5d99bd9"
      },
      "source": [
        "### 배치 처리"
      ]
    },
    {
      "cell_type": "code",
      "execution_count": null,
      "id": "b9b34f1b",
      "metadata": {
        "ExecuteTime": {
          "end_time": "2023-09-21T08:57:33.992128Z",
          "start_time": "2023-09-21T08:57:33.978140Z"
        },
        "colab": {
          "base_uri": "https://localhost:8080/"
        },
        "id": "b9b34f1b",
        "outputId": "e99d645a-2802-48a8-ba71-7a91e99e3470"
      },
      "outputs": [
        {
          "output_type": "stream",
          "name": "stdout",
          "text": [
            "(10000, 784)\n",
            "(784,)\n",
            "(784, 50)\n",
            "(50, 100)\n",
            "(100, 10)\n"
          ]
        }
      ],
      "source": [
        "x, _ = get_data()\n",
        "network = init_network()\n",
        "W1, W2, W3 = network['W1'], network['W2'], network['W3']\n",
        "\n",
        "print(x.shape)\n",
        "print(x[0].shape)\n",
        "print(W1.shape)\n",
        "print(W2.shape)\n",
        "print(W3.shape)"
      ]
    },
    {
      "cell_type": "code",
      "execution_count": null,
      "id": "7292f3df",
      "metadata": {
        "colab": {
          "base_uri": "https://localhost:8080/"
        },
        "id": "7292f3df",
        "outputId": "db70ddbe-1fa1-4482-ce16-8718028d5036"
      },
      "outputs": [
        {
          "output_type": "stream",
          "name": "stdout",
          "text": [
            "Accuracy:0.9352\n"
          ]
        }
      ],
      "source": [
        "x, t = get_data()\n",
        "network = init_network()\n",
        "\n",
        "batch_size = 100 # 배치 크기\n",
        "accuracy_cnt = 0\n",
        "\n",
        "for i in range(0, len(x), batch_size):\n",
        "    x_batch = x[i:i+batch_size]\n",
        "    y_batch = predict(network, x_batch)\n",
        "    p = np.argmax(y_batch, axis=1)\n",
        "    accuracy_cnt += np.sum(p == t[i:i+batch_size])\n",
        "\n",
        "print(\"Accuracy:\" + str(float(accuracy_cnt) / len(x)))"
      ]
    },
    {
      "cell_type": "code",
      "execution_count": null,
      "id": "8a218dd7",
      "metadata": {
        "colab": {
          "base_uri": "https://localhost:8080/"
        },
        "id": "8a218dd7",
        "outputId": "0930ea9d-d896-48bd-c5bb-7c48424a0ad4"
      },
      "outputs": [
        {
          "output_type": "execute_result",
          "data": {
            "text/plain": [
              "[0, 1, 2, 3, 4, 5, 6, 7, 8, 9]"
            ]
          },
          "metadata": {},
          "execution_count": 35
        }
      ],
      "source": [
        "list(range(0,10))"
      ]
    },
    {
      "cell_type": "code",
      "execution_count": null,
      "id": "0e8bff26",
      "metadata": {
        "colab": {
          "base_uri": "https://localhost:8080/"
        },
        "id": "0e8bff26",
        "outputId": "3b2f0789-70e8-4a72-c705-2c7c2c42e698"
      },
      "outputs": [
        {
          "output_type": "execute_result",
          "data": {
            "text/plain": [
              "[0, 3, 6, 9]"
            ]
          },
          "metadata": {},
          "execution_count": 36
        }
      ],
      "source": [
        "list(range(0,10,3))"
      ]
    },
    {
      "cell_type": "code",
      "execution_count": null,
      "id": "997f4fcc",
      "metadata": {
        "ExecuteTime": {
          "end_time": "2023-09-21T09:00:28.338994Z",
          "start_time": "2023-09-21T09:00:28.334011Z"
        },
        "colab": {
          "base_uri": "https://localhost:8080/"
        },
        "id": "997f4fcc",
        "outputId": "62278bcf-7fad-4899-c6a6-839a622ba674"
      },
      "outputs": [
        {
          "output_type": "stream",
          "name": "stdout",
          "text": [
            "[1 2 1 0]\n"
          ]
        }
      ],
      "source": [
        "x = np.array([[.1, .8, .1], [.3, .1, .6], [.2, .5, .3], [.8, .1, .1]])\n",
        "y=np.argmax(x, axis=1)\n",
        "print(y)"
      ]
    },
    {
      "cell_type": "code",
      "execution_count": null,
      "id": "15859b8e",
      "metadata": {
        "ExecuteTime": {
          "end_time": "2023-09-21T09:01:06.164211Z",
          "start_time": "2023-09-21T09:01:06.151644Z"
        },
        "colab": {
          "base_uri": "https://localhost:8080/"
        },
        "id": "15859b8e",
        "outputId": "13370b3f-378d-4234-9aea-9d20eb9ba629"
      },
      "outputs": [
        {
          "output_type": "stream",
          "name": "stdout",
          "text": [
            "[ True  True False  True]\n"
          ]
        },
        {
          "output_type": "execute_result",
          "data": {
            "text/plain": [
              "3"
            ]
          },
          "metadata": {},
          "execution_count": 38
        }
      ],
      "source": [
        "y = np.array([1, 2, 1, 0])\n",
        "t = np.array([1, 2, 0, 0])\n",
        "print(y==t)\n",
        "np.sum(y==t)"
      ]
    },
    {
      "cell_type": "code",
      "execution_count": null,
      "id": "92b45cc9",
      "metadata": {
        "id": "92b45cc9"
      },
      "outputs": [],
      "source": []
    }
  ],
  "metadata": {
    "kernelspec": {
      "display_name": "Python 3 (ipykernel)",
      "language": "python",
      "name": "python3"
    },
    "language_info": {
      "codemirror_mode": {
        "name": "ipython",
        "version": 3
      },
      "file_extension": ".py",
      "mimetype": "text/x-python",
      "name": "python",
      "nbconvert_exporter": "python",
      "pygments_lexer": "ipython3",
      "version": "3.9.13"
    },
    "toc": {
      "base_numbering": 1,
      "nav_menu": {},
      "number_sections": true,
      "sideBar": true,
      "skip_h1_title": false,
      "title_cell": "Table of Contents",
      "title_sidebar": "Contents",
      "toc_cell": false,
      "toc_position": {
        "height": "calc(100% - 180px)",
        "left": "10px",
        "top": "150px",
        "width": "309.492px"
      },
      "toc_section_display": true,
      "toc_window_display": true
    },
    "varInspector": {
      "cols": {
        "lenName": 16,
        "lenType": 16,
        "lenVar": 40
      },
      "kernels_config": {
        "python": {
          "delete_cmd_postfix": "",
          "delete_cmd_prefix": "del ",
          "library": "var_list.py",
          "varRefreshCmd": "print(var_dic_list())"
        },
        "r": {
          "delete_cmd_postfix": ") ",
          "delete_cmd_prefix": "rm(",
          "library": "var_list.r",
          "varRefreshCmd": "cat(var_dic_list()) "
        }
      },
      "types_to_exclude": [
        "module",
        "function",
        "builtin_function_or_method",
        "instance",
        "_Feature"
      ],
      "window_display": false
    },
    "colab": {
      "provenance": [],
      "toc_visible": true,
      "include_colab_link": true
    }
  },
  "nbformat": 4,
  "nbformat_minor": 5
}
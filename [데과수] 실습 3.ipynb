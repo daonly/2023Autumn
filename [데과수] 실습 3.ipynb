{
  "cells": [
    {
      "cell_type": "markdown",
      "metadata": {
        "id": "view-in-github",
        "colab_type": "text"
      },
      "source": [
        "<a href=\"https://colab.research.google.com/github/daonly/2023Autumn/blob/main/%5B%EB%8D%B0%EA%B3%BC%EC%88%98%5D%20%EC%8B%A4%EC%8A%B5%203.ipynb\" target=\"_parent\"><img src=\"https://colab.research.google.com/assets/colab-badge.svg\" alt=\"Open In Colab\"/></a>"
      ]
    },
    {
      "cell_type": "markdown",
      "metadata": {
        "id": "-TsHEjnMyeso"
      },
      "source": [
        "# 데이터과학을위한수학과프로그래밍 실습 3차시\n"
      ]
    },
    {
      "cell_type": "markdown",
      "metadata": {
        "id": "EHUA45y7yrEj"
      },
      "source": [
        "### 1. 부정적분"
      ]
    },
    {
      "cell_type": "markdown",
      "metadata": {
        "id": "Lr_Y8fFbyuGZ"
      },
      "source": [
        "#### 예제 1-1.\n",
        "\n",
        "다음 함수의 부정적분을 구하시오.\n",
        "\n",
        "$$\\int 3x^2 \\,dx$$"
      ]
    },
    {
      "cell_type": "markdown",
      "metadata": {
        "id": "bbUSAiEPSqtN"
      },
      "source": [
        "```Integral(f, x)```은 부정적분 $\\int f(x) \\,dx$을 반환합니다.\n",
        "\n",
        "*   ```sympy integrals``` [documentation](https://docs.sympy.org/latest/modules/integrals/integrals.html)"
      ]
    },
    {
      "cell_type": "code",
      "source": [
        "from sympy import Symbol, Integral\n",
        "\n",
        "x = Symbol('x')\n",
        "fx = 3*x**2\n",
        "\n",
        "Integral(fx, x).doit(). #doit() 떼고 함수 동일한지 확인 먼저 하고, doit으로 계산 진행하는 거 ㅊㅊ"
      ],
      "metadata": {
        "id": "KjDrNEMyJzKb",
        "outputId": "0214bd70-563a-400c-d050-deadaba37acb",
        "colab": {
          "base_uri": "https://localhost:8080/",
          "height": 39
        }
      },
      "execution_count": null,
      "outputs": [
        {
          "output_type": "execute_result",
          "data": {
            "text/plain": [
              "x**3"
            ],
            "text/latex": "$\\displaystyle x^{3}$"
          },
          "metadata": {},
          "execution_count": 2
        }
      ]
    },
    {
      "cell_type": "markdown",
      "metadata": {
        "id": "riXo2VlYzEOP"
      },
      "source": [
        "#### 예제 1-2.\n",
        "\n",
        "다음 함수의 부정적분을 구하시오.\n",
        "\n",
        "$$\\int e^x \\,dx$$"
      ]
    },
    {
      "cell_type": "code",
      "source": [
        "from sympy import exp\n",
        "\n",
        "x = Symbol('x')\n",
        "fx = exp(x)\n",
        "\n",
        "Integral(fx, x).doit()"
      ],
      "metadata": {
        "id": "S6ugO_RCKRAE",
        "outputId": "5cb3c765-32ae-4357-a63b-a39d5b14b1da",
        "colab": {
          "base_uri": "https://localhost:8080/",
          "height": 39
        }
      },
      "execution_count": null,
      "outputs": [
        {
          "output_type": "execute_result",
          "data": {
            "text/plain": [
              "exp(x)"
            ],
            "text/latex": "$\\displaystyle e^{x}$"
          },
          "metadata": {},
          "execution_count": 4
        }
      ]
    },
    {
      "cell_type": "markdown",
      "metadata": {
        "id": "prHX8QleQhdI"
      },
      "source": [
        "#### 예제 1-3.\n",
        "\n",
        "다음 함수의 부정적분을 구하시오.\n",
        "\n",
        "$$\\int(2x^2-x+3) \\,dx$$"
      ]
    },
    {
      "cell_type": "code",
      "source": [
        "x = Symbol('x')\n",
        "fx = 2*x**2 -x +3\n",
        "\n",
        "Integral(fx, x).doit()"
      ],
      "metadata": {
        "id": "ei8mn1lXKmkJ",
        "outputId": "1e458c48-f64e-4f49-c755-f79f805c7a9b",
        "colab": {
          "base_uri": "https://localhost:8080/",
          "height": 54
        }
      },
      "execution_count": null,
      "outputs": [
        {
          "output_type": "execute_result",
          "data": {
            "text/plain": [
              "2*x**3/3 - x**2/2 + 3*x"
            ],
            "text/latex": "$\\displaystyle \\frac{2 x^{3}}{3} - \\frac{x^{2}}{2} + 3 x$"
          },
          "metadata": {},
          "execution_count": 5
        }
      ]
    },
    {
      "cell_type": "markdown",
      "metadata": {
        "id": "5jBzvAk8QyJN"
      },
      "source": [
        "#### 예제 1-4.\n",
        "\n",
        "\n",
        "\n",
        "다음 함수의 부정적분을 구하시오.\n",
        "\n",
        "$$\\int (x-1)(x-3) \\,dx$$"
      ]
    },
    {
      "cell_type": "code",
      "source": [
        "x = Symbol('x')\n",
        "fx = (x-1)*(x-3)\n",
        "\n",
        "Integral(fx, x).doit()"
      ],
      "metadata": {
        "id": "26QZ28Z-KwlA",
        "outputId": "c84f5ee2-7503-406b-abef-3a93c3a34d54",
        "colab": {
          "base_uri": "https://localhost:8080/",
          "height": 54
        }
      },
      "execution_count": null,
      "outputs": [
        {
          "output_type": "execute_result",
          "data": {
            "text/plain": [
              "x**3/3 - 2*x**2 + 3*x"
            ],
            "text/latex": "$\\displaystyle \\frac{x^{3}}{3} - 2 x^{2} + 3 x$"
          },
          "metadata": {},
          "execution_count": 7
        }
      ]
    },
    {
      "cell_type": "markdown",
      "metadata": {
        "id": "HByqL9RGRtbJ"
      },
      "source": [
        "### 2. 치환적분법, 부분적분법"
      ]
    },
    {
      "cell_type": "markdown",
      "metadata": {
        "id": "zWelnldxzipT"
      },
      "source": [
        "#### 예제 2-1.\n",
        "\n",
        "다음 함수의 부정적분을 구하시오.\n",
        "\n",
        "$$\\int (3x+2)^4 \\,dx$$"
      ]
    },
    {
      "cell_type": "code",
      "source": [
        "from sympy import simplify  #공통된 term을 묶어서 더 보기 좋게 만들어주는 거\n",
        "\n",
        "x = Symbol('x')\n",
        "fx = (3*x+2)**4\n",
        "\n",
        "simplify(Integral(fx, x).doit())"
      ],
      "metadata": {
        "id": "BADqy72SK-Qp",
        "outputId": "a72fdbed-7892-413a-9e4b-338c046a45e8",
        "colab": {
          "base_uri": "https://localhost:8080/",
          "height": 56
        }
      },
      "execution_count": null,
      "outputs": [
        {
          "output_type": "execute_result",
          "data": {
            "text/plain": [
              "x*(81*x**4 + 270*x**3 + 360*x**2 + 240*x + 80)/5"
            ],
            "text/latex": "$\\displaystyle \\frac{x \\left(81 x^{4} + 270 x^{3} + 360 x^{2} + 240 x + 80\\right)}{5}$"
          },
          "metadata": {},
          "execution_count": 9
        }
      ]
    },
    {
      "cell_type": "markdown",
      "metadata": {
        "id": "T1Vl-1AYR8fI"
      },
      "source": [
        "#### 예제 2-2.\n",
        "\n",
        "다음 함수의 부정적분을 구하시오.\n",
        "\n",
        "$$\\int \\text{cos}(2x+1) \\,dx$$"
      ]
    },
    {
      "cell_type": "code",
      "source": [
        "from sympy import cos\n",
        "\n",
        "x = Symbol('x')\n",
        "fx = cos(2*x +1)\n",
        "\n",
        "Integral(fx, x).doit()"
      ],
      "metadata": {
        "id": "xlL4oRx4LM6y",
        "outputId": "84fa8689-3772-4891-d9ed-96d8ea4a1c63",
        "colab": {
          "base_uri": "https://localhost:8080/",
          "height": 53
        }
      },
      "execution_count": null,
      "outputs": [
        {
          "output_type": "execute_result",
          "data": {
            "text/plain": [
              "sin(2*x + 1)/2"
            ],
            "text/latex": "$\\displaystyle \\frac{\\sin{\\left(2 x + 1 \\right)}}{2}$"
          },
          "metadata": {},
          "execution_count": 10
        }
      ]
    },
    {
      "cell_type": "markdown",
      "metadata": {
        "id": "PEKnph8z0Wvb"
      },
      "source": [
        "#### 예제 2-3.\n",
        "\n",
        "다음 함수의 부정적분을 구하시오.\n",
        "\n",
        "$$\\int e^x \\text{sin} x \\,dx$$"
      ]
    },
    {
      "cell_type": "markdown",
      "metadata": {
        "id": "mhIZHON1TnZK"
      },
      "source": [
        "\n",
        "*   ```factor()``` [documentation](https://docs.sympy.org/latest/tutorials/intro-tutorial/simplification.html#factor)\n",
        "\n"
      ]
    },
    {
      "cell_type": "code",
      "source": [
        "from sympy import sin\n",
        "\n",
        "x = Symbol('x')\n",
        "fx = exp(x)*sin(x)\n",
        "\n",
        "Integral(fx, x).doit()"
      ],
      "metadata": {
        "id": "GNdBqTEvL-Lp",
        "outputId": "dc683ac2-cee8-40f3-cbcd-cf496d56b974",
        "colab": {
          "base_uri": "https://localhost:8080/",
          "height": 53
        }
      },
      "execution_count": null,
      "outputs": [
        {
          "output_type": "execute_result",
          "data": {
            "text/plain": [
              "exp(x)*sin(x)/2 - exp(x)*cos(x)/2"
            ],
            "text/latex": "$\\displaystyle \\frac{e^{x} \\sin{\\left(x \\right)}}{2} - \\frac{e^{x} \\cos{\\left(x \\right)}}{2}$"
          },
          "metadata": {},
          "execution_count": 11
        }
      ]
    },
    {
      "cell_type": "markdown",
      "metadata": {
        "id": "YCYS5tdqT5rx"
      },
      "source": [
        "### 3. 정적분"
      ]
    },
    {
      "cell_type": "markdown",
      "metadata": {
        "id": "LxYMwImOUCD7"
      },
      "source": [
        "#### 예제 3-1.\n",
        "\n",
        "다음 함수의 정적분을 구하시오.\n",
        "\n",
        "$$\\int_{0}^{3} 3x^2 \\,dx$$"
      ]
    },
    {
      "cell_type": "markdown",
      "metadata": {
        "id": "INz2BVc0cLU7"
      },
      "source": [
        "```Integral(f, (x, a, b))```은 정적분 $\\int_{a}^{b} f(x) \\,dx$을 반환합니다."
      ]
    },
    {
      "cell_type": "code",
      "source": [
        "from sympy import Symbol, Integral\n",
        "\n",
        "x = Symbol('x')\n",
        "fx = 3*x**2\n",
        "\n",
        "Integral(fx, (x, 0, 3)).doit()"
      ],
      "metadata": {
        "id": "aVOKfhtnMSpa",
        "outputId": "c76f61c5-d1b0-444f-affd-1d93c934370d",
        "colab": {
          "base_uri": "https://localhost:8080/",
          "height": 37
        }
      },
      "execution_count": null,
      "outputs": [
        {
          "output_type": "execute_result",
          "data": {
            "text/plain": [
              "27"
            ],
            "text/latex": "$\\displaystyle 27$"
          },
          "metadata": {},
          "execution_count": 13
        }
      ]
    },
    {
      "cell_type": "markdown",
      "metadata": {
        "id": "LM1MNloSc4Li"
      },
      "source": [
        "#### 예제 3-2.\n",
        "\n",
        "다음 함수의 정적분을 구하시오.\n",
        "\n",
        "$$\\int_{\\frac{\\pi}{2}}^{\\pi} \\text{cos}x \\,dx$$"
      ]
    },
    {
      "cell_type": "code",
      "source": [
        "from sympy import pi\n",
        "\n",
        "x = Symbol('x')\n",
        "fx = cos(x)\n",
        "\n",
        "Integral(fx, (x, pi/2, pi)).doit()"
      ],
      "metadata": {
        "id": "V6kxvLPuMjWU",
        "outputId": "90c356b6-80ca-472d-ebbf-21abdf9d7003",
        "colab": {
          "base_uri": "https://localhost:8080/",
          "height": 37
        }
      },
      "execution_count": null,
      "outputs": [
        {
          "output_type": "execute_result",
          "data": {
            "text/plain": [
              "-1"
            ],
            "text/latex": "$\\displaystyle -1$"
          },
          "metadata": {},
          "execution_count": 15
        }
      ]
    },
    {
      "cell_type": "markdown",
      "metadata": {
        "id": "N3svNmHW1BXv"
      },
      "source": [
        "#### 예제 3-3.\n",
        "\n",
        "다음 함수의 정적분을 구하시오.\n",
        "\n",
        "$$\\int_{0}^{3} (x^3-x+1)\\,dx - \\int_{0}^{3} (x^3+x+1)\\,dx$$"
      ]
    },
    {
      "cell_type": "code",
      "source": [
        "x = Symbol('x')\n",
        "fx = x**3 -x +1\n",
        "gx = x**3 +x +1\n",
        "\n",
        "Integral(fx-gx, (x, 0, 3)).doit()"
      ],
      "metadata": {
        "id": "nypv9zGWMxPn",
        "outputId": "4bd4ef24-2640-4df9-9fec-b99d1e71f9ff",
        "colab": {
          "base_uri": "https://localhost:8080/",
          "height": 37
        }
      },
      "execution_count": null,
      "outputs": [
        {
          "output_type": "execute_result",
          "data": {
            "text/plain": [
              "-9"
            ],
            "text/latex": "$\\displaystyle -9$"
          },
          "metadata": {},
          "execution_count": 16
        }
      ]
    },
    {
      "cell_type": "code",
      "source": [
        "Integral(fx, (x, 0, 3)).doit() - Integral(gx, (x, 0, 3)).doit()"
      ],
      "metadata": {
        "id": "0RbKC_emNHfa",
        "outputId": "f209cfd4-f84c-4f4d-9513-88d971cd12a4",
        "colab": {
          "base_uri": "https://localhost:8080/",
          "height": 37
        }
      },
      "execution_count": null,
      "outputs": [
        {
          "output_type": "execute_result",
          "data": {
            "text/plain": [
              "-9"
            ],
            "text/latex": "$\\displaystyle -9$"
          },
          "metadata": {},
          "execution_count": 18
        }
      ]
    },
    {
      "cell_type": "markdown",
      "metadata": {
        "id": "nREA5TAl8GNt"
      },
      "source": [
        "#### 예제 3-4.\n",
        "\n",
        "다음 함수의 정적분을 구하시오.\n",
        "\n",
        "$$\\int_{0}^{1} (x^3-e^x)\\,dx + \\int_{1}^{2} (x^3-e^x)\\,dx$$"
      ]
    },
    {
      "cell_type": "code",
      "source": [
        "x = Symbol('x')\n",
        "fx = x**3 -exp(x)\n",
        "\n",
        "Integral(fx, (x, 0, 2)).doit()"
      ],
      "metadata": {
        "id": "QdBXp7GwNSIx",
        "outputId": "0e290859-0605-4651-dc4c-7478c72b9a65",
        "colab": {
          "base_uri": "https://localhost:8080/",
          "height": 39
        }
      },
      "execution_count": null,
      "outputs": [
        {
          "output_type": "execute_result",
          "data": {
            "text/plain": [
              "5 - exp(2)"
            ],
            "text/latex": "$\\displaystyle 5 - e^{2}$"
          },
          "metadata": {},
          "execution_count": 19
        }
      ]
    },
    {
      "cell_type": "code",
      "source": [
        "Integral(fx, (x, 0, 1)).doit() + Integral(fx, (x, 1, 2)).doit()"
      ],
      "metadata": {
        "id": "I3JSgXCYNZv7",
        "outputId": "38f1c64b-9a32-49f8-85bf-9aae8bca0403",
        "colab": {
          "base_uri": "https://localhost:8080/",
          "height": 39
        }
      },
      "execution_count": null,
      "outputs": [
        {
          "output_type": "execute_result",
          "data": {
            "text/plain": [
              "5 - exp(2)"
            ],
            "text/latex": "$\\displaystyle 5 - e^{2}$"
          },
          "metadata": {},
          "execution_count": 20
        }
      ]
    },
    {
      "cell_type": "markdown",
      "metadata": {
        "id": "3ShpuIexdaxa"
      },
      "source": [
        "### 4. 적분의 응용"
      ]
    },
    {
      "cell_type": "markdown",
      "metadata": {
        "id": "5IHGjgg3Cfc6"
      },
      "source": [
        "#### 예제 4-1.\n",
        "\n",
        "직선 $f(x)=x$와 곡선 $g(x)=x^2$ 사이의 넓이를 구하시오.\n",
        "\n"
      ]
    },
    {
      "cell_type": "markdown",
      "metadata": {
        "id": "QTX62BnvzhJh"
      },
      "source": [
        "*   ```solve()``` [documentation](https://docs.sympy.org/latest/modules/solvers/solvers.html)\n",
        "\n"
      ]
    },
    {
      "cell_type": "code",
      "source": [
        "import matplotlib.pyplot as plt\n",
        "import numpy as np\n",
        "\n",
        "x = np.linspace(-2, 3, 100)\n",
        "def f(x): return x\n",
        "def g(x): return x**2\n",
        "\n",
        "plt.plot(x, f(x))\n",
        "plt.plot(x, g(x))"
      ],
      "metadata": {
        "id": "XvqIW5HcNkR9",
        "outputId": "5eec01ac-325b-48a7-e6bb-8f08fd70d652",
        "colab": {
          "base_uri": "https://localhost:8080/",
          "height": 448
        }
      },
      "execution_count": null,
      "outputs": [
        {
          "output_type": "execute_result",
          "data": {
            "text/plain": [
              "[<matplotlib.lines.Line2D at 0x797fdb541d50>]"
            ]
          },
          "metadata": {},
          "execution_count": 22
        },
        {
          "output_type": "display_data",
          "data": {
            "text/plain": [
              "<Figure size 640x480 with 1 Axes>"
            ],
            "image/png": "[encoded data removed]"
          },
          "metadata": {}
        }
      ]
    },
    {
      "cell_type": "code",
      "source": [
        "from sympy import solve\n",
        "\n",
        "x = Symbol('x')\n",
        "fx = x\n",
        "gx = x**2\n",
        "\n",
        "solve(fx-gx, x)"
      ],
      "metadata": {
        "id": "MjFa_4kUOEkD",
        "outputId": "4e899100-ab80-49ed-9d38-65eb852b4765",
        "colab": {
          "base_uri": "https://localhost:8080/"
        }
      },
      "execution_count": null,
      "outputs": [
        {
          "output_type": "execute_result",
          "data": {
            "text/plain": [
              "[0, 1]"
            ]
          },
          "metadata": {},
          "execution_count": 25
        }
      ]
    },
    {
      "cell_type": "code",
      "source": [
        "from sympy import Integral\n",
        "\n",
        "Integral(fx-gx, (x, 0, 1)).doit()"
      ],
      "metadata": {
        "id": "QRmqa_lDOXOT",
        "outputId": "2bf3d46e-aef1-47ba-a3d6-3d5d69ed842b",
        "colab": {
          "base_uri": "https://localhost:8080/",
          "height": 51
        }
      },
      "execution_count": null,
      "outputs": [
        {
          "output_type": "execute_result",
          "data": {
            "text/plain": [
              "1/6"
            ],
            "text/latex": "$\\displaystyle \\frac{1}{6}$"
          },
          "metadata": {},
          "execution_count": 27
        }
      ]
    },
    {
      "cell_type": "code",
      "source": [
        "from sympy import solve, Abs\n",
        "\n",
        "Integral(Abs(fx-gx), (x, 0, 1)).doit()"
      ],
      "metadata": {
        "id": "jR_qGrLyOpaS",
        "outputId": "ece84208-e890-46bd-bb9f-f78b45b633a0",
        "colab": {
          "base_uri": "https://localhost:8080/",
          "height": 80
        }
      },
      "execution_count": null,
      "outputs": [
        {
          "output_type": "execute_result",
          "data": {
            "text/plain": [
              "Integral(Piecewise((x**2 - x, x**2 - x >= 0), (-x**2 + x, True)), (x, 0, 1))"
            ],
            "text/latex": "$\\displaystyle \\int\\limits_{0}^{1} \\begin{cases} x^{2} - x & \\text{for}\\: x^{2} - x \\geq 0 \\\\- x^{2} + x & \\text{otherwise} \\end{cases}\\, dx$"
          },
          "metadata": {},
          "execution_count": 28
        }
      ]
    },
    {
      "cell_type": "code",
      "source": [
        "x = Symbol('x', positive =True, real = True)\n",
        "Integral(Abs(fx-gx), (x, 0, 1)).doit()"
      ],
      "metadata": {
        "id": "klTFpanoO2xz",
        "outputId": "78891545-c178-4b01-c80b-668e61753d93",
        "colab": {
          "base_uri": "https://localhost:8080/",
          "height": 39
        }
      },
      "execution_count": null,
      "outputs": [
        {
          "output_type": "execute_result",
          "data": {
            "text/plain": [
              "Abs(x**2 - x)"
            ],
            "text/latex": "$\\displaystyle \\left|{x^{2} - x}\\right|$"
          },
          "metadata": {},
          "execution_count": 29
        }
      ]
    },
    {
      "cell_type": "markdown",
      "metadata": {
        "id": "afwfp09NCCuQ"
      },
      "source": [
        "#### 예제 4-2.\n",
        "\n",
        "다음 곡선의 $x = 1$에서 $x = 4$까지의 길이를 구하시오.\n",
        "\n",
        "$$f(x) = \\frac{2}{3}(x-1)^\\frac{3}{2}$$"
      ]
    },
    {
      "cell_type": "markdown",
      "metadata": {
        "id": "4ErxsGZ93t5I"
      },
      "source": [
        "*   함수 $y = f(x)$와 그의 도함수 $f'(x)$가 구간 $[a, b]$에서 연속일 때 $x = a$에서 $x = b$까지의 곡선 $y = f(x)$의 길이는 다음과 같다.\n",
        "\n",
        "$$L = \\int_{a}^{b} \\sqrt{1+\\{f'(x)\\}^2} \\,dx$$\n",
        "\n"
      ]
    },
    {
      "cell_type": "code",
      "source": [
        "from sympy import Symbol, Integral, Derivative, sqrt\n",
        "\n",
        "x = Symbol('x')\n",
        "fx = 2/3 * (x-1)**(3/2)\n",
        "\n",
        "def length(fx, a, b):\n",
        "  ffx = Derivative(fx, x).doit()\n",
        "  return Integral(sqrt(1 + ffx**2), (x, a, b)).doit()"
      ],
      "metadata": {
        "id": "kIJi5d1mPE9y"
      },
      "execution_count": 4,
      "outputs": []
    },
    {
      "cell_type": "code",
      "source": [
        "length(fx, 1, 4)"
      ],
      "metadata": {
        "id": "fCt9Rrl6Pu3H",
        "outputId": "5cd48863-55d8-45a9-bd07-709660eed171",
        "colab": {
          "base_uri": "https://localhost:8080/",
          "height": 37
        }
      },
      "execution_count": 5,
      "outputs": [
        {
          "output_type": "execute_result",
          "data": {
            "text/plain": [
              "4.66666666666667"
            ],
            "text/latex": "$\\displaystyle 4.66666666666667$"
          },
          "metadata": {},
          "execution_count": 5
        }
      ]
    },
    {
      "cell_type": "markdown",
      "metadata": {
        "id": "9u-aHqd-hStr"
      },
      "source": [
        "---\n",
        "---"
      ]
    },
    {
      "cell_type": "markdown",
      "metadata": {
        "id": "Sv0LHDzZBEQB"
      },
      "source": [
        "## 과제\n",
        "\n",
        "*   제출기한: 2023년 12월 5일 화요일 13시 30분\n",
        "*   파일 > 다운로드 > .ipynb 파일로 다운로드하여 블랙보드에 제출\n",
        "*   스터디 그룹을 만들고 과제에 대하여 토론할 수 있으나, 코드는 각자 독립적으로 작성해야 하며, 과제 제출에 토론 참여자를 명시해야 합니다.\n"
      ]
    },
    {
      "cell_type": "markdown",
      "metadata": {
        "id": "NFp56nWQUV_e"
      },
      "source": [
        "### 1번\n",
        "\n",
        "1) $f(t) = e^{-t}$ 일 때, $\\int_0^{x} f(t) dt$ 의 값을 구하는 함수를 작성하시오. ($x \\geq 0$)\n",
        "\n",
        "2) 위에서 정의한 함수를 사용하여 아래 값을 구하라.\n",
        "\n",
        "$$\\int_0^{1} f(t) dt$$\n",
        "\n",
        "참고: 이는 파라미터가 1인 지수 분포([Exponential distribution](https://ko.wikipedia.org/wiki/%EC%A7%80%EC%88%98_%EB%B6%84%ED%8F%AC))의 누적 분포 함수([Cumulative distribution function](https://en.wikipedia.org/wiki/Cumulative_distribution_function))를 구하는 것과 같다.\n"
      ]
    },
    {
      "cell_type": "code",
      "source": [
        "sympy.N  # 이거 활용해도 되고, sympy에서 주는 값 자체로 답을 해도 된다아."
      ],
      "metadata": {
        "id": "OjCK3BsBQrMR"
      },
      "execution_count": null,
      "outputs": []
    },
    {
      "cell_type": "markdown",
      "metadata": {
        "id": "D8bK_ce5BNLO"
      },
      "source": [
        "### 2번\n",
        "\n",
        "두 함수 $y = f(x), y = g(x)$가 구간 $[a,b]$에서 연속일 때, 두 곡선 $y = f(x), y = g(x)$와 두 직선 $x = a, x = b$로 둘러싸인 도형의 넓이 $S$는 다음과 같다.\n",
        "\n",
        "$$S = \\int_a^b |f(x) - g(x)| dx$$\n",
        "\n",
        "a) 두 곡선 $y=f(x)$, $y=g(x)$ 와 두 직선 $x=a$, $x=b$ 으로 둘러쌓인 부분의 **넓이** $S$을 구하는 함수를 작성하시오.\n",
        "\n",
        "b) 본인이 작성한 함수에 아래 곡선과 직선을 입력하여 결과를 출력하시오.\n",
        "\n",
        "$$f(x)=\\sin{x}, g(x)=\\sin^2{x}, x = 0, x = 2 \\pi$$"
      ]
    },
    {
      "cell_type": "markdown",
      "metadata": {
        "id": "P1NM68om1RDJ"
      },
      "source": [
        "### 3번\n",
        "\n",
        "a) 구간 $[a, b]$에서 곡선 $y = f(x)$와 두 직선 $x = a$,\n",
        "$x = b$와 $x$축으로 둘러싸인 도형을 **$x$축 기준으로 회전**하여 생기는 회전체의 **부피** $V$를 구하는 함수를 작성하시오.\n",
        "\n",
        "*   함수는 한 곡선의 식 $f(x)$ 와 두 직선 $x = a$, $x = b$ 에 해당하는 $a$, $b$을 입력으로 받습니다.\n",
        "*   함수는 $x$축 기준으로 회전하여 생기는 입체도형의 부피를 출력합니다.\n",
        "\n",
        "b) 본인이 작성한 함수에 아래 곡선과 직선을 입력하였을 때의 결과를 산출하시오.\n",
        "\n",
        "$$y = e^x, x = 0, x=2$$"
      ]
    },
    {
      "cell_type": "markdown",
      "metadata": {
        "id": "HDZAKsYfECoX"
      },
      "source": [
        "### 4번\n",
        "\n",
        "함수 $y = f(x)$가 구간 $[a, b]$에서 연속일 때 함수 $f(x)$의 $a$에서 $b$까지의 정적분은 다음과 같다.\n",
        "\n",
        "$$\\int_a^b f(x) dx = \\displaystyle{\\lim_{n \\to \\infty} \\sum_{k=1}^{n} f(x_k) \\Delta x} \\hspace{5pt} \\text{단, } \\Delta x = \\frac{b-a}{n}, x_k = a + k \\Delta x$$\n"
      ]
    },
    {
      "cell_type": "markdown",
      "metadata": {
        "id": "HMfs4BbMAKB4"
      },
      "source": [
        "a) 함수 `f`, 구간의 시작 `a`, 구간의 끝 `b`, 분할 수 `n`을 입력으로 받고 위 식에 따라 정적분의 값을 산출하는 함수를 정의하시오."
      ]
    },
    {
      "cell_type": "markdown",
      "metadata": {
        "id": "msz3705PAKB4"
      },
      "source": [
        "b) 본인이 작성한 함수에 $f(x) = 3x^2$ 일 때의 결과를 산출하시오."
      ]
    },
    {
      "cell_type": "markdown",
      "metadata": {
        "id": "Dw1aNlVlAKB4"
      },
      "source": [
        "c) sympy의 Integral 결과와 비교하시오."
      ]
    },
    {
      "cell_type": "markdown",
      "metadata": {
        "id": "YynsagONAKB4"
      },
      "source": [
        "### 5번"
      ]
    },
    {
      "cell_type": "markdown",
      "metadata": {
        "id": "7Dhw9Q7hAKB4"
      },
      "source": [
        "함수 $y = f(x)$가 구간 $[a, b]$에서 연속일 때 함수 $f(x)$의 $a$에서 $b$까지의 곡선의 길이는 다음과 같다.\n",
        "\n",
        "$$L = \\displaystyle{\\lim_{n \\to \\infty}} \\sum_{k=0}^{n-1} \\sqrt{(\\Delta x_i)^2 + (\\Delta y_i)^2} \\hspace{5pt} \\text{단, } \\Delta x = \\frac{b-a}{n}, \\Delta y = f(x_{k+1}) - f(x_k),  x_k = a + k \\Delta x$$"
      ]
    },
    {
      "cell_type": "markdown",
      "metadata": {
        "id": "jJWshsAtAKB4"
      },
      "source": [
        "a) 함수 `f`, 구간의 시작 `a`, 구간의 끝 `b`, 분할 수 `n`을 입력으로 받고 위 식에 따라 곡선의 길이 값을 산출하는 함수를 정의하시오."
      ]
    },
    {
      "cell_type": "markdown",
      "metadata": {
        "id": "34HSrIzqAKB4"
      },
      "source": [
        "b) 본인이 작성한 함수를 활용하여 다음 곡선 $f(x)$의 $x = 1$에서 $x = 4$까지의 길이를 구하라.\n",
        "\n",
        "$$f(x) = \\frac{2}{3}(x-1)^\\frac{3}{2}$$"
      ]
    },
    {
      "cell_type": "code",
      "execution_count": null,
      "metadata": {
        "id": "J4E8rjXfAKB4",
        "outputId": "58b277e8-3cc5-4789-e837-8e544fd56447"
      },
      "outputs": [
        {
          "data": {
            "image/png": "[encoded data removed]",
            "text/plain": [
              "<Figure size 640x480 with 1 Axes>"
            ]
          },
          "metadata": {},
          "output_type": "display_data"
        }
      ],
      "source": [
        "#| echo: false\n",
        "#| eval: false\n",
        "\n",
        "import numpy as np\n",
        "import matplotlib.pyplot as plt\n",
        "\n",
        "x = np.linspace(1,4, 101)\n",
        "y = f(x)\n",
        "\n",
        "xs = [2,3]\n",
        "ys = [f(x) for x in xs]\n",
        "\n",
        "plt.plot(x, y)\n",
        "plt.plot(xs, ys, '--g')\n",
        "plt.plot([2,3], [f(2), f(2)], '--g')\n",
        "plt.plot([3,3], [f(2), f(3)], '--g')\n",
        "\n",
        "plt.annotate('$L_1$', (2.5, f(2.5)+0.3))\n",
        "plt.annotate('$\\Delta x_1$', (2.5, 0.5))\n",
        "plt.annotate('$\\Delta y_1$', (3, 1.3))\n",
        "plt.annotate('$(x_0, y_0)$', (1.7, 0.7))\n",
        "plt.annotate('$(x_1, y_1)$', (2.7, 2))\n",
        "\n",
        "plt.show()"
      ]
    }
  ],
  "metadata": {
    "kernelspec": {
      "display_name": "Python 3",
      "language": "python",
      "name": "python3"
    },
    "language_info": {
      "name": "python",
      "version": "3.10.12"
    },
    "colab": {
      "provenance": [],
      "include_colab_link": true
    }
  },
  "nbformat": 4,
  "nbformat_minor": 0
}
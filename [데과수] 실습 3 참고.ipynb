{
  "cells": [
    {
      "cell_type": "markdown",
      "metadata": {
        "id": "view-in-github",
        "colab_type": "text"
      },
      "source": [
        "<a href=\"https://colab.research.google.com/github/daonly/2023Autumn/blob/main/%5B%EB%8D%B0%EA%B3%BC%EC%88%98%5D%20%EC%8B%A4%EC%8A%B5%203%20%EC%B0%B8%EA%B3%A0.ipynb\" target=\"_parent\"><img src=\"https://colab.research.google.com/assets/colab-badge.svg\" alt=\"Open In Colab\"/></a>"
      ]
    },
    {
      "cell_type": "markdown",
      "metadata": {
        "id": "-TsHEjnMyeso"
      },
      "source": [
        "# 데이터과학을위한수학과프로그래밍 실습 3차시 참고\n"
      ]
    },
    {
      "cell_type": "markdown",
      "metadata": {
        "id": "EHUA45y7yrEj"
      },
      "source": [
        "### 1. 부정적분"
      ]
    },
    {
      "cell_type": "markdown",
      "metadata": {
        "id": "Lr_Y8fFbyuGZ"
      },
      "source": [
        "#### 예제 1-1.\n",
        "\n",
        "다음 함수의 부정적분을 구하시오.\n",
        "\n",
        "$$\\int 3x^2 \\,dx$$"
      ]
    },
    {
      "cell_type": "markdown",
      "metadata": {
        "id": "bbUSAiEPSqtN"
      },
      "source": [
        "```Integral(f, x)```은 부정적분 $\\int f(x) \\,dx$을 반환합니다.\n",
        "\n",
        "*   ```sympy integrals``` [documentation](https://docs.sympy.org/latest/modules/integrals/integrals.html)"
      ]
    },
    {
      "cell_type": "code",
      "execution_count": null,
      "metadata": {
        "colab": {
          "base_uri": "https://localhost:8080/"
        },
        "id": "4G0Vs_aCsgJV",
        "outputId": "178bb541-2737-4bd3-dffb-6ae08dc90183"
      },
      "outputs": [
        {
          "output_type": "stream",
          "name": "stdout",
          "text": [
            "x**3\n",
            "x**3\n"
          ]
        }
      ],
      "source": [
        "from sympy import Symbol, integrate, Integral\n",
        "\n",
        "x = Symbol('x')\n",
        "fx = 3 * x**2\n",
        "\n",
        "print(integrate(fx, x))\n",
        "print(Integral(fx, x).doit())"
      ]
    },
    {
      "cell_type": "markdown",
      "metadata": {
        "id": "riXo2VlYzEOP"
      },
      "source": [
        "#### 예제 1-2.\n",
        "\n",
        "다음 함수의 부정적분을 구하시오.\n",
        "\n",
        "$$\\int e^x \\,dx$$"
      ]
    },
    {
      "cell_type": "code",
      "execution_count": null,
      "metadata": {
        "id": "CWg6ugHjzGv1"
      },
      "outputs": [],
      "source": [
        "from sympy import Symbol, exp\n",
        "\n",
        "x = Symbol('x')\n",
        "fx = exp(x)"
      ]
    },
    {
      "cell_type": "code",
      "execution_count": null,
      "metadata": {
        "colab": {
          "base_uri": "https://localhost:8080/"
        },
        "id": "QH7SBJbBsUsV",
        "outputId": "fde8dcda-f419-4dd9-b11b-9fe119329f75"
      },
      "outputs": [
        {
          "output_type": "stream",
          "name": "stdout",
          "text": [
            "exp(x)\n"
          ]
        }
      ],
      "source": [
        "print(Integral(fx, x).doit())"
      ]
    },
    {
      "cell_type": "markdown",
      "metadata": {
        "id": "prHX8QleQhdI"
      },
      "source": [
        "#### 예제 1-3.\n",
        "\n",
        "다음 함수의 부정적분을 구하시오.\n",
        "\n",
        "$$\\int(2x^2-x+3) \\,dx$$"
      ]
    },
    {
      "cell_type": "code",
      "execution_count": null,
      "metadata": {
        "colab": {
          "base_uri": "https://localhost:8080/"
        },
        "id": "dfaZlU0RQxco",
        "outputId": "d6ac6d75-c969-485b-ca2f-594d264ee37e"
      },
      "outputs": [
        {
          "output_type": "stream",
          "name": "stdout",
          "text": [
            "2*x**3/3 - x**2/2 + 3*x\n"
          ]
        }
      ],
      "source": [
        "x = Symbol('x')\n",
        "fx = 2*x**2 - x + 3\n",
        "\n",
        "print(Integral(fx, x).doit())"
      ]
    },
    {
      "cell_type": "markdown",
      "metadata": {
        "id": "5jBzvAk8QyJN"
      },
      "source": [
        "#### 예제 1-4.\n",
        "\n",
        "\n",
        "\n",
        "다음 함수의 부정적분을 구하시오.\n",
        "\n",
        "$$\\int (x-1)(x-3) \\,dx$$"
      ]
    },
    {
      "cell_type": "code",
      "execution_count": null,
      "metadata": {
        "colab": {
          "base_uri": "https://localhost:8080/"
        },
        "id": "CRYhp4O9Q5y0",
        "outputId": "9d0f0b60-9a73-48d1-f761-40141eba1973"
      },
      "outputs": [
        {
          "output_type": "stream",
          "name": "stdout",
          "text": [
            "x**3/3 - 2*x**2 + 3*x\n"
          ]
        }
      ],
      "source": [
        "x = Symbol('x')\n",
        "fx = (x - 1) * (x - 3)\n",
        "\n",
        "print(Integral(fx, x).doit())"
      ]
    },
    {
      "cell_type": "markdown",
      "metadata": {
        "id": "HByqL9RGRtbJ"
      },
      "source": [
        "### 2. 치환적분법, 부분적분법"
      ]
    },
    {
      "cell_type": "markdown",
      "metadata": {
        "id": "zWelnldxzipT"
      },
      "source": [
        "#### 예제 2-1.\n",
        "\n",
        "다음 함수의 부정적분을 구하시오.\n",
        "\n",
        "$$\\int (3x+2)^4 \\,dx$$"
      ]
    },
    {
      "cell_type": "code",
      "execution_count": null,
      "metadata": {
        "colab": {
          "base_uri": "https://localhost:8080/"
        },
        "id": "PEQKkpVezcXz",
        "outputId": "97ae36f8-66f3-4c2c-8205-486e59606c63"
      },
      "outputs": [
        {
          "output_type": "stream",
          "name": "stdout",
          "text": [
            "81*x**5/5 + 54*x**4 + 72*x**3 + 48*x**2 + 16*x\n",
            "x*(81*x**4 + 270*x**3 + 360*x**2 + 240*x + 80)/5\n"
          ]
        }
      ],
      "source": [
        "from sympy import simplify\n",
        "\n",
        "x = Symbol('x')\n",
        "fx = (3*x + 2)**4\n",
        "\n",
        "print(Integral(fx, x).doit())\n",
        "print(simplify(Integral(fx, x).doit()))"
      ]
    },
    {
      "cell_type": "markdown",
      "metadata": {
        "id": "T1Vl-1AYR8fI"
      },
      "source": [
        "#### 예제 2-2.\n",
        "\n",
        "다음 함수의 부정적분을 구하시오.\n",
        "\n",
        "$$\\int \\text{cos}(2x+1) \\,dx$$"
      ]
    },
    {
      "cell_type": "code",
      "execution_count": null,
      "metadata": {
        "colab": {
          "base_uri": "https://localhost:8080/"
        },
        "id": "jhLS3AddSFo3",
        "outputId": "5da5b0e9-8537-45d5-f785-39d0af94fc15"
      },
      "outputs": [
        {
          "output_type": "stream",
          "name": "stdout",
          "text": [
            "sin(2*x + 1)/2\n"
          ]
        }
      ],
      "source": [
        "from sympy import cos\n",
        "\n",
        "x = Symbol('x')\n",
        "fx = cos(2*x + 1)\n",
        "\n",
        "print(simplify(Integral(fx, x).doit()))"
      ]
    },
    {
      "cell_type": "markdown",
      "metadata": {
        "id": "PEKnph8z0Wvb"
      },
      "source": [
        "#### 예제 2-3.\n",
        "\n",
        "다음 함수의 부정적분을 구하시오.\n",
        "\n",
        "$$\\int e^x \\text{sin} x \\,dx$$"
      ]
    },
    {
      "cell_type": "markdown",
      "metadata": {
        "id": "mhIZHON1TnZK"
      },
      "source": [
        "*   ```factor()``` [documentation](https://docs.sympy.org/latest/tutorials/intro-tutorial/simplification.html#factor)\n",
        "\n"
      ]
    },
    {
      "cell_type": "code",
      "execution_count": null,
      "metadata": {
        "colab": {
          "base_uri": "https://localhost:8080/"
        },
        "id": "NWYbzJjFzs9D",
        "outputId": "a6497b0a-6dee-4c56-ac6c-c3983eefbb9b"
      },
      "outputs": [
        {
          "output_type": "stream",
          "name": "stdout",
          "text": [
            "exp(x)*sin(x)/2 - exp(x)*cos(x)/2\n",
            "-(-sin(x) + cos(x))*exp(x)/2\n"
          ]
        }
      ],
      "source": [
        "from sympy import sin, factor\n",
        "\n",
        "x = Symbol('x')\n",
        "fx = exp(x) * sin(x)\n",
        "\n",
        "print(Integral(fx, x).doit())\n",
        "print(factor(Integral(fx, x).doit()))"
      ]
    },
    {
      "cell_type": "markdown",
      "metadata": {
        "id": "YCYS5tdqT5rx"
      },
      "source": [
        "### 3. 정적분"
      ]
    },
    {
      "cell_type": "markdown",
      "metadata": {
        "id": "LxYMwImOUCD7"
      },
      "source": [
        "#### 예제 3-1.\n",
        "\n",
        "다음 함수의 정적분을 구하시오.\n",
        "\n",
        "$$\\int_{0}^{3} 3x^2 \\,dx$$"
      ]
    },
    {
      "cell_type": "markdown",
      "metadata": {
        "id": "INz2BVc0cLU7"
      },
      "source": [
        "```Integral(f, (x, a, b))```은 정적분 $\\int_{a}^{b} f(x) \\,dx$을 반환합니다."
      ]
    },
    {
      "cell_type": "code",
      "execution_count": null,
      "metadata": {
        "colab": {
          "base_uri": "https://localhost:8080/",
          "height": 80
        },
        "id": "oAW0ycJWUBZe",
        "outputId": "1ee7f24b-1858-4bf2-ddee-7746987a97d7"
      },
      "outputs": [
        {
          "output_type": "execute_result",
          "data": {
            "text/plain": [
              "Integral(3*x**2, (x, 0, 3))"
            ],
            "text/latex": "$\\displaystyle \\int\\limits_{0}^{3} 3 x^{2}\\, dx$"
          },
          "metadata": {},
          "execution_count": 9
        }
      ],
      "source": [
        "x = Symbol('x')\n",
        "fx = 3*x**2\n",
        "\n",
        "Integral(fx, (x, 0, 3))"
      ]
    },
    {
      "cell_type": "code",
      "execution_count": null,
      "metadata": {
        "id": "Zr1uY3uCyTuB",
        "outputId": "a8d994eb-7e29-4256-e88b-54dcc5babb1c",
        "colab": {
          "base_uri": "https://localhost:8080/",
          "height": 37
        }
      },
      "outputs": [
        {
          "output_type": "execute_result",
          "data": {
            "text/plain": [
              "27"
            ],
            "text/latex": "$\\displaystyle 27$"
          },
          "metadata": {},
          "execution_count": 10
        }
      ],
      "source": [
        "Integral(fx, (x, 0, 3)).doit()"
      ]
    },
    {
      "cell_type": "markdown",
      "metadata": {
        "id": "LM1MNloSc4Li"
      },
      "source": [
        "#### 예제 3-2.\n",
        "\n",
        "다음 함수의 정적분을 구하시오.\n",
        "\n",
        "$$\\int_{\\frac{\\pi}{2}}^{\\pi} \\text{cos}x \\,dx$$"
      ]
    },
    {
      "cell_type": "code",
      "execution_count": null,
      "metadata": {
        "colab": {
          "base_uri": "https://localhost:8080/"
        },
        "id": "Iaq7snyKdGnx",
        "outputId": "a547507b-60e1-4199-870c-95c5905d4606"
      },
      "outputs": [
        {
          "output_type": "stream",
          "name": "stdout",
          "text": [
            "-1\n"
          ]
        }
      ],
      "source": [
        "from sympy import pi\n",
        "\n",
        "x = Symbol('x')\n",
        "fx = cos(x)\n",
        "\n",
        "print(integrate(fx, (x, pi/2, pi)))"
      ]
    },
    {
      "cell_type": "markdown",
      "metadata": {
        "id": "N3svNmHW1BXv"
      },
      "source": [
        "#### 예제 3-3.\n",
        "\n",
        "다음 함수의 정적분을 구하시오.\n",
        "\n",
        "$$\\int_{0}^{3} (x^3-x+1)\\,dx - \\int_{0}^{3} (x^3+x+1)\\,dx$$"
      ]
    },
    {
      "cell_type": "code",
      "execution_count": null,
      "metadata": {
        "colab": {
          "base_uri": "https://localhost:8080/",
          "height": 37
        },
        "id": "0mzOqtlU0uR0",
        "outputId": "2147dd8f-f52d-48aa-e459-e1ccf6783e7a"
      },
      "outputs": [
        {
          "output_type": "execute_result",
          "data": {
            "text/plain": [
              "-9"
            ],
            "text/latex": "$\\displaystyle -9$"
          },
          "metadata": {},
          "execution_count": 12
        }
      ],
      "source": [
        "x = Symbol('x')\n",
        "fx1 = x**3 - x + 1\n",
        "fx2 = x**3 + x + 1\n",
        "\n",
        "(Integral(fx1, (x, 0, 3)) - Integral(fx2, (x, 0, 3))).doit()"
      ]
    },
    {
      "cell_type": "code",
      "execution_count": null,
      "metadata": {
        "id": "RzZe1ZQAyTuC",
        "outputId": "24ef687e-2519-48ce-b7af-23a1df293e7f",
        "colab": {
          "base_uri": "https://localhost:8080/",
          "height": 37
        }
      },
      "outputs": [
        {
          "output_type": "execute_result",
          "data": {
            "text/plain": [
              "-9"
            ],
            "text/latex": "$\\displaystyle -9$"
          },
          "metadata": {},
          "execution_count": 13
        }
      ],
      "source": [
        "Integral(fx1 - fx2, (x, 0, 3)).doit()"
      ]
    },
    {
      "cell_type": "markdown",
      "metadata": {
        "id": "nREA5TAl8GNt"
      },
      "source": [
        "#### 예제 3-4.\n",
        "\n",
        "다음 함수의 정적분을 구하시오.\n",
        "\n",
        "$$\\int_{0}^{1} (x^3-e^x)\\,dx + \\int_{1}^{2} (x^3-e^x)\\,dx$$"
      ]
    },
    {
      "cell_type": "code",
      "execution_count": null,
      "metadata": {
        "colab": {
          "base_uri": "https://localhost:8080/",
          "height": 38
        },
        "id": "YWDkNgjR1jSK",
        "outputId": "05968aec-d525-43db-9498-b035e4183719"
      },
      "outputs": [
        {
          "output_type": "execute_result",
          "data": {
            "text/plain": [
              "5 - exp(2)"
            ],
            "text/latex": "$\\displaystyle 5 - e^{2}$"
          },
          "metadata": {},
          "execution_count": 14
        }
      ],
      "source": [
        "x = Symbol('x')\n",
        "fx = x**3 - exp(x)\n",
        "\n",
        "(Integral(fx, (x, 0, 1)) + Integral(fx, (x, 1, 2))).doit()"
      ]
    },
    {
      "cell_type": "markdown",
      "metadata": {
        "id": "3ShpuIexdaxa"
      },
      "source": [
        "### 4. 적분의 응용"
      ]
    },
    {
      "cell_type": "markdown",
      "metadata": {
        "id": "5IHGjgg3Cfc6"
      },
      "source": [
        "#### 예제 4-1.\n",
        "\n",
        "직선 $f(x)=x$와 곡선 $g(x)=x^2$ 사이의 넓이를 구하시오.\n",
        "\n"
      ]
    },
    {
      "cell_type": "markdown",
      "metadata": {
        "id": "QTX62BnvzhJh"
      },
      "source": [
        "*   ```solve()``` [documentation](https://docs.sympy.org/latest/modules/solvers/solvers.html)\n",
        "\n"
      ]
    },
    {
      "cell_type": "code",
      "execution_count": null,
      "metadata": {
        "id": "uXAjBN1ODkJq"
      },
      "outputs": [],
      "source": [
        "x = Symbol('x')\n",
        "fx = x\n",
        "gx = x**2"
      ]
    },
    {
      "cell_type": "code",
      "execution_count": null,
      "metadata": {
        "colab": {
          "base_uri": "https://localhost:8080/"
        },
        "id": "J9qOTPP0vn1b",
        "outputId": "6d0632d6-75f4-449d-82d6-c473e3b48487"
      },
      "outputs": [
        {
          "output_type": "execute_result",
          "data": {
            "text/plain": [
              "[0, 1]"
            ]
          },
          "metadata": {},
          "execution_count": 16
        }
      ],
      "source": [
        "from sympy import solve\n",
        "\n",
        "\n",
        "solve(fx-gx, x)"
      ]
    },
    {
      "cell_type": "code",
      "execution_count": null,
      "metadata": {
        "colab": {
          "base_uri": "https://localhost:8080/",
          "height": 51
        },
        "id": "SumPRnTpvkv_",
        "outputId": "95bd43d1-d490-4500-c064-849b2c2bd9f9"
      },
      "outputs": [
        {
          "output_type": "execute_result",
          "data": {
            "text/plain": [
              "1/6"
            ],
            "text/latex": "$\\displaystyle \\frac{1}{6}$"
          },
          "metadata": {},
          "execution_count": 17
        }
      ],
      "source": [
        "Integral(fx-gx, (x, 0, 1)).doit()"
      ]
    },
    {
      "cell_type": "code",
      "execution_count": null,
      "metadata": {
        "id": "Y8ZS4OhZyTuD",
        "outputId": "500bee31-9bf4-427a-cc7e-bde1f5aa4004",
        "colab": {
          "base_uri": "https://localhost:8080/",
          "height": 448
        }
      },
      "outputs": [
        {
          "output_type": "execute_result",
          "data": {
            "text/plain": [
              "[<matplotlib.lines.Line2D at 0x7a4241ad63b0>]"
            ]
          },
          "metadata": {},
          "execution_count": 18
        },
        {
          "output_type": "display_data",
          "data": {
            "text/plain": [
              "<Figure size 640x480 with 1 Axes>"
            ],
            "image/png": "[encoded data removed]"
          },
          "metadata": {}
        }
      ],
      "source": [
        "#| echo: false\n",
        "\n",
        "import matplotlib.pyplot as plt\n",
        "import numpy as np\n",
        "\n",
        "def f(x): return x\n",
        "def g(x): return x**2\n",
        "\n",
        "x = np.linspace(-2, 2, 101)\n",
        "\n",
        "plt.plot(x, f(x))\n",
        "plt.plot(x, g(x))"
      ]
    },
    {
      "cell_type": "markdown",
      "metadata": {
        "id": "afwfp09NCCuQ"
      },
      "source": [
        "#### 예제 4-2.\n",
        "\n",
        "다음 곡선의 $x = 1$에서 $x = 4$까지의 길이를 구하시오.\n",
        "\n",
        "$$f(x) = \\frac{2}{3}(x-1)^\\frac{3}{2}$$"
      ]
    },
    {
      "cell_type": "markdown",
      "metadata": {
        "id": "4ErxsGZ93t5I"
      },
      "source": [
        "*   함수 $y = f(x)$와 그의 도함수 $f'(x)$가 구간 $[a, b]$에서 연속일 때 $x = a$에서 $x = b$까지의 곡선 $y = f(x)$의 길이는 다음과 같다.\n",
        "\n",
        "$$L = \\int_{a}^{b} \\sqrt{1+\\{f'(x)\\}^2} \\,dx$$\n",
        "\n"
      ]
    },
    {
      "cell_type": "code",
      "execution_count": null,
      "metadata": {
        "id": "zTEzNqeICXnq"
      },
      "outputs": [],
      "source": [
        "x = Symbol('x')\n",
        "fx = 2/3*(x-1)**(3/2)"
      ]
    },
    {
      "cell_type": "code",
      "execution_count": null,
      "metadata": {
        "colab": {
          "base_uri": "https://localhost:8080/",
          "height": 37
        },
        "id": "rGyYJ1vXwG7Z",
        "outputId": "b7a82394-0ede-4a8a-9706-a14924f0f9ee"
      },
      "outputs": [
        {
          "output_type": "execute_result",
          "data": {
            "text/plain": [
              "4.66666666666667"
            ],
            "text/latex": "$\\displaystyle 4.66666666666667$"
          },
          "metadata": {},
          "execution_count": 20
        }
      ],
      "source": [
        "from sympy import Derivative, sqrt\n",
        "\n",
        "deriv = Derivative(fx, x).doit()\n",
        "\n",
        "Integral(sqrt(1 + deriv**2), (x, 1, 4)).doit()"
      ]
    },
    {
      "cell_type": "markdown",
      "metadata": {
        "id": "d7Xd8P-byTuD"
      },
      "source": [
        "### 질문 관련 내용"
      ]
    },
    {
      "cell_type": "markdown",
      "metadata": {
        "id": "GmC-SHZIyTuD"
      },
      "source": [
        "* sympy.Integral 사용 시 적분상수가 없는 이유"
      ]
    },
    {
      "cell_type": "markdown",
      "metadata": {
        "id": "5VYBHtB-yTuD"
      },
      "source": [
        "다변수 적분에도 `Integral` 이 사용될 수 있는데, 이때 적분 상수를 자동으로 표현해주는 것이 모호함을 줄 수 있기 때문에 별도로 적분상수가 표현되지 않는 것으로 보입니다. 이에 대한 토론이 [sympy github](https://github.com/sympy/sympy/issues/11756) 이슈로 진행되는 것 같으니 관심이 있으시면 참고하시길 바랍니다.\n",
        "\n",
        "대신, 일변수 케이스의 경우 `dsolve` 함수를 사용해서 적분상수 표현이 존재하는 결과를 얻을 수 있습니다.\n",
        "\n",
        "`dsolve`는 미분방정식을 푸는 함수로 다음의 예시와 같이 사용할 수 있습니다."
      ]
    },
    {
      "cell_type": "code",
      "execution_count": null,
      "metadata": {
        "id": "1gzVSQX_yTuD",
        "outputId": "42efd469-f83e-4770-bb4e-250e9b1484b8",
        "colab": {
          "base_uri": "https://localhost:8080/",
          "height": 38
        }
      },
      "outputs": [
        {
          "output_type": "execute_result",
          "data": {
            "text/plain": [
              "Eq(f(x), C1 + x**3)"
            ],
            "text/latex": "$\\displaystyle f{\\left(x \\right)} = C_{1} + x^{3}$"
          },
          "metadata": {},
          "execution_count": 21
        }
      ],
      "source": [
        "from sympy import Symbol, Function, dsolve, Derivative\n",
        "\n",
        "x = Symbol('x')\n",
        "f = Function('f')\n",
        "y = f(x)\n",
        "\n",
        "# dy/dx = 3*x**2 이면, f(x) = x^3 + C\n",
        "\n",
        "dsolve(Derivative(y,x) - 3*x**2)"
      ]
    }
  ],
  "metadata": {
    "colab": {
      "provenance": [],
      "include_colab_link": true
    },
    "kernelspec": {
      "display_name": "Python 3",
      "name": "python3"
    },
    "language_info": {
      "codemirror_mode": {
        "name": "ipython",
        "version": 3
      },
      "file_extension": ".py",
      "mimetype": "text/x-python",
      "name": "python",
      "nbconvert_exporter": "python",
      "pygments_lexer": "ipython3",
      "version": "3.10.12"
    }
  },
  "nbformat": 4,
  "nbformat_minor": 0
}
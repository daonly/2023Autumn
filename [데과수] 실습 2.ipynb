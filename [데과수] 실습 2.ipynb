{
  "cells": [
    {
      "cell_type": "markdown",
      "metadata": {
        "id": "view-in-github",
        "colab_type": "text"
      },
      "source": [
        "<a href=\"https://colab.research.google.com/github/daonly/2023Autumn/blob/main/%5B%EB%8D%B0%EA%B3%BC%EC%88%98%5D%20%EC%8B%A4%EC%8A%B5%202.ipynb\" target=\"_parent\"><img src=\"https://colab.research.google.com/assets/colab-badge.svg\" alt=\"Open In Colab\"/></a>"
      ]
    },
    {
      "cell_type": "markdown",
      "metadata": {
        "id": "I_ztYYWEJe9e"
      },
      "source": [
        "# 데이터과학을위한수학과프로그래밍 실습 2차시"
      ]
    },
    {
      "cell_type": "markdown",
      "source": [
        "heeyoungkim@korea.ac.kr"
      ],
      "metadata": {
        "id": "VfKPnANpFeAT"
      }
    },
    {
      "cell_type": "markdown",
      "metadata": {
        "id": "3_RLbsFLkDdD"
      },
      "source": [
        "*   [NumPy](https://numpy.org/doc/stable/) Documentation\n",
        "*   [matplotlib.pyplot](https://matplotlib.org/3.5.3/tutorials/introductory/pyplot.html#sphx-glr-tutorials-introductory-pyplot-py) Documentation\n",
        "*   [SymPy](https://docs.sympy.org/latest/index.html) Documentation"
      ]
    },
    {
      "cell_type": "markdown",
      "metadata": {
        "id": "JN84rjGWE4Qd"
      },
      "source": [
        "### 1. 함수"
      ]
    },
    {
      "cell_type": "markdown",
      "metadata": {
        "id": "E7SNuyYlDmNs"
      },
      "source": [
        "#### 예제 1-1.\n",
        "\n",
        "구간 $[-1, 5]$에서 함수 $f$을 다음과 같이 정의합니다.\n",
        "\n",
        "$$f(x)=\\begin{cases} -x^2+2, & -1\\leq x < 1 \\\\ x^2-4x+3, & 1 \\leq x \\leq 3 \\\\ -x^2+8x-14, & 3<x\\leq5 \\end{cases}$$\n",
        "\n",
        "함수 $f$의 함수값을 출력하는 파이썬 함수 $f(x)$을 작성하고, 이 함수를 이용해 구간 $[-1, 5]$에서 함수 $f$의 그래프를 그리는 코드를 작성하시오."
      ]
    },
    {
      "cell_type": "code",
      "source": [
        "def f(x):\n",
        "  if x < 1:\n",
        "    return -x**2 + 2\n",
        "  if x <= 3:\n",
        "    return x**2 -4*x +3\n",
        "  else:\n",
        "    return -x**2 +8*x -14"
      ],
      "metadata": {
        "id": "oBceHN8PAcFQ"
      },
      "execution_count": null,
      "outputs": []
    },
    {
      "cell_type": "code",
      "source": [
        "import numpy as np"
      ],
      "metadata": {
        "id": "3cphqugEA-6A"
      },
      "execution_count": null,
      "outputs": []
    },
    {
      "cell_type": "code",
      "source": [
        "xs = np.linspace(-1, 5, 100)"
      ],
      "metadata": {
        "id": "YJZ9TMbiBCR5"
      },
      "execution_count": null,
      "outputs": []
    },
    {
      "cell_type": "code",
      "source": [
        "import matplotlib.pyplot as plt"
      ],
      "metadata": {
        "id": "zGHdWtI9CRik"
      },
      "execution_count": null,
      "outputs": []
    },
    {
      "cell_type": "code",
      "source": [
        "fxs = [f(x) for x in xs]"
      ],
      "metadata": {
        "id": "IjagNXsuCWKP"
      },
      "execution_count": null,
      "outputs": []
    },
    {
      "cell_type": "code",
      "source": [
        "plt.plot(xs, fxs, '.')"
      ],
      "metadata": {
        "id": "dXuQ8mGtClyM",
        "outputId": "68ad2070-019d-4cda-a695-26cd9094e8c2",
        "colab": {
          "base_uri": "https://localhost:8080/",
          "height": 448
        }
      },
      "execution_count": null,
      "outputs": [
        {
          "output_type": "execute_result",
          "data": {
            "text/plain": [
              "[<matplotlib.lines.Line2D at 0x7f83cc37bc10>]"
            ]
          },
          "metadata": {},
          "execution_count": 11
        },
        {
          "output_type": "display_data",
          "data": {
            "text/plain": [
              "<Figure size 640x480 with 1 Axes>"
            ],
            "image/png": "[encoded data removed]"
          },
          "metadata": {}
        }
      ]
    },
    {
      "cell_type": "markdown",
      "metadata": {
        "id": "Q33k-UYokn8g"
      },
      "source": [
        "*   [```numpy.linspace()```](https://numpy.org/doc/stable/reference/generated/numpy.linspace.html)\n",
        "*   [```numpy.zeros_like()```](https://numpy.org/doc/stable/reference/generated/numpy.zeros_like.html)\n",
        "\n"
      ]
    },
    {
      "cell_type": "code",
      "source": [
        "np.arange(1, 10)"
      ],
      "metadata": {
        "id": "Xi8pjvNrDKVE",
        "outputId": "7bd54f6e-715b-4955-e451-f661a74318a1",
        "colab": {
          "base_uri": "https://localhost:8080/"
        }
      },
      "execution_count": null,
      "outputs": [
        {
          "output_type": "execute_result",
          "data": {
            "text/plain": [
              "array([1, 2, 3, 4, 5, 6, 7, 8, 9])"
            ]
          },
          "metadata": {},
          "execution_count": 13
        }
      ]
    },
    {
      "cell_type": "markdown",
      "metadata": {
        "id": "NETyz0vCaujh"
      },
      "source": [
        "> np.linspace와 np.arange\n",
        "\n",
        "> matplotlib.pyplot의 편리성 vs  explicit API의 유연성\n",
        "\n",
        "> 플롯 스타일 포맷팅\n",
        "\n",
        "    * [matplotlib.pyplot.plot](https://matplotlib.org/stable/api/_as_gen/matplotlib.pyplot.plot.html#matplotlib.pyplot.plot)\n",
        "    * [color][marker][line]"
      ]
    },
    {
      "cell_type": "markdown",
      "metadata": {
        "id": "y0eFJSCyRYdW"
      },
      "source": [
        "#### 예제 1-2.\n",
        "\n",
        "$$f(x) = 3x-4$$\n",
        "\n",
        "$$f^{-1}(x) = \\frac{1}{3}(x+4)$$\n",
        "\n",
        "$f$의 그래프와 $f^{-1}$을 시각화하여 교점을 찾으시오.\n",
        "\n"
      ]
    },
    {
      "cell_type": "code",
      "source": [
        "def f(x):\n",
        "  return 3*x -4\n",
        "\n",
        "def f_inv(x):\n",
        "  return 1/3*(x+4)\n",
        "\n",
        "def identity(x):\n",
        "  return x"
      ],
      "metadata": {
        "id": "lPcn6OWnDxv1"
      },
      "execution_count": null,
      "outputs": []
    },
    {
      "cell_type": "code",
      "source": [
        "x = np.linspace(-1, 5, 101)"
      ],
      "metadata": {
        "id": "Uk6Q99nkD-jr"
      },
      "execution_count": null,
      "outputs": []
    },
    {
      "cell_type": "code",
      "source": [
        "line, =plt.plot(x, f(x), 'r')\n",
        "line2, =plt.plot(x, f_inv(x), 'b')\n",
        "line3, =plt.plot(x, identity(x), '--')\n",
        "plt.legend(handles = (line, line2, line3),\n",
        "           labels = (r'$y=f(x)$', r\"$y=f^{-1} (x)$\", r\"y = x\"))\n",
        "plt.ylim(-1, 5)"
      ],
      "metadata": {
        "id": "A85Ao1yDEGe_",
        "outputId": "7cbbb119-66d5-4c5a-9156-f0c32d2f1203",
        "colab": {
          "base_uri": "https://localhost:8080/",
          "height": 453
        }
      },
      "execution_count": null,
      "outputs": [
        {
          "output_type": "execute_result",
          "data": {
            "text/plain": [
              "(-1.0, 5.0)"
            ]
          },
          "metadata": {},
          "execution_count": 21
        },
        {
          "output_type": "display_data",
          "data": {
            "text/plain": [
              "<Figure size 640x480 with 1 Axes>"
            ],
            "image/png": "[encoded data removed]"
          },
          "metadata": {}
        }
      ]
    },
    {
      "cell_type": "markdown",
      "metadata": {
        "id": "Ez78nUMGauji"
      },
      "source": [
        "> Line2D 객체의 변수화\n",
        "    \n",
        "`plt.plot` 함수는 무조건 리스트 객체를 반환하므로, Line2D 객체만을 추출하는 방법\n",
        "\n",
        "변수명 뒤에 콤마를 쓰면 됨 ㅇㅇ\n",
        "\n",
        "> TeX in matplotlib text\n",
        "\n",
        "raw string with dollar sign (r'$<TeX code>$')\n",
        "\n",
        "TeX 를 편리하게 사용하기 위해 만든 포맷 -> LaTeX\n",
        "\n",
        "[Rendering math equations using TeX](https://matplotlib.org/stable/gallery/text_labels_and_annotations/tex_demo.html)"
      ]
    },
    {
      "cell_type": "markdown",
      "metadata": {
        "id": "VEYFUZLL450G"
      },
      "source": [
        "#### 예제 1-3.\n",
        "\n",
        "$$g(x) = x^2+1$$\n",
        "\n",
        "$$g^{-1}(x) = \\sqrt{x-1}(x\\geq1)$$\n",
        "\n",
        "$g$의 그래프와 $g^{-1}$을 시각화하여 교점을 찾으시오."
      ]
    },
    {
      "cell_type": "code",
      "source": [
        "혼자 해봐라~"
      ],
      "metadata": {
        "id": "wFH-VBysFzYb"
      },
      "execution_count": null,
      "outputs": []
    },
    {
      "cell_type": "markdown",
      "metadata": {
        "id": "XFAKP-pfE80u"
      },
      "source": [
        "### 2. 극한"
      ]
    },
    {
      "cell_type": "markdown",
      "metadata": {
        "id": "yHRtt3UWauji"
      },
      "source": [
        "\n",
        "*   [Sympy Calculus Tutorial](https://docs.sympy.org/latest/tutorials/intro-tutorial/calculus.html)\n",
        "\n"
      ]
    },
    {
      "cell_type": "markdown",
      "metadata": {
        "id": "yDPxEKpSHDLQ"
      },
      "source": [
        "#### 예제 2-1.\n",
        "\n",
        "다음 함수의 그래프를 그려 극한값을 추정한 후, `sympy`의 결과와 비교하시오.\n",
        "\n",
        "$$\\lim_{x\\to∞}\\frac{1}{x}$$"
      ]
    },
    {
      "cell_type": "code",
      "source": [
        "def f(x): return 1/x"
      ],
      "metadata": {
        "id": "0rO43GPFGNB0"
      },
      "execution_count": null,
      "outputs": []
    },
    {
      "cell_type": "code",
      "source": [
        "x = np.arange(1, 10000)"
      ],
      "metadata": {
        "id": "BBtBvi_jGTz6"
      },
      "execution_count": null,
      "outputs": []
    },
    {
      "cell_type": "code",
      "source": [
        "plt.plot(x, f(x))"
      ],
      "metadata": {
        "id": "pDZOZ-n6GYrP",
        "outputId": "d3207014-7a80-41f9-a529-3fab1fbf9a37",
        "colab": {
          "base_uri": "https://localhost:8080/",
          "height": 448
        }
      },
      "execution_count": null,
      "outputs": [
        {
          "output_type": "execute_result",
          "data": {
            "text/plain": [
              "[<matplotlib.lines.Line2D at 0x7f83a7f35840>]"
            ]
          },
          "metadata": {},
          "execution_count": 28
        },
        {
          "output_type": "display_data",
          "data": {
            "text/plain": [
              "<Figure size 640x480 with 1 Axes>"
            ],
            "image/png": "[encoded data removed]"
          },
          "metadata": {}
        }
      ]
    },
    {
      "cell_type": "code",
      "source": [
        "from sympy import Symbol, Limit, oo\n",
        "\n",
        "x = Symbol('x')\n",
        "fx = 1/x\n",
        "\n",
        "Limit(fx, x, oo).doit()"
      ],
      "metadata": {
        "id": "-GgRlmb_Gl8q",
        "outputId": "971211cf-5de6-4a6d-9a00-e232806ef945",
        "colab": {
          "base_uri": "https://localhost:8080/",
          "height": 37
        }
      },
      "execution_count": null,
      "outputs": [
        {
          "output_type": "execute_result",
          "data": {
            "text/plain": [
              "0"
            ],
            "text/latex": "$\\displaystyle 0$"
          },
          "metadata": {},
          "execution_count": 31
        }
      ]
    },
    {
      "cell_type": "markdown",
      "metadata": {
        "id": "xM38Xw01aujj"
      },
      "source": [
        "> Sympy\n",
        "\n",
        "**Sym**bolic mathematics in **Py**thon\n",
        "\n",
        "> Symbol\n",
        "\n",
        "데이터가 아닌, Symbol로 인식하겠음\n",
        "\n",
        "> Limit\n",
        "\n",
        "```python\n",
        "Limit(expression, variable, value)\n",
        "```\n",
        "\n",
        "> doit method\n",
        "\n",
        "극한, 미분, 적분 연산 메소드에 대해 Evaluation\n",
        "\n",
        "[SymPy ```.doit()```](https://docs.sympy.org/latest/modules/core.html?highlight=doit#sympy.core.basic.Basic.doit)"
      ]
    },
    {
      "cell_type": "markdown",
      "metadata": {
        "id": "jZqZtt9zHarZ"
      },
      "source": [
        "#### 예제 2-2.\n",
        "\n",
        "다음 함수의 그래프를 그려 극한값을 추정한 후, `sympy`의 결과와 비교하시오.\n",
        "\n",
        "$$\\lim_{x\\to-∞}(x^3+2x)$$"
      ]
    },
    {
      "cell_type": "code",
      "source": [
        "x = np.arange(-1000, 0)\n",
        "\n",
        "def f(x): return x**3 +2*x\n",
        "\n",
        "plt.plot(x, f(x))"
      ],
      "metadata": {
        "id": "EgFPBv_NHQR_",
        "outputId": "ea55f54f-0416-447a-9e10-f7ff5df99c0f",
        "colab": {
          "base_uri": "https://localhost:8080/",
          "height": 463
        }
      },
      "execution_count": null,
      "outputs": [
        {
          "output_type": "execute_result",
          "data": {
            "text/plain": [
              "[<matplotlib.lines.Line2D at 0x7f83a6989900>]"
            ]
          },
          "metadata": {},
          "execution_count": 32
        },
        {
          "output_type": "display_data",
          "data": {
            "text/plain": [
              "<Figure size 640x480 with 1 Axes>"
            ],
            "image/png": "[encoded data removed]"
          },
          "metadata": {}
        }
      ]
    },
    {
      "cell_type": "code",
      "source": [
        "x = Symbol('x')\n",
        "fx = x**3 + 2*x\n",
        "\n",
        "Limit(fx, x, -oo).doit()"
      ],
      "metadata": {
        "id": "r47eW8RDHbAy",
        "outputId": "2296879f-5617-47f7-ee6b-65f9030f7fb5",
        "colab": {
          "base_uri": "https://localhost:8080/",
          "height": 37
        }
      },
      "execution_count": null,
      "outputs": [
        {
          "output_type": "execute_result",
          "data": {
            "text/plain": [
              "-oo"
            ],
            "text/latex": "$\\displaystyle -\\infty$"
          },
          "metadata": {},
          "execution_count": 34
        }
      ]
    },
    {
      "cell_type": "markdown",
      "metadata": {
        "id": "63Frg6xZFIb4"
      },
      "source": [
        "### 3. 미분"
      ]
    },
    {
      "cell_type": "markdown",
      "metadata": {
        "id": "6b4fXNa6Lo7R"
      },
      "source": [
        "#### 예제 3-1.\n",
        "\n",
        "다음 함수의 도함수를 구하시오.\n",
        "\n",
        "$$f(x)=x^{2023}+3x^3-1$$\n"
      ]
    },
    {
      "cell_type": "code",
      "source": [
        "from sympy import Derivative"
      ],
      "metadata": {
        "id": "-yQ5otmyIADD"
      },
      "execution_count": null,
      "outputs": []
    },
    {
      "cell_type": "code",
      "source": [
        "x = Symbol('x')\n",
        "\n",
        "fx = x**2023 +3*x**3 -1\n",
        "\n",
        "Derivative(fx, x).doit()"
      ],
      "metadata": {
        "id": "o-3qF5fOIDv-",
        "outputId": "e5226453-8cb0-4147-ea17-c1181090c9c4",
        "colab": {
          "base_uri": "https://localhost:8080/",
          "height": 39
        }
      },
      "execution_count": null,
      "outputs": [
        {
          "output_type": "execute_result",
          "data": {
            "text/plain": [
              "2023*x**2022 + 9*x**2"
            ],
            "text/latex": "$\\displaystyle 2023 x^{2022} + 9 x^{2}$"
          },
          "metadata": {},
          "execution_count": 37
        }
      ]
    },
    {
      "cell_type": "code",
      "source": [
        "from sympy import simplify\n",
        "\n",
        "simplify(Derivative(fx, x).doit())"
      ],
      "metadata": {
        "id": "53jYtPN6Ib7X",
        "outputId": "b2404cbe-b72a-41f2-d729-dbf9eceaa9bf",
        "colab": {
          "base_uri": "https://localhost:8080/",
          "height": 39
        }
      },
      "execution_count": null,
      "outputs": [
        {
          "output_type": "execute_result",
          "data": {
            "text/plain": [
              "x**2*(2023*x**2020 + 9)"
            ],
            "text/latex": "$\\displaystyle x^{2} \\cdot \\left(2023 x^{2020} + 9\\right)$"
          },
          "metadata": {},
          "execution_count": 38
        }
      ]
    },
    {
      "cell_type": "markdown",
      "metadata": {
        "id": "BYOfS56Saujj"
      },
      "source": [
        "> simplify\n",
        "\n",
        "[SymPy simplification](https://docs.sympy.org/latest/tutorials/intro-tutorial/simplification.html)\n",
        "\n",
        "> Derivative\n",
        "\n",
        "[SymPy ```Derivative()``` class](https://docs.sympy.org/latest/modules/core.html?highlight=derivative#sympy.core.function.Derivative)"
      ]
    },
    {
      "cell_type": "markdown",
      "metadata": {
        "id": "EaF3nOsmMjFg"
      },
      "source": [
        "#### 예제 3-2.\n",
        "\n",
        "다음 함수의 도함수를 구하시오.\n",
        "\n",
        "$$g(x)=\\frac{x}{x+1}$$\n"
      ]
    },
    {
      "cell_type": "markdown",
      "metadata": {
        "id": "HYsUzODAaujj"
      },
      "source": [
        "> f-string\n",
        "\n",
        "Python에서 문자를 포맷팅하는 편리한 방법\n",
        "\n",
        "[f-string Formatting in Python](https://www.datacamp.com/tutorial/f-string-formatting-in-python)"
      ]
    },
    {
      "cell_type": "markdown",
      "metadata": {
        "id": "6f5-rStvHIo_"
      },
      "source": [
        "#### 예제 3-3.\n",
        "\n",
        "다음 함수의 도함수를 구하시오.\n",
        "\n",
        "$$f(x)=sin(x)cos(x)$$"
      ]
    },
    {
      "cell_type": "code",
      "source": [
        "from sympy import sin, cos\n",
        "\n",
        "x = Symbol('x')\n",
        "fx = sin(x) * cos(x)\n",
        "\n",
        "Derivative(fx, x).doit()"
      ],
      "metadata": {
        "id": "74TBAzZvIsii",
        "outputId": "0f720c0b-d579-489f-e9fa-7fba6ab8fd3a",
        "colab": {
          "base_uri": "https://localhost:8080/",
          "height": 39
        }
      },
      "execution_count": null,
      "outputs": [
        {
          "output_type": "execute_result",
          "data": {
            "text/plain": [
              "-sin(x)**2 + cos(x)**2"
            ],
            "text/latex": "$\\displaystyle - \\sin^{2}{\\left(x \\right)} + \\cos^{2}{\\left(x \\right)}$"
          },
          "metadata": {},
          "execution_count": 41
        }
      ]
    },
    {
      "cell_type": "markdown",
      "metadata": {
        "id": "_ioNh0bGaujk"
      },
      "source": [
        "> sp.diff\n",
        "\n",
        "Evaluation이 바로 일어나는 함수"
      ]
    },
    {
      "cell_type": "markdown",
      "metadata": {
        "id": "W04wjfmDQlpK"
      },
      "source": [
        "#### 예제 3-4.\n",
        "\n",
        "$x$와 $y$에 대한 관계식 $x^2 + 2y^2-xy-3x-4y=5$에서 $\\frac{dy}{dx}$를 구하시오."
      ]
    },
    {
      "cell_type": "code",
      "source": [
        "from sympy import symbols, idiff\n",
        "\n",
        "x, y = symbols('x y')\n",
        "\n",
        "fxy = x**2 +2*y**2 -x*y -3*x -4*y -5\n",
        "\n",
        "idiff(fxy, y, x)"
      ],
      "metadata": {
        "id": "I7Glz4vIJPYW"
      },
      "execution_count": null,
      "outputs": []
    },
    {
      "cell_type": "markdown",
      "metadata": {
        "id": "mPZvQAH4pQok"
      },
      "source": [
        "*   [SymPy ```idiff()```](https://docs.sympy.org/latest/modules/geometry/utils.html?highlight=idiff#sympy.geometry.util.idiff)\n",
        "\n"
      ]
    },
    {
      "cell_type": "markdown",
      "metadata": {
        "id": "hTTSJoNSvV26"
      },
      "source": [
        "#### 예제 3-5.\n",
        "\n",
        "다음 곡선 위에 주어진 점에서의 접선의 기울기를 구하시오.\n",
        "\n",
        "$$f(x) = x^3+2x-1, (1, 2)$$"
      ]
    },
    {
      "cell_type": "code",
      "source": [
        "x = Symbol('x')\n",
        "\n",
        "fx = x**3 + 2*x -1\n",
        "\n",
        "fprime_x = Derivative(fx, x).doit()\n",
        "fprime_x"
      ],
      "metadata": {
        "id": "WZl0qeCnJxqQ",
        "outputId": "3093d662-6e3d-43c9-852b-454ac10f3980",
        "colab": {
          "base_uri": "https://localhost:8080/",
          "height": 39
        }
      },
      "execution_count": null,
      "outputs": [
        {
          "output_type": "execute_result",
          "data": {
            "text/plain": [
              "3*x**2 + 2"
            ],
            "text/latex": "$\\displaystyle 3 x^{2} + 2$"
          },
          "metadata": {},
          "execution_count": 47
        }
      ]
    },
    {
      "cell_type": "code",
      "source": [
        "fprime_x.subs(x, 1)"
      ],
      "metadata": {
        "id": "SeoqEVa7KOHP",
        "outputId": "9707381b-ffc6-4ce9-9c0e-cb7f39383ce1",
        "colab": {
          "base_uri": "https://localhost:8080/",
          "height": 37
        }
      },
      "execution_count": null,
      "outputs": [
        {
          "output_type": "execute_result",
          "data": {
            "text/plain": [
              "5"
            ],
            "text/latex": "$\\displaystyle 5$"
          },
          "metadata": {},
          "execution_count": 49
        }
      ]
    },
    {
      "cell_type": "markdown",
      "metadata": {
        "id": "ylXXhAYKaujk"
      },
      "source": [
        "> [SymPy ```subs()```](https://docs.sympy.org/latest/modules/core.html?highlight=subs#sympy.core.basic.Basic.subs)\n",
        "\n",
        "foo.subs(old, new)\n",
        "\n",
        "foo.subs(iterable)\n",
        "\n",
        "foo.subs(dict)\n",
        "\n"
      ]
    },
    {
      "cell_type": "markdown",
      "metadata": {
        "id": "w9TAgWga0t38"
      },
      "source": [
        "#### 예제 3-6.\n",
        "\n",
        "다음 함수의 극값을 구하시오.\n",
        "\n",
        "$$f(x)=-2x^3-3x^2+1$$"
      ]
    },
    {
      "cell_type": "code",
      "source": [
        "x = Symbol('x')\n",
        "\n",
        "fx = -2*x**3 -3*x**2 +1\n",
        "\n",
        "fprime_x = Derivative(fx, x).doit()\n",
        "fprime_x"
      ],
      "metadata": {
        "id": "ATptUe-uKhW2",
        "outputId": "e8d8b87b-5b1e-4467-976f-055c255e793e",
        "colab": {
          "base_uri": "https://localhost:8080/",
          "height": 39
        }
      },
      "execution_count": null,
      "outputs": [
        {
          "output_type": "execute_result",
          "data": {
            "text/plain": [
              "-6*x**2 - 6*x"
            ],
            "text/latex": "$\\displaystyle - 6 x^{2} - 6 x$"
          },
          "metadata": {},
          "execution_count": 50
        }
      ]
    },
    {
      "cell_type": "code",
      "source": [
        "Derivative(fx, x)"
      ],
      "metadata": {
        "id": "spsju-ZrLffq",
        "outputId": "c261dda3-449c-4cb3-a350-cb23cda6d92a",
        "colab": {
          "base_uri": "https://localhost:8080/",
          "height": 79
        }
      },
      "execution_count": null,
      "outputs": [
        {
          "output_type": "execute_result",
          "data": {
            "text/plain": [
              "Derivative(-2*x**3 - 3*x**2 + 1, [-2.0, -1.97, -1.94, -1.91, -1.88, -1.85, -1.82, -1.79, -1.76, -1.73, -1.7, -1.67, -1.64, -1.61, -1.58, -1.55, -1.52, -1.49, -1.46, -1.43, -1.4, -1.37, -1.34, -1.31, -1.28, -1.25, -1.22, -1.19, -1.16, -1.13, -1.1, -1.07, -1.04, -1.01, -0.98, -0.95, -0.92, -0.89, -0.86, -0.83, -0.8, -0.77, -0.74, -0.71, -0.68, -0.65, -0.62, -0.59, -0.56, -0.53, -0.5, -0.47, -0.44, -0.41, -0.38, -0.35, -0.32, -0.29, -0.26, -0.23, -0.2, -0.17, -0.14, -0.11, -0.0800000000000001, -0.05, -0.02, 0.00999999999999979, 0.04, 0.0699999999999998, 0.1, 0.13, 0.16, 0.19, 0.22, 0.25, 0.28, 0.31, 0.34, 0.37, 0.4, 0.43, 0.46, 0.49, 0.52, 0.55, 0.58, 0.61, 0.64, 0.67, 0.7, 0.73, 0.76, 0.79, 0.82, 0.85, 0.88, 0.91, 0.94, 0.97, 1.0])"
            ],
            "text/latex": "$\\displaystyle \\frac{d}{d \\left[\\begin{array}{}-2.0 & -1.97 & -1.94 & -1.91 & -1.88 & -1.85 & -1.82 & -1.79 & -1.76 & -1.73 & -1.7 & -1.67 & -1.64 & -1.61 & -1.58 & -1.55 & -1.52 & -1.49 & -1.46 & -1.43 & -1.4 & -1.37 & -1.34 & -1.31 & -1.28 & -1.25 & -1.22 & -1.19 & -1.16 & -1.13 & -1.1 & -1.07 & -1.04 & -1.01 & -0.98 & -0.95 & -0.92 & -0.89 & -0.86 & -0.83 & -0.8 & -0.77 & -0.74 & -0.71 & -0.68 & -0.65 & -0.62 & -0.59 & -0.56 & -0.53 & -0.5 & -0.47 & -0.44 & -0.41 & -0.38 & -0.35 & -0.32 & -0.29 & -0.26 & -0.23 & -0.2 & -0.17 & -0.14 & -0.11 & -0.0800000000000001 & -0.05 & -0.02 & 0.00999999999999979 & 0.04 & 0.0699999999999998 & 0.1 & 0.13 & 0.16 & 0.19 & 0.22 & 0.25 & 0.28 & 0.31 & 0.34 & 0.37 & 0.4 & 0.43 & 0.46 & 0.49 & 0.52 & 0.55 & 0.58 & 0.61 & 0.64 & 0.67 & 0.7 & 0.73 & 0.76 & 0.79 & 0.82 & 0.85 & 0.88 & 0.91 & 0.94 & 0.97 & 1.0\\end{array}\\right]} \\left(- 2 x^{3} - 3 x^{2} + 1\\right)$"
          },
          "metadata": {},
          "execution_count": 54
        }
      ]
    },
    {
      "cell_type": "code",
      "source": [
        "x = np.linspace(-2, 1, 101)\n",
        "def f(x): return -2*x**3 -3*x**2 +1\n",
        "plt.plot(x, f(x))"
      ],
      "metadata": {
        "id": "ZX2Fx3ieK84E",
        "outputId": "361c65d2-d96e-4f74-8b15-4da0ce72a03f",
        "colab": {
          "base_uri": "https://localhost:8080/",
          "height": 448
        }
      },
      "execution_count": null,
      "outputs": [
        {
          "output_type": "execute_result",
          "data": {
            "text/plain": [
              "[<matplotlib.lines.Line2D at 0x7f83a6089750>]"
            ]
          },
          "metadata": {},
          "execution_count": 53
        },
        {
          "output_type": "display_data",
          "data": {
            "text/plain": [
              "<Figure size 640x480 with 1 Axes>"
            ],
            "image/png": "[encoded data removed]"
          },
          "metadata": {}
        }
      ]
    },
    {
      "cell_type": "code",
      "source": [
        "from sympy import solve\n",
        "solve(fprime_x, x)"
      ],
      "metadata": {
        "id": "aMg55LXxKye5",
        "outputId": "4aec0d25-ecde-476d-9b84-4057883150e5",
        "colab": {
          "base_uri": "https://localhost:8080/"
        }
      },
      "execution_count": null,
      "outputs": [
        {
          "output_type": "execute_result",
          "data": {
            "text/plain": [
              "[-1, 0]"
            ]
          },
          "metadata": {},
          "execution_count": 51
        }
      ]
    },
    {
      "cell_type": "markdown",
      "metadata": {
        "id": "Lyu5G8pCaujk"
      },
      "source": [
        "*   [SymPy ```solve()```](https://docs.sympy.org/latest/modules/solvers/solvers.html?highlight=solve#sympy.solvers.solvers.solve)\n",
        "\n"
      ]
    },
    {
      "cell_type": "markdown",
      "metadata": {
        "id": "Lr2yB3j28L9T"
      },
      "source": [
        "## 실습 2차시 과제\n",
        "\n",
        "*   제출 기한: 2023년 11월 9일 오후 15시 00분\n",
        "*   파일 > 다운로드 > .ipynb 파일로 다운로드하여 블랙보드에 제출\n",
        "*   스터디 그룹을 만들고 과제에 대하여 토론할 수 있으나, 코드는 각자 독립적으로 작성해야 하며, 과제 제출에 토론 참여자를 명시해야 합니다.\n"
      ]
    },
    {
      "cell_type": "markdown",
      "metadata": {
        "id": "8cY2LYZMaujk"
      },
      "source": [
        "### 1번\n",
        "\n",
        "Decision tree의 이진 분류 문제에서($k = 1, 2$), $\\hat{p}_{m1}$을 훈련 관측치가 클래스 1에 해당할 확률이라고 하자. 분류 오류율을 계산하는 측도로 Gini index, Entrophy가 주어졌다. 공식은 아래와 같다.\n",
        "\n",
        "$$(\\text{Gini index}) = \\Sigma_{k=1}^{K} \\hat{p}_{mk} (1 - \\hat{p}_{mk})$$\n",
        "\n",
        "$$(\\text{Entrophy}) = - \\Sigma_{k=1}^{K} \\hat{p}_{mk} \\log \\hat{p}_{mk}$$\n",
        "\n",
        "각각의 분류 측도를 $\\hat{p}_{m1}$에 대한 함수로 나타내어라. x 축은 0과 1 사이의 $\\hat{p}_{m1}$을 나타낸다. (힌트: $\\hat{p}_{m2} = 1 - \\hat{p}_{m1}$)"
      ]
    },
    {
      "cell_type": "markdown",
      "source": [
        "ML의 한 종류인 decision tree에 대해 손실 함수를 만들고, 그게 최소가 되는 방향으로 학습을 시켜야 한다. Gini index와 entrophy를 한 그래프 안에 그려보고 그 의미를 생각해볼 것.\n",
        "\n",
        "함수로 먼저 만들고, 그 함수를 plt.plot해서 그래프 그려볼 것.\n",
        "\n",
        "이진분류 문제라 class가 두 개 뿐이고, 시그마가 있지만 진위 Index라는 함수도 phat, m1, 그리고 k가 두번째인 경우밖에 없다...?\n",
        "\n",
        "힌트도 잘 생각해볼 것."
      ],
      "metadata": {
        "id": "ynaxkj7AMI8y"
      }
    },
    {
      "cell_type": "markdown",
      "metadata": {
        "id": "Zw0C0etjRzbH"
      },
      "source": [
        "### 2번\n",
        "\n",
        "하나의 일변수 함수 $f(x)$와 하나의 값을 입력받고, 해당 점에서의 연속 여부를 판단하는 프로그램을 설계하라. 아래 예시 실행 결과를 실제로 출력하여 프로그램의 작동 여부를 테스트해보시오.\n",
        "\n",
        "1. 해당 점에서 연속인 경우\n",
        "\n",
        "        Enter a function in one variable: 1/x\n",
        "        Enter the variable: x\n",
        "        Enter the point to check the continuity at: 1\n",
        "        1/x is continuous at 1\n",
        "\n",
        "2. 해당 점에서 연속이 아닌 경우\n",
        "\n",
        "        Enter a function in one variable: 1/x\n",
        "        Enter the variable: x\n",
        "        Enter the point to check the continuity at: 0\n",
        "        1/x is not continuous at 0"
      ]
    },
    {
      "cell_type": "markdown",
      "metadata": {
        "id": "NvS5oY4Xaujk"
      },
      "source": [
        "> sympify\n",
        "\n",
        "[sympy.sympify](https://www.geeksforgeeks.org/python-sympy-sympify-method/)\n",
        "\n",
        "사용자에게 텍스트로 input을 받을 텐데, 그걸 sympy의 함수로 변환해주는 거..?"
      ]
    },
    {
      "cell_type": "markdown",
      "metadata": {
        "id": "f8N3Ph7zaujk"
      },
      "source": [
        "### 3번\n",
        "\n",
        "자동차의 속력이 이동한 거리 S에 따라 균일하게 증가한다고 하자. 이때, $S(t) = 5t^2 + 2t + 8$ 이다. 특정한 시간 $t_1$ 에서의 순간 변화율은 어떻게 되는가? (힌트: $t_1$에서의 순간변화율은 $\\underset{\\rm \\delta_t \\to 0}{\\rm lim} \\frac{S(t_1 + \\delta_t) - S(t_1)}{\\delta_t}$)\n",
        "\n",
        "[1] sympy Limit를 이용하여 구하라. (힌트: `t1`과 `delta_t`를 각각 `Symbol`로 지정)"
      ]
    },
    {
      "cell_type": "markdown",
      "metadata": {
        "id": "8X-xOZuLaujk"
      },
      "source": [
        "[2] sympy Derivative를 이용하여 구하고, [1]의 결과와 비교하라."
      ]
    },
    {
      "cell_type": "markdown",
      "metadata": {
        "id": "8PyUG29Eaujk"
      },
      "source": [
        "### 4번\n",
        "\n",
        "다음 함수의 이계도함수를 구하시오.\n",
        "\n",
        "$$g(x)=\\sin x + e^x$$"
      ]
    },
    {
      "cell_type": "markdown",
      "source": [
        "그냥 derivative를 두번 사용하시면 되겠죵. derivative의 결과를 simpy에 다시 넣으면 됨 ㅇㅇ."
      ],
      "metadata": {
        "id": "R6BYOVDNNsna"
      }
    },
    {
      "cell_type": "markdown",
      "metadata": {
        "id": "Q1i3-7w18OhL"
      },
      "source": [
        "### 5번\n",
        "\n",
        "뉴턴의 방법을 이용하여 다음의 방정식의 근의 근사값을 구하는 코드를 작성하고, 코드의 결과를 sympy의 `nsolve` 함수의 결과와 비교하시오.\n",
        "\n",
        "$$cos(x) = x^3$$\n",
        "\n"
      ]
    },
    {
      "cell_type": "markdown",
      "source": [
        "iteration을 무한대로 돌게 만들지 말고 뭐 한 1000번 돌게 하던가, 아니면 오차가 거의 없는 수준에서 멈추도록 만들거나 해봐라아. nsolve로도 한번 풀어봐라아. 함수랑 도함수 한번씩 그려보고, 위키에 좋은 설명 있으니까 한번 찾아봐라아."
      ],
      "metadata": {
        "id": "BrS7urGtNd9a"
      }
    }
  ],
  "metadata": {
    "colab": {
      "provenance": [],
      "include_colab_link": true
    },
    "kernelspec": {
      "display_name": "Python 3",
      "name": "python3"
    },
    "language_info": {
      "codemirror_mode": {
        "name": "ipython",
        "version": 3
      },
      "file_extension": ".py",
      "mimetype": "text/x-python",
      "name": "python",
      "nbconvert_exporter": "python",
      "pygments_lexer": "ipython3",
      "version": "3.10.12"
    }
  },
  "nbformat": 4,
  "nbformat_minor": 0
}
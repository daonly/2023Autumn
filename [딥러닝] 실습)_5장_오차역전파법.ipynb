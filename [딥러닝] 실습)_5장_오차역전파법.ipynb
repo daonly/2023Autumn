{
  "cells": [
    {
      "cell_type": "markdown",
      "metadata": {
        "id": "view-in-github",
        "colab_type": "text"
      },
      "source": [
        "<a href=\"https://colab.research.google.com/github/daonly/2023Autumn/blob/main/%5B%EB%94%A5%EB%9F%AC%EB%8B%9D%5D%20%E1%84%89%E1%85%B5%E1%86%AF%E1%84%89%E1%85%B3%E1%86%B8)_5%E1%84%8C%E1%85%A1%E1%86%BC_%E1%84%8B%E1%85%A9%E1%84%8E%E1%85%A1%E1%84%8B%E1%85%A7%E1%86%A8%E1%84%8C%E1%85%A5%E1%86%AB%E1%84%91%E1%85%A1%E1%84%87%E1%85%A5%E1%86%B8.ipynb\" target=\"_parent\"><img src=\"https://colab.research.google.com/assets/colab-badge.svg\" alt=\"Open In Colab\"/></a>"
      ]
    },
    {
      "cell_type": "markdown",
      "id": "e23aed3e",
      "metadata": {
        "id": "e23aed3e"
      },
      "source": [
        "## 단순한 계층 구현하기"
      ]
    },
    {
      "cell_type": "markdown",
      "id": "3eeaa73d",
      "metadata": {
        "id": "3eeaa73d"
      },
      "source": [
        "### 곱셈 계층"
      ]
    },
    {
      "cell_type": "code",
      "execution_count": 5,
      "id": "3e227c4f",
      "metadata": {
        "ExecuteTime": {
          "end_time": "2023-09-22T08:07:50.251786Z",
          "start_time": "2023-09-22T08:07:50.237833Z"
        },
        "id": "3e227c4f"
      },
      "outputs": [],
      "source": [
        "class MulLayer:\n",
        "    def __init__(self):   # 일단 빈 걸로 정의해주기\n",
        "        self.x = None\n",
        "        self.y = None\n",
        "\n",
        "    def forward(self, x, y):   # 이 class에 x와 y를 집어넣으면 곱을 리턴해줌\n",
        "        self.x = x\n",
        "        self.y = y\n",
        "        out = x * y\n",
        "\n",
        "        return out\n",
        "\n",
        "    def backward(self, dout):   # back propagation\n",
        "        dx = dout * self.y  # x와 y를 바꾼다.\n",
        "        dy = dout * self.x\n",
        "\n",
        "        return dx, dy"
      ]
    },
    {
      "cell_type": "code",
      "execution_count": 7,
      "id": "bb92ef9f",
      "metadata": {
        "ExecuteTime": {
          "end_time": "2023-09-22T08:07:50.267733Z",
          "start_time": "2023-09-22T08:07:50.252783Z"
        },
        "colab": {
          "base_uri": "https://localhost:8080/"
        },
        "id": "bb92ef9f",
        "outputId": "ebc153eb-b6d7-4296-dc1b-ad8146a34fe2"
      },
      "outputs": [
        {
          "output_type": "stream",
          "name": "stdout",
          "text": [
            "220.00000000000003\n",
            "2.2 110.00000000000001 200\n"
          ]
        }
      ],
      "source": [
        "#개념적으로 하면 뭐 이렇게 진행된다는 거지 실제로 이렇게 쓰이진 않음\n",
        "\n",
        "apple = 100\n",
        "apple_num = 2\n",
        "tax = 1.1\n",
        "\n",
        "# 계층들\n",
        "mul_apple_layer = MulLayer()\n",
        "mul_tax_layer = MulLayer()\n",
        "\n",
        "# 순전파\n",
        "apple_price = mul_apple_layer.forward(apple,apple_num)  #개수와 가격을 넣었고\n",
        "price = mul_tax_layer.forward(apple_price,tax)   #세금을 덧붙이는 게지\n",
        "\n",
        "print(price) # 220\n",
        "\n",
        "# 역전파\n",
        "dprice = 1\n",
        "dapple_price, dtax = mul_tax_layer.backward(dprice)\n",
        "dapple, dapple_num = mul_apple_layer.backward(dapple_price)\n",
        "\n",
        "print(dapple, dapple_num, dtax) # 2.2 110 200"
      ]
    },
    {
      "cell_type": "markdown",
      "id": "b8e6b2c4",
      "metadata": {
        "id": "b8e6b2c4"
      },
      "source": [
        "### 덧셈 계층"
      ]
    },
    {
      "cell_type": "code",
      "execution_count": 3,
      "id": "7cde8e4e",
      "metadata": {
        "ExecuteTime": {
          "end_time": "2023-09-22T08:07:50.283679Z",
          "start_time": "2023-09-22T08:07:50.268730Z"
        },
        "id": "7cde8e4e"
      },
      "outputs": [],
      "source": [
        "class AddLayer:\n",
        "    def __init__(self):\n",
        "        pass\n",
        "\n",
        "    def forward(self, x, y):\n",
        "        out = x + y\n",
        "\n",
        "        return out\n",
        "\n",
        "    def backward(self, dout):\n",
        "        dx = dout * 1\n",
        "        dy = dout * 1\n",
        "\n",
        "        return dx, dy"
      ]
    },
    {
      "cell_type": "code",
      "execution_count": 4,
      "id": "dc9b5e00",
      "metadata": {
        "ExecuteTime": {
          "end_time": "2023-09-22T08:07:50.299626Z",
          "start_time": "2023-09-22T08:07:50.283679Z"
        },
        "colab": {
          "base_uri": "https://localhost:8080/"
        },
        "id": "dc9b5e00",
        "outputId": "ebfa203c-8aa4-4ae4-a441-00c53d591d0e"
      },
      "outputs": [
        {
          "output_type": "stream",
          "name": "stdout",
          "text": [
            "price: 715\n",
            "dApple: 2.2\n",
            "dApple_num: 110\n",
            "dOrange: 3.3000000000000003\n",
            "dOrange_num: 165\n",
            "dTax: 650\n"
          ]
        }
      ],
      "source": [
        "apple = 100\n",
        "apple_num = 2\n",
        "orange = 150\n",
        "orange_num = 3\n",
        "tax = 1.1\n",
        "\n",
        "# layer\n",
        "mul_apple_layer = MulLayer()\n",
        "mul_orange_layer = MulLayer()\n",
        "add_apple_orange_layer = AddLayer()\n",
        "mul_tax_layer = MulLayer()\n",
        "\n",
        "# forward\n",
        "apple_price = mul_apple_layer.forward(apple, apple_num)  # (1)\n",
        "orange_price = mul_orange_layer.forward(orange, orange_num)  # (2)\n",
        "all_price = add_apple_orange_layer.forward(apple_price, orange_price)  # (3)\n",
        "price = mul_tax_layer.forward(all_price, tax)  # (4)\n",
        "\n",
        "# backward\n",
        "dprice = 1\n",
        "dall_price, dtax = mul_tax_layer.backward(dprice)  # (4)\n",
        "dapple_price, dorange_price = add_apple_orange_layer.backward(dall_price)  # (3)\n",
        "dorange, dorange_num = mul_orange_layer.backward(dorange_price)  # (2)\n",
        "dapple, dapple_num = mul_apple_layer.backward(dapple_price)  # (1)\n",
        "\n",
        "print(\"price:\", int(price))\n",
        "print(\"dApple:\", dapple)\n",
        "print(\"dApple_num:\", int(dapple_num))\n",
        "print(\"dOrange:\", dorange)\n",
        "print(\"dOrange_num:\", int(dorange_num))\n",
        "print(\"dTax:\", dtax)"
      ]
    },
    {
      "cell_type": "markdown",
      "id": "7a940527",
      "metadata": {
        "id": "7a940527"
      },
      "source": [
        "## 활성화 함수 계층 구현하기"
      ]
    },
    {
      "cell_type": "markdown",
      "id": "f89ec103",
      "metadata": {
        "id": "f89ec103"
      },
      "source": [
        "### ReLU 계층"
      ]
    },
    {
      "cell_type": "code",
      "execution_count": 8,
      "id": "abdf4baa",
      "metadata": {
        "ExecuteTime": {
          "end_time": "2023-09-22T08:07:50.315572Z",
          "start_time": "2023-09-22T08:07:50.300622Z"
        },
        "id": "abdf4baa"
      },
      "outputs": [],
      "source": [
        "class Relu:\n",
        "    def __init__(self):\n",
        "        self.mask = None\n",
        "\n",
        "    def forward(self, x):\n",
        "        self.mask = (x <= 0)   # T / F로 변환\n",
        "        out = x.copy()   # copy를 해둬야 x값이 계속 안 바뀐다아\n",
        "        out[self.mask] = 0   # mask가 true면 0으로 바꿔줘라아ㅏ\n",
        "\n",
        "        return out\n",
        "\n",
        "    def backward(self, dout):\n",
        "        dout[self.mask] = 0\n",
        "        dx = dout\n",
        "\n",
        "        return dx"
      ]
    },
    {
      "cell_type": "code",
      "execution_count": 9,
      "id": "2c551e48",
      "metadata": {
        "ExecuteTime": {
          "end_time": "2023-09-22T08:07:50.379359Z",
          "start_time": "2023-09-22T08:07:50.316569Z"
        },
        "colab": {
          "base_uri": "https://localhost:8080/"
        },
        "id": "2c551e48",
        "outputId": "5ed05e05-1233-4e2b-b9b0-2bada14d0a7f"
      },
      "outputs": [
        {
          "output_type": "stream",
          "name": "stdout",
          "text": [
            "[[ 1.  -0.5]\n",
            " [-2.   3. ]]\n",
            "[[False  True]\n",
            " [ True False]]\n"
          ]
        }
      ],
      "source": [
        "import numpy as np\n",
        "x = np.array([[1.0, -0.5], [-2.0, 3.0]])\n",
        "print(x)\n",
        "\n",
        "mask = (x <= 0)\n",
        "print(mask)"
      ]
    },
    {
      "cell_type": "markdown",
      "id": "4f8be1b4",
      "metadata": {
        "id": "4f8be1b4"
      },
      "source": [
        "### Sigmoid 계층"
      ]
    },
    {
      "cell_type": "code",
      "execution_count": null,
      "id": "2a69774b",
      "metadata": {
        "ExecuteTime": {
          "end_time": "2023-09-22T08:07:50.395306Z",
          "start_time": "2023-09-22T08:07:50.380356Z"
        },
        "id": "2a69774b"
      },
      "outputs": [],
      "source": [
        "class Sigmoid:\n",
        "    def __init__(self):\n",
        "        self.out = None\n",
        "\n",
        "    def forward(self, x):\n",
        "        out = sigmoid(x) # 순전파의 출력을 out에 보관한 후 역전파 계산 때 그 값을 사용\n",
        "        self.out = out\n",
        "        return out\n",
        "\n",
        "    def backward(self, dout):\n",
        "        dx = dout * (1.0 - self.out) * self.out\n",
        "\n",
        "        return dx"
      ]
    },
    {
      "cell_type": "markdown",
      "id": "ac0db4f1",
      "metadata": {
        "id": "ac0db4f1"
      },
      "source": [
        "## Affine/Softmax 계층 구현하기"
      ]
    },
    {
      "cell_type": "markdown",
      "id": "503cdbc4",
      "metadata": {
        "id": "503cdbc4"
      },
      "source": [
        "### Affine 계층"
      ]
    },
    {
      "cell_type": "code",
      "execution_count": 11,
      "id": "9f80765e",
      "metadata": {
        "ExecuteTime": {
          "end_time": "2023-09-22T08:07:50.411252Z",
          "start_time": "2023-09-22T08:07:50.396302Z"
        },
        "colab": {
          "base_uri": "https://localhost:8080/"
        },
        "id": "9f80765e",
        "outputId": "91c02b7a-0774-4df9-ac96-eab9a10cce9f"
      },
      "outputs": [
        {
          "output_type": "stream",
          "name": "stdout",
          "text": [
            "(2,)\n",
            "(2, 3)\n",
            "(3,)\n"
          ]
        }
      ],
      "source": [
        "# 내적을 하는 과정이다~\n",
        "\n",
        "X = np.random.rand(2) # 입력\n",
        "W = np.random.rand(2,3) # 가중치\n",
        "B = np.random.rand(3) # 편향\n",
        "\n",
        "print(X.shape)\n",
        "print(W.shape)\n",
        "print(B.shape)\n",
        "\n",
        "Y = np.dot(X, W) + B"
      ]
    },
    {
      "cell_type": "markdown",
      "id": "3128a505",
      "metadata": {
        "id": "3128a505"
      },
      "source": [
        "### 배치용 Affine 계층"
      ]
    },
    {
      "cell_type": "code",
      "execution_count": 12,
      "id": "e1ae94c5",
      "metadata": {
        "ExecuteTime": {
          "end_time": "2023-09-22T08:07:50.426202Z",
          "start_time": "2023-09-22T08:07:50.413245Z"
        },
        "colab": {
          "base_uri": "https://localhost:8080/"
        },
        "id": "e1ae94c5",
        "outputId": "773b5d0f-4579-42c5-ada8-3904bce35ec9"
      },
      "outputs": [
        {
          "output_type": "stream",
          "name": "stdout",
          "text": [
            "[[ 0  0  0]\n",
            " [10 10 10]]\n",
            "[[ 1  2  3]\n",
            " [11 12 13]]\n"
          ]
        }
      ],
      "source": [
        "# 순전파 때의 편향 덧셈\n",
        "X_dot_W = np.array([[0,0,0], [10,10,10]])\n",
        "B = np.array([1,2,3])\n",
        "\n",
        "print(X_dot_W)\n",
        "print(X_dot_W + B)   #bias 크기를 일일이 맞춰줄 필요 없이, 한 단위를 쓰면 그 값을 더해줄 수 있...다...?"
      ]
    },
    {
      "cell_type": "code",
      "execution_count": 13,
      "id": "427586ec",
      "metadata": {
        "ExecuteTime": {
          "end_time": "2023-09-22T08:07:50.441152Z",
          "start_time": "2023-09-22T08:07:50.426202Z"
        },
        "colab": {
          "base_uri": "https://localhost:8080/"
        },
        "id": "427586ec",
        "outputId": "b7b5b2f4-846f-4e16-d7a3-6cb5809a7d03"
      },
      "outputs": [
        {
          "output_type": "stream",
          "name": "stdout",
          "text": [
            "[[1 2 3]\n",
            " [4 5 6]]\n",
            "[5 7 9]\n"
          ]
        }
      ],
      "source": [
        "# 역전파 때의 편향 덧셈\n",
        "dY = np.array([[1,2,3],[4,5,6]])\n",
        "print(dY)\n",
        "\n",
        "dB = np.sum(dY, axis=0)\n",
        "print(dB)"
      ]
    },
    {
      "cell_type": "code",
      "execution_count": 14,
      "id": "e1e64456",
      "metadata": {
        "ExecuteTime": {
          "end_time": "2023-09-22T08:07:50.457098Z",
          "start_time": "2023-09-22T08:07:50.442149Z"
        },
        "id": "e1e64456"
      },
      "outputs": [],
      "source": [
        "class Affine:\n",
        "    def __init__(self, W, b):\n",
        "        self.W = W\n",
        "        self.b = b\n",
        "\n",
        "        self.x = None\n",
        "        self.original_x_shape = None\n",
        "        # 가중치와 편향 매개변수의 미분\n",
        "        self.dW = None\n",
        "        self.db = None\n",
        "\n",
        "    def forward(self, x):\n",
        "        # 텐서 대응\n",
        "        self.original_x_shape = x.shape\n",
        "        x = x.reshape(x.shape[0], -1)\n",
        "        self.x = x\n",
        "\n",
        "        out = np.dot(self.x, self.W) + self.b\n",
        "\n",
        "        return out\n",
        "\n",
        "    def backward(self, dout):\n",
        "        dx = np.dot(dout, self.W.T)\n",
        "        self.dW = np.dot(self.x.T, dout)\n",
        "        self.db = np.sum(dout, axis=0)\n",
        "\n",
        "        dx = dx.reshape(*self.original_x_shape)  # 입력 데이터 모양 변경(텐서 대응)\n",
        "        return dx"
      ]
    },
    {
      "cell_type": "markdown",
      "id": "9a2d8800",
      "metadata": {
        "id": "9a2d8800"
      },
      "source": [
        "### Softmax-with-Loss 계층"
      ]
    },
    {
      "cell_type": "code",
      "execution_count": 15,
      "id": "dccb3ea2",
      "metadata": {
        "ExecuteTime": {
          "end_time": "2023-09-22T08:07:50.473045Z",
          "start_time": "2023-09-22T08:07:50.458095Z"
        },
        "id": "dccb3ea2"
      },
      "outputs": [],
      "source": [
        "class SoftmaxWithLoss:\n",
        "    def __init__(self):\n",
        "        self.loss = None # 손실함수\n",
        "        self.y = None    # softmax의 출력\n",
        "        self.t = None    # 정답 레이블(원-핫 인코딩 형태)\n",
        "\n",
        "    def forward(self, x, t):\n",
        "        self.t = t\n",
        "        self.y = softmax(x)\n",
        "        self.loss = cross_entropy_error(self.y, self.t)  # sf를 거친 값과 target 간의 차이를 구하는 과정\n",
        "\n",
        "        return self.loss\n",
        "\n",
        "    def backward(self, dout=1):\n",
        "        batch_size = self.t.shape[0]  # 둘의 크기가 같다면\n",
        "        if self.t.size == self.y.size: # 정답 레이블이 원-핫 인코딩 형태일 때\n",
        "            dx = (self.y - self.t) / batch_size\n",
        "        else:\n",
        "            dx = self.y.copy()   # 둘의 크기가 다르다면\n",
        "            dx[np.arange(batch_size), self.t] -= 1\n",
        "            dx = dx / batch_size\n",
        "\n",
        "        return dx"
      ]
    },
    {
      "cell_type": "markdown",
      "id": "0ac93f50",
      "metadata": {
        "id": "0ac93f50"
      },
      "source": [
        "## 오차역전파법 구현하기"
      ]
    },
    {
      "cell_type": "code",
      "source": [
        "from google.colab import drive\n",
        "drive.mount('/content/drive')"
      ],
      "metadata": {
        "colab": {
          "base_uri": "https://localhost:8080/"
        },
        "id": "tpjcuxbYGhtV",
        "outputId": "d407b3c7-6527-409c-eb4a-723c9678c290"
      },
      "id": "tpjcuxbYGhtV",
      "execution_count": 21,
      "outputs": [
        {
          "output_type": "stream",
          "name": "stdout",
          "text": [
            "Drive already mounted at /content/drive; to attempt to forcibly remount, call drive.mount(\"/content/drive\", force_remount=True).\n"
          ]
        }
      ]
    },
    {
      "cell_type": "code",
      "source": [
        "# folder = '딥러닝의원리와응용'\n",
        "folder = ''"
      ],
      "metadata": {
        "id": "EO5uldaqGgrf"
      },
      "id": "EO5uldaqGgrf",
      "execution_count": 22,
      "outputs": []
    },
    {
      "cell_type": "markdown",
      "id": "a37b58b2",
      "metadata": {
        "id": "a37b58b2"
      },
      "source": [
        "### 오차역전파법을 적용한 신경망 구현하기"
      ]
    },
    {
      "cell_type": "code",
      "execution_count": 23,
      "id": "25d21ed3",
      "metadata": {
        "ExecuteTime": {
          "end_time": "2023-09-22T08:07:50.551781Z",
          "start_time": "2023-09-22T08:07:50.474042Z"
        },
        "id": "25d21ed3"
      },
      "outputs": [],
      "source": [
        "import sys, os\n",
        "sys.path.append(f'/content/drive/MyDrive/{folder}')\n",
        "# sys.path.append(os.pardir)  # 부모 디렉터리의 파일을 가져올 수 있도록 설정\n",
        "import numpy as np\n",
        "from common.layers import *\n",
        "from common.gradient import numerical_gradient\n",
        "from collections import OrderedDict\n",
        "\n",
        "\n",
        "class TwoLayerNet:\n",
        "\n",
        "    def __init__(self, input_size, hidden_size, output_size, weight_init_std = 0.01):\n",
        "        # 가중치 초기화. i.e. 파라미터를 저장할 공간을 할당해주는 것.\n",
        "        self.params = {}\n",
        "        self.params['W1'] = weight_init_std * np.random.randn(input_size, hidden_size)\n",
        "        self.params['b1'] = np.zeros(hidden_size)\n",
        "        self.params['W2'] = weight_init_std * np.random.randn(hidden_size, output_size)\n",
        "        self.params['b2'] = np.zeros(output_size)\n",
        "\n",
        "        # 계층 생성\n",
        "        self.layers = OrderedDict()  # 이 안에 forward 함수가 알아서 내장되어 있을 것.\n",
        "        self.layers['Affine1'] = Affine(self.params['W1'], self.params['b1'])\n",
        "        self.layers['Relu1'] = Relu()  # 음수 값들을 다 0으로 정리\n",
        "        self.layers['Affine2'] = Affine(self.params['W2'], self.params['b2'])\n",
        "\n",
        "        self.lastLayer = SoftmaxWithLoss()   # 값들을 0-9로 매핑해두고, 그걸 정답이랑 비교.\n",
        "\n",
        "    def predict(self, x):\n",
        "        for layer in self.layers.values():\n",
        "            x = layer.forward(x)\n",
        "\n",
        "        return x\n",
        "\n",
        "    # x : 입력 데이터, t : 정답 레이블\n",
        "    def loss(self, x, t):\n",
        "        y = self.predict(x)\n",
        "        return self.lastLayer.forward(y, t)  # Affine2까지 돌리고 나온 Y라는 결과에 sf를 적용한 후, 실제 정답과 cross-entropy를 하는 과정.\n",
        "\n",
        "    def accuracy(self, x, t):\n",
        "        y = self.predict(x)\n",
        "        y = np.argmax(y, axis=1)   # 어떤 값이 제일 큰지 보고, 그 값에만 1을 할당.\n",
        "        if t.ndim != 1 : t = np.argmax(t, axis=1)   # 정답 레이블의 크기가 안 맞는 경우의 오류 방지\n",
        "\n",
        "        accuracy = np.sum(y == t) / float(x.shape[0])  # batch size로 나눠달라\n",
        "        return accuracy\n",
        "\n",
        "    # x : 입력 데이터, t : 정답 레이블\n",
        "    def numerical_gradient(self, x, t):  # 실질적으로 grident 과정을 진행하는 단계\n",
        "        loss_W = lambda W: self.loss(x, t)\n",
        "\n",
        "        grads = {}\n",
        "        grads['W1'] = numerical_gradient(loss_W, self.params['W1'])\n",
        "        grads['b1'] = numerical_gradient(loss_W, self.params['b1'])\n",
        "        grads['W2'] = numerical_gradient(loss_W, self.params['W2'])\n",
        "        grads['b2'] = numerical_gradient(loss_W, self.params['b2'])\n",
        "\n",
        "        return grads\n",
        "\n",
        "    def gradient(self, x, t):\n",
        "        # forward\n",
        "        self.loss(x, t)\n",
        "\n",
        "        # backward의 값을 1에서 업데이트하는 과정\n",
        "        dout = 1\n",
        "        dout = self.lastLayer.backward(dout)\n",
        "\n",
        "        layers = list(self.layers.values())\n",
        "        layers.reverse()   # 앞뒤를 반전시키고, 거기서 순차적으로 꺼내기\n",
        "        for layer in layers:\n",
        "            dout = layer.backward(dout)\n",
        "\n",
        "        # 결과 저장\n",
        "        grads = {}\n",
        "        grads['W1'], grads['b1'] = self.layers['Affine1'].dW, self.layers['Affine1'].db\n",
        "        grads['W2'], grads['b2'] = self.layers['Affine2'].dW, self.layers['Affine2'].db\n",
        "\n",
        "        return grads"
      ]
    },
    {
      "cell_type": "markdown",
      "id": "f26c0f4c",
      "metadata": {
        "id": "f26c0f4c"
      },
      "source": [
        "### 오차역전파법으로 구한 기울기 검증하기"
      ]
    },
    {
      "cell_type": "code",
      "execution_count": 24,
      "id": "7daef889",
      "metadata": {
        "ExecuteTime": {
          "end_time": "2023-09-22T08:07:50.553775Z",
          "start_time": "2023-09-22T08:07:50.553775Z"
        },
        "colab": {
          "base_uri": "https://localhost:8080/"
        },
        "id": "7daef889",
        "outputId": "a63cec0f-ac53-435f-c831-b1986b0e6a03"
      },
      "outputs": [
        {
          "output_type": "stream",
          "name": "stdout",
          "text": [
            "W1:5.447634715812627e-10\n",
            "b1:3.2076802466778598e-09\n",
            "W2:7.443079301985839e-09\n",
            "b2:1.395841346521487e-07\n"
          ]
        }
      ],
      "source": [
        "import sys, os\n",
        "sys.path.append(f'/content/drive/MyDrive/{folder}')\n",
        "# sys.path.append(os.pardir)  # 부모 디렉터리의 파일을 가져올 수 있도록 설정\n",
        "import numpy as np\n",
        "from dataset.mnist import load_mnist\n",
        "\n",
        "# 데이터 읽기\n",
        "(x_train, t_train), (x_test, t_test) = load_mnist(normalize=True, one_hot_label=True)\n",
        "\n",
        "network = TwoLayerNet(input_size=784, hidden_size=50, output_size=10)   #ouput size는 실제 label 크기와 맞춰줘야 함.\n",
        "\n",
        "x_batch = x_train[:3]\n",
        "t_batch = t_train[:3]\n",
        "\n",
        "grad_numerical = network.numerical_gradient(x_batch, t_batch)\n",
        "grad_backprop = network.gradient(x_batch, t_batch)\n",
        "\n",
        "# 각 가중치의 절대 오차의 평균을 구한다.\n",
        "for key in grad_numerical.keys():\n",
        "    diff = np.average( np.abs(grad_backprop[key] - grad_numerical[key]) )\n",
        "    print(key + \":\" + str(diff))"
      ]
    },
    {
      "cell_type": "markdown",
      "id": "530253bd",
      "metadata": {
        "id": "530253bd"
      },
      "source": [
        "### 오차역전파법을 사용한 학습 구현하기"
      ]
    },
    {
      "cell_type": "code",
      "execution_count": 25,
      "id": "76fd77c1",
      "metadata": {
        "ExecuteTime": {
          "end_time": "2023-09-22T08:07:50.554772Z",
          "start_time": "2023-09-22T08:07:50.554772Z"
        },
        "colab": {
          "base_uri": "https://localhost:8080/"
        },
        "id": "76fd77c1",
        "outputId": "dfb8e6de-1943-421b-a5c3-6725c99a5e2f"
      },
      "outputs": [
        {
          "output_type": "stream",
          "name": "stdout",
          "text": [
            "0.16988333333333333 0.1752\n",
            "0.9014 0.9044\n",
            "0.9213 0.9226\n",
            "0.9338 0.9349\n",
            "0.9441166666666667 0.9438\n",
            "0.9498333333333333 0.9496\n",
            "0.9549833333333333 0.9527\n",
            "0.9604166666666667 0.9567\n",
            "0.9630833333333333 0.959\n",
            "0.9635333333333334 0.9603\n",
            "0.9687 0.9634\n",
            "0.97105 0.9646\n",
            "0.9721666666666666 0.9647\n",
            "0.9735833333333334 0.9664\n",
            "0.9751833333333333 0.967\n",
            "0.9755333333333334 0.9692\n",
            "0.9781 0.9704\n"
          ]
        }
      ],
      "source": [
        "import sys, os\n",
        "sys.path.append(os.pardir)\n",
        "\n",
        "import numpy as np\n",
        "from dataset.mnist import load_mnist\n",
        "\n",
        "# 데이터 읽기\n",
        "(x_train, t_train), (x_test, t_test) = load_mnist(normalize=True, one_hot_label=True)\n",
        "\n",
        "network = TwoLayerNet(input_size=784, hidden_size=50, output_size=10)\n",
        "\n",
        "iters_num = 10000\n",
        "train_size = x_train.shape[0]\n",
        "batch_size = 100\n",
        "learning_rate = 0.1\n",
        "\n",
        "train_loss_list = []\n",
        "train_acc_list = []\n",
        "test_acc_list = []\n",
        "\n",
        "iter_per_epoch = max(train_size / batch_size, 1)\n",
        "\n",
        "for i in range(iters_num):\n",
        "    batch_mask = np.random.choice(train_size, batch_size)   # 사용할 데이터를 랜덤하게 선택\n",
        "    x_batch = x_train[batch_mask]\n",
        "    t_batch = t_train[batch_mask]\n",
        "\n",
        "    # 기울기 계산\n",
        "    #grad = network.numerical_gradient(x_batch, t_batch) # 수치 미분 방식\n",
        "    grad = network.gradient(x_batch, t_batch) # 오차역전파법 방식(훨씬 빠르다)\n",
        "\n",
        "    # 갱신 (i.e. 업데이트)\n",
        "    for key in ('W1', 'b1', 'W2', 'b2'):\n",
        "        network.params[key] -= learning_rate * grad[key]\n",
        "\n",
        "    loss = network.loss(x_batch, t_batch)\n",
        "    train_loss_list.append(loss)\n",
        "\n",
        "    if i % iter_per_epoch == 0:\n",
        "        train_acc = network.accuracy(x_train, t_train)\n",
        "        test_acc = network.accuracy(x_test, t_test)\n",
        "        train_acc_list.append(train_acc)\n",
        "        test_acc_list.append(test_acc)\n",
        "        print(train_acc, test_acc)"
      ]
    }
  ],
  "metadata": {
    "kernelspec": {
      "display_name": "Python 3 (ipykernel)",
      "language": "python",
      "name": "python3"
    },
    "language_info": {
      "codemirror_mode": {
        "name": "ipython",
        "version": 3
      },
      "file_extension": ".py",
      "mimetype": "text/x-python",
      "name": "python",
      "nbconvert_exporter": "python",
      "pygments_lexer": "ipython3",
      "version": "3.9.13"
    },
    "toc": {
      "base_numbering": 1,
      "nav_menu": {},
      "number_sections": true,
      "sideBar": true,
      "skip_h1_title": false,
      "title_cell": "Table of Contents",
      "title_sidebar": "Contents",
      "toc_cell": false,
      "toc_position": {
        "height": "calc(100% - 180px)",
        "left": "10px",
        "top": "150px",
        "width": "308.984px"
      },
      "toc_section_display": true,
      "toc_window_display": true
    },
    "varInspector": {
      "cols": {
        "lenName": 16,
        "lenType": 16,
        "lenVar": 40
      },
      "kernels_config": {
        "python": {
          "delete_cmd_postfix": "",
          "delete_cmd_prefix": "del ",
          "library": "var_list.py",
          "varRefreshCmd": "print(var_dic_list())"
        },
        "r": {
          "delete_cmd_postfix": ") ",
          "delete_cmd_prefix": "rm(",
          "library": "var_list.r",
          "varRefreshCmd": "cat(var_dic_list()) "
        }
      },
      "types_to_exclude": [
        "module",
        "function",
        "builtin_function_or_method",
        "instance",
        "_Feature"
      ],
      "window_display": false
    },
    "colab": {
      "provenance": [],
      "include_colab_link": true
    }
  },
  "nbformat": 4,
  "nbformat_minor": 5
}
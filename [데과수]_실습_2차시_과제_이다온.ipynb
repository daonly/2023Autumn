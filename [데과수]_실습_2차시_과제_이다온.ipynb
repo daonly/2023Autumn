{
  "nbformat": 4,
  "nbformat_minor": 0,
  "metadata": {
    "colab": {
      "provenance": [],
      "authorship_tag": "ABX9TyOkZxHDEqZXLqHYxdw/C8SU",
      "include_colab_link": true
    },
    "kernelspec": {
      "name": "python3",
      "display_name": "Python 3"
    },
    "language_info": {
      "name": "python"
    }
  },
  "cells": [
    {
      "cell_type": "markdown",
      "metadata": {
        "id": "view-in-github",
        "colab_type": "text"
      },
      "source": [
        "<a href=\"https://colab.research.google.com/github/daonly/2023Autumn/blob/main/%5B%EB%8D%B0%EA%B3%BC%EC%88%98%5D_%EC%8B%A4%EC%8A%B5_2%EC%B0%A8%EC%8B%9C_%EA%B3%BC%EC%A0%9C_%EC%9D%B4%EB%8B%A4%EC%98%A8.ipynb\" target=\"_parent\"><img src=\"https://colab.research.google.com/assets/colab-badge.svg\" alt=\"Open In Colab\"/></a>"
      ]
    },
    {
      "cell_type": "markdown",
      "source": [
        "# **23학년도 2학기 데이터과학을위한수학과프로그래밍 실습 2차시 과제**\n",
        "\n",
        "### 일반대학원 심리학과 2022021241 이다온\n",
        "\n",
        "Created by Daon Lee(daonlyforus@gmail.com) on 10.31.2023"
      ],
      "metadata": {
        "id": "vLriKe_7eRHn"
      }
    },
    {
      "cell_type": "markdown",
      "source": [
        "### 1번\n",
        "\n",
        "Decision tree의 이진 분류 문제에서($k = 1, 2$), $\\hat{p}_{m1}$을 훈련 관측치가 클래스 1에 해당할 확률이라고 하자. 분류 오류율을 계산하는 측도로 Gini index, Entrophy가 주어졌다. 공식은 아래와 같다.\n",
        "\n",
        "$$(\\text{Gini index}) = \\Sigma_{k=1}^{K} \\hat{p}_{mk} (1 - \\hat{p}_{mk})$$\n",
        "\n",
        "$$(\\text{Entrophy}) = - \\Sigma_{k=1}^{K} \\hat{p}_{mk} \\log \\hat{p}_{mk}$$\n",
        "\n",
        "각각의 분류 측도를 $\\hat{p}_{m1}$에 대한 함수로 나타내어라. x 축은 0과 1 사이의 $\\hat{p}_{m1}$을 나타낸다. (힌트: $\\hat{p}_{m2} = 1 - \\hat{p}_{m1}$)"
      ],
      "metadata": {
        "id": "ibGRThdJfWmA"
      }
    },
    {
      "cell_type": "code",
      "source": [
        "import numpy as np\n",
        "import matplotlib.pyplot as plt"
      ],
      "metadata": {
        "id": "AcnQ-sSoiAeU"
      },
      "execution_count": 1,
      "outputs": []
    },
    {
      "cell_type": "code",
      "execution_count": 5,
      "metadata": {
        "colab": {
          "base_uri": "https://localhost:8080/",
          "height": 539
        },
        "id": "X679OdOzePbO",
        "outputId": "0e805e59-54bf-42af-ce5e-9aceb2b5a14a"
      },
      "outputs": [
        {
          "output_type": "stream",
          "name": "stderr",
          "text": [
            "<ipython-input-5-5383b34352aa>:7: RuntimeWarning: divide by zero encountered in log\n",
            "  def e(x): return -x*np.log(x) -np.log(1-x) -x*np.log(1-x)\n",
            "<ipython-input-5-5383b34352aa>:7: RuntimeWarning: invalid value encountered in multiply\n",
            "  def e(x): return -x*np.log(x) -np.log(1-x) -x*np.log(1-x)\n"
          ]
        },
        {
          "output_type": "execute_result",
          "data": {
            "text/plain": [
              "<matplotlib.legend.Legend at 0x7e5a7924cd30>"
            ]
          },
          "metadata": {},
          "execution_count": 5
        },
        {
          "output_type": "display_data",
          "data": {
            "text/plain": [
              "<Figure size 640x480 with 1 Axes>"
            ],
            "image/png": "[encoded data removed]"
          },
          "metadata": {}
        }
      ],
      "source": [
        "### 함수들 구하기\n",
        "\n",
        "# put p hat m1 = x\n",
        "# put g(x) as a function for Gini index and e(x) for Entrophy\n",
        "\n",
        "def g(x): return -2*x**2 +2*x\n",
        "def e(x): return -x*np.log(x) -np.log(1-x) -x*np.log(1-x)\n",
        "\n",
        "x = np.linspace(0, 1, 101)\n",
        "\n",
        "\n",
        "### 그래프 그리기\n",
        "line, =plt.plot(x, g(x), 'r')\n",
        "line2, =plt.plot(x, e(x), 'b')\n",
        "plt.legend(handles = (line, line2),\n",
        "           labels = (r'$y = g(x)$', r'$y = e(x)$'))"
      ]
    },
    {
      "cell_type": "markdown",
      "source": [
        "### 2번\n",
        "\n",
        "하나의 일변수 함수 $f(x)$와 하나의 값을 입력받고, 해당 점에서의 연속 여부를 판단하는 프로그램을 설계하라. 아래 예시 실행 결과를 실제로 출력하여 프로그램의 작동 여부를 테스트해보시오.\n",
        "\n",
        "1. 해당 점에서 연속인 경우\n",
        "\n",
        "        Enter a function in one variable: 1/x\n",
        "        Enter the variable: x\n",
        "        Enter the point to check the continuity at: 1\n",
        "        1/x is continuous at 1\n",
        "\n",
        "2. 해당 점에서 연속이 아닌 경우\n",
        "\n",
        "        Enter a function in one variable: 1/x\n",
        "        Enter the variable: x\n",
        "        Enter the point to check the continuity at: 0\n",
        "        1/x is not continuous at 0"
      ],
      "metadata": {
        "id": "jHdPZNI4k6cN"
      }
    },
    {
      "cell_type": "code",
      "source": [],
      "metadata": {
        "id": "MkFCvirvlATg"
      },
      "execution_count": null,
      "outputs": []
    }
  ]
}
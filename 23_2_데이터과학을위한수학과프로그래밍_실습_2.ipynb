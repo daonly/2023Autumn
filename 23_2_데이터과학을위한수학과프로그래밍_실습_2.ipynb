{
  "cells": [
    {
      "cell_type": "markdown",
      "metadata": {
        "id": "view-in-github",
        "colab_type": "text"
      },
      "source": [
        "<a href=\"https://colab.research.google.com/github/daonly/2023Autumn/blob/main/23_2_%EB%8D%B0%EC%9D%B4%ED%84%B0%EA%B3%BC%ED%95%99%EC%9D%84%EC%9C%84%ED%95%9C%EC%88%98%ED%95%99%EA%B3%BC%ED%94%84%EB%A1%9C%EA%B7%B8%EB%9E%98%EB%B0%8D_%EC%8B%A4%EC%8A%B5_2.ipynb\" target=\"_parent\"><img src=\"https://colab.research.google.com/assets/colab-badge.svg\" alt=\"Open In Colab\"/></a>"
      ]
    },
    {
      "cell_type": "markdown",
      "metadata": {
        "id": "I_ztYYWEJe9e"
      },
      "source": [
        "# 데이터과학을위한수학과프로그래밍 실습 2차시"
      ]
    },
    {
      "cell_type": "markdown",
      "metadata": {
        "id": "3_RLbsFLkDdD"
      },
      "source": [
        "*   [NumPy](https://numpy.org/doc/stable/) Documentation\n",
        "*   [matplotlib.pyplot](https://matplotlib.org/3.5.3/tutorials/introductory/pyplot.html#sphx-glr-tutorials-introductory-pyplot-py) Documentation\n",
        "*   [SymPy](https://docs.sympy.org/latest/index.html) Documentation"
      ]
    },
    {
      "cell_type": "markdown",
      "metadata": {
        "id": "JN84rjGWE4Qd"
      },
      "source": [
        "### 1. 함수"
      ]
    },
    {
      "cell_type": "markdown",
      "metadata": {
        "id": "E7SNuyYlDmNs"
      },
      "source": [
        "#### 예제 1-1.\n",
        "\n",
        "구간 $[-1, 5]$에서 함수 $f$을 다음과 같이 정의합니다.\n",
        "\n",
        "$$f(x)=\\begin{cases} -x^2+2, & -1\\leq x < 1 \\\\ x^2-4x+3, & 1 \\leq x \\leq 3 \\\\ -x^2+8x-14, & 3<x\\leq5 \\end{cases}$$\n",
        "\n",
        "함수 $f$의 함수값을 출력하는 파이썬 함수 $f(x)$을 작성하고, 이 함수를 이용해 구간 $[-1, 5]$에서 함수 $f$의 그래프를 그리는 코드를 작성하시오."
      ]
    },
    {
      "cell_type": "markdown",
      "metadata": {
        "id": "Q33k-UYokn8g"
      },
      "source": [
        "*   [```numpy.linspace()```](https://numpy.org/doc/stable/reference/generated/numpy.linspace.html)\n",
        "*   [```numpy.zeros_like()```](https://numpy.org/doc/stable/reference/generated/numpy.zeros_like.html)\n",
        "\n"
      ]
    },
    {
      "cell_type": "markdown",
      "metadata": {
        "id": "NETyz0vCaujh"
      },
      "source": [
        "> np.linspace와 np.arange\n",
        "\n",
        "> matplotlib.pyplot의 편리성 vs  explicit API의 유연성\n",
        "\n",
        "> 플롯 스타일 포맷팅\n",
        "\n",
        "    * [matplotlib.pyplot.plot](https://matplotlib.org/stable/api/_as_gen/matplotlib.pyplot.plot.html#matplotlib.pyplot.plot)\n",
        "    * [color][marker][line]"
      ]
    },
    {
      "cell_type": "markdown",
      "metadata": {
        "id": "y0eFJSCyRYdW"
      },
      "source": [
        "#### 예제 1-2.\n",
        "\n",
        "$$f(x) = 3x-4$$\n",
        "\n",
        "$$f^{-1}(x) = \\frac{1}{3}(x+4)$$\n",
        "\n",
        "$f$의 그래프와 $f^{-1}$을 시각화하여 교점을 찾으시오.\n",
        "\n"
      ]
    },
    {
      "cell_type": "markdown",
      "metadata": {
        "id": "Ez78nUMGauji"
      },
      "source": [
        "> Line2D 객체의 변수화\n",
        "    \n",
        "`plt.plot` 함수는 무조건 리스트 객체를 반환하므로, Line2D 객체만을 추출하는 방법\n",
        "\n",
        "> TeX in matplotlib text\n",
        "\n",
        "raw string with dollar sign (r'$<TeX code>$')\n",
        "\n",
        "TeX 를 편리하게 사용하기 위해 만든 포맷 -> LaTeX\n",
        "\n",
        "[Rendering math equations using TeX](https://matplotlib.org/stable/gallery/text_labels_and_annotations/tex_demo.html)"
      ]
    },
    {
      "cell_type": "markdown",
      "metadata": {
        "id": "VEYFUZLL450G"
      },
      "source": [
        "#### 예제 1-3.\n",
        "\n",
        "$$g(x) = x^2+1$$\n",
        "\n",
        "$$g^{-1}(x) = \\sqrt{x-1}(x\\geq1)$$\n",
        "\n",
        "$g$의 그래프와 $g^{-1}$을 시각화하여 교점을 찾으시오."
      ]
    },
    {
      "cell_type": "markdown",
      "metadata": {
        "id": "XFAKP-pfE80u"
      },
      "source": [
        "### 2. 극한"
      ]
    },
    {
      "cell_type": "markdown",
      "metadata": {
        "id": "yHRtt3UWauji"
      },
      "source": [
        "\n",
        "*   [Sympy Calculus Tutorial](https://docs.sympy.org/latest/tutorials/intro-tutorial/calculus.html)\n",
        "\n"
      ]
    },
    {
      "cell_type": "markdown",
      "metadata": {
        "id": "yDPxEKpSHDLQ"
      },
      "source": [
        "#### 예제 2-1.\n",
        "\n",
        "다음 함수의 그래프를 그려 극한값을 추정한 후, `sympy`의 결과와 비교하시오.\n",
        "\n",
        "$$\\lim_{x\\to∞}\\frac{1}{x}$$"
      ]
    },
    {
      "cell_type": "markdown",
      "metadata": {
        "id": "xM38Xw01aujj"
      },
      "source": [
        "> Sympy\n",
        "\n",
        "**Sym**bolic mathematics in **Py**thon\n",
        "\n",
        "> Symbol\n",
        "\n",
        "데이터가 아닌, Symbol로 인식하겠음\n",
        "\n",
        "> Limit\n",
        "\n",
        "```python\n",
        "Limit(expression, variable, value)\n",
        "```\n",
        "\n",
        "> doit method\n",
        "\n",
        "극한, 미분, 적분 연산 메소드에 대해 Evaluation\n",
        "\n",
        "[SymPy ```.doit()```](https://docs.sympy.org/latest/modules/core.html?highlight=doit#sympy.core.basic.Basic.doit)"
      ]
    },
    {
      "cell_type": "markdown",
      "metadata": {
        "id": "jZqZtt9zHarZ"
      },
      "source": [
        "#### 예제 2-2.\n",
        "\n",
        "다음 함수의 그래프를 그려 극한값을 추정한 후, `sympy`의 결과와 비교하시오.\n",
        "\n",
        "$$\\lim_{x\\to-∞}(x^3+2x)$$"
      ]
    },
    {
      "cell_type": "markdown",
      "metadata": {
        "id": "63Frg6xZFIb4"
      },
      "source": [
        "### 3. 미분"
      ]
    },
    {
      "cell_type": "markdown",
      "metadata": {
        "id": "6b4fXNa6Lo7R"
      },
      "source": [
        "#### 예제 3-1.\n",
        "\n",
        "다음 함수의 도함수를 구하시오.\n",
        "\n",
        "$$f(x)=x^{2023}+3x^3-1$$\n"
      ]
    },
    {
      "cell_type": "markdown",
      "metadata": {
        "id": "BYOfS56Saujj"
      },
      "source": [
        "> simplify\n",
        "\n",
        "[SymPy simplification](https://docs.sympy.org/latest/tutorials/intro-tutorial/simplification.html)\n",
        "\n",
        "> Derivative\n",
        "\n",
        "[SymPy ```Derivative()``` class](https://docs.sympy.org/latest/modules/core.html?highlight=derivative#sympy.core.function.Derivative)"
      ]
    },
    {
      "cell_type": "markdown",
      "metadata": {
        "id": "EaF3nOsmMjFg"
      },
      "source": [
        "#### 예제 3-2.\n",
        "\n",
        "다음 함수의 도함수를 구하시오.\n",
        "\n",
        "$$g(x)=\\frac{x}{x+1}$$\n"
      ]
    },
    {
      "cell_type": "markdown",
      "metadata": {
        "id": "HYsUzODAaujj"
      },
      "source": [
        "> f-string\n",
        "\n",
        "Python에서 문자를 포맷팅하는 편리한 방법\n",
        "\n",
        "[f-string Formatting in Python](https://www.datacamp.com/tutorial/f-string-formatting-in-python)"
      ]
    },
    {
      "cell_type": "markdown",
      "metadata": {
        "id": "6f5-rStvHIo_"
      },
      "source": [
        "#### 예제 3-3.\n",
        "\n",
        "다음 함수의 도함수를 구하시오.\n",
        "\n",
        "$$f(x)=sin(x)cos(x)$$"
      ]
    },
    {
      "cell_type": "markdown",
      "metadata": {
        "id": "_ioNh0bGaujk"
      },
      "source": [
        "> sp.diff\n",
        "\n",
        "Evaluation이 바로 일어나는 함수"
      ]
    },
    {
      "cell_type": "markdown",
      "metadata": {
        "id": "W04wjfmDQlpK"
      },
      "source": [
        "#### 예제 3-4.\n",
        "\n",
        "$x$와 $y$에 대한 관계식 $x^2 + 2y^2-xy-3x-4y=5$에서 $\\frac{dy}{dx}$를 구하시오."
      ]
    },
    {
      "cell_type": "markdown",
      "metadata": {
        "id": "mPZvQAH4pQok"
      },
      "source": [
        "*   [SymPy ```idiff()```](https://docs.sympy.org/latest/modules/geometry/utils.html?highlight=idiff#sympy.geometry.util.idiff)\n",
        "\n"
      ]
    },
    {
      "cell_type": "markdown",
      "metadata": {
        "id": "hTTSJoNSvV26"
      },
      "source": [
        "#### 예제 3-5.\n",
        "\n",
        "다음 곡선 위에 주어진 점에서의 접선의 기울기를 구하시오.\n",
        "\n",
        "$$f(x) = x^3+2x-1, (1, 2)$$"
      ]
    },
    {
      "cell_type": "markdown",
      "metadata": {
        "id": "ylXXhAYKaujk"
      },
      "source": [
        "> [SymPy ```subs()```](https://docs.sympy.org/latest/modules/core.html?highlight=subs#sympy.core.basic.Basic.subs)\n",
        "\n",
        "foo.subs(old, new)\n",
        "\n",
        "foo.subs(iterable)\n",
        "\n",
        "foo.subs(dict)\n",
        "\n"
      ]
    },
    {
      "cell_type": "markdown",
      "metadata": {
        "id": "w9TAgWga0t38"
      },
      "source": [
        "#### 예제 3-6.\n",
        "\n",
        "다음 함수의 극값을 구하시오.\n",
        "\n",
        "$$f(x)=-2x^3-3x^2+1$$"
      ]
    },
    {
      "cell_type": "markdown",
      "metadata": {
        "id": "Lyu5G8pCaujk"
      },
      "source": [
        "*   [SymPy ```solve()```](https://docs.sympy.org/latest/modules/solvers/solvers.html?highlight=solve#sympy.solvers.solvers.solve)\n",
        "\n"
      ]
    },
    {
      "cell_type": "markdown",
      "metadata": {
        "id": "Lr2yB3j28L9T"
      },
      "source": [
        "## 실습 2차시 과제\n",
        "\n",
        "*   제출 기한: 2023년 11월 9일 오후 15시 00분\n",
        "*   파일 > 다운로드 > .ipynb 파일로 다운로드하여 블랙보드에 제출\n",
        "*   스터디 그룹을 만들고 과제에 대하여 토론할 수 있으나, 코드는 각자 독립적으로 작성해야 하며, 과제 제출에 토론 참여자를 명시해야 합니다.\n"
      ]
    },
    {
      "cell_type": "markdown",
      "metadata": {
        "id": "8cY2LYZMaujk"
      },
      "source": [
        "### 1번\n",
        "\n",
        "Decision tree의 이진 분류 문제에서($k = 1, 2$), $\\hat{p}_{m1}$을 훈련 관측치가 클래스 1에 해당할 확률이라고 하자. 분류 오류율을 계산하는 측도로 Gini index, Entrophy가 주어졌다. 공식은 아래와 같다.\n",
        "\n",
        "$$(\\text{Gini index}) = \\Sigma_{k=1}^{K} \\hat{p}_{mk} (1 - \\hat{p}_{mk})$$\n",
        "\n",
        "$$(\\text{Entrophy}) = - \\Sigma_{k=1}^{K} \\hat{p}_{mk} \\log \\hat{p}_{mk}$$\n",
        "\n",
        "각각의 분류 측도를 $\\hat{p}_{m1}$에 대한 함수로 나타내어라. x 축은 0과 1 사이의 $\\hat{p}_{m1}$을 나타낸다. (힌트: $\\hat{p}_{m2} = 1 - \\hat{p}_{m1}$)"
      ]
    },
    {
      "cell_type": "markdown",
      "metadata": {
        "id": "Zw0C0etjRzbH"
      },
      "source": [
        "### 2번\n",
        "\n",
        "하나의 일변수 함수 $f(x)$와 하나의 값을 입력받고, 해당 점에서의 연속 여부를 판단하는 프로그램을 설계하라. 아래 예시 실행 결과를 실제로 출력하여 프로그램의 작동 여부를 테스트해보시오.\n",
        "\n",
        "1. 해당 점에서 연속인 경우\n",
        "\n",
        "        Enter a function in one variable: 1/x\n",
        "        Enter the variable: x\n",
        "        Enter the point to check the continuity at: 1\n",
        "        1/x is continuous at 1\n",
        "\n",
        "2. 해당 점에서 연속이 아닌 경우\n",
        "\n",
        "        Enter a function in one variable: 1/x\n",
        "        Enter the variable: x\n",
        "        Enter the point to check the continuity at: 0\n",
        "        1/x is not continuous at 0"
      ]
    },
    {
      "cell_type": "markdown",
      "metadata": {
        "id": "NvS5oY4Xaujk"
      },
      "source": [
        "> sympify\n",
        "\n",
        "[sympy.sympify](https://www.geeksforgeeks.org/python-sympy-sympify-method/)"
      ]
    },
    {
      "cell_type": "markdown",
      "metadata": {
        "id": "f8N3Ph7zaujk"
      },
      "source": [
        "### 3번\n",
        "\n",
        "자동차의 속력이 이동한 거리 S에 따라 균일하게 증가한다고 하자. 이때, $S(t) = 5t^2 + 2t + 8$ 이다. 특정한 시간 $t_1$ 에서의 순간 변화율은 어떻게 되는가? (힌트: $t_1$에서의 순간변화율은 $\\underset{\\rm \\delta_t \\to 0}{\\rm lim} \\frac{S(t_1 + \\delta_t) - S(t_1)}{\\delta_t}$)\n",
        "\n",
        "[1] sympy Limit를 이용하여 구하라. (힌트: `t1`과 `delta_t`를 각각 `Symbol`로 지정)"
      ]
    },
    {
      "cell_type": "markdown",
      "metadata": {
        "id": "8X-xOZuLaujk"
      },
      "source": [
        "[2] sympy Derivative를 이용하여 구하고, [1]의 결과와 비교하라."
      ]
    },
    {
      "cell_type": "markdown",
      "metadata": {
        "id": "8PyUG29Eaujk"
      },
      "source": [
        "### 4번\n",
        "\n",
        "다음 함수의 이계도함수를 구하시오.\n",
        "\n",
        "$$g(x)=\\sin x + e^x$$"
      ]
    },
    {
      "cell_type": "markdown",
      "metadata": {
        "id": "Q1i3-7w18OhL"
      },
      "source": [
        "### 5번\n",
        "\n",
        "뉴턴의 방법을 이용하여 다음의 방정식의 근의 근사값을 구하는 코드를 작성하고, 코드의 결과를 sympy의 `nsolve` 함수의 결과와 비교하시오.\n",
        "\n",
        "$$cos(x) = x^3$$\n",
        "\n"
      ]
    }
  ],
  "metadata": {
    "colab": {
      "provenance": [],
      "include_colab_link": true
    },
    "kernelspec": {
      "display_name": "Python 3",
      "name": "python3"
    },
    "language_info": {
      "codemirror_mode": {
        "name": "ipython",
        "version": 3
      },
      "file_extension": ".py",
      "mimetype": "text/x-python",
      "name": "python",
      "nbconvert_exporter": "python",
      "pygments_lexer": "ipython3",
      "version": "3.10.12"
    }
  },
  "nbformat": 4,
  "nbformat_minor": 0
}
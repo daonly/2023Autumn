{
  "cells": [
    {
      "cell_type": "markdown",
      "metadata": {
        "id": "view-in-github",
        "colab_type": "text"
      },
      "source": [
        "<a href=\"https://colab.research.google.com/github/daonly/2023Autumn/blob/main/%5B%EB%8D%B0%EA%B3%BC%EC%88%98%5D%20%EC%8B%A4%EC%8A%B5%201%20%EC%B0%B8%EA%B3%A0.ipynb\" target=\"_parent\"><img src=\"https://colab.research.google.com/assets/colab-badge.svg\" alt=\"Open In Colab\"/></a>"
      ]
    },
    {
      "cell_type": "raw",
      "metadata": {
        "id": "6RYXSlLLI2jG"
      },
      "source": [
        "---\n",
        "title: \"데이터과학을위한수학과프로그래밍 실습 1차시\"\n",
        "date: 2023-09-26\n",
        "---"
      ]
    },
    {
      "cell_type": "markdown",
      "metadata": {
        "id": "B3vk6q0VJpbG"
      },
      "source": [
        "## Python 기본"
      ]
    },
    {
      "cell_type": "markdown",
      "metadata": {
        "id": "6Sg92bAS8oG_"
      },
      "source": [
        "Welcome to Python! Python은 쉬우면서도 강력한 프로그래밍 언어로 데이터 과학 및 기타 분야에서 널리 사용되는 언어입니다.\n",
        "\n",
        "Python을 Google Colaboratory(이하 Colab)에서 실습해봅니다. Colab은 Jupyter Notebook 환경을 Cloud로 제공하는 서비스입니다.\n",
        "\n",
        "Jupyter Notebook은 데이터 과학자가 코드 실행 결과를 바로 확인할 수 있는 장점이 있습니다. 책을 Jupyter Notebook으로만 작성할 수도 있습니다. [(예시)](!https://github.com/fastai/fastbook)"
      ]
    },
    {
      "cell_type": "markdown",
      "metadata": {
        "id": "IAZXeoR0-PCY"
      },
      "source": [
        "### 1. 파이썬을 계산기로 사용하기"
      ]
    },
    {
      "cell_type": "markdown",
      "metadata": {
        "id": "qVeZuNqn_6y9"
      },
      "source": [
        "산수를 위해서 더하기는 '+', 빼기는 '-', 곱하기는 '*' 그리고 나누기는 '/' 가 사용됩니다. 괄호 '('와 ')'를 통해 연산 순위를 지정하거나 바꿀 수 있습니다."
      ]
    },
    {
      "cell_type": "code",
      "execution_count": null,
      "metadata": {
        "colab": {
          "base_uri": "https://localhost:8080/"
        },
        "id": "zGleQEsHFkkR",
        "outputId": "03e1b16d-5688-466f-e47a-2ee5739c6355"
      },
      "outputs": [
        {
          "data": {
            "text/plain": [
              "3"
            ]
          },
          "execution_count": 10,
          "metadata": {},
          "output_type": "execute_result"
        }
      ],
      "source": [
        "1 + 2 # 덧셈"
      ]
    },
    {
      "cell_type": "code",
      "execution_count": null,
      "metadata": {
        "colab": {
          "base_uri": "https://localhost:8080/"
        },
        "id": "jzXzYGzQFtoU",
        "outputId": "e5924153-b53a-4255-eb3b-1023e0822ecf"
      },
      "outputs": [
        {
          "data": {
            "text/plain": [
              "8"
            ]
          },
          "execution_count": 11,
          "metadata": {},
          "output_type": "execute_result"
        }
      ],
      "source": [
        "20 - 12 # 뺄셈"
      ]
    },
    {
      "cell_type": "code",
      "execution_count": null,
      "metadata": {
        "colab": {
          "base_uri": "https://localhost:8080/"
        },
        "id": "vCzpOgmJF3R8",
        "outputId": "d675c5a8-ac94-4f43-eaa7-0cd32efbf90c"
      },
      "outputs": [
        {
          "data": {
            "text/plain": [
              "608"
            ]
          },
          "execution_count": 12,
          "metadata": {},
          "output_type": "execute_result"
        }
      ],
      "source": [
        "32 * 19 # 곱셈"
      ]
    },
    {
      "cell_type": "code",
      "execution_count": null,
      "metadata": {
        "colab": {
          "base_uri": "https://localhost:8080/"
        },
        "id": "jBGz2ZwJF7Pd",
        "outputId": "c69128d4-1571-43e8-e710-fd042c573619"
      },
      "outputs": [
        {
          "data": {
            "text/plain": [
              "66.66666666666667"
            ]
          },
          "execution_count": 13,
          "metadata": {},
          "output_type": "execute_result"
        }
      ],
      "source": [
        "200 / 3 # 나눗셈"
      ]
    },
    {
      "cell_type": "code",
      "execution_count": null,
      "metadata": {
        "colab": {
          "base_uri": "https://localhost:8080/"
        },
        "id": "m6mR9XSwDcfd",
        "outputId": "7476b48c-3bdb-44ab-ee89-a3c3a2d9c3be"
      },
      "outputs": [
        {
          "data": {
            "text/plain": [
              "13.0"
            ]
          },
          "execution_count": 14,
          "metadata": {},
          "output_type": "execute_result"
        }
      ],
      "source": [
        "(50 - 4*6) / 2 # 괄호연산"
      ]
    },
    {
      "cell_type": "markdown",
      "metadata": {
        "id": "HsbvFM3BDEOn"
      },
      "source": [
        "거듭제곱은 `**` 연산자를 사용합니다."
      ]
    },
    {
      "cell_type": "code",
      "execution_count": null,
      "metadata": {
        "colab": {
          "base_uri": "https://localhost:8080/"
        },
        "id": "lL07hHouDJS0",
        "outputId": "a94d37ae-0aad-4798-891a-0a8620c0b771"
      },
      "outputs": [
        {
          "data": {
            "text/plain": [
              "25"
            ]
          },
          "execution_count": 9,
          "metadata": {},
          "output_type": "execute_result"
        }
      ],
      "source": [
        "5 ** 2"
      ]
    },
    {
      "cell_type": "markdown",
      "metadata": {
        "id": "fR49NCkWI2jN"
      },
      "source": [
        "몫과 나머지에 대한 연산은 각각 `//`와 `%` 연산자를 사용합니다."
      ]
    },
    {
      "cell_type": "code",
      "execution_count": null,
      "metadata": {
        "id": "TohZt9WxI2jN",
        "outputId": "524c47ba-db94-4162-e324-5e5dbce9ad30"
      },
      "outputs": [
        {
          "data": {
            "text/plain": [
              "2"
            ]
          },
          "execution_count": 1,
          "metadata": {},
          "output_type": "execute_result"
        }
      ],
      "source": [
        "5 // 2"
      ]
    },
    {
      "cell_type": "code",
      "execution_count": null,
      "metadata": {
        "id": "U--BoLleI2jO",
        "outputId": "e8ca9f82-41af-4b65-93ea-cc78f797940a"
      },
      "outputs": [
        {
          "data": {
            "text/plain": [
              "1"
            ]
          },
          "execution_count": 2,
          "metadata": {},
          "output_type": "execute_result"
        }
      ],
      "source": [
        "5 % 2"
      ]
    },
    {
      "cell_type": "markdown",
      "metadata": {
        "id": "Suf_O-qIEG9v"
      },
      "source": [
        "### 2. 문자열 사용하기"
      ]
    },
    {
      "cell_type": "markdown",
      "metadata": {
        "id": "2vAM0FidEJvX"
      },
      "source": [
        "Python에서 문자열은 Single quotes나 (`'...'`) Double quotes (`\"...\"`)를 사용합니다."
      ]
    },
    {
      "cell_type": "code",
      "execution_count": null,
      "metadata": {
        "colab": {
          "base_uri": "https://localhost:8080/",
          "height": 36
        },
        "id": "LPWi-KRJDa6h",
        "outputId": "773febfe-a32c-428b-f961-68dfeec5e0ad"
      },
      "outputs": [
        {
          "data": {
            "application/vnd.google.colaboratory.intrinsic+json": {
              "type": "string"
            },
            "text/plain": [
              "'Hot dog'"
            ]
          },
          "execution_count": 23,
          "metadata": {},
          "output_type": "execute_result"
        }
      ],
      "source": [
        "'Hot dog' # single quotes"
      ]
    },
    {
      "cell_type": "code",
      "execution_count": null,
      "metadata": {
        "colab": {
          "base_uri": "https://localhost:8080/",
          "height": 36
        },
        "id": "zHOg_StnEiLC",
        "outputId": "d5acb262-b8ae-4bae-92d6-2a322167e4f7"
      },
      "outputs": [
        {
          "data": {
            "application/vnd.google.colaboratory.intrinsic+json": {
              "type": "string"
            },
            "text/plain": [
              "'You deserve it'"
            ]
          },
          "execution_count": 24,
          "metadata": {},
          "output_type": "execute_result"
        }
      ],
      "source": [
        "\"You deserve it\" # double quotes"
      ]
    },
    {
      "cell_type": "code",
      "execution_count": null,
      "metadata": {
        "colab": {
          "base_uri": "https://localhost:8080/",
          "height": 36
        },
        "id": "U8_ElaHyEp95",
        "outputId": "699e7e4a-681e-46cc-e4d1-aaf54129dc83"
      },
      "outputs": [
        {
          "data": {
            "application/vnd.google.colaboratory.intrinsic+json": {
              "type": "string"
            },
            "text/plain": [
              "'1917'"
            ]
          },
          "execution_count": 20,
          "metadata": {},
          "output_type": "execute_result"
        }
      ],
      "source": [
        "'1917' # 숫자도 quotes 안에서는 문자열이 됩니다."
      ]
    },
    {
      "cell_type": "markdown",
      "metadata": {
        "id": "iWqYO33mGG9j"
      },
      "source": [
        "따옴표(quotes)를 문자 안에 쓰고 싶을 때, 두 가지 방법이 있습니다."
      ]
    },
    {
      "cell_type": "code",
      "execution_count": null,
      "metadata": {
        "colab": {
          "base_uri": "https://localhost:8080/",
          "height": 36
        },
        "id": "qpjMqhsZFlsF",
        "outputId": "3b9c935a-ddec-4fb9-8094-1379f2670fa7"
      },
      "outputs": [
        {
          "data": {
            "application/vnd.google.colaboratory.intrinsic+json": {
              "type": "string"
            },
            "text/plain": [
              "'\"모자가 멋지군요\" 나는 슬쩍 떠보았다.'"
            ]
          },
          "execution_count": 21,
          "metadata": {},
          "output_type": "execute_result"
        }
      ],
      "source": [
        "'\"모자가 멋지군요\" 나는 슬쩍 떠보았다.' # 중복되지 않는 따옴표를 쓰거나,"
      ]
    },
    {
      "cell_type": "code",
      "execution_count": null,
      "metadata": {
        "id": "yJYtHU_LF1aY"
      },
      "outputs": [],
      "source": [
        "\"\\\"모자가 멋지군요\\\" 나는 슬쩍 떠보았다.\" # '\\'로 이스케이핑한다."
      ]
    },
    {
      "cell_type": "markdown",
      "metadata": {
        "id": "K7WRApniI2jP"
      },
      "source": [
        "`\\` 뒤에 나오는 문자가 특수 문자로 취급되게 하고 싶지 않다면, 첫 따옴표 앞에 r 을 붙여서 날 문자열 (raw string) 을 만들 수 있습니다. `r'<경로>'`는 데이터를 불러올 때 특히 편합니다."
      ]
    },
    {
      "cell_type": "code",
      "execution_count": null,
      "metadata": {
        "id": "hEyj7EJ8I2jP",
        "outputId": "c7e0cc60-e6a3-4645-f832-3d1769b0b38e"
      },
      "outputs": [
        {
          "name": "stdout",
          "output_type": "stream",
          "text": [
            "C:\\some\n",
            "ame\n"
          ]
        }
      ],
      "source": [
        "print('C:\\some\\name')"
      ]
    },
    {
      "cell_type": "code",
      "execution_count": null,
      "metadata": {
        "id": "82-DikCeI2jP",
        "outputId": "7a9fad78-375e-4942-dab3-7f64d0376e39"
      },
      "outputs": [
        {
          "name": "stdout",
          "output_type": "stream",
          "text": [
            "C:\\some\\name\n"
          ]
        }
      ],
      "source": [
        "print(r'C:\\some\\name')"
      ]
    },
    {
      "cell_type": "markdown",
      "metadata": {
        "id": "z6AwlXOfGwZw"
      },
      "source": [
        "Python에서는 문자를 계산할 수도 있습니다."
      ]
    },
    {
      "cell_type": "code",
      "execution_count": null,
      "metadata": {
        "colab": {
          "base_uri": "https://localhost:8080/",
          "height": 36
        },
        "id": "0af0pMtUGz_B",
        "outputId": "5785a69f-3c50-41cc-cbea-985dc2ba6a75"
      },
      "outputs": [
        {
          "data": {
            "application/vnd.google.colaboratory.intrinsic+json": {
              "type": "string"
            },
            "text/plain": [
              "'banana'"
            ]
          },
          "execution_count": 25,
          "metadata": {},
          "output_type": "execute_result"
        }
      ],
      "source": [
        "'ba' + 2*'na'"
      ]
    },
    {
      "cell_type": "markdown",
      "metadata": {
        "id": "sUDc0ZLmIREQ"
      },
      "source": [
        "두 개 이상의 문자열 리터럴 (즉, 따옴표로 둘러싸인 것들) 가 연속해서 나타나면 자동으로 이어 붙여집니다."
      ]
    },
    {
      "cell_type": "code",
      "execution_count": null,
      "metadata": {
        "colab": {
          "base_uri": "https://localhost:8080/",
          "height": 36
        },
        "id": "QiBuXwL8IZy2",
        "outputId": "95e298bf-4e82-42a9-d62e-be3ca40a8487"
      },
      "outputs": [
        {
          "data": {
            "application/vnd.google.colaboratory.intrinsic+json": {
              "type": "string"
            },
            "text/plain": [
              "'생활양식'"
            ]
          },
          "execution_count": 31,
          "metadata": {},
          "output_type": "execute_result"
        }
      ],
      "source": [
        "'생활' '양식'"
      ]
    },
    {
      "cell_type": "code",
      "execution_count": null,
      "metadata": {
        "colab": {
          "base_uri": "https://localhost:8080/",
          "height": 55
        },
        "id": "t2PuM3c6HDN3",
        "outputId": "6fecc8d1-8b6f-4209-b61d-81cc9c74bc13"
      },
      "outputs": [
        {
          "data": {
            "application/vnd.google.colaboratory.intrinsic+json": {
              "type": "string"
            },
            "text/plain": [
              "'제도는 제법 훌륭하지만 사람들은 그에 걸맞은 수준에 이르지 못한 이 야릇한 나라에서는 모든 것이-도시도, 집도, 심지어는 실수까지도-정확히 네모반듯하게 이루어진다.'"
            ]
          },
          "execution_count": 29,
          "metadata": {},
          "output_type": "execute_result"
        }
      ],
      "source": [
        "('제도는 제법 훌륭하지만 사람들은 그에 걸맞은 수준에 이르지 못한 이 야릇한 나라에서는 모든 것이'\n",
        "'-도시도, 집도, 심지어는 실수까지도-'\n",
        "'정확히 네모반듯하게 이루어진다.')"
      ]
    },
    {
      "cell_type": "markdown",
      "metadata": {
        "id": "Xwm-7Rn3JNSC"
      },
      "source": [
        "### 3. 변수"
      ]
    },
    {
      "cell_type": "markdown",
      "metadata": {
        "id": "4LPiDdMAI2jP"
      },
      "source": [
        "변수는 등호 `=` 를 사용하여 할당합니다."
      ]
    },
    {
      "cell_type": "code",
      "execution_count": null,
      "metadata": {
        "id": "GPmjm3meI2jP"
      },
      "outputs": [],
      "source": [
        "radius = 2 # 숫자 변수를 지정합니다."
      ]
    },
    {
      "cell_type": "code",
      "execution_count": null,
      "metadata": {
        "id": "OOp-JMl_I2jP",
        "outputId": "74a6d733-1375-4c7e-a75d-ae39474ecf05"
      },
      "outputs": [
        {
          "data": {
            "text/plain": [
              "12.56"
            ]
          },
          "execution_count": 4,
          "metadata": {},
          "output_type": "execute_result"
        }
      ],
      "source": [
        "3.14 * (radius**2) # 원의 넓이"
      ]
    },
    {
      "cell_type": "code",
      "execution_count": null,
      "metadata": {
        "id": "Vs1EtJZYI2jQ",
        "outputId": "c1197a39-8fc5-4c2c-f600-acdf247f58aa"
      },
      "outputs": [
        {
          "data": {
            "text/plain": [
              "9.0"
            ]
          },
          "execution_count": 14,
          "metadata": {},
          "output_type": "execute_result"
        }
      ],
      "source": [
        "# 삼각형의 넓이\n",
        "base = 6.0\n",
        "height = 3\n",
        "1/2 * base * height"
      ]
    },
    {
      "cell_type": "markdown",
      "metadata": {
        "id": "CbxySUqtI2jQ"
      },
      "source": [
        "변수의 자료형은 `type` 함수를 통해서 확인할 수 있습니다."
      ]
    },
    {
      "cell_type": "code",
      "execution_count": null,
      "metadata": {
        "id": "iw6SGVtYI2jQ",
        "outputId": "8ff2f61f-8128-4a1e-b47f-418aa9d8534d"
      },
      "outputs": [
        {
          "data": {
            "text/plain": [
              "int"
            ]
          },
          "execution_count": 7,
          "metadata": {},
          "output_type": "execute_result"
        }
      ],
      "source": [
        "type(radius) # integer, 정수형"
      ]
    },
    {
      "cell_type": "code",
      "execution_count": null,
      "metadata": {
        "id": "k4ez5rSzI2jQ",
        "outputId": "90a70c83-22ef-4f80-85e1-f32a7ccb3bfb"
      },
      "outputs": [
        {
          "data": {
            "text/plain": [
              "float"
            ]
          },
          "execution_count": 16,
          "metadata": {},
          "output_type": "execute_result"
        }
      ],
      "source": [
        "type(base) # float, 실수형"
      ]
    },
    {
      "cell_type": "markdown",
      "metadata": {
        "id": "zET7eiVdJgpA"
      },
      "source": [
        "### 4. 리스트"
      ]
    },
    {
      "cell_type": "markdown",
      "metadata": {
        "id": "_05Sx6hvI2jU"
      },
      "source": [
        "리스트 자료형은 여러 값을 묶는 것에 사용되어, 데이터를 능숙히 다루기 위해서 익숙해지면 좋습니다."
      ]
    },
    {
      "cell_type": "code",
      "execution_count": null,
      "metadata": {
        "id": "UiZbkfbVI2jU",
        "outputId": "3e9009fd-860a-4c64-c8c9-3768657c0783"
      },
      "outputs": [
        {
          "data": {
            "text/plain": [
              "[]"
            ]
          },
          "execution_count": 20,
          "metadata": {},
          "output_type": "execute_result"
        }
      ],
      "source": [
        "list()"
      ]
    },
    {
      "cell_type": "code",
      "execution_count": null,
      "metadata": {
        "id": "4P4IjrLfI2jU",
        "outputId": "2ee72f4a-e930-4ddc-a8a4-d764fc2474af"
      },
      "outputs": [
        {
          "data": {
            "text/plain": [
              "[]"
            ]
          },
          "execution_count": 21,
          "metadata": {},
          "output_type": "execute_result"
        }
      ],
      "source": [
        "[]"
      ]
    },
    {
      "cell_type": "markdown",
      "metadata": {
        "id": "wFnaizCXI2jU"
      },
      "source": [
        "문자나 숫자 또는 리스트도 리스트 안에 포함될 수 있습니다."
      ]
    },
    {
      "cell_type": "code",
      "execution_count": null,
      "metadata": {
        "id": "ilrGKeTXI2jU",
        "outputId": "37f0f1e4-04aa-438e-b43b-9ec4452e9996"
      },
      "outputs": [
        {
          "data": {
            "text/plain": [
              "[1, 2, 3, 4, 5]"
            ]
          },
          "execution_count": 22,
          "metadata": {},
          "output_type": "execute_result"
        }
      ],
      "source": [
        "[1,2,3,4,5]"
      ]
    },
    {
      "cell_type": "code",
      "execution_count": null,
      "metadata": {
        "id": "ex9kOVNZI2jU",
        "outputId": "06179792-9cdb-440d-efbd-98d78e7ffa1a"
      },
      "outputs": [
        {
          "data": {
            "text/plain": [
              "['Pearl', 'Einstein', 'Fisher']"
            ]
          },
          "execution_count": 26,
          "metadata": {},
          "output_type": "execute_result"
        }
      ],
      "source": [
        "['Pearl', 'Einstein', 'Fisher']"
      ]
    },
    {
      "cell_type": "code",
      "execution_count": null,
      "metadata": {
        "id": "z-KVg86aI2jU",
        "outputId": "306498fa-4fcf-4156-83ca-ce7d3e08951f"
      },
      "outputs": [
        {
          "data": {
            "text/plain": [
              "['a', 'b', ['c', 'd']]"
            ]
          },
          "execution_count": 24,
          "metadata": {},
          "output_type": "execute_result"
        }
      ],
      "source": [
        "['a', 'b', ['c', 'd']]"
      ]
    },
    {
      "cell_type": "markdown",
      "metadata": {
        "id": "PJme1dRWI2jU"
      },
      "source": [
        "여러 인덱싱 방법이 사용 가능합니다."
      ]
    },
    {
      "cell_type": "code",
      "execution_count": null,
      "metadata": {
        "id": "U57s1EoEI2jU"
      },
      "outputs": [],
      "source": [
        "letters = ['a', 'b', 'c', 'd', 'e', 'f', 'g']"
      ]
    },
    {
      "cell_type": "code",
      "execution_count": null,
      "metadata": {
        "id": "GSGVJGdaI2jU",
        "outputId": "1453d276-5196-4bb0-98d9-ec1f16c10717"
      },
      "outputs": [
        {
          "data": {
            "text/plain": [
              "'a'"
            ]
          },
          "execution_count": 42,
          "metadata": {},
          "output_type": "execute_result"
        }
      ],
      "source": [
        "letters[0]"
      ]
    },
    {
      "cell_type": "code",
      "execution_count": null,
      "metadata": {
        "id": "5yJZBB54I2jV",
        "outputId": "c4232752-1545-4bf9-8fae-0020b8d82337"
      },
      "outputs": [
        {
          "data": {
            "text/plain": [
              "['a', 'b']"
            ]
          },
          "execution_count": 49,
          "metadata": {},
          "output_type": "execute_result"
        }
      ],
      "source": [
        "letters[0:2] # 범위 슬라이싱, [start, end)"
      ]
    },
    {
      "cell_type": "code",
      "execution_count": null,
      "metadata": {
        "id": "ZOFew1ONI2jV",
        "outputId": "19fddfc0-1dcc-4b3a-8988-0bf6cfd74d7a"
      },
      "outputs": [
        {
          "data": {
            "text/plain": [
              "['e', 'f', 'g']"
            ]
          },
          "execution_count": 44,
          "metadata": {},
          "output_type": "execute_result"
        }
      ],
      "source": [
        "letters[4:] # [start,"
      ]
    },
    {
      "cell_type": "code",
      "execution_count": null,
      "metadata": {
        "id": "4ISM82CeI2jV",
        "outputId": "02ec10fc-07ce-4078-ce42-fea31c747af5"
      },
      "outputs": [
        {
          "data": {
            "text/plain": [
              "'g'"
            ]
          },
          "execution_count": 45,
          "metadata": {},
          "output_type": "execute_result"
        }
      ],
      "source": [
        "letters[-1] # 마이너스 슬라이싱"
      ]
    },
    {
      "cell_type": "code",
      "execution_count": null,
      "metadata": {
        "id": "2FSOrDSyI2jV",
        "outputId": "a80cf52e-e488-4547-984c-ef5762cdb846"
      },
      "outputs": [
        {
          "data": {
            "text/plain": [
              "['a', 'b', 'c', 'd', 'e', 'f', 'g']"
            ]
          },
          "execution_count": 46,
          "metadata": {},
          "output_type": "execute_result"
        }
      ],
      "source": [
        "letters[:] # 리스트 전체 슬라이싱"
      ]
    },
    {
      "cell_type": "code",
      "execution_count": null,
      "metadata": {
        "id": "cj31fsMJI2jV",
        "outputId": "fcbafa6d-b26f-4bc1-be62-1ad98f5defd6"
      },
      "outputs": [
        {
          "data": {
            "text/plain": [
              "['a', 'c', 'e', 'g']"
            ]
          },
          "execution_count": 47,
          "metadata": {},
          "output_type": "execute_result"
        }
      ],
      "source": [
        "letters[::2] # 두 스텝마다 슬라이싱"
      ]
    },
    {
      "cell_type": "markdown",
      "metadata": {
        "id": "hTOBLwC-I2jV"
      },
      "source": [
        "슬라이싱 후 값 대입도 가능합니다."
      ]
    },
    {
      "cell_type": "code",
      "execution_count": null,
      "metadata": {
        "id": "YjW9ps5nI2jV"
      },
      "outputs": [],
      "source": [
        "letters[2:5] = ['C', 'D', 'E']"
      ]
    },
    {
      "cell_type": "code",
      "execution_count": null,
      "metadata": {
        "id": "AlmBRRa7I2jW",
        "outputId": "53e1db61-46db-427b-a1dc-a9275c927085"
      },
      "outputs": [
        {
          "data": {
            "text/plain": [
              "['a', 'b', 'C', 'D', 'E', 'f', 'g']"
            ]
          },
          "execution_count": 36,
          "metadata": {},
          "output_type": "execute_result"
        }
      ],
      "source": [
        "letters"
      ]
    },
    {
      "cell_type": "code",
      "execution_count": null,
      "metadata": {
        "id": "pbO-Jq-MI2jW"
      },
      "outputs": [],
      "source": [
        "letters[2:5] = []"
      ]
    },
    {
      "cell_type": "code",
      "execution_count": null,
      "metadata": {
        "id": "hM0xpmr_I2jW",
        "outputId": "ad00e3ff-ea00-4678-815a-f2fad3e02f3d"
      },
      "outputs": [
        {
          "data": {
            "text/plain": [
              "['a', 'b', 'f', 'g']"
            ]
          },
          "execution_count": 38,
          "metadata": {},
          "output_type": "execute_result"
        }
      ],
      "source": [
        "letters"
      ]
    },
    {
      "cell_type": "markdown",
      "metadata": {
        "id": "Nqf1DIqlI2jW"
      },
      "source": [
        "중첩된 리스트에서의 슬라이싱은 아래와 같습니다."
      ]
    },
    {
      "cell_type": "code",
      "execution_count": null,
      "metadata": {
        "id": "ELGGrSdEI2jW"
      },
      "outputs": [],
      "source": [
        "numbers = [1, 2, 3, 4, 5, 6, 7]"
      ]
    },
    {
      "cell_type": "code",
      "execution_count": null,
      "metadata": {
        "id": "P24TujRYI2jW"
      },
      "outputs": [],
      "source": [
        "x = [numbers, letters]"
      ]
    },
    {
      "cell_type": "code",
      "execution_count": null,
      "metadata": {
        "id": "Cib_niQtI2jW",
        "outputId": "2557e21c-b4c4-4cad-b86a-af85b6e0e15c"
      },
      "outputs": [
        {
          "data": {
            "text/plain": [
              "[[1, 2, 3, 4, 5, 6, 7], ['a', 'b', 'c', 'd', 'e', 'f', 'g']]"
            ]
          },
          "execution_count": 54,
          "metadata": {},
          "output_type": "execute_result"
        }
      ],
      "source": [
        "x"
      ]
    },
    {
      "cell_type": "code",
      "execution_count": null,
      "metadata": {
        "id": "Avz0US1UI2jW",
        "outputId": "204cf152-08f0-41f4-e438-3066075b000f"
      },
      "outputs": [
        {
          "data": {
            "text/plain": [
              "['a', 'b', 'c']"
            ]
          },
          "execution_count": 56,
          "metadata": {},
          "output_type": "execute_result"
        }
      ],
      "source": [
        "x[1][:3]"
      ]
    },
    {
      "cell_type": "markdown",
      "metadata": {
        "id": "lL6OG_-WI2jW"
      },
      "source": [
        "아울러 리스트끼리 연결할 떄는 `+`, 하나의 리스트를 여러번 반복하고 싶을 때 `*`를 사용할 수 있습니다."
      ]
    },
    {
      "cell_type": "code",
      "execution_count": null,
      "metadata": {
        "id": "xi2CqMXtI2jW",
        "outputId": "64aa87dd-ed92-4751-924f-d6fba35f532e"
      },
      "outputs": [
        {
          "data": {
            "text/plain": [
              "[1, 2, 3, 4, 5, 6, 7, 'a', 'b', 'c', 'd', 'e', 'f', 'g']"
            ]
          },
          "execution_count": 57,
          "metadata": {},
          "output_type": "execute_result"
        }
      ],
      "source": [
        "numbers + letters"
      ]
    },
    {
      "cell_type": "code",
      "execution_count": null,
      "metadata": {
        "id": "PQdn-K7nI2jW",
        "outputId": "9f07404d-2267-4fcf-b7d4-a2ea8af8d274"
      },
      "outputs": [
        {
          "data": {
            "text/plain": [
              "[1, 2, 3, 4, 5, 6, 7, 1, 2, 3, 4, 5, 6, 7]"
            ]
          },
          "execution_count": 58,
          "metadata": {},
          "output_type": "execute_result"
        }
      ],
      "source": [
        "numbers * 2"
      ]
    },
    {
      "cell_type": "markdown",
      "metadata": {
        "id": "0Wn3jXQsI2jW"
      },
      "source": [
        "리스트는 하나의 자료형이기 때문에 미리 만들어진 메소드(함수)가 있습니다. 몇 가지를 소개하자면,"
      ]
    },
    {
      "cell_type": "markdown",
      "metadata": {
        "id": "lxRNiqB5I2jX"
      },
      "source": [
        "`list.append(x)`는 리스트 끝에 항목을 더합니다."
      ]
    },
    {
      "cell_type": "code",
      "execution_count": null,
      "metadata": {
        "id": "VwG0JvNBI2jX"
      },
      "outputs": [],
      "source": [
        "letters.append('h')"
      ]
    },
    {
      "cell_type": "code",
      "execution_count": null,
      "metadata": {
        "id": "YuLhGPTKI2jX",
        "outputId": "c203928a-4dd5-4746-94d8-37177f565d45"
      },
      "outputs": [
        {
          "data": {
            "text/plain": [
              "['a', 'b', 'c', 'd', 'e', 'f', 'g', 'h']"
            ]
          },
          "execution_count": 14,
          "metadata": {},
          "output_type": "execute_result"
        }
      ],
      "source": [
        "letters"
      ]
    },
    {
      "cell_type": "markdown",
      "metadata": {
        "id": "4fFBkfw-I2jX"
      },
      "source": [
        "`list.remove(x)`는 x와 같은 첫 번째 항목을 삭제합니다."
      ]
    },
    {
      "cell_type": "code",
      "execution_count": null,
      "metadata": {
        "id": "BME4HrhbI2jX"
      },
      "outputs": [],
      "source": [
        "letters.remove('h')"
      ]
    },
    {
      "cell_type": "code",
      "execution_count": null,
      "metadata": {
        "id": "Ok2mkaS4I2jX",
        "outputId": "4772504f-94d5-4926-cf71-979a9ffd22e8"
      },
      "outputs": [
        {
          "data": {
            "text/plain": [
              "['a', 'b', 'c', 'd', 'e', 'f', 'g']"
            ]
          },
          "execution_count": 16,
          "metadata": {},
          "output_type": "execute_result"
        }
      ],
      "source": [
        "letters"
      ]
    },
    {
      "cell_type": "markdown",
      "metadata": {
        "id": "tUTO0YyVI2jX"
      },
      "source": [
        "```python\n",
        "list.sort(*, key=None, reverse=False)\n",
        "```\n",
        "\n",
        "리스트의 항목을 **제 자리에서** 정렬합니다."
      ]
    },
    {
      "cell_type": "code",
      "execution_count": null,
      "metadata": {
        "id": "JyOWiTmiI2jY"
      },
      "outputs": [],
      "source": [
        "letters.sort()"
      ]
    },
    {
      "cell_type": "code",
      "execution_count": null,
      "metadata": {
        "id": "_Ik5IsVBI2jY",
        "outputId": "7b3808da-e21c-4e17-db2b-c35fa4e9133d"
      },
      "outputs": [
        {
          "data": {
            "text/plain": [
              "['a', 'b', 'c', 'd', 'e', 'f', 'g']"
            ]
          },
          "execution_count": 22,
          "metadata": {},
          "output_type": "execute_result"
        }
      ],
      "source": [
        "letters"
      ]
    },
    {
      "cell_type": "code",
      "execution_count": null,
      "metadata": {
        "id": "K8MceYHcI2jY"
      },
      "outputs": [],
      "source": [
        "letters.sort(reverse=True)"
      ]
    },
    {
      "cell_type": "code",
      "execution_count": null,
      "metadata": {
        "id": "JZXWj7boI2jY",
        "outputId": "11f77e21-938a-4773-bdc9-f59757856127"
      },
      "outputs": [
        {
          "data": {
            "text/plain": [
              "['g', 'f', 'e', 'd', 'c', 'b', 'a']"
            ]
          },
          "execution_count": 24,
          "metadata": {},
          "output_type": "execute_result"
        }
      ],
      "source": [
        "letters"
      ]
    },
    {
      "cell_type": "code",
      "execution_count": null,
      "metadata": {
        "id": "OUZ4ja7jI2jY",
        "outputId": "d7b955b7-3181-4b30-d369-2b8f0821bd99"
      },
      "outputs": [
        {
          "data": {
            "text/plain": [
              "['a', 'b', 'c', 'd', 'e', 'f', 'g']"
            ]
          },
          "execution_count": 25,
          "metadata": {},
          "output_type": "execute_result"
        }
      ],
      "source": [
        "sorted(letters)"
      ]
    },
    {
      "cell_type": "markdown",
      "metadata": {
        "id": "gTxOZK0yJQMs"
      },
      "source": [
        "### 5. 함수"
      ]
    },
    {
      "cell_type": "markdown",
      "metadata": {
        "id": "prSwlzXoI2jY"
      },
      "source": [
        "함수의 기본적인 구조는 아래와 같습니다."
      ]
    },
    {
      "cell_type": "markdown",
      "metadata": {
        "id": "JVARp8XGI2jY"
      },
      "source": [
        "```python\n",
        "def f(x):\n",
        "    \n",
        "    <처리>\n",
        "\n",
        "    return <결과>\n",
        "```"
      ]
    },
    {
      "cell_type": "markdown",
      "metadata": {
        "id": "qgBXzuyVI2jY"
      },
      "source": [
        "함수를 정의하면서 연습해봅니다."
      ]
    },
    {
      "cell_type": "code",
      "execution_count": null,
      "metadata": {
        "id": "BdRYKz7qI2jY"
      },
      "outputs": [],
      "source": [
        "def f_sum(a, b):\n",
        "    return a + b"
      ]
    },
    {
      "cell_type": "code",
      "execution_count": null,
      "metadata": {
        "id": "clDEpZ0ZI2jY"
      },
      "outputs": [],
      "source": [
        "def f_sum(a, b): return a + b"
      ]
    },
    {
      "cell_type": "code",
      "execution_count": null,
      "metadata": {
        "id": "2XhnYHOMI2jY",
        "outputId": "284ab770-42b9-4bed-f7a0-7e4261ed1fda"
      },
      "outputs": [
        {
          "data": {
            "text/plain": [
              "5"
            ]
          },
          "execution_count": 28,
          "metadata": {},
          "output_type": "execute_result"
        }
      ],
      "source": [
        "f_sum(2, 3)"
      ]
    },
    {
      "cell_type": "markdown",
      "metadata": {
        "id": "2N_wli3bI2jY"
      },
      "source": [
        "*docstring*은 다른 사용자가 사용자 정의 함수의 사용법을 알 수 있게 도와줍니다."
      ]
    },
    {
      "cell_type": "code",
      "execution_count": null,
      "metadata": {
        "id": "-izSdSxuI2jY"
      },
      "outputs": [],
      "source": [
        "def f_sum(a: float, b: float):\n",
        "    '''\n",
        "    Parameters\n",
        "    ---\n",
        "    a: 더할 첫 번째 수\n",
        "    b: 더할 두 번째 수\n",
        "\n",
        "    Returns\n",
        "    ---\n",
        "    더한 값\n",
        "    '''\n",
        "\n",
        "    return a + b"
      ]
    },
    {
      "cell_type": "markdown",
      "metadata": {
        "id": "ft8wRF5XI2jZ"
      },
      "source": [
        "`<function>?` 은 함수의 사용방법 확인할 때 사용합니다."
      ]
    },
    {
      "cell_type": "code",
      "execution_count": null,
      "metadata": {
        "id": "A7FQ2HWzI2jZ",
        "outputId": "5529c086-2a00-4c7c-f437-a5d2d816329d"
      },
      "outputs": [
        {
          "name": "stdout",
          "output_type": "stream",
          "text": [
            "\u001b[0;31mSignature:\u001b[0m \u001b[0mf_sum\u001b[0m\u001b[0;34m(\u001b[0m\u001b[0ma\u001b[0m\u001b[0;34m:\u001b[0m \u001b[0mfloat\u001b[0m\u001b[0;34m,\u001b[0m \u001b[0mb\u001b[0m\u001b[0;34m:\u001b[0m \u001b[0mfloat\u001b[0m\u001b[0;34m)\u001b[0m\u001b[0;34m\u001b[0m\u001b[0;34m\u001b[0m\u001b[0m\n",
            "\u001b[0;31mDocstring:\u001b[0m\n",
            "Parameters\n",
            "---\n",
            "a: 더할 첫 번째 수\n",
            "b: 더할 두 번째 수\n",
            "\n",
            "Returns\n",
            "---\n",
            "더한 값\n",
            "\u001b[0;31mFile:\u001b[0m      /tmp/ipykernel_663/3624910009.py\n",
            "\u001b[0;31mType:\u001b[0m      function"
          ]
        }
      ],
      "source": [
        "f_sum?"
      ]
    },
    {
      "cell_type": "code",
      "execution_count": null,
      "metadata": {
        "id": "DC75v-oHI2jZ"
      },
      "outputs": [],
      "source": [
        "def f_times(a, b):\n",
        "    a = a + 1\n",
        "    b = b + 1\n",
        "\n",
        "    return a * b"
      ]
    },
    {
      "cell_type": "code",
      "execution_count": null,
      "metadata": {
        "id": "pKIqOOhQI2jZ",
        "outputId": "a719bd5d-a6ee-45e0-8c41-6a74de7bf890"
      },
      "outputs": [
        {
          "data": {
            "text/plain": [
              "36"
            ]
          },
          "execution_count": 38,
          "metadata": {},
          "output_type": "execute_result"
        }
      ],
      "source": [
        "f_times(5, 5)"
      ]
    },
    {
      "cell_type": "code",
      "execution_count": null,
      "metadata": {
        "id": "NAfiouFsI2jZ"
      },
      "outputs": [],
      "source": [
        "def f_times(a, b):\n",
        "    a = a + 1\n",
        "    b = b + 1"
      ]
    },
    {
      "cell_type": "code",
      "execution_count": null,
      "metadata": {
        "id": "oSywBYCBI2jZ"
      },
      "outputs": [],
      "source": [
        "f_times(5, 5)"
      ]
    },
    {
      "cell_type": "code",
      "execution_count": null,
      "metadata": {
        "id": "P0f8xQZRI2jZ",
        "outputId": "7a5cb59a-4ec6-49b6-bd59-04b985466e8a"
      },
      "outputs": [
        {
          "name": "stdout",
          "output_type": "stream",
          "text": [
            "None\n"
          ]
        }
      ],
      "source": [
        "print(f_times(5, 5))"
      ]
    },
    {
      "cell_type": "markdown",
      "metadata": {
        "id": "m69RgI5bJRl_"
      },
      "source": [
        "### 6. 제어문"
      ]
    },
    {
      "cell_type": "markdown",
      "metadata": {
        "id": "CrqEUre-I2jZ"
      },
      "source": [
        "if문의 구조는 아래와 같습니다."
      ]
    },
    {
      "cell_type": "markdown",
      "metadata": {
        "id": "Y571wYd6I2jZ"
      },
      "source": [
        "```python\n",
        "if <조건>:\n",
        "    <수행문1>\n",
        "else:\n",
        "    <수행문2>\n",
        "```"
      ]
    },
    {
      "cell_type": "code",
      "execution_count": null,
      "metadata": {
        "id": "8kd3sXVXI2jZ"
      },
      "outputs": [],
      "source": [
        "num_of_apples = 4"
      ]
    },
    {
      "cell_type": "code",
      "execution_count": null,
      "metadata": {
        "id": "eNh1YXwYI2jZ",
        "outputId": "97381dcc-924a-45c6-d46f-7c60da1a6b66"
      },
      "outputs": [
        {
          "name": "stdout",
          "output_type": "stream",
          "text": [
            "사과가 있다\n"
          ]
        }
      ],
      "source": [
        "if num_of_apples:\n",
        "  print('사과가 있다')\n",
        "else:\n",
        "  print('사과가 없다')"
      ]
    },
    {
      "cell_type": "code",
      "execution_count": null,
      "metadata": {
        "id": "2MHC_9-TI2jZ",
        "outputId": "79e09975-8b98-4c3b-a92f-4be66b12d2b4"
      },
      "outputs": [
        {
          "name": "stdout",
          "output_type": "stream",
          "text": [
            "사과가 없다\n"
          ]
        }
      ],
      "source": [
        "if 0:\n",
        "  print('사과가 있다')\n",
        "else:\n",
        "  print('사과가 없다')"
      ]
    },
    {
      "cell_type": "markdown",
      "metadata": {
        "id": "XPdJfIHEI2jZ"
      },
      "source": [
        "2개 이상의 조건은 아래와 같이 작성할 수 있습니다."
      ]
    },
    {
      "cell_type": "markdown",
      "metadata": {
        "id": "7Xatp39XI2jZ"
      },
      "source": [
        "```python\n",
        "if <조건 1>:\n",
        "    <수행문 1>\n",
        "elif <조건 i>:\n",
        "    <수행문 i>\n",
        "else:\n",
        "    <수행문 n>\n",
        "```"
      ]
    },
    {
      "cell_type": "code",
      "execution_count": null,
      "metadata": {
        "id": "6p11y5idI2ja"
      },
      "outputs": [],
      "source": [
        "wallet = ['영수증', '신용카드', '명함']"
      ]
    },
    {
      "cell_type": "code",
      "execution_count": null,
      "metadata": {
        "id": "VM02ZmRSI2ja",
        "outputId": "750617f7-fe67-4aa0-ba2d-524f065aefde"
      },
      "outputs": [
        {
          "name": "stdout",
          "output_type": "stream",
          "text": [
            "외식 하자\n"
          ]
        }
      ],
      "source": [
        "if '현금' in wallet:\n",
        "  print('외식 하자')\n",
        "elif '신용카드' in wallet:\n",
        "    print('외식 하자')\n",
        "else:\n",
        "    print('집에 가자')"
      ]
    },
    {
      "cell_type": "code",
      "execution_count": null,
      "metadata": {
        "id": "nfzjX6m3I2ja",
        "outputId": "e4843f33-1c96-45df-ffcb-437a9dbf1c64"
      },
      "outputs": [
        {
          "name": "stdout",
          "output_type": "stream",
          "text": [
            "외식 하자\n"
          ]
        }
      ],
      "source": [
        "if '현금' in wallet or '신용카드' in wallet:\n",
        "    print('외식 하자')\n",
        "else:\n",
        "    print('집에 가자')"
      ]
    },
    {
      "cell_type": "markdown",
      "metadata": {
        "id": "VbWp3gnsI2ja"
      },
      "source": [
        "`for` 문은 아래와 같습니다."
      ]
    },
    {
      "cell_type": "markdown",
      "metadata": {
        "id": "0ncKou4SI2ja"
      },
      "source": [
        "```python\n",
        "\"for\" target_list \"in\" starred_list \":\"\n",
        "    suite(실행문)\n",
        "[\"else\" \":\" suite]\n",
        "```"
      ]
    },
    {
      "cell_type": "code",
      "execution_count": null,
      "metadata": {
        "id": "2vCPdIwoI2ja",
        "outputId": "2747d0c5-5042-44b7-eaa5-8d458c699dd1"
      },
      "outputs": [
        {
          "name": "stdout",
          "output_type": "stream",
          "text": [
            "1\n",
            "2\n",
            "3\n",
            "4\n"
          ]
        }
      ],
      "source": [
        "for i in [1,2,3,4]: print(i)"
      ]
    },
    {
      "cell_type": "code",
      "execution_count": null,
      "metadata": {
        "id": "Bo5HsLrjI2ja",
        "outputId": "3573de5a-3287-4dc8-cfe9-f75dabdb56d8"
      },
      "outputs": [
        {
          "name": "stdout",
          "output_type": "stream",
          "text": [
            "0\n",
            "1\n",
            "2\n",
            "3\n",
            "4\n"
          ]
        }
      ],
      "source": [
        "for i in range(5): print(i)"
      ]
    },
    {
      "cell_type": "code",
      "execution_count": null,
      "metadata": {
        "id": "CK4_WnqdI2ja",
        "outputId": "3adb423f-8182-4e81-9772-5434f4687f7d"
      },
      "outputs": [
        {
          "data": {
            "text/plain": [
              "7"
            ]
          },
          "execution_count": 55,
          "metadata": {},
          "output_type": "execute_result"
        }
      ],
      "source": [
        "len(letters)"
      ]
    },
    {
      "cell_type": "code",
      "execution_count": null,
      "metadata": {
        "id": "nZlqRnk-I2ja",
        "outputId": "1f2bc476-8bff-4299-a649-86b91cad8fe6"
      },
      "outputs": [
        {
          "name": "stdout",
          "output_type": "stream",
          "text": [
            "\u001b[0;31mSignature:\u001b[0m \u001b[0mf_sum\u001b[0m\u001b[0;34m(\u001b[0m\u001b[0ma\u001b[0m\u001b[0;34m:\u001b[0m \u001b[0mfloat\u001b[0m\u001b[0;34m,\u001b[0m \u001b[0mb\u001b[0m\u001b[0;34m:\u001b[0m \u001b[0mfloat\u001b[0m\u001b[0;34m)\u001b[0m\u001b[0;34m\u001b[0m\u001b[0;34m\u001b[0m\u001b[0m\n",
            "\u001b[0;31mDocstring:\u001b[0m\n",
            "Parameters\n",
            "---\n",
            "a: 더할 첫 번째 수\n",
            "b: 더할 두 번째 수\n",
            "\n",
            "Returns\n",
            "---\n",
            "더한 값\n",
            "\u001b[0;31mFile:\u001b[0m      /tmp/ipykernel_663/3624910009.py\n",
            "\u001b[0;31mType:\u001b[0m      function"
          ]
        }
      ],
      "source": [
        "f_sum"
      ]
    },
    {
      "cell_type": "code",
      "execution_count": null,
      "metadata": {
        "id": "areS2PsCI2ja",
        "outputId": "da6887ca-d271-487c-cf6e-946517da396c"
      },
      "outputs": [
        {
          "name": "stdout",
          "output_type": "stream",
          "text": [
            "0 g\n",
            "1 f\n",
            "2 e\n",
            "3 d\n",
            "4 c\n",
            "5 b\n",
            "6 a\n"
          ]
        }
      ],
      "source": [
        "for idx in range(len(letters)): print(idx, letters[idx])"
      ]
    },
    {
      "cell_type": "markdown",
      "metadata": {
        "id": "bFxZfQHyI2ja"
      },
      "source": [
        "`for` 문을 활용해 새로운 리스트를 만들어 봅니다."
      ]
    },
    {
      "cell_type": "code",
      "execution_count": null,
      "metadata": {
        "id": "Nym3SVJBI2ja"
      },
      "outputs": [],
      "source": [
        "a = [1, 2, 3, 4]\n",
        "a_squares = []"
      ]
    },
    {
      "cell_type": "code",
      "execution_count": null,
      "metadata": {
        "id": "0Oej4Y1ZI2ja"
      },
      "outputs": [],
      "source": [
        "for num in a: a_squares.append(num**2)"
      ]
    },
    {
      "cell_type": "markdown",
      "metadata": {
        "id": "JyeZYMusI2ja"
      },
      "source": [
        "`for` 문을 항상 사용해야 하는 것은 아닙니다.\n",
        "\n",
        "(리스트 컴프리헨션 사용)"
      ]
    },
    {
      "cell_type": "code",
      "execution_count": null,
      "metadata": {
        "id": "xQ0Hq3LzI2jb",
        "outputId": "cd21a9d4-bdd9-4260-ac9f-477d77b59a12"
      },
      "outputs": [
        {
          "data": {
            "text/plain": [
              "[1, 4, 9, 16]"
            ]
          },
          "execution_count": 84,
          "metadata": {},
          "output_type": "execute_result"
        }
      ],
      "source": [
        "[num**2 for num in a]"
      ]
    },
    {
      "cell_type": "markdown",
      "metadata": {
        "id": "pghrsBZoI2jb"
      },
      "source": [
        "`while` 문은 표현식(assignment_expression)이 참인 동안 실행을 반복하는 데 사용합니다."
      ]
    },
    {
      "cell_type": "markdown",
      "metadata": {
        "id": "FHEjjkrbI2jb"
      },
      "source": [
        "```\n",
        "while_stmt ::=  \"while\" assignment_expression \":\" suite\n",
        "                [\"else\" \":\" suite]\n",
        "```"
      ]
    },
    {
      "cell_type": "code",
      "execution_count": null,
      "metadata": {
        "id": "jwTb9zdxI2jb",
        "outputId": "0e482b96-8e12-4733-a897-b9e6d2713590"
      },
      "outputs": [
        {
          "name": "stdout",
          "output_type": "stream",
          "text": [
            "1\n",
            "2\n",
            "3\n",
            "4\n",
            "5\n",
            "6\n",
            "7\n",
            "8\n",
            "9\n",
            "10\n"
          ]
        }
      ],
      "source": [
        "i = 0\n",
        "\n",
        "while i < 10:\n",
        "    i += 1\n",
        "    print(i)"
      ]
    },
    {
      "cell_type": "markdown",
      "metadata": {
        "id": "iEHquWNII2jb"
      },
      "source": [
        "`break` 문은 반복(loop) 중간에 반복을 멈출 수 있는 방법입니다."
      ]
    },
    {
      "cell_type": "code",
      "execution_count": null,
      "metadata": {
        "id": "otu2FfYlI2jb",
        "outputId": "25124088-4545-493f-80a7-1d5046273954"
      },
      "outputs": [
        {
          "name": "stdout",
          "output_type": "stream",
          "text": [
            "1\n",
            "2\n",
            "3\n",
            "4\n",
            "5\n",
            "6\n",
            "7\n"
          ]
        }
      ],
      "source": [
        "i = 0\n",
        "\n",
        "while i < 10:\n",
        "    i += 1\n",
        "    print(i)\n",
        "\n",
        "    if i == 7:\n",
        "        break"
      ]
    },
    {
      "cell_type": "markdown",
      "metadata": {
        "id": "d0ADGpbVI2jb"
      },
      "source": [
        "`while` 문으로 $\\lim_{N \\to \\infty}(1 + \\frac{1}{N})^N$ 을 구해봅시다.\n",
        "\n",
        "$N = 10^i$ ($i = 0, 1, \\dots, 5$)"
      ]
    },
    {
      "cell_type": "code",
      "execution_count": null,
      "metadata": {
        "id": "aXCl8sttI2jb",
        "outputId": "e00a8ef7-0af5-4ae9-d28e-04b2f3e01fe8"
      },
      "outputs": [
        {
          "name": "stdout",
          "output_type": "stream",
          "text": [
            "2.0\n",
            "2.5937424601000023\n",
            "2.7048138294215285\n",
            "2.7169239322355936\n",
            "2.7181459268249255\n",
            "2.7182682371922975\n"
          ]
        }
      ],
      "source": [
        "i = 0\n",
        "while i <= 5:\n",
        "    N = 10**i\n",
        "    print(((1 + 1/N)**N))\n",
        "    i += 1"
      ]
    },
    {
      "cell_type": "markdown",
      "metadata": {
        "id": "vFKO3T0lI2jb"
      },
      "source": [
        "소수와 합성수를 가려내는 `prime` 함수를 작성해봅니다."
      ]
    },
    {
      "cell_type": "code",
      "execution_count": null,
      "metadata": {
        "id": "z7-fTRkCI2jb",
        "outputId": "677713a9-765e-44f5-f948-994cce4637c9"
      },
      "outputs": [
        {
          "data": {
            "text/plain": [
              "0"
            ]
          },
          "execution_count": 90,
          "metadata": {},
          "output_type": "execute_result"
        }
      ],
      "source": [
        "100 % 2"
      ]
    },
    {
      "cell_type": "code",
      "execution_count": null,
      "metadata": {
        "id": "ZBIq7dH3I2jb"
      },
      "outputs": [],
      "source": [
        "def prime(x):\n",
        "\n",
        "    i = 1\n",
        "\n",
        "    while i < x:\n",
        "        i += 1\n",
        "        if x % i == 0:\n",
        "            break\n",
        "    if x == i:\n",
        "        return \"소수\"\n",
        "    else:\n",
        "        return \"합성수\""
      ]
    },
    {
      "cell_type": "code",
      "execution_count": null,
      "metadata": {
        "id": "nfwdqUpWI2jb",
        "outputId": "525c9df3-6544-43f8-91e3-9a478bba0e15"
      },
      "outputs": [
        {
          "data": {
            "text/plain": [
              "'소수'"
            ]
          },
          "execution_count": 124,
          "metadata": {},
          "output_type": "execute_result"
        }
      ],
      "source": [
        "prime(7)"
      ]
    },
    {
      "cell_type": "code",
      "execution_count": null,
      "metadata": {
        "id": "eGUTridLI2jc"
      },
      "outputs": [],
      "source": [
        "def prime_list_comp(x):\n",
        "    if len([i for i in range(2, x) if x % i == 0]) == 0:\n",
        "        return \"소수\"\n",
        "    else:\n",
        "        return \"합성수\""
      ]
    },
    {
      "cell_type": "code",
      "execution_count": null,
      "metadata": {
        "id": "4CEZDDS9I2jc",
        "outputId": "832e136a-70ad-4001-9c0c-09f28ca19bad"
      },
      "outputs": [
        {
          "data": {
            "text/plain": [
              "'소수'"
            ]
          },
          "execution_count": 125,
          "metadata": {},
          "output_type": "execute_result"
        }
      ],
      "source": [
        "prime_list_comp(7)"
      ]
    },
    {
      "cell_type": "markdown",
      "metadata": {
        "id": "YYgeOisNA2xa"
      },
      "source": [
        "### 7. 외부 라이브러리 불러오기"
      ]
    },
    {
      "cell_type": "markdown",
      "metadata": {
        "id": "W8gtW2lgI2jc"
      },
      "source": [
        "```python\n",
        "import <package_name>\n",
        "import <package_name> as <alias>\n",
        "from <package_name> import <module>\n",
        "from <package_name> import *\n",
        "```"
      ]
    },
    {
      "cell_type": "code",
      "execution_count": null,
      "metadata": {
        "id": "USzUMdr7I2jc"
      },
      "outputs": [],
      "source": [
        "import numpy as np"
      ]
    },
    {
      "cell_type": "code",
      "execution_count": null,
      "metadata": {
        "id": "VKb0V_LRI2jc",
        "outputId": "c20c3517-8218-406e-fe5f-20ca51d6ab94"
      },
      "outputs": [
        {
          "name": "stdout",
          "output_type": "stream",
          "text": [
            "\u001b[0;31mDocstring:\u001b[0m\n",
            "dot(a, b, out=None)\n",
            "\n",
            "Dot product of two arrays. Specifically,\n",
            "\n",
            "- If both `a` and `b` are 1-D arrays, it is inner product of vectors\n",
            "  (without complex conjugation).\n",
            "\n",
            "- If both `a` and `b` are 2-D arrays, it is matrix multiplication,\n",
            "  but using :func:`matmul` or ``a @ b`` is preferred.\n",
            "\n",
            "- If either `a` or `b` is 0-D (scalar), it is equivalent to\n",
            "  :func:`multiply` and using ``numpy.multiply(a, b)`` or ``a * b`` is\n",
            "  preferred.\n",
            "\n",
            "- If `a` is an N-D array and `b` is a 1-D array, it is a sum product over\n",
            "  the last axis of `a` and `b`.\n",
            "\n",
            "- If `a` is an N-D array and `b` is an M-D array (where ``M>=2``), it is a\n",
            "  sum product over the last axis of `a` and the second-to-last axis of\n",
            "  `b`::\n",
            "\n",
            "    dot(a, b)[i,j,k,m] = sum(a[i,j,:] * b[k,:,m])\n",
            "\n",
            "It uses an optimized BLAS library when possible (see `numpy.linalg`).\n",
            "\n",
            "Parameters\n",
            "----------\n",
            "a : array_like\n",
            "    First argument.\n",
            "b : array_like\n",
            "    Second argument.\n",
            "out : ndarray, optional\n",
            "    Output argument. This must have the exact kind that would be returned\n",
            "    if it was not used. In particular, it must have the right type, must be\n",
            "    C-contiguous, and its dtype must be the dtype that would be returned\n",
            "    for `dot(a,b)`. This is a performance feature. Therefore, if these\n",
            "    conditions are not met, an exception is raised, instead of attempting\n",
            "    to be flexible.\n",
            "\n",
            "Returns\n",
            "-------\n",
            "output : ndarray\n",
            "    Returns the dot product of `a` and `b`.  If `a` and `b` are both\n",
            "    scalars or both 1-D arrays then a scalar is returned; otherwise\n",
            "    an array is returned.\n",
            "    If `out` is given, then it is returned.\n",
            "\n",
            "Raises\n",
            "------\n",
            "ValueError\n",
            "    If the last dimension of `a` is not the same size as\n",
            "    the second-to-last dimension of `b`.\n",
            "\n",
            "See Also\n",
            "--------\n",
            "vdot : Complex-conjugating dot product.\n",
            "tensordot : Sum products over arbitrary axes.\n",
            "einsum : Einstein summation convention.\n",
            "matmul : '@' operator as method with out parameter.\n",
            "linalg.multi_dot : Chained dot product.\n",
            "\n",
            "Examples\n",
            "--------\n",
            ">>> np.dot(3, 4)\n",
            "12\n",
            "\n",
            "Neither argument is complex-conjugated:\n",
            "\n",
            ">>> np.dot([2j, 3j], [2j, 3j])\n",
            "(-13+0j)\n",
            "\n",
            "For 2-D arrays it is the matrix product:\n",
            "\n",
            ">>> a = [[1, 0], [0, 1]]\n",
            ">>> b = [[4, 1], [2, 2]]\n",
            ">>> np.dot(a, b)\n",
            "array([[4, 1],\n",
            "       [2, 2]])\n",
            "\n",
            ">>> a = np.arange(3*4*5*6).reshape((3,4,5,6))\n",
            ">>> b = np.arange(3*4*5*6)[::-1].reshape((5,4,6,3))\n",
            ">>> np.dot(a, b)[2,3,2,1,2,2]\n",
            "499128\n",
            ">>> sum(a[2,3,2,:] * b[1,2,:,2])\n",
            "499128\n",
            "\u001b[0;31mType:\u001b[0m      function"
          ]
        }
      ],
      "source": [
        "np.dot?"
      ]
    },
    {
      "cell_type": "code",
      "execution_count": null,
      "metadata": {
        "id": "84Xdcy1NI2jc"
      },
      "outputs": [],
      "source": [
        "from sklearn.preprocessing import StandardScaler"
      ]
    },
    {
      "cell_type": "markdown",
      "metadata": {
        "id": "B7asoCE1KO7Q"
      },
      "source": [
        "### 참고문헌\n",
        "\n",
        "- 파이썬 자습서, https://docs.python.org/ko/3/tutorial\n",
        "- Project Jupyter, https://en.wikipedia.org/wiki/Project_Jupyter"
      ]
    }
  ],
  "metadata": {
    "colab": {
      "provenance": [],
      "include_colab_link": true
    },
    "kernelspec": {
      "display_name": "Python 3",
      "name": "python3"
    },
    "language_info": {
      "codemirror_mode": {
        "name": "ipython",
        "version": 3
      },
      "file_extension": ".py",
      "mimetype": "text/x-python",
      "name": "python",
      "nbconvert_exporter": "python",
      "pygments_lexer": "ipython3",
      "version": "3.10.12"
    }
  },
  "nbformat": 4,
  "nbformat_minor": 0
}
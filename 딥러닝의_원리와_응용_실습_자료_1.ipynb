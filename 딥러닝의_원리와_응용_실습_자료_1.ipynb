{
  "nbformat": 4,
  "nbformat_minor": 0,
  "metadata": {
    "colab": {
      "provenance": [],
      "toc_visible": true,
      "gpuType": "T4",
      "include_colab_link": true
    },
    "kernelspec": {
      "name": "python3",
      "display_name": "Python 3"
    },
    "language_info": {
      "name": "python"
    },
    "accelerator": "GPU"
  },
  "cells": [
    {
      "cell_type": "markdown",
      "metadata": {
        "id": "view-in-github",
        "colab_type": "text"
      },
      "source": [
        "<a href=\"https://colab.research.google.com/github/daonly/2023Autumn/blob/main/%EB%94%A5%EB%9F%AC%EB%8B%9D%EC%9D%98_%EC%9B%90%EB%A6%AC%EC%99%80_%EC%9D%91%EC%9A%A9_%EC%8B%A4%EC%8A%B5_%EC%9E%90%EB%A3%8C_1.ipynb\" target=\"_parent\"><img src=\"https://colab.research.google.com/assets/colab-badge.svg\" alt=\"Open In Colab\"/></a>"
      ]
    },
    {
      "cell_type": "markdown",
      "source": [
        "![image](https://github.com/Koo-BM/deeplearning_from_bottom/assets/93233323/9b25bb2f-6241-4bec-b262-f2b626bc3910)"
      ],
      "metadata": {
        "id": "MUj5hSxyfAXT"
      }
    },
    {
      "cell_type": "markdown",
      "source": [
        "# 1. 딥러닝을 위한 파이썬(기본편)"
      ],
      "metadata": {
        "id": "GsCUXxnBfCgX"
      }
    },
    {
      "cell_type": "code",
      "source": [],
      "metadata": {
        "id": "F2lCQ5MSaHYd"
      },
      "execution_count": null,
      "outputs": []
    },
    {
      "cell_type": "markdown",
      "source": [
        "1. Import에 대하여\n",
        "2. Type(데이터 타입)\n",
        "3. Tuple(튜플)\n",
        "4. List(리스트) & 슬라이싱(잘라내기)\n",
        "5. Numpy Array (배열)\n",
        "6. Shape (차원, 모양새)\n",
        "7. function(함수)\n",
        "8. for in (반복문)"
      ],
      "metadata": {
        "id": "cmZ8sScIqnn0"
      }
    },
    {
      "cell_type": "markdown",
      "source": [
        "# 제목"
      ],
      "metadata": {
        "id": "ZiSqzA-kaIfl"
      }
    },
    {
      "cell_type": "markdown",
      "source": [
        "## Import에 대하여"
      ],
      "metadata": {
        "id": "qmEAYLNDquhu"
      }
    },
    {
      "cell_type": "code",
      "source": [
        "import pandas as pd\n",
        "import numpy as np"
      ],
      "metadata": {
        "id": "Gn0o33XSq0Eb"
      },
      "execution_count": null,
      "outputs": []
    },
    {
      "cell_type": "markdown",
      "source": [
        "as 뒤에는 축약"
      ],
      "metadata": {
        "id": "ZZ_vXNqFq7AK"
      }
    },
    {
      "cell_type": "code",
      "source": [
        "pd"
      ],
      "metadata": {
        "colab": {
          "base_uri": "https://localhost:8080/"
        },
        "id": "Z4ghVMWgq-Ie",
        "outputId": "8dc4f23a-df79-43bd-a2b9-4dcd97e8994a"
      },
      "execution_count": null,
      "outputs": [
        {
          "output_type": "execute_result",
          "data": {
            "text/plain": [
              "<module 'pandas' from '/usr/local/lib/python3.10/dist-packages/pandas/__init__.py'>"
            ]
          },
          "metadata": {},
          "execution_count": 5
        }
      ]
    },
    {
      "cell_type": "markdown",
      "source": [
        "## Type"
      ],
      "metadata": {
        "id": "W3lbilCeq-wF"
      }
    },
    {
      "cell_type": "markdown",
      "source": [
        "### 문자형"
      ],
      "metadata": {
        "id": "cVagavAprNe3"
      }
    },
    {
      "cell_type": "code",
      "source": [
        "word = 'Deeplearning is FUN'"
      ],
      "metadata": {
        "id": "dQKeE-hIrPtw"
      },
      "execution_count": null,
      "outputs": []
    },
    {
      "cell_type": "code",
      "source": [
        "type(word)"
      ],
      "metadata": {
        "colab": {
          "base_uri": "https://localhost:8080/"
        },
        "id": "MY4qf04wrQwU",
        "outputId": "7df3b2df-9009-4090-9f7b-8f5519fb86ee"
      },
      "execution_count": null,
      "outputs": [
        {
          "output_type": "execute_result",
          "data": {
            "text/plain": [
              "str"
            ]
          },
          "metadata": {},
          "execution_count": 8
        }
      ]
    },
    {
      "cell_type": "code",
      "source": [
        "number = '1'"
      ],
      "metadata": {
        "id": "SZE8L2FKrSHZ"
      },
      "execution_count": null,
      "outputs": []
    },
    {
      "cell_type": "code",
      "source": [
        "type(number)"
      ],
      "metadata": {
        "colab": {
          "base_uri": "https://localhost:8080/"
        },
        "id": "Xw1v-C_OrTrJ",
        "outputId": "3ddfb985-f298-4b51-c483-726743936280"
      },
      "execution_count": null,
      "outputs": [
        {
          "output_type": "execute_result",
          "data": {
            "text/plain": [
              "str"
            ]
          },
          "metadata": {},
          "execution_count": 10
        }
      ]
    },
    {
      "cell_type": "markdown",
      "source": [
        "### 정수(int)"
      ],
      "metadata": {
        "id": "BW5hzSNrrUip"
      }
    },
    {
      "cell_type": "code",
      "source": [
        "number = 1"
      ],
      "metadata": {
        "id": "BHAQOWX-rXL4"
      },
      "execution_count": null,
      "outputs": []
    },
    {
      "cell_type": "code",
      "source": [
        "number"
      ],
      "metadata": {
        "colab": {
          "base_uri": "https://localhost:8080/"
        },
        "id": "IJD-LqjfrZZF",
        "outputId": "320404d1-ad4d-430d-cf1b-78f0dbaeac16"
      },
      "execution_count": null,
      "outputs": [
        {
          "output_type": "execute_result",
          "data": {
            "text/plain": [
              "1"
            ]
          },
          "metadata": {},
          "execution_count": 12
        }
      ]
    },
    {
      "cell_type": "code",
      "source": [
        "type(number)"
      ],
      "metadata": {
        "colab": {
          "base_uri": "https://localhost:8080/"
        },
        "id": "3qiEBxcZrajt",
        "outputId": "6c712a75-34e7-44f6-f18a-e47f5800f280"
      },
      "execution_count": null,
      "outputs": [
        {
          "output_type": "execute_result",
          "data": {
            "text/plain": [
              "int"
            ]
          },
          "metadata": {},
          "execution_count": 13
        }
      ]
    },
    {
      "cell_type": "markdown",
      "source": [
        "### 실수(float)"
      ],
      "metadata": {
        "id": "tfd_APTprbL4"
      }
    },
    {
      "cell_type": "code",
      "source": [
        "number = 3.14"
      ],
      "metadata": {
        "id": "akf2-T9greox"
      },
      "execution_count": null,
      "outputs": []
    },
    {
      "cell_type": "code",
      "source": [
        "type(number)"
      ],
      "metadata": {
        "colab": {
          "base_uri": "https://localhost:8080/"
        },
        "id": "PSfyx22yrfh6",
        "outputId": "4b37f819-8914-423e-9af2-6580aae0aae1"
      },
      "execution_count": null,
      "outputs": [
        {
          "output_type": "execute_result",
          "data": {
            "text/plain": [
              "float"
            ]
          },
          "metadata": {},
          "execution_count": 15
        }
      ]
    },
    {
      "cell_type": "markdown",
      "source": [
        "### 데이터 타입 변환"
      ],
      "metadata": {
        "id": "wg9L6TMgrgP-"
      }
    },
    {
      "cell_type": "code",
      "source": [
        "number = 5"
      ],
      "metadata": {
        "id": "-6e45tdArkL1"
      },
      "execution_count": null,
      "outputs": []
    },
    {
      "cell_type": "code",
      "source": [
        "type(number)"
      ],
      "metadata": {
        "colab": {
          "base_uri": "https://localhost:8080/"
        },
        "id": "yyk2n5SorlST",
        "outputId": "91701fab-b0bd-43a5-ea4c-e34beb844132"
      },
      "execution_count": null,
      "outputs": [
        {
          "output_type": "execute_result",
          "data": {
            "text/plain": [
              "int"
            ]
          },
          "metadata": {},
          "execution_count": 17
        }
      ]
    },
    {
      "cell_type": "code",
      "source": [
        "type(number/1.0)"
      ],
      "metadata": {
        "colab": {
          "base_uri": "https://localhost:8080/"
        },
        "id": "ejt27LtSrmE5",
        "outputId": "b1937baa-81f5-41e1-8a20-be65cdaa3a00"
      },
      "execution_count": null,
      "outputs": [
        {
          "output_type": "execute_result",
          "data": {
            "text/plain": [
              "float"
            ]
          },
          "metadata": {},
          "execution_count": 18
        }
      ]
    },
    {
      "cell_type": "code",
      "source": [
        "number/1.0"
      ],
      "metadata": {
        "colab": {
          "base_uri": "https://localhost:8080/"
        },
        "id": "2YGYiM9LrnF3",
        "outputId": "99c6f7df-7367-4bd0-a7c4-7a8d569c96ba"
      },
      "execution_count": null,
      "outputs": [
        {
          "output_type": "execute_result",
          "data": {
            "text/plain": [
              "5.0"
            ]
          },
          "metadata": {},
          "execution_count": 19
        }
      ]
    },
    {
      "cell_type": "code",
      "source": [
        "number = 3.14"
      ],
      "metadata": {
        "id": "YJNu7MnWrpDp"
      },
      "execution_count": null,
      "outputs": []
    },
    {
      "cell_type": "code",
      "source": [
        "int(number)"
      ],
      "metadata": {
        "colab": {
          "base_uri": "https://localhost:8080/"
        },
        "id": "pCGS40XGrqaB",
        "outputId": "6142d46c-1d3c-4be8-ab5f-99570ffc85fc"
      },
      "execution_count": null,
      "outputs": [
        {
          "output_type": "execute_result",
          "data": {
            "text/plain": [
              "3"
            ]
          },
          "metadata": {},
          "execution_count": 21
        }
      ]
    },
    {
      "cell_type": "code",
      "source": [
        "number = 1"
      ],
      "metadata": {
        "id": "QR2WeBaNrq_9"
      },
      "execution_count": null,
      "outputs": []
    },
    {
      "cell_type": "code",
      "source": [
        "float(number)"
      ],
      "metadata": {
        "colab": {
          "base_uri": "https://localhost:8080/"
        },
        "id": "gUfsXpMDrr6I",
        "outputId": "404de8fc-1909-40df-a009-814ff975dc70"
      },
      "execution_count": null,
      "outputs": [
        {
          "output_type": "execute_result",
          "data": {
            "text/plain": [
              "1.0"
            ]
          },
          "metadata": {},
          "execution_count": 23
        }
      ]
    },
    {
      "cell_type": "markdown",
      "source": [
        "## List (리스트) & 슬라이싱 (잘라내기)"
      ],
      "metadata": {
        "id": "XkbdTygurssG"
      }
    },
    {
      "cell_type": "markdown",
      "source": [
        "꺾쇠 [] 안에 복수개의 데이터를 넣어준 집합"
      ],
      "metadata": {
        "id": "e4npg0-Fr8bI"
      }
    },
    {
      "cell_type": "markdown",
      "source": [
        "1차원 리스트 생성"
      ],
      "metadata": {
        "id": "_ELqZqZ2r9ln"
      }
    },
    {
      "cell_type": "code",
      "source": [
        "x = [10,20,30,40,50,60,70,80]"
      ],
      "metadata": {
        "id": "wIcF61xzsM11"
      },
      "execution_count": null,
      "outputs": []
    },
    {
      "cell_type": "code",
      "source": [
        "x"
      ],
      "metadata": {
        "colab": {
          "base_uri": "https://localhost:8080/"
        },
        "id": "Xrqto71Y3jw4",
        "outputId": "dc14ebbe-dfba-49e2-f7bb-92205349598b"
      },
      "execution_count": null,
      "outputs": [
        {
          "output_type": "execute_result",
          "data": {
            "text/plain": [
              "[10, 20, 30, 40, 50, 60, 70, 80]"
            ]
          },
          "metadata": {},
          "execution_count": 25
        }
      ]
    },
    {
      "cell_type": "markdown",
      "source": [
        "2차원 리스트 생성"
      ],
      "metadata": {
        "id": "VlW3lGVU3n4m"
      }
    },
    {
      "cell_type": "code",
      "source": [
        "x_2d = [\n",
        "        [10,20,30,40,50],\n",
        "        [60,70,80,90,100],\n",
        "        ]"
      ],
      "metadata": {
        "id": "_wMso33q3kWe"
      },
      "execution_count": null,
      "outputs": []
    },
    {
      "cell_type": "code",
      "source": [
        "x_2d"
      ],
      "metadata": {
        "colab": {
          "base_uri": "https://localhost:8080/"
        },
        "id": "iSdR5pHl3mPp",
        "outputId": "4978e84e-7524-4e61-a141-15346d2690d1"
      },
      "execution_count": null,
      "outputs": [
        {
          "output_type": "execute_result",
          "data": {
            "text/plain": [
              "[[10, 20, 30, 40, 50], [60, 70, 80, 90, 100]]"
            ]
          },
          "metadata": {},
          "execution_count": 27
        }
      ]
    },
    {
      "cell_type": "markdown",
      "source": [
        "### 색인(index)"
      ],
      "metadata": {
        "id": "xhKdtC6h3m8O"
      }
    },
    {
      "cell_type": "markdown",
      "source": [
        "리스트는 0번 index부터 시작합니다."
      ],
      "metadata": {
        "id": "6YaDS4_e322_"
      }
    },
    {
      "cell_type": "code",
      "source": [
        "x = [10,20,30,40,50,60,70,80]"
      ],
      "metadata": {
        "id": "gmy-UGeD35Af"
      },
      "execution_count": null,
      "outputs": []
    },
    {
      "cell_type": "code",
      "source": [
        "x[0]"
      ],
      "metadata": {
        "colab": {
          "base_uri": "https://localhost:8080/"
        },
        "id": "0GzFIz6537Qe",
        "outputId": "82231871-7e1f-4100-9c34-c3c4f2b7542a"
      },
      "execution_count": null,
      "outputs": [
        {
          "output_type": "execute_result",
          "data": {
            "text/plain": [
              "10"
            ]
          },
          "metadata": {},
          "execution_count": 29
        }
      ]
    },
    {
      "cell_type": "code",
      "source": [
        "x[3]"
      ],
      "metadata": {
        "colab": {
          "base_uri": "https://localhost:8080/"
        },
        "id": "OxhxmhED38AO",
        "outputId": "520d86a2-8ecb-45fa-b29b-225cfe1d64a7"
      },
      "execution_count": null,
      "outputs": [
        {
          "output_type": "execute_result",
          "data": {
            "text/plain": [
              "40"
            ]
          },
          "metadata": {},
          "execution_count": 30
        }
      ]
    },
    {
      "cell_type": "code",
      "source": [
        "x[8]"
      ],
      "metadata": {
        "colab": {
          "base_uri": "https://localhost:8080/",
          "height": 186
        },
        "id": "Hz7gt6-S38uN",
        "outputId": "e07ec149-a556-4050-e6ba-30465724c7ab"
      },
      "execution_count": null,
      "outputs": [
        {
          "output_type": "error",
          "ename": "IndexError",
          "evalue": "ignored",
          "traceback": [
            "\u001b[0;31m---------------------------------------------------------------------------\u001b[0m",
            "\u001b[0;31mIndexError\u001b[0m                                Traceback (most recent call last)",
            "\u001b[0;32m<ipython-input-31-47020b7a715b>\u001b[0m in \u001b[0;36m<cell line: 1>\u001b[0;34m()\u001b[0m\n\u001b[0;32m----> 1\u001b[0;31m \u001b[0mx\u001b[0m\u001b[0;34m[\u001b[0m\u001b[0;36m8\u001b[0m\u001b[0;34m]\u001b[0m\u001b[0;34m\u001b[0m\u001b[0;34m\u001b[0m\u001b[0m\n\u001b[0m",
            "\u001b[0;31mIndexError\u001b[0m: list index out of range"
          ]
        }
      ]
    },
    {
      "cell_type": "markdown",
      "source": [
        "-1은 거꾸로 색인합니다"
      ],
      "metadata": {
        "id": "HUfupqlk39c9"
      }
    },
    {
      "cell_type": "code",
      "source": [
        "x[-1]"
      ],
      "metadata": {
        "colab": {
          "base_uri": "https://localhost:8080/"
        },
        "id": "UxIFUuR63_R7",
        "outputId": "c77d3f13-1f14-41f3-a3db-7a7eed823f78"
      },
      "execution_count": null,
      "outputs": [
        {
          "output_type": "execute_result",
          "data": {
            "text/plain": [
              "80"
            ]
          },
          "metadata": {},
          "execution_count": 32
        }
      ]
    },
    {
      "cell_type": "code",
      "source": [
        "x[-8]"
      ],
      "metadata": {
        "colab": {
          "base_uri": "https://localhost:8080/"
        },
        "id": "8ZTln7IY4BBj",
        "outputId": "0cad4788-e5ac-4871-ac39-6dce713c406e"
      },
      "execution_count": null,
      "outputs": [
        {
          "output_type": "execute_result",
          "data": {
            "text/plain": [
              "10"
            ]
          },
          "metadata": {},
          "execution_count": 33
        }
      ]
    },
    {
      "cell_type": "markdown",
      "source": [
        "### 슬라이싱"
      ],
      "metadata": {
        "id": "ZnY1lSZP4DEZ"
      }
    },
    {
      "cell_type": "markdown",
      "source": [
        ": 기준으로 왼쪽은 포함 /:기준으로 오른쪽은 미만"
      ],
      "metadata": {
        "id": "s2U176k04Fp6"
      }
    },
    {
      "cell_type": "code",
      "source": [
        "x = [10,20,30,40,50,60,70,80]"
      ],
      "metadata": {
        "id": "mk1xJRZw4HwZ"
      },
      "execution_count": null,
      "outputs": []
    },
    {
      "cell_type": "code",
      "source": [
        "x[0:4]"
      ],
      "metadata": {
        "colab": {
          "base_uri": "https://localhost:8080/"
        },
        "id": "zDmyDxhq4I7Y",
        "outputId": "d52ae8c9-c93b-4468-9066-b4c6e9868736"
      },
      "execution_count": null,
      "outputs": [
        {
          "output_type": "execute_result",
          "data": {
            "text/plain": [
              "[10, 20, 30, 40]"
            ]
          },
          "metadata": {},
          "execution_count": 35
        }
      ]
    },
    {
      "cell_type": "code",
      "source": [
        "x[:4]"
      ],
      "metadata": {
        "colab": {
          "base_uri": "https://localhost:8080/"
        },
        "id": "MucZr90f4Kxd",
        "outputId": "d822d38e-ed57-43a7-9103-41bdfee14fe8"
      },
      "execution_count": null,
      "outputs": [
        {
          "output_type": "execute_result",
          "data": {
            "text/plain": [
              "[10, 20, 30, 40]"
            ]
          },
          "metadata": {},
          "execution_count": 36
        }
      ]
    },
    {
      "cell_type": "code",
      "source": [
        "x[3:]"
      ],
      "metadata": {
        "colab": {
          "base_uri": "https://localhost:8080/"
        },
        "id": "lkBpnB4K4LmC",
        "outputId": "f810eb7c-d418-475e-e16e-ead60ecd42bd"
      },
      "execution_count": null,
      "outputs": [
        {
          "output_type": "execute_result",
          "data": {
            "text/plain": [
              "[40, 50, 60, 70, 80]"
            ]
          },
          "metadata": {},
          "execution_count": 37
        }
      ]
    },
    {
      "cell_type": "code",
      "source": [
        "x[:-3]"
      ],
      "metadata": {
        "colab": {
          "base_uri": "https://localhost:8080/"
        },
        "id": "abpEdH464NDD",
        "outputId": "b0219ceb-f241-40ed-ef13-99c3cccb6bc0"
      },
      "execution_count": null,
      "outputs": [
        {
          "output_type": "execute_result",
          "data": {
            "text/plain": [
              "[10, 20, 30, 40, 50]"
            ]
          },
          "metadata": {},
          "execution_count": 38
        }
      ]
    },
    {
      "cell_type": "code",
      "source": [
        "x[-5:-3]"
      ],
      "metadata": {
        "colab": {
          "base_uri": "https://localhost:8080/"
        },
        "id": "wSyNTeP64N_H",
        "outputId": "df7d5f0b-c07a-4ea2-fa0e-057e2cdc092b"
      },
      "execution_count": null,
      "outputs": [
        {
          "output_type": "execute_result",
          "data": {
            "text/plain": [
              "[40, 50]"
            ]
          },
          "metadata": {},
          "execution_count": 39
        }
      ]
    },
    {
      "cell_type": "markdown",
      "source": [
        "## Tuple(튜플)"
      ],
      "metadata": {
        "id": "fAMFrA7q4Qbj"
      }
    },
    {
      "cell_type": "markdown",
      "source": [
        "튜플은 데이터가 읽기 전용인 집합체다"
      ],
      "metadata": {
        "id": "eVrWR9Au4U8x"
      }
    },
    {
      "cell_type": "code",
      "source": [
        "x = [10,20,30]"
      ],
      "metadata": {
        "id": "hrhDIrln4f-1"
      },
      "execution_count": null,
      "outputs": []
    },
    {
      "cell_type": "code",
      "source": [
        "x[0]"
      ],
      "metadata": {
        "colab": {
          "base_uri": "https://localhost:8080/"
        },
        "id": "lwXrs9id4wh7",
        "outputId": "8a22241d-864a-4815-956d-8ffe66cd4bbf"
      },
      "execution_count": null,
      "outputs": [
        {
          "output_type": "execute_result",
          "data": {
            "text/plain": [
              "10"
            ]
          },
          "metadata": {},
          "execution_count": 41
        }
      ]
    },
    {
      "cell_type": "code",
      "source": [
        "x[0] = 99"
      ],
      "metadata": {
        "id": "9Y8MsR7t4yJ8"
      },
      "execution_count": null,
      "outputs": []
    },
    {
      "cell_type": "code",
      "source": [
        "x"
      ],
      "metadata": {
        "colab": {
          "base_uri": "https://localhost:8080/"
        },
        "id": "H1cez-bg4y50",
        "outputId": "070c7f0e-f2e5-4f92-d090-f76ca196ac9b"
      },
      "execution_count": null,
      "outputs": [
        {
          "output_type": "execute_result",
          "data": {
            "text/plain": [
              "[99, 20, 30]"
            ]
          },
          "metadata": {},
          "execution_count": 43
        }
      ]
    },
    {
      "cell_type": "code",
      "source": [
        "x = (10,20,30)"
      ],
      "metadata": {
        "id": "At-qw_-34zht"
      },
      "execution_count": null,
      "outputs": []
    },
    {
      "cell_type": "code",
      "source": [
        "x[0] = 99"
      ],
      "metadata": {
        "colab": {
          "base_uri": "https://localhost:8080/",
          "height": 186
        },
        "id": "z25YsIx940jf",
        "outputId": "4b5ab55f-f16f-4f74-d58d-467b7f688cb7"
      },
      "execution_count": null,
      "outputs": [
        {
          "output_type": "error",
          "ename": "TypeError",
          "evalue": "ignored",
          "traceback": [
            "\u001b[0;31m---------------------------------------------------------------------------\u001b[0m",
            "\u001b[0;31mTypeError\u001b[0m                                 Traceback (most recent call last)",
            "\u001b[0;32m<ipython-input-45-8cfed8487fe6>\u001b[0m in \u001b[0;36m<cell line: 1>\u001b[0;34m()\u001b[0m\n\u001b[0;32m----> 1\u001b[0;31m \u001b[0mx\u001b[0m\u001b[0;34m[\u001b[0m\u001b[0;36m0\u001b[0m\u001b[0;34m]\u001b[0m \u001b[0;34m=\u001b[0m \u001b[0;36m99\u001b[0m\u001b[0;34m\u001b[0m\u001b[0;34m\u001b[0m\u001b[0m\n\u001b[0m",
            "\u001b[0;31mTypeError\u001b[0m: 'tuple' object does not support item assignment"
          ]
        }
      ]
    },
    {
      "cell_type": "markdown",
      "source": [
        "## Dictionary(딕셔너리)"
      ],
      "metadata": {
        "id": "pfgQrHW_41UW"
      }
    },
    {
      "cell_type": "code",
      "source": [
        "book = {'price':10000}"
      ],
      "metadata": {
        "id": "L4RN-Mq-9Xtv"
      },
      "execution_count": null,
      "outputs": []
    },
    {
      "cell_type": "code",
      "source": [
        "book['price']"
      ],
      "metadata": {
        "colab": {
          "base_uri": "https://localhost:8080/"
        },
        "id": "0tQe8Tm79jKf",
        "outputId": "2770fb18-d331-4077-da3c-873d1ec66a7a"
      },
      "execution_count": null,
      "outputs": [
        {
          "output_type": "execute_result",
          "data": {
            "text/plain": [
              "10000"
            ]
          },
          "metadata": {},
          "execution_count": 47
        }
      ]
    },
    {
      "cell_type": "code",
      "source": [
        "book['name'] = '딥러닝'"
      ],
      "metadata": {
        "id": "zNqmwRSY9kSh"
      },
      "execution_count": null,
      "outputs": []
    },
    {
      "cell_type": "code",
      "source": [
        "book"
      ],
      "metadata": {
        "colab": {
          "base_uri": "https://localhost:8080/"
        },
        "id": "q3vcf6ap9nqx",
        "outputId": "821e3b30-4197-4eb0-be20-2a069bd67125"
      },
      "execution_count": null,
      "outputs": [
        {
          "output_type": "execute_result",
          "data": {
            "text/plain": [
              "{'price': 10000, 'name': '딥러닝'}"
            ]
          },
          "metadata": {},
          "execution_count": 49
        }
      ]
    },
    {
      "cell_type": "code",
      "source": [
        "for i in book.keys():\n",
        "    print(i)"
      ],
      "metadata": {
        "colab": {
          "base_uri": "https://localhost:8080/"
        },
        "id": "V6IH0XtAcceX",
        "outputId": "fb8fae8e-2030-457b-9b46-015725b8c3e1"
      },
      "execution_count": null,
      "outputs": [
        {
          "output_type": "stream",
          "name": "stdout",
          "text": [
            "price\n",
            "name\n"
          ]
        }
      ]
    },
    {
      "cell_type": "markdown",
      "source": [
        "## Numpy Array(배열)"
      ],
      "metadata": {
        "id": "g5CGRFoc9oe0"
      }
    },
    {
      "cell_type": "code",
      "source": [
        "x = [10,20,30,40,50,60,70,80]"
      ],
      "metadata": {
        "id": "y7V_o93N90r5"
      },
      "execution_count": null,
      "outputs": []
    },
    {
      "cell_type": "code",
      "source": [
        "type(x)"
      ],
      "metadata": {
        "colab": {
          "base_uri": "https://localhost:8080/"
        },
        "id": "SjDS5m-s92FO",
        "outputId": "7350fe37-d1e3-408c-8174-d93a9e3ce3d7"
      },
      "execution_count": null,
      "outputs": [
        {
          "output_type": "execute_result",
          "data": {
            "text/plain": [
              "list"
            ]
          },
          "metadata": {},
          "execution_count": 54
        }
      ]
    },
    {
      "cell_type": "code",
      "source": [
        "import numpy as np"
      ],
      "metadata": {
        "id": "DFXaMLmm9x2r"
      },
      "execution_count": null,
      "outputs": []
    },
    {
      "cell_type": "code",
      "source": [
        "np.array(x)"
      ],
      "metadata": {
        "colab": {
          "base_uri": "https://localhost:8080/"
        },
        "id": "UZf14Nzo9zRS",
        "outputId": "8bbe4369-4396-4614-c921-598949b8cdd8"
      },
      "execution_count": null,
      "outputs": [
        {
          "output_type": "execute_result",
          "data": {
            "text/plain": [
              "array([10, 20, 30, 40, 50, 60, 70, 80])"
            ]
          },
          "metadata": {},
          "execution_count": 56
        }
      ]
    },
    {
      "cell_type": "code",
      "source": [
        "type(np.array(x))"
      ],
      "metadata": {
        "colab": {
          "base_uri": "https://localhost:8080/"
        },
        "id": "ph19NVas949e",
        "outputId": "c6b21c65-7cb3-4445-8ff3-8c84401e5eb1"
      },
      "execution_count": null,
      "outputs": [
        {
          "output_type": "execute_result",
          "data": {
            "text/plain": [
              "numpy.ndarray"
            ]
          },
          "metadata": {},
          "execution_count": 57
        }
      ]
    },
    {
      "cell_type": "code",
      "source": [
        "x_arr = np.array(x)"
      ],
      "metadata": {
        "id": "pCiktoOe96FJ"
      },
      "execution_count": null,
      "outputs": []
    },
    {
      "cell_type": "code",
      "source": [
        "x_arr"
      ],
      "metadata": {
        "colab": {
          "base_uri": "https://localhost:8080/"
        },
        "id": "G7GG15Ke97Qs",
        "outputId": "48a0e402-bf5d-4014-a8f5-79d251f85616"
      },
      "execution_count": null,
      "outputs": [
        {
          "output_type": "execute_result",
          "data": {
            "text/plain": [
              "array([10, 20, 30, 40, 50, 60, 70, 80])"
            ]
          },
          "metadata": {},
          "execution_count": 59
        }
      ]
    },
    {
      "cell_type": "code",
      "source": [
        "x_arr.shape"
      ],
      "metadata": {
        "colab": {
          "base_uri": "https://localhost:8080/"
        },
        "id": "q7kmljWP-BA2",
        "outputId": "833ddc16-f38b-458b-ad88-4ca6760c34ef"
      },
      "execution_count": null,
      "outputs": [
        {
          "output_type": "execute_result",
          "data": {
            "text/plain": [
              "(8,)"
            ]
          },
          "metadata": {},
          "execution_count": 60
        }
      ]
    },
    {
      "cell_type": "markdown",
      "source": [
        "row, column (행,열)"
      ],
      "metadata": {
        "id": "3B05j-zb-DRe"
      }
    },
    {
      "cell_type": "code",
      "source": [
        "x_2d"
      ],
      "metadata": {
        "colab": {
          "base_uri": "https://localhost:8080/"
        },
        "id": "Ci5DmEac-FbS",
        "outputId": "d1e6eeb6-efd1-4adf-b92e-6f35beb3956d"
      },
      "execution_count": null,
      "outputs": [
        {
          "output_type": "execute_result",
          "data": {
            "text/plain": [
              "[[10, 20, 30, 40, 50], [60, 70, 80, 90, 100]]"
            ]
          },
          "metadata": {},
          "execution_count": 61
        }
      ]
    },
    {
      "cell_type": "code",
      "source": [
        "x_2d[0][2]"
      ],
      "metadata": {
        "colab": {
          "base_uri": "https://localhost:8080/"
        },
        "id": "OaVcNn_AdxKo",
        "outputId": "ab97c463-8bb4-4d76-f898-a7ef332872c0"
      },
      "execution_count": null,
      "outputs": [
        {
          "output_type": "execute_result",
          "data": {
            "text/plain": [
              "30"
            ]
          },
          "metadata": {},
          "execution_count": 75
        }
      ]
    },
    {
      "cell_type": "code",
      "source": [
        "x_2d_arr = np.array(x_2d)"
      ],
      "metadata": {
        "id": "R3jvvs-U-ISk"
      },
      "execution_count": null,
      "outputs": []
    },
    {
      "cell_type": "code",
      "source": [
        "x_2d_arr.shape"
      ],
      "metadata": {
        "colab": {
          "base_uri": "https://localhost:8080/"
        },
        "id": "rwctlK4K-JQU",
        "outputId": "7e32b486-9b8c-4b5d-80ca-fe41b92b749b"
      },
      "execution_count": null,
      "outputs": [
        {
          "output_type": "execute_result",
          "data": {
            "text/plain": [
              "(2, 5)"
            ]
          },
          "metadata": {},
          "execution_count": 63
        }
      ]
    },
    {
      "cell_type": "markdown",
      "source": [
        "나중에 이미지 처리 과정에서 많이 사용됨"
      ],
      "metadata": {
        "id": "z5MxmhZ4-J5l"
      }
    },
    {
      "cell_type": "markdown",
      "source": [
        "## 함수"
      ],
      "metadata": {
        "id": "XpV_dzvg-LXF"
      }
    },
    {
      "cell_type": "markdown",
      "source": [
        "들여쓰기 주의!!"
      ],
      "metadata": {
        "id": "WjUgefY3-Nzc"
      }
    },
    {
      "cell_type": "markdown",
      "source": [
        "def 함수명(파라미터1, 파라미터2,....):"
      ],
      "metadata": {
        "id": "7mmPvlJo-PTB"
      }
    },
    {
      "cell_type": "code",
      "source": [
        "def func(a,b):\n",
        "    return a + b"
      ],
      "metadata": {
        "id": "czHR23vr-QZy"
      },
      "execution_count": null,
      "outputs": []
    },
    {
      "cell_type": "code",
      "source": [
        "func(1,3)"
      ],
      "metadata": {
        "colab": {
          "base_uri": "https://localhost:8080/"
        },
        "id": "_HCq2DJU-RPp",
        "outputId": "645e7008-e6b9-433f-b050-23dda519a2e0"
      },
      "execution_count": null,
      "outputs": [
        {
          "output_type": "execute_result",
          "data": {
            "text/plain": [
              "4"
            ]
          },
          "metadata": {},
          "execution_count": 65
        }
      ]
    },
    {
      "cell_type": "code",
      "source": [
        "def print_me(a, b):\n",
        "    print(a)\n",
        "    print(b)"
      ],
      "metadata": {
        "id": "NxxK4NvH-TJf"
      },
      "execution_count": null,
      "outputs": []
    },
    {
      "cell_type": "code",
      "source": [
        "print_me('hello','world')"
      ],
      "metadata": {
        "colab": {
          "base_uri": "https://localhost:8080/"
        },
        "id": "4bNBwIty-VHs",
        "outputId": "da8732cf-d26d-4996-bca9-7a37c5188bc3"
      },
      "execution_count": null,
      "outputs": [
        {
          "output_type": "stream",
          "name": "stdout",
          "text": [
            "hello\n",
            "world\n"
          ]
        }
      ]
    },
    {
      "cell_type": "code",
      "source": [
        "a = print_me('hello','world')"
      ],
      "metadata": {
        "colab": {
          "base_uri": "https://localhost:8080/"
        },
        "id": "UU68SiWr-XjS",
        "outputId": "7712e45a-da71-41cd-fc59-8e5c9f2a4c77"
      },
      "execution_count": null,
      "outputs": [
        {
          "output_type": "stream",
          "name": "stdout",
          "text": [
            "hello\n",
            "world\n"
          ]
        }
      ]
    },
    {
      "cell_type": "code",
      "source": [
        "a"
      ],
      "metadata": {
        "id": "SKRtJcYx-YfI"
      },
      "execution_count": null,
      "outputs": []
    },
    {
      "cell_type": "code",
      "source": [
        "a = func(1,3)"
      ],
      "metadata": {
        "id": "WIep1t35-eb2"
      },
      "execution_count": null,
      "outputs": []
    },
    {
      "cell_type": "code",
      "source": [
        "2-5"
      ],
      "metadata": {
        "colab": {
          "base_uri": "https://localhost:8080/"
        },
        "id": "3lPLv1YxdgCz",
        "outputId": "b1605b47-e8df-4365-be6d-7171bc357682"
      },
      "execution_count": null,
      "outputs": [
        {
          "output_type": "execute_result",
          "data": {
            "text/plain": [
              "-3"
            ]
          },
          "metadata": {},
          "execution_count": 73
        }
      ]
    },
    {
      "cell_type": "code",
      "source": [
        "a"
      ],
      "metadata": {
        "colab": {
          "base_uri": "https://localhost:8080/"
        },
        "id": "4iWjETfU-fDe",
        "outputId": "b752e370-0748-497b-811d-0d4e7c80c42a"
      },
      "execution_count": null,
      "outputs": [
        {
          "output_type": "execute_result",
          "data": {
            "text/plain": [
              "4"
            ]
          },
          "metadata": {},
          "execution_count": 71
        }
      ]
    },
    {
      "cell_type": "markdown",
      "source": [
        "## for in 구문 (반복문)"
      ],
      "metadata": {
        "id": "jM3jydth-fpw"
      }
    },
    {
      "cell_type": "code",
      "source": [
        "range(10)"
      ],
      "metadata": {
        "colab": {
          "base_uri": "https://localhost:8080/"
        },
        "id": "LgrjRv-q-iJx",
        "outputId": "f11e553e-da89-414b-c3c8-81afda3d646c"
      },
      "execution_count": null,
      "outputs": [
        {
          "output_type": "execute_result",
          "data": {
            "text/plain": [
              "range(0, 10)"
            ]
          },
          "metadata": {},
          "execution_count": 76
        }
      ]
    },
    {
      "cell_type": "code",
      "source": [
        "for i in range(0,10):\n",
        "    print(i)"
      ],
      "metadata": {
        "colab": {
          "base_uri": "https://localhost:8080/"
        },
        "id": "PhDHUydD-jgF",
        "outputId": "c3e7ccc6-3d9f-4765-9f53-7f847e1738ce"
      },
      "execution_count": null,
      "outputs": [
        {
          "output_type": "stream",
          "name": "stdout",
          "text": [
            "0\n",
            "1\n",
            "2\n",
            "3\n",
            "4\n",
            "5\n",
            "6\n",
            "7\n",
            "8\n",
            "9\n"
          ]
        }
      ]
    },
    {
      "cell_type": "code",
      "source": [
        "x = [10,20,30,40]"
      ],
      "metadata": {
        "id": "TRBPwoz2-lvg"
      },
      "execution_count": null,
      "outputs": []
    },
    {
      "cell_type": "code",
      "source": [
        "for i in range(0, len(x)):\n",
        "    print(i)"
      ],
      "metadata": {
        "colab": {
          "base_uri": "https://localhost:8080/"
        },
        "id": "ze6RfVKQeKcW",
        "outputId": "e3e7345c-9a94-4dc8-da0c-c2b7725369fc"
      },
      "execution_count": null,
      "outputs": [
        {
          "output_type": "stream",
          "name": "stdout",
          "text": [
            "0\n",
            "1\n",
            "2\n",
            "3\n"
          ]
        }
      ]
    },
    {
      "cell_type": "code",
      "source": [
        "for i in x:\n",
        "    print(i)"
      ],
      "metadata": {
        "colab": {
          "base_uri": "https://localhost:8080/"
        },
        "id": "rU09R16--nHW",
        "outputId": "21e1b447-eee9-41ba-8222-192a829897cf"
      },
      "execution_count": null,
      "outputs": [
        {
          "output_type": "stream",
          "name": "stdout",
          "text": [
            "10\n",
            "20\n",
            "30\n",
            "40\n"
          ]
        }
      ]
    },
    {
      "cell_type": "code",
      "source": [
        "for i in 'Deep learning is FUN':\n",
        "    print(i)"
      ],
      "metadata": {
        "colab": {
          "base_uri": "https://localhost:8080/"
        },
        "id": "Ibnxb55V-oG6",
        "outputId": "cdb32ea7-148f-4798-a6af-0876e2df606f"
      },
      "execution_count": null,
      "outputs": [
        {
          "output_type": "stream",
          "name": "stdout",
          "text": [
            "D\n",
            "e\n",
            "e\n",
            "p\n",
            " \n",
            "l\n",
            "e\n",
            "a\n",
            "r\n",
            "n\n",
            "i\n",
            "n\n",
            "g\n",
            " \n",
            "i\n",
            "s\n",
            " \n",
            "F\n",
            "U\n",
            "N\n"
          ]
        }
      ]
    },
    {
      "cell_type": "markdown",
      "source": [
        "## 조건문"
      ],
      "metadata": {
        "id": "5eZ0P2cQ-p5b"
      }
    },
    {
      "cell_type": "code",
      "source": [
        "def check_one(a):\n",
        "    if a == 1:\n",
        "        print('1 입니다')\n",
        "    elif a >= 2:\n",
        "        print('2 이상입니다')\n",
        "    else:\n",
        "        print('1이 아닙니다')"
      ],
      "metadata": {
        "id": "9K6_uq2l-sJH"
      },
      "execution_count": null,
      "outputs": []
    },
    {
      "cell_type": "code",
      "source": [
        "check_one(1)"
      ],
      "metadata": {
        "colab": {
          "base_uri": "https://localhost:8080/"
        },
        "id": "3WJ2_O_0-veV",
        "outputId": "9deeb7fa-081c-499c-b64c-51e0d5185e9a"
      },
      "execution_count": null,
      "outputs": [
        {
          "output_type": "stream",
          "name": "stdout",
          "text": [
            "1 입니다\n"
          ]
        }
      ]
    },
    {
      "cell_type": "code",
      "source": [
        "check_one(2)"
      ],
      "metadata": {
        "colab": {
          "base_uri": "https://localhost:8080/"
        },
        "id": "LB33Us-5-wtc",
        "outputId": "994eb1d6-c2fc-4a4c-97e7-d7da5ae6faf4"
      },
      "execution_count": null,
      "outputs": [
        {
          "output_type": "stream",
          "name": "stdout",
          "text": [
            "2 이상입니다\n"
          ]
        }
      ]
    },
    {
      "cell_type": "code",
      "source": [
        "check_one(0)"
      ],
      "metadata": {
        "colab": {
          "base_uri": "https://localhost:8080/"
        },
        "id": "TN6Vg16s-xRI",
        "outputId": "e4e2c98e-c867-4a15-9dfe-4fb7cfac7f5e"
      },
      "execution_count": null,
      "outputs": [
        {
          "output_type": "stream",
          "name": "stdout",
          "text": [
            "1이 아닙니다\n"
          ]
        }
      ]
    },
    {
      "cell_type": "code",
      "source": [
        "for i in [10,20,30,40,50]:\n",
        "    if i >= 30:\n",
        "        print(i)"
      ],
      "metadata": {
        "colab": {
          "base_uri": "https://localhost:8080/"
        },
        "id": "wdFChVt8-ySS",
        "outputId": "72263b65-4ab1-4ab2-e234-79e361f20030"
      },
      "execution_count": null,
      "outputs": [
        {
          "output_type": "stream",
          "name": "stdout",
          "text": [
            "30\n",
            "40\n",
            "50\n"
          ]
        }
      ]
    },
    {
      "cell_type": "code",
      "source": [
        "for i in [10,20,30,40,50]:\n",
        "    if i >= 30:\n",
        "        print(i)\n",
        "        break\n",
        "    else:\n",
        "        pass"
      ],
      "metadata": {
        "colab": {
          "base_uri": "https://localhost:8080/"
        },
        "id": "EFswGGCU-0VE",
        "outputId": "9ee1963d-67a6-44d3-9e80-7263d356c2ff"
      },
      "execution_count": null,
      "outputs": [
        {
          "output_type": "stream",
          "name": "stdout",
          "text": [
            "30\n"
          ]
        }
      ]
    },
    {
      "cell_type": "markdown",
      "source": [
        "## Class(클래스)"
      ],
      "metadata": {
        "id": "6wyyjqCb-3kK"
      }
    },
    {
      "cell_type": "code",
      "source": [
        "class Man:\n",
        "    def __init__(self, name):\n",
        "        self.name = name\n",
        "        #print(\"Initialized!\")\n",
        "\n",
        "    def hello(self):\n",
        "        print(\"Hello \" + self.name + \"!\")\n",
        "\n",
        "    def goodbye(self):\n",
        "        print(\"Good-bye \" + self.name + \"!\")"
      ],
      "metadata": {
        "id": "SsGj4fuf_JRN"
      },
      "execution_count": null,
      "outputs": []
    },
    {
      "cell_type": "code",
      "source": [
        "m = Man(\"David\")"
      ],
      "metadata": {
        "id": "FbBV_YAd_RLT"
      },
      "execution_count": null,
      "outputs": []
    },
    {
      "cell_type": "code",
      "source": [
        "m.hello()"
      ],
      "metadata": {
        "colab": {
          "base_uri": "https://localhost:8080/"
        },
        "id": "z2xFXc9Q_SKl",
        "outputId": "228d3677-b5aa-49c9-f9a2-48a1a2c5e3a5"
      },
      "execution_count": null,
      "outputs": [
        {
          "output_type": "stream",
          "name": "stdout",
          "text": [
            "Hello David!\n"
          ]
        }
      ]
    },
    {
      "cell_type": "code",
      "source": [
        "m.goodbye()"
      ],
      "metadata": {
        "colab": {
          "base_uri": "https://localhost:8080/"
        },
        "id": "6RanQMYM_YKP",
        "outputId": "9ec4a3ae-124e-47a4-cc40-16eabfc9efc1"
      },
      "execution_count": null,
      "outputs": [
        {
          "output_type": "stream",
          "name": "stdout",
          "text": [
            "Good-bye David!\n"
          ]
        }
      ]
    },
    {
      "cell_type": "markdown",
      "source": [
        "## Matplotlib"
      ],
      "metadata": {
        "id": "0t67ATqW_Zgi"
      }
    },
    {
      "cell_type": "code",
      "source": [
        "import matplotlib.pyplot as plt\n",
        "import seaborn as sns"
      ],
      "metadata": {
        "id": "YaWbCy08_cbs"
      },
      "execution_count": null,
      "outputs": []
    },
    {
      "cell_type": "code",
      "source": [
        "x = np.arange(0, 6, 0.1)\n",
        "y = np.sin(x)\n",
        "print(x)"
      ],
      "metadata": {
        "colab": {
          "base_uri": "https://localhost:8080/"
        },
        "id": "y4BflCtx_dm-",
        "outputId": "0390fc0a-60ef-4068-d294-b7d8bdb31092"
      },
      "execution_count": null,
      "outputs": [
        {
          "output_type": "stream",
          "name": "stdout",
          "text": [
            "[0.  0.1 0.2 0.3 0.4 0.5 0.6 0.7 0.8 0.9 1.  1.1 1.2 1.3 1.4 1.5 1.6 1.7\n",
            " 1.8 1.9 2.  2.1 2.2 2.3 2.4 2.5 2.6 2.7 2.8 2.9 3.  3.1 3.2 3.3 3.4 3.5\n",
            " 3.6 3.7 3.8 3.9 4.  4.1 4.2 4.3 4.4 4.5 4.6 4.7 4.8 4.9 5.  5.1 5.2 5.3\n",
            " 5.4 5.5 5.6 5.7 5.8 5.9]\n"
          ]
        }
      ]
    },
    {
      "cell_type": "code",
      "source": [
        "plt.plot(x, y)\n",
        "plt.show()"
      ],
      "metadata": {
        "colab": {
          "base_uri": "https://localhost:8080/",
          "height": 430
        },
        "id": "JppQkBSy_e6C",
        "outputId": "2dba936d-b387-4cb6-9d4c-771e230c7917"
      },
      "execution_count": null,
      "outputs": [
        {
          "output_type": "display_data",
          "data": {
            "text/plain": [
              "<Figure size 640x480 with 1 Axes>"
            ],
            "image/png": "[encoded data removed]"
          },
          "metadata": {}
        }
      ]
    },
    {
      "cell_type": "code",
      "source": [
        "x = np.arange(0, 6, 0.1)\n",
        "y1 = np.sin(x)\n",
        "y2 = np.cos(x)\n",
        "\n",
        "plt.plot(x, y1, label = \"sin\")\n",
        "plt.plot(x, y2, linestyle = \"--\", label = \"cos\")\n",
        "plt.xlabel(\"x\")\n",
        "plt.ylabel(\"y\")\n",
        "plt.title('sin & cos')\n",
        "plt.legend()\n",
        "plt.show()"
      ],
      "metadata": {
        "colab": {
          "base_uri": "https://localhost:8080/",
          "height": 472
        },
        "id": "z1xTXznz_iYT",
        "outputId": "cb67e6ba-686f-4d42-883f-d1dbef794f59"
      },
      "execution_count": null,
      "outputs": [
        {
          "output_type": "display_data",
          "data": {
            "text/plain": [
              "<Figure size 640x480 with 1 Axes>"
            ],
            "image/png": "[encoded data removed]"
          },
          "metadata": {}
        }
      ]
    },
    {
      "cell_type": "markdown",
      "source": [
        "# 2. 퍼셉트론"
      ],
      "metadata": {
        "id": "j_t1K8BD_kyE"
      }
    },
    {
      "cell_type": "markdown",
      "source": [
        "### AND 게이트"
      ],
      "metadata": {
        "id": "J_MXJdphCLH0"
      }
    },
    {
      "cell_type": "markdown",
      "source": [
        "![AND](https://github.com/Koo-BM/deeplearning_from_bottom/assets/93233323/ec0f5e25-6221-47bb-93c0-6919c7288ce5)"
      ],
      "metadata": {
        "id": "fkMiI8t2_7Ft"
      }
    },
    {
      "cell_type": "code",
      "source": [
        "def AND(x1, x2):\n",
        "    w1, w2, theta = 0.5, 0.5, 0.7\n",
        "    tmp = x1*w1 + x2*w2\n",
        "    if tmp <= theta:\n",
        "        return 0\n",
        "    elif tmp > theta:\n",
        "        return 1"
      ],
      "metadata": {
        "id": "SVS_WKcV_pvZ"
      },
      "execution_count": null,
      "outputs": []
    },
    {
      "cell_type": "code",
      "source": [
        "print(AND(0, 0))\n",
        "print(AND(1, 0))\n",
        "print(AND(0, 1))\n",
        "print(AND(1, 1))"
      ],
      "metadata": {
        "colab": {
          "base_uri": "https://localhost:8080/"
        },
        "id": "zsAMr4oWCNXJ",
        "outputId": "818ef683-938e-4d87-f140-94d153d057bd"
      },
      "execution_count": null,
      "outputs": [
        {
          "output_type": "stream",
          "name": "stdout",
          "text": [
            "0\n",
            "0\n",
            "0\n",
            "1\n"
          ]
        }
      ]
    },
    {
      "cell_type": "markdown",
      "source": [
        "- 편향 도입 + 넘파이 배열 사용"
      ],
      "metadata": {
        "id": "uKT249duCa5t"
      }
    },
    {
      "cell_type": "code",
      "source": [
        "import numpy as np"
      ],
      "metadata": {
        "id": "uzRSGfoZCjx0"
      },
      "execution_count": null,
      "outputs": []
    },
    {
      "cell_type": "code",
      "source": [
        "x = np.array([0,1])\n",
        "w = np.array([0.5, 0.5])"
      ],
      "metadata": {
        "id": "Y4snoxMdCoRF"
      },
      "execution_count": null,
      "outputs": []
    },
    {
      "cell_type": "code",
      "source": [
        "b = -0.7\n",
        "print(np.sum(w*x))\n",
        "print(np.sum(w*x) + b)"
      ],
      "metadata": {
        "colab": {
          "base_uri": "https://localhost:8080/"
        },
        "id": "B6pUYaZcCpOC",
        "outputId": "098bb64b-72a6-4adc-c9c0-8b9556bf7f1c"
      },
      "execution_count": null,
      "outputs": [
        {
          "output_type": "stream",
          "name": "stdout",
          "text": [
            "0.5\n",
            "-0.19999999999999996\n"
          ]
        }
      ]
    },
    {
      "cell_type": "code",
      "source": [
        "def AND(x1, x2):\n",
        "    x = np.array([x1, x2])\n",
        "    w = np.array([0.5, 0.5])\n",
        "    b = -0.7\n",
        "    tmp = np.sum(w*x) + b\n",
        "    if tmp <= 0:\n",
        "        return 0\n",
        "    else: return 1"
      ],
      "metadata": {
        "id": "uKp83wYQDKeN"
      },
      "execution_count": null,
      "outputs": []
    },
    {
      "cell_type": "code",
      "source": [
        "print(AND(0, 0))\n",
        "print(AND(1, 0))\n",
        "print(AND(0, 1))\n",
        "print(AND(1, 1))"
      ],
      "metadata": {
        "colab": {
          "base_uri": "https://localhost:8080/"
        },
        "id": "H6Oj4MELDMnR",
        "outputId": "5e94fc30-7a3f-45ce-9021-b3ccaf74f020"
      },
      "execution_count": null,
      "outputs": [
        {
          "output_type": "stream",
          "name": "stdout",
          "text": [
            "0\n",
            "0\n",
            "0\n",
            "1\n"
          ]
        }
      ]
    },
    {
      "cell_type": "markdown",
      "source": [
        "## NAND 게이트"
      ],
      "metadata": {
        "id": "PNo7U5wzDOzI"
      }
    },
    {
      "cell_type": "markdown",
      "source": [
        "![image](https://github.com/Koo-BM/deeplearning_from_bottom/assets/93233323/f409ccad-c771-4c64-83a7-0d155902805c)"
      ],
      "metadata": {
        "id": "GLetdFFyDSiW"
      }
    },
    {
      "cell_type": "code",
      "source": [
        "def NAND(x1, x2):\n",
        "    x = np.array([x1, x2])\n",
        "    w = np.array([-0.5, -0.5])\n",
        "    b = 0.7\n",
        "    tmp = np.sum(w*x) + b\n",
        "    if tmp <= 0:\n",
        "        return 0\n",
        "    else:\n",
        "        return 1"
      ],
      "metadata": {
        "id": "HKxG8_iPDa2F"
      },
      "execution_count": null,
      "outputs": []
    },
    {
      "cell_type": "code",
      "source": [
        "print(NAND(0, 0))\n",
        "print(NAND(1, 0))\n",
        "print(NAND(0, 1))\n",
        "print(NAND(1, 1))"
      ],
      "metadata": {
        "colab": {
          "base_uri": "https://localhost:8080/"
        },
        "id": "TxXQC5QUDd3R",
        "outputId": "7c5f9d58-88fe-4dc1-83e7-18b89fc3a772"
      },
      "execution_count": null,
      "outputs": [
        {
          "output_type": "stream",
          "name": "stdout",
          "text": [
            "1\n",
            "1\n",
            "1\n",
            "0\n"
          ]
        }
      ]
    },
    {
      "cell_type": "markdown",
      "source": [
        "## OR 게이트"
      ],
      "metadata": {
        "id": "D4ygDmoZDhAq"
      }
    },
    {
      "cell_type": "markdown",
      "source": [
        "![image](https://github.com/Koo-BM/deeplearning_from_bottom/assets/93233323/7ac330e6-405a-4bb1-82a1-af3f437cccb6)"
      ],
      "metadata": {
        "id": "WD_KQ8BEDqiB"
      }
    },
    {
      "cell_type": "code",
      "source": [
        "def OR(x1, x2):\n",
        "    x = np.array([x1, x2])\n",
        "    w = np.array([0.5, 0.5])\n",
        "    b = -0.2\n",
        "    tmp = np.sum(w*x) + b\n",
        "    if tmp <= 0:\n",
        "        return 0\n",
        "    else:\n",
        "        return 1"
      ],
      "metadata": {
        "id": "lcThuq_gDkIQ"
      },
      "execution_count": null,
      "outputs": []
    },
    {
      "cell_type": "code",
      "source": [
        "print(OR(0, 0))\n",
        "print(OR(1, 0))\n",
        "print(OR(0, 1))\n",
        "print(OR(1, 1))"
      ],
      "metadata": {
        "colab": {
          "base_uri": "https://localhost:8080/"
        },
        "id": "ZKo0G2MnDmOe",
        "outputId": "ed8e798f-d267-42ef-a15c-4ed8888968a0"
      },
      "execution_count": null,
      "outputs": [
        {
          "output_type": "stream",
          "name": "stdout",
          "text": [
            "0\n",
            "1\n",
            "1\n",
            "1\n"
          ]
        }
      ]
    },
    {
      "cell_type": "markdown",
      "source": [
        "## XOR 게이트"
      ],
      "metadata": {
        "id": "zR1j13vqDooe"
      }
    },
    {
      "cell_type": "markdown",
      "source": [
        "![image](https://github.com/Koo-BM/deeplearning_from_bottom/assets/93233323/ff2de871-b1f5-4c3d-8436-3c634d10e3fc)"
      ],
      "metadata": {
        "id": "9-QQ5sPDEQpI"
      }
    },
    {
      "cell_type": "markdown",
      "source": [
        "비선형적으로 구성 --> NAND, OR, AND를 층을 쌓아서 구성"
      ],
      "metadata": {
        "id": "j9tGmdz8EY5P"
      }
    },
    {
      "cell_type": "code",
      "source": [
        "def XOR(x1, x2):\n",
        "    s1 = NAND(x1, x2)\n",
        "    s2 = OR(x1, x2)\n",
        "    y = AND(s1, s2)\n",
        "    return y"
      ],
      "metadata": {
        "id": "EdrPO8GOEayj"
      },
      "execution_count": null,
      "outputs": []
    },
    {
      "cell_type": "code",
      "source": [
        "print(XOR(0, 0))\n",
        "print(XOR(1, 0))\n",
        "print(XOR(0, 1))\n",
        "print(XOR(1, 1))"
      ],
      "metadata": {
        "colab": {
          "base_uri": "https://localhost:8080/"
        },
        "id": "JMRHnLYfEiwr",
        "outputId": "a52f4738-aabe-4551-a319-eaf95b22b5ee"
      },
      "execution_count": null,
      "outputs": [
        {
          "output_type": "stream",
          "name": "stdout",
          "text": [
            "0\n",
            "1\n",
            "1\n",
            "0\n"
          ]
        }
      ]
    }
  ]
}
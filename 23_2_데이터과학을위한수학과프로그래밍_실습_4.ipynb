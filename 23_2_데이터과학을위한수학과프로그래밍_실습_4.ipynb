{
  "cells": [
    {
      "cell_type": "markdown",
      "metadata": {
        "id": "view-in-github",
        "colab_type": "text"
      },
      "source": [
        "<a href=\"https://colab.research.google.com/github/daonly/2023Autumn/blob/main/23_2_%EB%8D%B0%EC%9D%B4%ED%84%B0%EA%B3%BC%ED%95%99%EC%9D%84%EC%9C%84%ED%95%9C%EC%88%98%ED%95%99%EA%B3%BC%ED%94%84%EB%A1%9C%EA%B7%B8%EB%9E%98%EB%B0%8D_%EC%8B%A4%EC%8A%B5_4.ipynb\" target=\"_parent\"><img src=\"https://colab.research.google.com/assets/colab-badge.svg\" alt=\"Open In Colab\"/></a>"
      ]
    },
    {
      "cell_type": "markdown",
      "metadata": {
        "id": "cvcq9kRLiore"
      },
      "source": [
        "# 데이터과학을위한수학과프로그래밍 실습 4차시"
      ]
    },
    {
      "cell_type": "markdown",
      "metadata": {
        "id": "eSNdpM5Qiori"
      },
      "source": [
        "## Numpy 간략한 소개"
      ]
    },
    {
      "cell_type": "markdown",
      "metadata": {
        "id": "8jkSA5r2iori"
      },
      "source": [
        "- `NumPy`는 다차원 array에 대한 저장 및 수학적 연산을 지원합니다.\n",
        "- `NumPy`는 내부적으로 C로 작성되어 빠릅니다.\n",
        "- `NumPy`는 CPU, GPU 등 다양한 하드웨어를 지원합니다.\n",
        "- `NumPy`는 `Pandas`, `matplotlib`, `statmodels` 등 데이터 과학 패키지와 유연하게 연결됩니다."
      ]
    },
    {
      "cell_type": "markdown",
      "metadata": {
        "id": "Ati2J8ASiorj"
      },
      "source": [
        "## Size of array"
      ]
    },
    {
      "cell_type": "code",
      "execution_count": 1,
      "metadata": {
        "execution": {
          "iopub.execute_input": "2023-12-18T01:37:58.530260Z",
          "iopub.status.busy": "2023-12-18T01:37:58.530043Z",
          "iopub.status.idle": "2023-12-18T01:37:58.547364Z",
          "shell.execute_reply": "2023-12-18T01:37:58.546623Z",
          "shell.execute_reply.started": "2023-12-18T01:37:58.530240Z"
        },
        "trusted": true,
        "id": "WnqZPIwfiorj"
      },
      "outputs": [],
      "source": [
        "import numpy as np"
      ]
    },
    {
      "cell_type": "code",
      "execution_count": 8,
      "metadata": {
        "execution": {
          "iopub.execute_input": "2023-12-18T01:37:58.548775Z",
          "iopub.status.busy": "2023-12-18T01:37:58.548104Z",
          "iopub.status.idle": "2023-12-18T01:37:58.555452Z",
          "shell.execute_reply": "2023-12-18T01:37:58.554933Z",
          "shell.execute_reply.started": "2023-12-18T01:37:58.548753Z"
        },
        "trusted": true,
        "id": "OY31DETUiork"
      },
      "outputs": [],
      "source": [
        "data = np.array([[1, 2],\n",
        "                 [3, 4],\n",
        "                 [5, 6]], dtype=float)"
      ]
    },
    {
      "cell_type": "code",
      "source": [
        "data"
      ],
      "metadata": {
        "id": "SSl9S0JQWoch",
        "outputId": "77804110-a323-408c-9777-ead17bb8b1a3",
        "colab": {
          "base_uri": "https://localhost:8080/"
        }
      },
      "execution_count": 3,
      "outputs": [
        {
          "output_type": "execute_result",
          "data": {
            "text/plain": [
              "array([[1, 2],\n",
              "       [3, 4],\n",
              "       [5, 6]])"
            ]
          },
          "metadata": {},
          "execution_count": 3
        }
      ]
    },
    {
      "cell_type": "markdown",
      "metadata": {
        "id": "ipRDCrNJiork"
      },
      "source": [
        "`np.array`의 크기에 대한 정보는 다음과 같이 확인할 수 있습니다."
      ]
    },
    {
      "cell_type": "code",
      "execution_count": 4,
      "metadata": {
        "execution": {
          "iopub.execute_input": "2023-12-18T01:37:58.557037Z",
          "iopub.status.busy": "2023-12-18T01:37:58.556827Z",
          "iopub.status.idle": "2023-12-18T01:37:58.565708Z",
          "shell.execute_reply": "2023-12-18T01:37:58.565117Z",
          "shell.execute_reply.started": "2023-12-18T01:37:58.557019Z"
        },
        "trusted": true,
        "id": "LMUtXIsEiork",
        "outputId": "6d099606-efff-47ef-ddbc-d221c459e7ed",
        "colab": {
          "base_uri": "https://localhost:8080/"
        }
      },
      "outputs": [
        {
          "output_type": "execute_result",
          "data": {
            "text/plain": [
              "2"
            ]
          },
          "metadata": {},
          "execution_count": 4
        }
      ],
      "source": [
        "data.ndim"
      ]
    },
    {
      "cell_type": "code",
      "execution_count": 5,
      "metadata": {
        "execution": {
          "iopub.execute_input": "2023-12-18T01:37:58.567200Z",
          "iopub.status.busy": "2023-12-18T01:37:58.566802Z",
          "iopub.status.idle": "2023-12-18T01:37:58.574318Z",
          "shell.execute_reply": "2023-12-18T01:37:58.573833Z",
          "shell.execute_reply.started": "2023-12-18T01:37:58.567179Z"
        },
        "trusted": true,
        "id": "pqi85Ti9iorl",
        "outputId": "bdb2360c-668a-4156-81d5-675ebd1b3858",
        "colab": {
          "base_uri": "https://localhost:8080/"
        }
      },
      "outputs": [
        {
          "output_type": "execute_result",
          "data": {
            "text/plain": [
              "6"
            ]
          },
          "metadata": {},
          "execution_count": 5
        }
      ],
      "source": [
        "data.size"
      ]
    },
    {
      "cell_type": "code",
      "execution_count": 6,
      "metadata": {
        "execution": {
          "iopub.execute_input": "2023-12-18T01:37:58.575323Z",
          "iopub.status.busy": "2023-12-18T01:37:58.575107Z",
          "iopub.status.idle": "2023-12-18T01:37:58.584740Z",
          "shell.execute_reply": "2023-12-18T01:37:58.583985Z",
          "shell.execute_reply.started": "2023-12-18T01:37:58.575304Z"
        },
        "trusted": true,
        "id": "MsIbnuTriorl",
        "outputId": "b6bf5fc4-91dc-490f-e905-a43302f3db48",
        "colab": {
          "base_uri": "https://localhost:8080/"
        }
      },
      "outputs": [
        {
          "output_type": "execute_result",
          "data": {
            "text/plain": [
              "(3, 2)"
            ]
          },
          "metadata": {},
          "execution_count": 6
        }
      ],
      "source": [
        "data.shape"
      ]
    },
    {
      "cell_type": "code",
      "execution_count": 9,
      "metadata": {
        "execution": {
          "iopub.execute_input": "2023-12-18T01:37:58.586052Z",
          "iopub.status.busy": "2023-12-18T01:37:58.585517Z",
          "iopub.status.idle": "2023-12-18T01:37:58.593405Z",
          "shell.execute_reply": "2023-12-18T01:37:58.592680Z",
          "shell.execute_reply.started": "2023-12-18T01:37:58.586031Z"
        },
        "trusted": true,
        "id": "7bZxWsHXiorl",
        "outputId": "4a182c1f-1adc-4e86-fd0f-579e3ce3c219",
        "colab": {
          "base_uri": "https://localhost:8080/"
        }
      },
      "outputs": [
        {
          "output_type": "execute_result",
          "data": {
            "text/plain": [
              "dtype('float64')"
            ]
          },
          "metadata": {},
          "execution_count": 9
        }
      ],
      "source": [
        "data.dtype  #data가 클 때는 float32를 쓰는 것도 ㅊㅊ"
      ]
    },
    {
      "cell_type": "code",
      "execution_count": 10,
      "metadata": {
        "execution": {
          "iopub.execute_input": "2023-12-18T01:37:58.594506Z",
          "iopub.status.busy": "2023-12-18T01:37:58.594281Z",
          "iopub.status.idle": "2023-12-18T01:37:58.603219Z",
          "shell.execute_reply": "2023-12-18T01:37:58.602228Z",
          "shell.execute_reply.started": "2023-12-18T01:37:58.594486Z"
        },
        "trusted": true,
        "id": "NH_hkqo8iorl",
        "outputId": "3ecc1b5a-1e81-4199-f292-f7d41d23100d",
        "colab": {
          "base_uri": "https://localhost:8080/"
        }
      },
      "outputs": [
        {
          "output_type": "execute_result",
          "data": {
            "text/plain": [
              "array([[1., 3., 5.],\n",
              "       [2., 4., 6.]])"
            ]
          },
          "metadata": {},
          "execution_count": 10
        }
      ],
      "source": [
        "data.T"
      ]
    },
    {
      "cell_type": "markdown",
      "metadata": {
        "execution": {
          "iopub.execute_input": "2023-12-06T04:17:55.709792Z",
          "iopub.status.busy": "2023-12-06T04:17:55.709348Z",
          "iopub.status.idle": "2023-12-06T04:17:55.717986Z",
          "shell.execute_reply": "2023-12-06T04:17:55.716560Z",
          "shell.execute_reply.started": "2023-12-06T04:17:55.709759Z"
        },
        "id": "6zvM97Wciorl"
      },
      "source": [
        "<img src=https://numpy.org/doc/stable/_images/np_matrix_indexing.png>"
      ]
    },
    {
      "cell_type": "markdown",
      "metadata": {
        "id": "Mzk39xTGiorl"
      },
      "source": [
        "## Slicing, Indexing"
      ]
    },
    {
      "cell_type": "markdown",
      "metadata": {
        "id": "TcyKgOqliorm"
      },
      "source": [
        "`np.array`에 대한 슬라이싱을 연습해보겠습니다."
      ]
    },
    {
      "cell_type": "code",
      "execution_count": 11,
      "metadata": {
        "execution": {
          "iopub.execute_input": "2023-12-18T01:37:58.605730Z",
          "iopub.status.busy": "2023-12-18T01:37:58.605398Z",
          "iopub.status.idle": "2023-12-18T01:37:58.612874Z",
          "shell.execute_reply": "2023-12-18T01:37:58.612212Z",
          "shell.execute_reply.started": "2023-12-18T01:37:58.605704Z"
        },
        "trusted": true,
        "id": "K8gtRTtpiorm",
        "outputId": "b7c17b92-f99f-4919-8b2a-e7346f66f7da",
        "colab": {
          "base_uri": "https://localhost:8080/"
        }
      },
      "outputs": [
        {
          "output_type": "execute_result",
          "data": {
            "text/plain": [
              "2.0"
            ]
          },
          "metadata": {},
          "execution_count": 11
        }
      ],
      "source": [
        "data[0,1]"
      ]
    },
    {
      "cell_type": "code",
      "execution_count": 12,
      "metadata": {
        "execution": {
          "iopub.execute_input": "2023-12-18T01:37:58.644745Z",
          "iopub.status.busy": "2023-12-18T01:37:58.644310Z",
          "iopub.status.idle": "2023-12-18T01:37:58.649338Z",
          "shell.execute_reply": "2023-12-18T01:37:58.648598Z",
          "shell.execute_reply.started": "2023-12-18T01:37:58.644725Z"
        },
        "trusted": true,
        "id": "GLEBB4t-iorm",
        "outputId": "35d9fdff-0a00-466e-ed9d-dfb79b1ceb9b",
        "colab": {
          "base_uri": "https://localhost:8080/"
        }
      },
      "outputs": [
        {
          "output_type": "execute_result",
          "data": {
            "text/plain": [
              "array([[3., 4.]])"
            ]
          },
          "metadata": {},
          "execution_count": 12
        }
      ],
      "source": [
        "data[1:2]"
      ]
    },
    {
      "cell_type": "code",
      "execution_count": 13,
      "metadata": {
        "execution": {
          "iopub.execute_input": "2023-12-18T01:37:58.650905Z",
          "iopub.status.busy": "2023-12-18T01:37:58.650685Z",
          "iopub.status.idle": "2023-12-18T01:37:58.657821Z",
          "shell.execute_reply": "2023-12-18T01:37:58.657106Z",
          "shell.execute_reply.started": "2023-12-18T01:37:58.650880Z"
        },
        "trusted": true,
        "id": "ecHtMCvkiorm",
        "outputId": "d8b3c804-d490-4f5b-d8bb-c2a0ba2f25cc",
        "colab": {
          "base_uri": "https://localhost:8080/"
        }
      },
      "outputs": [
        {
          "output_type": "execute_result",
          "data": {
            "text/plain": [
              "array([[3., 4.]])"
            ]
          },
          "metadata": {},
          "execution_count": 13
        }
      ],
      "source": [
        "data[1:2, :]"
      ]
    },
    {
      "cell_type": "code",
      "execution_count": 14,
      "metadata": {
        "execution": {
          "iopub.execute_input": "2023-12-18T01:37:58.658561Z",
          "iopub.status.busy": "2023-12-18T01:37:58.658360Z",
          "iopub.status.idle": "2023-12-18T01:37:58.667052Z",
          "shell.execute_reply": "2023-12-18T01:37:58.666309Z",
          "shell.execute_reply.started": "2023-12-18T01:37:58.658543Z"
        },
        "trusted": true,
        "id": "x2aCTviDiorm",
        "outputId": "00699dd1-372e-4600-a1d1-12ab0fa509bc",
        "colab": {
          "base_uri": "https://localhost:8080/"
        }
      },
      "outputs": [
        {
          "output_type": "execute_result",
          "data": {
            "text/plain": [
              "array([1., 3.])"
            ]
          },
          "metadata": {},
          "execution_count": 14
        }
      ],
      "source": [
        "data[0:2, 0]"
      ]
    },
    {
      "cell_type": "code",
      "execution_count": 15,
      "metadata": {
        "id": "z2DRDJzuiorm",
        "outputId": "2239bfc4-1423-4ea7-bb6d-44c95b65ff50",
        "colab": {
          "base_uri": "https://localhost:8080/"
        }
      },
      "outputs": [
        {
          "output_type": "execute_result",
          "data": {
            "text/plain": [
              "array([[False, False],\n",
              "       [False,  True],\n",
              "       [ True,  True]])"
            ]
          },
          "metadata": {},
          "execution_count": 15
        }
      ],
      "source": [
        "data > 3"
      ]
    },
    {
      "cell_type": "code",
      "execution_count": 18,
      "metadata": {
        "id": "O82P0KHfiorm"
      },
      "outputs": [],
      "source": [
        "data[data > 3]=3"
      ]
    },
    {
      "cell_type": "code",
      "source": [
        "data"
      ],
      "metadata": {
        "id": "QL9Eq-m-YVTf",
        "outputId": "94977a60-2f79-41a7-8588-2f5fa8bbbc44",
        "colab": {
          "base_uri": "https://localhost:8080/"
        }
      },
      "execution_count": 19,
      "outputs": [
        {
          "output_type": "execute_result",
          "data": {
            "text/plain": [
              "array([[1., 2.],\n",
              "       [3., 3.],\n",
              "       [3., 3.]])"
            ]
          },
          "metadata": {},
          "execution_count": 19
        }
      ]
    },
    {
      "cell_type": "markdown",
      "metadata": {
        "id": "_yACS6FViorm"
      },
      "source": [
        "## Array Operations"
      ]
    },
    {
      "cell_type": "markdown",
      "metadata": {
        "id": "gqscX_66iorm"
      },
      "source": [
        "array를 생성하고, 해당 객체의 정보를 확인하고, array에서 원소를 슬라이싱하는 것을 알게 되었습니다. 이제 다른 행렬을 정의한 후, 두 행렬 간의 연산을 수행하겠습니다."
      ]
    },
    {
      "cell_type": "code",
      "execution_count": 25,
      "metadata": {
        "execution": {
          "iopub.execute_input": "2023-12-18T01:37:58.668455Z",
          "iopub.status.busy": "2023-12-18T01:37:58.668173Z",
          "iopub.status.idle": "2023-12-18T01:37:58.674532Z",
          "shell.execute_reply": "2023-12-18T01:37:58.674042Z",
          "shell.execute_reply.started": "2023-12-18T01:37:58.668429Z"
        },
        "trusted": true,
        "id": "uviAgPSHiorm"
      },
      "outputs": [],
      "source": [
        "A = np.array([[1,2],\n",
        "              [2,1]])"
      ]
    },
    {
      "cell_type": "code",
      "execution_count": 23,
      "metadata": {
        "execution": {
          "iopub.execute_input": "2023-12-18T01:37:58.676603Z",
          "iopub.status.busy": "2023-12-18T01:37:58.676365Z",
          "iopub.status.idle": "2023-12-18T01:37:58.682940Z",
          "shell.execute_reply": "2023-12-18T01:37:58.682410Z",
          "shell.execute_reply.started": "2023-12-18T01:37:58.676582Z"
        },
        "trusted": true,
        "id": "FC0Jr-Wfiorn"
      },
      "outputs": [],
      "source": [
        "B = np.array([[1,0],\n",
        "              [0,1]])"
      ]
    },
    {
      "cell_type": "markdown",
      "metadata": {
        "id": "Kpu7GkeHiorn"
      },
      "source": [
        "#### 참고\n",
        "\n",
        "`np.array`를 만드는 함수는 다양합니다. 그 일부로,\n",
        "\n",
        "- `np.zeros`\n",
        "- `np.ones`\n",
        "- `np.empty`\n",
        "- `np.eye`"
      ]
    },
    {
      "cell_type": "code",
      "execution_count": 20,
      "metadata": {
        "execution": {
          "iopub.execute_input": "2023-12-18T01:37:58.684120Z",
          "iopub.status.busy": "2023-12-18T01:37:58.683849Z",
          "iopub.status.idle": "2023-12-18T01:37:58.693850Z",
          "shell.execute_reply": "2023-12-18T01:37:58.692908Z",
          "shell.execute_reply.started": "2023-12-18T01:37:58.684094Z"
        },
        "trusted": true,
        "id": "MykSy0UTiorn",
        "outputId": "b4fc35ba-771f-40b4-e579-6015b6b0d1f4",
        "colab": {
          "base_uri": "https://localhost:8080/"
        }
      },
      "outputs": [
        {
          "output_type": "execute_result",
          "data": {
            "text/plain": [
              "array([[0., 0.],\n",
              "       [0., 0.]])"
            ]
          },
          "metadata": {},
          "execution_count": 20
        }
      ],
      "source": [
        "np.zeros((2,2))"
      ]
    },
    {
      "cell_type": "code",
      "execution_count": 26,
      "metadata": {
        "execution": {
          "iopub.execute_input": "2023-12-18T01:37:58.695787Z",
          "iopub.status.busy": "2023-12-18T01:37:58.695490Z",
          "iopub.status.idle": "2023-12-18T01:37:58.702305Z",
          "shell.execute_reply": "2023-12-18T01:37:58.701626Z",
          "shell.execute_reply.started": "2023-12-18T01:37:58.695761Z"
        },
        "trusted": true,
        "id": "ntenccZ0iorn",
        "outputId": "d119a653-5517-498b-90d1-639316f0e97c",
        "colab": {
          "base_uri": "https://localhost:8080/"
        }
      },
      "outputs": [
        {
          "output_type": "execute_result",
          "data": {
            "text/plain": [
              "array([[2, 2],\n",
              "       [2, 2]])"
            ]
          },
          "metadata": {},
          "execution_count": 26
        }
      ],
      "source": [
        "A + B"
      ]
    },
    {
      "cell_type": "code",
      "execution_count": 27,
      "metadata": {
        "execution": {
          "iopub.execute_input": "2023-12-18T01:37:58.703697Z",
          "iopub.status.busy": "2023-12-18T01:37:58.703403Z",
          "iopub.status.idle": "2023-12-18T01:37:58.711220Z",
          "shell.execute_reply": "2023-12-18T01:37:58.710657Z",
          "shell.execute_reply.started": "2023-12-18T01:37:58.703671Z"
        },
        "trusted": true,
        "id": "kR67zwRliorn",
        "outputId": "c041d4a0-f30a-4839-d888-7009657518bd",
        "colab": {
          "base_uri": "https://localhost:8080/"
        }
      },
      "outputs": [
        {
          "output_type": "execute_result",
          "data": {
            "text/plain": [
              "array([[1, 0],\n",
              "       [0, 1]])"
            ]
          },
          "metadata": {},
          "execution_count": 27
        }
      ],
      "source": [
        "A * B"
      ]
    },
    {
      "cell_type": "code",
      "execution_count": 28,
      "metadata": {
        "execution": {
          "iopub.execute_input": "2023-12-18T01:37:58.712351Z",
          "iopub.status.busy": "2023-12-18T01:37:58.712164Z",
          "iopub.status.idle": "2023-12-18T01:37:58.718746Z",
          "shell.execute_reply": "2023-12-18T01:37:58.718254Z",
          "shell.execute_reply.started": "2023-12-18T01:37:58.712333Z"
        },
        "trusted": true,
        "id": "Sygu4jmliorn",
        "outputId": "f2f82aed-24ee-4a13-c767-e8eabc345e53",
        "colab": {
          "base_uri": "https://localhost:8080/"
        }
      },
      "outputs": [
        {
          "output_type": "execute_result",
          "data": {
            "text/plain": [
              "array([[2, 4],\n",
              "       [4, 2]])"
            ]
          },
          "metadata": {},
          "execution_count": 28
        }
      ],
      "source": [
        "k = 2\n",
        "k * A"
      ]
    },
    {
      "cell_type": "code",
      "execution_count": 29,
      "metadata": {
        "execution": {
          "iopub.execute_input": "2023-12-18T01:37:58.719861Z",
          "iopub.status.busy": "2023-12-18T01:37:58.719463Z",
          "iopub.status.idle": "2023-12-18T01:37:58.730008Z",
          "shell.execute_reply": "2023-12-18T01:37:58.729431Z",
          "shell.execute_reply.started": "2023-12-18T01:37:58.719840Z"
        },
        "trusted": true,
        "id": "E-uMt7lUiorn",
        "outputId": "bdb1748a-d2fe-49d0-bffd-e13ce32f0352",
        "colab": {
          "base_uri": "https://localhost:8080/"
        }
      },
      "outputs": [
        {
          "output_type": "execute_result",
          "data": {
            "text/plain": [
              "array([[1, 2],\n",
              "       [2, 1]])"
            ]
          },
          "metadata": {},
          "execution_count": 29
        }
      ],
      "source": [
        "np.dot(A, B)  #identity를 곱했으므로 동일한 결과"
      ]
    },
    {
      "cell_type": "code",
      "execution_count": 30,
      "metadata": {
        "execution": {
          "iopub.execute_input": "2023-12-18T01:37:58.730755Z",
          "iopub.status.busy": "2023-12-18T01:37:58.730539Z",
          "iopub.status.idle": "2023-12-18T01:37:58.738585Z",
          "shell.execute_reply": "2023-12-18T01:37:58.738011Z",
          "shell.execute_reply.started": "2023-12-18T01:37:58.730737Z"
        },
        "trusted": true,
        "id": "6WnDmVkziorn",
        "outputId": "dab4184a-1dc9-4503-df2b-4aca2615dc2e",
        "colab": {
          "base_uri": "https://localhost:8080/"
        }
      },
      "outputs": [
        {
          "output_type": "execute_result",
          "data": {
            "text/plain": [
              "array([[1, 2],\n",
              "       [2, 1]])"
            ]
          },
          "metadata": {},
          "execution_count": 30
        }
      ],
      "source": [
        "np.matmul(A, B)"
      ]
    },
    {
      "cell_type": "code",
      "source": [
        "A @ B #얘가 mp.matmul의 약자"
      ],
      "metadata": {
        "id": "06yvWAvDZLv_",
        "outputId": "cd56080a-5578-48d1-af4a-2942229373e4",
        "colab": {
          "base_uri": "https://localhost:8080/"
        }
      },
      "execution_count": 31,
      "outputs": [
        {
          "output_type": "execute_result",
          "data": {
            "text/plain": [
              "array([[1, 2],\n",
              "       [2, 1]])"
            ]
          },
          "metadata": {},
          "execution_count": 31
        }
      ]
    },
    {
      "cell_type": "markdown",
      "metadata": {
        "id": "_23WMHssiorn"
      },
      "source": [
        "`np.dot`은 input array들이 모두 1-Dimension 일 때, inner product(내적)를 수행합니다."
      ]
    },
    {
      "cell_type": "code",
      "execution_count": 32,
      "metadata": {
        "execution": {
          "iopub.execute_input": "2023-12-18T01:37:58.739564Z",
          "iopub.status.busy": "2023-12-18T01:37:58.739278Z",
          "iopub.status.idle": "2023-12-18T01:37:58.746687Z",
          "shell.execute_reply": "2023-12-18T01:37:58.746158Z",
          "shell.execute_reply.started": "2023-12-18T01:37:58.739537Z"
        },
        "trusted": true,
        "id": "vqidb8Aniorn",
        "outputId": "95ed8116-44c6-42ab-9077-74d76a5c499d",
        "colab": {
          "base_uri": "https://localhost:8080/"
        }
      },
      "outputs": [
        {
          "output_type": "execute_result",
          "data": {
            "text/plain": [
              "array([[1, 2],\n",
              "       [2, 1]])"
            ]
          },
          "metadata": {},
          "execution_count": 32
        }
      ],
      "source": [
        "np.inner(A, B)"
      ]
    },
    {
      "cell_type": "code",
      "execution_count": 34,
      "metadata": {
        "execution": {
          "iopub.execute_input": "2023-12-18T01:37:58.748229Z",
          "iopub.status.busy": "2023-12-18T01:37:58.747541Z",
          "iopub.status.idle": "2023-12-18T01:37:58.756284Z",
          "shell.execute_reply": "2023-12-18T01:37:58.755686Z",
          "shell.execute_reply.started": "2023-12-18T01:37:58.748208Z"
        },
        "trusted": true,
        "id": "tvtiOpBwiorn",
        "outputId": "dccdca07-9b42-417e-d758-3294b05501dd",
        "colab": {
          "base_uri": "https://localhost:8080/"
        }
      },
      "outputs": [
        {
          "output_type": "execute_result",
          "data": {
            "text/plain": [
              "array([[2, 4],\n",
              "       [4, 2]])"
            ]
          },
          "metadata": {},
          "execution_count": 34
        }
      ],
      "source": [
        "np.dot(2, A)"
      ]
    },
    {
      "cell_type": "code",
      "source": [
        "np.matmul(2, A)"
      ],
      "metadata": {
        "id": "lPNJdzhtZmWA",
        "outputId": "65ae956b-f5a2-447d-af69-9451b49a95b7",
        "colab": {
          "base_uri": "https://localhost:8080/",
          "height": 198
        }
      },
      "execution_count": 35,
      "outputs": [
        {
          "output_type": "error",
          "ename": "ValueError",
          "evalue": "ignored",
          "traceback": [
            "\u001b[0;31m---------------------------------------------------------------------------\u001b[0m",
            "\u001b[0;31mValueError\u001b[0m                                Traceback (most recent call last)",
            "\u001b[0;32m<ipython-input-35-22442e723af6>\u001b[0m in \u001b[0;36m<cell line: 1>\u001b[0;34m()\u001b[0m\n\u001b[0;32m----> 1\u001b[0;31m \u001b[0mnp\u001b[0m\u001b[0;34m.\u001b[0m\u001b[0mmatmul\u001b[0m\u001b[0;34m(\u001b[0m\u001b[0;36m2\u001b[0m\u001b[0;34m,\u001b[0m \u001b[0mA\u001b[0m\u001b[0;34m)\u001b[0m\u001b[0;34m\u001b[0m\u001b[0;34m\u001b[0m\u001b[0m\n\u001b[0m",
            "\u001b[0;31mValueError\u001b[0m: matmul: Input operand 0 does not have enough dimensions (has 0, gufunc core with signature (n?,k),(k,m?)->(n?,m?) requires 1)"
          ]
        }
      ]
    },
    {
      "cell_type": "markdown",
      "metadata": {
        "id": "SCfoaG7tiorn"
      },
      "source": [
        "``matmul`` differs from ``dot`` in two important ways:\n",
        "\n",
        "- Multiplication by scalars is not allowed, use ``*`` instead.\n",
        "- Stacks of matrices are broadcast together as if the matrices\n",
        "  were elements, respecting the signature ``(n,k),(k,m)->(n,m)``:\n",
        "\n",
        "```{python}\n",
        "  >>> a = np.ones([9, 5, 7, 4])\n",
        "  >>> c = np.ones([9, 5, 4, 3])\n",
        "  >>> np.dot(a, c).shape\n",
        "  (9, 5, 7, 9, 5, 3)\n",
        "  >>> np.matmul(a, c).shape\n",
        "  (9, 5, 7, 3)\n",
        "  >>> # n is 7, k is 4, m is 3\n",
        " ```"
      ]
    },
    {
      "cell_type": "code",
      "execution_count": null,
      "metadata": {
        "execution": {
          "iopub.execute_input": "2023-12-18T01:37:58.776411Z",
          "iopub.status.busy": "2023-12-18T01:37:58.775672Z",
          "iopub.status.idle": "2023-12-18T01:37:58.782481Z",
          "shell.execute_reply": "2023-12-18T01:37:58.781805Z",
          "shell.execute_reply.started": "2023-12-18T01:37:58.776390Z"
        },
        "trusted": true,
        "id": "y0_hA-Kkiorn"
      },
      "outputs": [],
      "source": []
    },
    {
      "cell_type": "code",
      "execution_count": null,
      "metadata": {
        "execution": {
          "iopub.execute_input": "2023-12-18T01:37:58.783799Z",
          "iopub.status.busy": "2023-12-18T01:37:58.783266Z",
          "iopub.status.idle": "2023-12-18T01:37:58.808727Z",
          "shell.execute_reply": "2023-12-18T01:37:58.808022Z",
          "shell.execute_reply.started": "2023-12-18T01:37:58.783779Z"
        },
        "trusted": true,
        "id": "7FTEUI2Wioro"
      },
      "outputs": [],
      "source": []
    },
    {
      "cell_type": "code",
      "execution_count": null,
      "metadata": {
        "execution": {
          "iopub.execute_input": "2023-12-18T01:37:58.810248Z",
          "iopub.status.busy": "2023-12-18T01:37:58.809878Z",
          "iopub.status.idle": "2023-12-18T01:37:58.817297Z",
          "shell.execute_reply": "2023-12-18T01:37:58.816542Z",
          "shell.execute_reply.started": "2023-12-18T01:37:58.810226Z"
        },
        "trusted": true,
        "id": "-yIGkpEWioro"
      },
      "outputs": [],
      "source": []
    },
    {
      "cell_type": "code",
      "execution_count": null,
      "metadata": {
        "execution": {
          "iopub.execute_input": "2023-12-18T01:37:58.818776Z",
          "iopub.status.busy": "2023-12-18T01:37:58.818331Z",
          "iopub.status.idle": "2023-12-18T01:37:58.823462Z",
          "shell.execute_reply": "2023-12-18T01:37:58.822797Z",
          "shell.execute_reply.started": "2023-12-18T01:37:58.818756Z"
        },
        "trusted": true,
        "id": "U5uceXImiors"
      },
      "outputs": [],
      "source": []
    },
    {
      "cell_type": "code",
      "execution_count": null,
      "metadata": {
        "execution": {
          "iopub.execute_input": "2023-12-18T01:37:58.824790Z",
          "iopub.status.busy": "2023-12-18T01:37:58.824173Z",
          "iopub.status.idle": "2023-12-18T01:37:58.832479Z",
          "shell.execute_reply": "2023-12-18T01:37:58.831773Z",
          "shell.execute_reply.started": "2023-12-18T01:37:58.824770Z"
        },
        "trusted": true,
        "id": "3dLSmJ2Wiort"
      },
      "outputs": [],
      "source": [
        "import numpy as np\n",
        "\n",
        "# Example with 3-D arrays\n",
        "tensor1 = np.random.rand(3, 4, 2)  # A 3x4x2 tensor\n",
        "tensor2 = np.random.rand(3, 2, 5)  # A 3x2x5 tensor\n",
        "\n",
        "# Using np.dot()\n",
        "result_dot = np.dot(tensor1, tensor2)\n",
        "\n",
        "# Using np.matmul()\n",
        "result_matmul = np.matmul(tensor1, tensor2)\n",
        "\n",
        "print(\"Shape of Result (np.dot()):\", result_dot.shape)\n",
        "print(\"Shape of Result (np.matmul()):\", result_matmul.shape)\n"
      ]
    },
    {
      "cell_type": "markdown",
      "metadata": {
        "id": "qIu_lMxLiort"
      },
      "source": [
        "- If `a` is an N-D array and `b` is an M-D array (where ``M>=2``), it is a\n",
        "  sum product over the last axis of `a` and the second-to-last axis of\n",
        "  `b`::\n",
        "  \n",
        "```python\n",
        "    dot(a, b)[i,j,k,m] = sum(a[i,j,:] * b[k,:,m])\n",
        "```"
      ]
    },
    {
      "cell_type": "code",
      "execution_count": null,
      "metadata": {
        "execution": {
          "iopub.execute_input": "2023-12-18T01:37:58.833602Z",
          "iopub.status.busy": "2023-12-18T01:37:58.833372Z",
          "iopub.status.idle": "2023-12-18T01:37:58.842817Z",
          "shell.execute_reply": "2023-12-18T01:37:58.841973Z",
          "shell.execute_reply.started": "2023-12-18T01:37:58.833582Z"
        },
        "trusted": true,
        "id": "1YhYrs97iort"
      },
      "outputs": [],
      "source": [
        "i = np.shape(tensor1)[0]\n",
        "j = np.shape(tensor1)[1]\n",
        "k = np.shape(tensor2)[0]\n",
        "m = np.shape(tensor2)[1]"
      ]
    },
    {
      "cell_type": "code",
      "execution_count": null,
      "metadata": {
        "execution": {
          "iopub.execute_input": "2023-12-18T01:37:58.843984Z",
          "iopub.status.busy": "2023-12-18T01:37:58.843762Z",
          "iopub.status.idle": "2023-12-18T01:37:58.851835Z",
          "shell.execute_reply": "2023-12-18T01:37:58.851244Z",
          "shell.execute_reply.started": "2023-12-18T01:37:58.843965Z"
        },
        "trusted": true,
        "id": "BKg31_pgioru"
      },
      "outputs": [],
      "source": [
        "A = np.zeros((i,j,k,m))"
      ]
    },
    {
      "cell_type": "code",
      "execution_count": null,
      "metadata": {
        "execution": {
          "iopub.execute_input": "2023-12-18T01:37:58.853274Z",
          "iopub.status.busy": "2023-12-18T01:37:58.852569Z",
          "iopub.status.idle": "2023-12-18T01:37:58.861357Z",
          "shell.execute_reply": "2023-12-18T01:37:58.860857Z",
          "shell.execute_reply.started": "2023-12-18T01:37:58.853253Z"
        },
        "trusted": true,
        "id": "KVjJtboYioru"
      },
      "outputs": [],
      "source": [
        "for i in range(np.shape(tensor1)[0]):\n",
        "    for j in range(np.shape(tensor1)[1]):\n",
        "        for k in range(np.shape(tensor2)[0]):\n",
        "            for m in range(np.shape(tensor2)[1]):\n",
        "                A[i,j,k,m] = sum(tensor1[i,j,:] * tensor2[k,:,m])"
      ]
    },
    {
      "cell_type": "code",
      "execution_count": 36,
      "metadata": {
        "execution": {
          "iopub.execute_input": "2023-12-18T01:44:57.259959Z",
          "iopub.status.busy": "2023-12-18T01:44:57.259668Z",
          "iopub.status.idle": "2023-12-18T01:44:57.266524Z",
          "shell.execute_reply": "2023-12-18T01:44:57.265456Z",
          "shell.execute_reply.started": "2023-12-18T01:44:57.259936Z"
        },
        "trusted": true,
        "id": "U1TYm8WKioru",
        "outputId": "75ff78e6-a143-4db0-af05-5bd0c87b878b",
        "colab": {
          "base_uri": "https://localhost:8080/"
        }
      },
      "outputs": [
        {
          "output_type": "execute_result",
          "data": {
            "text/plain": [
              "array([[1., 2.],\n",
              "       [3., 3.],\n",
              "       [3., 3.]])"
            ]
          },
          "metadata": {},
          "execution_count": 36
        }
      ],
      "source": [
        "data"
      ]
    },
    {
      "cell_type": "code",
      "execution_count": 37,
      "metadata": {
        "execution": {
          "iopub.execute_input": "2023-12-18T01:45:02.950674Z",
          "iopub.status.busy": "2023-12-18T01:45:02.950364Z",
          "iopub.status.idle": "2023-12-18T01:45:02.956055Z",
          "shell.execute_reply": "2023-12-18T01:45:02.955158Z",
          "shell.execute_reply.started": "2023-12-18T01:45:02.950634Z"
        },
        "trusted": true,
        "id": "KvnDASW8ioru",
        "outputId": "41faac71-ad34-40f6-f83d-1e68201c3995",
        "colab": {
          "base_uri": "https://localhost:8080/"
        }
      },
      "outputs": [
        {
          "output_type": "execute_result",
          "data": {
            "text/plain": [
              "1.0"
            ]
          },
          "metadata": {},
          "execution_count": 37
        }
      ],
      "source": [
        "data.min()"
      ]
    },
    {
      "cell_type": "code",
      "execution_count": 38,
      "metadata": {
        "execution": {
          "iopub.execute_input": "2023-12-18T01:45:08.352983Z",
          "iopub.status.busy": "2023-12-18T01:45:08.352411Z",
          "iopub.status.idle": "2023-12-18T01:45:08.357228Z",
          "shell.execute_reply": "2023-12-18T01:45:08.356690Z",
          "shell.execute_reply.started": "2023-12-18T01:45:08.352957Z"
        },
        "trusted": true,
        "id": "CL6Kgltmioru",
        "outputId": "9b3e7baf-6211-44af-b316-18d84a76cf82",
        "colab": {
          "base_uri": "https://localhost:8080/"
        }
      },
      "outputs": [
        {
          "output_type": "execute_result",
          "data": {
            "text/plain": [
              "15.0"
            ]
          },
          "metadata": {},
          "execution_count": 38
        }
      ],
      "source": [
        "data.sum()"
      ]
    },
    {
      "cell_type": "code",
      "execution_count": 39,
      "metadata": {
        "execution": {
          "iopub.execute_input": "2023-12-18T01:45:12.512364Z",
          "iopub.status.busy": "2023-12-18T01:45:12.512073Z",
          "iopub.status.idle": "2023-12-18T01:45:12.519375Z",
          "shell.execute_reply": "2023-12-18T01:45:12.518615Z",
          "shell.execute_reply.started": "2023-12-18T01:45:12.512343Z"
        },
        "trusted": true,
        "id": "jehdC7sGioru",
        "outputId": "d937314b-12f0-4c92-b5c4-538f97619a70",
        "colab": {
          "base_uri": "https://localhost:8080/"
        }
      },
      "outputs": [
        {
          "output_type": "execute_result",
          "data": {
            "text/plain": [
              "3.0"
            ]
          },
          "metadata": {},
          "execution_count": 39
        }
      ],
      "source": [
        "data.max()"
      ]
    },
    {
      "cell_type": "code",
      "execution_count": 40,
      "metadata": {
        "execution": {
          "iopub.execute_input": "2023-12-18T01:46:06.284290Z",
          "iopub.status.busy": "2023-12-18T01:46:06.283986Z",
          "iopub.status.idle": "2023-12-18T01:46:06.290328Z",
          "shell.execute_reply": "2023-12-18T01:46:06.289420Z",
          "shell.execute_reply.started": "2023-12-18T01:46:06.284266Z"
        },
        "trusted": true,
        "id": "m5bjAfXwioru",
        "outputId": "d35ebf0f-b99d-4c4d-aab1-152cc1863084",
        "colab": {
          "base_uri": "https://localhost:8080/"
        }
      },
      "outputs": [
        {
          "output_type": "execute_result",
          "data": {
            "text/plain": [
              "array([1., 2.])"
            ]
          },
          "metadata": {},
          "execution_count": 40
        }
      ],
      "source": [
        "data.min(axis=0)"
      ]
    },
    {
      "cell_type": "code",
      "source": [
        "np.zeros((3, 2))"
      ],
      "metadata": {
        "id": "H3eP89zjawvJ",
        "outputId": "240ba043-7a17-44d7-f7ab-a34551f03179",
        "colab": {
          "base_uri": "https://localhost:8080/"
        }
      },
      "execution_count": 46,
      "outputs": [
        {
          "output_type": "execute_result",
          "data": {
            "text/plain": [
              "array([[0., 0.],\n",
              "       [0., 0.],\n",
              "       [0., 0.]])"
            ]
          },
          "metadata": {},
          "execution_count": 46
        }
      ]
    },
    {
      "cell_type": "markdown",
      "metadata": {
        "id": "aK7egN6gioru"
      },
      "source": [
        "## Broadcasting"
      ]
    },
    {
      "cell_type": "markdown",
      "metadata": {
        "id": "8VeYf-udioru"
      },
      "source": [
        "<img src=https://numpy.org/doc/stable/_images/broadcasting_1.png>"
      ]
    },
    {
      "cell_type": "code",
      "execution_count": 42,
      "metadata": {
        "execution": {
          "iopub.execute_input": "2023-12-18T01:37:58.862563Z",
          "iopub.status.busy": "2023-12-18T01:37:58.862139Z",
          "iopub.status.idle": "2023-12-18T01:37:58.872421Z",
          "shell.execute_reply": "2023-12-18T01:37:58.871678Z",
          "shell.execute_reply.started": "2023-12-18T01:37:58.862542Z"
        },
        "trusted": true,
        "id": "m4kGKunJiorv"
      },
      "outputs": [],
      "source": [
        "a = np.array([1, 2, 3])\n",
        "b = np.array([2])"
      ]
    },
    {
      "cell_type": "code",
      "source": [
        "a.shape"
      ],
      "metadata": {
        "id": "y_E8EilWa_B6",
        "outputId": "23c6a8b8-5ac8-41e5-8ced-1993713cdabf",
        "colab": {
          "base_uri": "https://localhost:8080/"
        }
      },
      "execution_count": 43,
      "outputs": [
        {
          "output_type": "execute_result",
          "data": {
            "text/plain": [
              "(3,)"
            ]
          },
          "metadata": {},
          "execution_count": 43
        }
      ]
    },
    {
      "cell_type": "code",
      "source": [
        "b.shape"
      ],
      "metadata": {
        "id": "I4mO_HTWbBrD",
        "outputId": "ee6195ce-6121-4a1a-dd8a-bd06c0f894b0",
        "colab": {
          "base_uri": "https://localhost:8080/"
        }
      },
      "execution_count": 44,
      "outputs": [
        {
          "output_type": "execute_result",
          "data": {
            "text/plain": [
              "(1,)"
            ]
          },
          "metadata": {},
          "execution_count": 44
        }
      ]
    },
    {
      "cell_type": "code",
      "source": [
        "a * b"
      ],
      "metadata": {
        "id": "i3SxuLQHbEsk",
        "outputId": "1621c192-8595-46af-83e2-16f16f4cbf1f",
        "colab": {
          "base_uri": "https://localhost:8080/"
        }
      },
      "execution_count": 45,
      "outputs": [
        {
          "output_type": "execute_result",
          "data": {
            "text/plain": [
              "array([2, 4, 6])"
            ]
          },
          "metadata": {},
          "execution_count": 45
        }
      ]
    },
    {
      "cell_type": "markdown",
      "metadata": {
        "id": "56Oy9lvoiorv"
      },
      "source": [
        "<img src=https://numpy.org/doc/stable/_images/broadcasting_2.png>"
      ]
    },
    {
      "cell_type": "code",
      "execution_count": 47,
      "metadata": {
        "execution": {
          "iopub.execute_input": "2023-12-18T01:37:58.873746Z",
          "iopub.status.busy": "2023-12-18T01:37:58.873307Z",
          "iopub.status.idle": "2023-12-18T01:37:58.883064Z",
          "shell.execute_reply": "2023-12-18T01:37:58.882397Z",
          "shell.execute_reply.started": "2023-12-18T01:37:58.873725Z"
        },
        "trusted": true,
        "id": "tiJLZeiRiorv"
      },
      "outputs": [],
      "source": [
        "a = np.array([[0,0,0],\n",
        "              [10,10,10],\n",
        "              [20,20,20],\n",
        "              [30,30,30]])"
      ]
    },
    {
      "cell_type": "code",
      "source": [
        "b = np.array([1, 2, 3])"
      ],
      "metadata": {
        "id": "-a5uIcxobXUa"
      },
      "execution_count": 49,
      "outputs": []
    },
    {
      "cell_type": "code",
      "execution_count": 50,
      "metadata": {
        "execution": {
          "iopub.execute_input": "2023-12-18T01:37:58.884448Z",
          "iopub.status.busy": "2023-12-18T01:37:58.884045Z",
          "iopub.status.idle": "2023-12-18T01:37:58.891692Z",
          "shell.execute_reply": "2023-12-18T01:37:58.890940Z",
          "shell.execute_reply.started": "2023-12-18T01:37:58.884428Z"
        },
        "trusted": true,
        "id": "KXGOGPwEiorv",
        "outputId": "282b9426-6c50-4b53-8f1b-92935d7dc800",
        "colab": {
          "base_uri": "https://localhost:8080/"
        }
      },
      "outputs": [
        {
          "output_type": "execute_result",
          "data": {
            "text/plain": [
              "array([[ 1,  2,  3],\n",
              "       [11, 12, 22],\n",
              "       [21, 22, 23],\n",
              "       [31, 32, 33]])"
            ]
          },
          "metadata": {},
          "execution_count": 50
        }
      ],
      "source": [
        "a + b"
      ]
    },
    {
      "cell_type": "markdown",
      "metadata": {
        "id": "6sL7SXrCiorv"
      },
      "source": [
        "<img src=https://numpy.org/doc/stable/_images/broadcasting_3.png>"
      ]
    },
    {
      "cell_type": "code",
      "source": [
        "b = np.array([1, 2, 3, 4])"
      ],
      "metadata": {
        "id": "45owZzqKbqlp"
      },
      "execution_count": 51,
      "outputs": []
    },
    {
      "cell_type": "code",
      "source": [
        "a + b"
      ],
      "metadata": {
        "id": "jIeQUe7tbtUs",
        "outputId": "0f027c60-928f-4610-b875-33ce35388db4",
        "colab": {
          "base_uri": "https://localhost:8080/",
          "height": 180
        }
      },
      "execution_count": 52,
      "outputs": [
        {
          "output_type": "error",
          "ename": "ValueError",
          "evalue": "ignored",
          "traceback": [
            "\u001b[0;31m---------------------------------------------------------------------------\u001b[0m",
            "\u001b[0;31mValueError\u001b[0m                                Traceback (most recent call last)",
            "\u001b[0;32m<ipython-input-52-bd58363a63fc>\u001b[0m in \u001b[0;36m<cell line: 1>\u001b[0;34m()\u001b[0m\n\u001b[0;32m----> 1\u001b[0;31m \u001b[0ma\u001b[0m \u001b[0;34m+\u001b[0m \u001b[0mb\u001b[0m\u001b[0;34m\u001b[0m\u001b[0;34m\u001b[0m\u001b[0m\n\u001b[0m",
            "\u001b[0;31mValueError\u001b[0m: operands could not be broadcast together with shapes (4,3) (4,) "
          ]
        }
      ]
    },
    {
      "cell_type": "markdown",
      "metadata": {
        "id": "HA1Rxsm3iorv"
      },
      "source": [
        "\n",
        "\n",
        "<img src=https://numpy.org/doc/stable/_images/broadcasting_4.png>"
      ]
    },
    {
      "cell_type": "code",
      "execution_count": 61,
      "metadata": {
        "execution": {
          "iopub.execute_input": "2023-12-18T01:37:58.892846Z",
          "iopub.status.busy": "2023-12-18T01:37:58.892596Z",
          "iopub.status.idle": "2023-12-18T01:37:58.901543Z",
          "shell.execute_reply": "2023-12-18T01:37:58.900988Z",
          "shell.execute_reply.started": "2023-12-18T01:37:58.892827Z"
        },
        "trusted": true,
        "id": "tj0QJETNiorv"
      },
      "outputs": [],
      "source": [
        "a = np.array([0, 10, 20, 30])"
      ]
    },
    {
      "cell_type": "code",
      "source": [
        "a = a.reshape((4,1))"
      ],
      "metadata": {
        "id": "Km6EmVjSdCFj"
      },
      "execution_count": 66,
      "outputs": []
    },
    {
      "cell_type": "code",
      "execution_count": 59,
      "metadata": {
        "execution": {
          "iopub.execute_input": "2023-12-18T01:41:32.729698Z",
          "iopub.status.busy": "2023-12-18T01:41:32.729378Z",
          "iopub.status.idle": "2023-12-18T01:41:32.735259Z",
          "shell.execute_reply": "2023-12-18T01:41:32.734455Z",
          "shell.execute_reply.started": "2023-12-18T01:41:32.729675Z"
        },
        "trusted": true,
        "id": "V33xHyJ8iorv"
      },
      "outputs": [],
      "source": [
        "b = np.array([1, 2, 3])"
      ]
    },
    {
      "cell_type": "code",
      "execution_count": 67,
      "metadata": {
        "execution": {
          "iopub.execute_input": "2023-12-18T01:43:06.675158Z",
          "iopub.status.busy": "2023-12-18T01:43:06.674843Z",
          "iopub.status.idle": "2023-12-18T01:43:06.680858Z",
          "shell.execute_reply": "2023-12-18T01:43:06.679977Z",
          "shell.execute_reply.started": "2023-12-18T01:43:06.675135Z"
        },
        "trusted": true,
        "id": "17GDdY3tiorw",
        "outputId": "9704f3a1-74f3-4b73-ba96-79b31d0a6db5",
        "colab": {
          "base_uri": "https://localhost:8080/"
        }
      },
      "outputs": [
        {
          "output_type": "execute_result",
          "data": {
            "text/plain": [
              "array([[ 1,  2,  3],\n",
              "       [11, 12, 13],\n",
              "       [21, 22, 23],\n",
              "       [31, 32, 33]])"
            ]
          },
          "metadata": {},
          "execution_count": 67
        }
      ],
      "source": [
        "a + b"
      ]
    },
    {
      "cell_type": "code",
      "source": [
        "a[:, np.newaxis] + b"
      ],
      "metadata": {
        "id": "Yqbn8ozXdLnF",
        "outputId": "28a1d91b-c3a3-4361-ed69-928b6e816418",
        "colab": {
          "base_uri": "https://localhost:8080/"
        }
      },
      "execution_count": 69,
      "outputs": [
        {
          "output_type": "execute_result",
          "data": {
            "text/plain": [
              "array([[[ 1,  2,  3]],\n",
              "\n",
              "       [[11, 12, 13]],\n",
              "\n",
              "       [[21, 22, 23]],\n",
              "\n",
              "       [[31, 32, 33]]])"
            ]
          },
          "metadata": {},
          "execution_count": 69
        }
      ]
    },
    {
      "cell_type": "markdown",
      "metadata": {
        "id": "uBi1VIDmiorw"
      },
      "source": [
        "## Unique item and counts"
      ]
    },
    {
      "cell_type": "code",
      "execution_count": 54,
      "metadata": {
        "execution": {
          "iopub.execute_input": "2023-12-18T01:52:25.162868Z",
          "iopub.status.busy": "2023-12-18T01:52:25.162549Z",
          "iopub.status.idle": "2023-12-18T01:52:25.170254Z",
          "shell.execute_reply": "2023-12-18T01:52:25.169317Z",
          "shell.execute_reply.started": "2023-12-18T01:52:25.162847Z"
        },
        "trusted": true,
        "id": "QiWVtr8Liorw"
      },
      "outputs": [],
      "source": [
        "a = np.array([11, 11, 12, 13, 14, 15, 16, 17, 12, 13, 11, 14, 18, 19, 20])"
      ]
    },
    {
      "cell_type": "code",
      "source": [
        "np.unique(a)"
      ],
      "metadata": {
        "id": "wxtF_CAycJWX",
        "outputId": "3b36049e-6c55-4460-ded5-74b22cfceded",
        "colab": {
          "base_uri": "https://localhost:8080/"
        }
      },
      "execution_count": 55,
      "outputs": [
        {
          "output_type": "execute_result",
          "data": {
            "text/plain": [
              "array([11, 12, 13, 14, 15, 16, 17, 18, 19, 20])"
            ]
          },
          "metadata": {},
          "execution_count": 55
        }
      ]
    },
    {
      "cell_type": "code",
      "source": [
        "np.unique(a, return_index=True)"
      ],
      "metadata": {
        "id": "Ir7qGmlFcOS-",
        "outputId": "250cf579-4158-46e7-9d46-450aea7b9e1c",
        "colab": {
          "base_uri": "https://localhost:8080/"
        }
      },
      "execution_count": 56,
      "outputs": [
        {
          "output_type": "execute_result",
          "data": {
            "text/plain": [
              "(array([11, 12, 13, 14, 15, 16, 17, 18, 19, 20]),\n",
              " array([ 0,  2,  3,  4,  5,  6,  7, 12, 13, 14]))"
            ]
          },
          "metadata": {},
          "execution_count": 56
        }
      ]
    },
    {
      "cell_type": "code",
      "source": [
        "np.unique(a, return_counts=True)"
      ],
      "metadata": {
        "id": "_liDAlW3cs6b",
        "outputId": "22a3ba69-b9d5-4181-c72c-49856dd10abd",
        "colab": {
          "base_uri": "https://localhost:8080/"
        }
      },
      "execution_count": 57,
      "outputs": [
        {
          "output_type": "execute_result",
          "data": {
            "text/plain": [
              "(array([11, 12, 13, 14, 15, 16, 17, 18, 19, 20]),\n",
              " array([3, 2, 2, 2, 1, 1, 1, 1, 1, 1]))"
            ]
          },
          "metadata": {},
          "execution_count": 57
        }
      ]
    },
    {
      "cell_type": "markdown",
      "metadata": {
        "id": "OkZQwvXdiorw"
      },
      "source": [
        "## Example"
      ]
    },
    {
      "cell_type": "markdown",
      "metadata": {
        "id": "CtS0R-iPiorw"
      },
      "source": [
        "1. 1) 아래 주어진 함수 `mean_squared_error(X, w, y)`을 반복문(loops, list comprehension 등)을 사용하지 않고 완성하시오. 함수는 아래 식을 구현하여 평균 제곱 오차를 반환해야 합니다.\n",
        "\n",
        "$$\\frac{1}{N}\\sum_{\\mathbf{x}_i \\in \\mathbf{X}} (\\mathbf{x}_i \\mathbf{w}^\\intercal - y_i)^2$$"
      ]
    },
    {
      "cell_type": "markdown",
      "metadata": {
        "id": "0NoMUk-Xiorw"
      },
      "source": [
        "1. 2) 완성한 함수를 아래 입력에 실행시켜 결과를 출력하시오.\n",
        "```\n",
        "np.array([[-1.0, 1.0, 0], [-2.0, 2.0, 3.0]]), np.array([1, 1, 1]), np.array([1, 2])\n",
        "```"
      ]
    },
    {
      "cell_type": "code",
      "execution_count": 72,
      "metadata": {
        "id": "Q6Tgp3Rciorw"
      },
      "outputs": [],
      "source": [
        "def mean_squared_error(X, w, y):\n",
        "  return np.mean((np.dot(X, w) - y)**2)"
      ]
    },
    {
      "cell_type": "code",
      "execution_count": 73,
      "metadata": {
        "id": "FTwVJroxiorw",
        "outputId": "089d7d30-9c4c-4f73-b968-5ade3cb5e1c1",
        "colab": {
          "base_uri": "https://localhost:8080/"
        }
      },
      "outputs": [
        {
          "output_type": "execute_result",
          "data": {
            "text/plain": [
              "1.0"
            ]
          },
          "metadata": {},
          "execution_count": 73
        }
      ],
      "source": [
        "mean_squared_error(np.array([[-1.0, 1.0, 0], [-2.0, 2.0, 3.0]]), np.array([1, 1, 1]), np.array([1, 2])\n",
        ")"
      ]
    },
    {
      "cell_type": "markdown",
      "source": [
        "2. 정규방정식을 활용해서 회귀방정식의 계수를 적합해보고, `scikit-learn`의 함수와 비교해 봅니다. 정규방정식은 아래와 같습니다 ($\\beta$는 회귀계수를 의미함).\n",
        "\n",
        "$$\\beta = (X^T X)^{-1} X^T y$$\n",
        "\n"
      ],
      "metadata": {
        "id": "0zcDPF6X14kc"
      }
    },
    {
      "cell_type": "code",
      "source": [
        "from sklearn import datasets"
      ],
      "metadata": {
        "id": "XsYSLGkie2c4"
      },
      "execution_count": 74,
      "outputs": []
    },
    {
      "cell_type": "code",
      "source": [
        "diabetes = datasets.load_diabetes()"
      ],
      "metadata": {
        "id": "hAgMf05nfI7V"
      },
      "execution_count": 75,
      "outputs": []
    },
    {
      "cell_type": "code",
      "source": [
        "X = diabetes['data']\n",
        "y = diabetes['target']"
      ],
      "metadata": {
        "id": "mOCYYAK6fNIE"
      },
      "execution_count": 92,
      "outputs": []
    },
    {
      "cell_type": "code",
      "source": [
        "X[:5].shape"
      ],
      "metadata": {
        "id": "vj5GtSJCfX_d",
        "outputId": "7c738248-e9d6-41bc-a220-0b9743486a0f",
        "colab": {
          "base_uri": "https://localhost:8080/"
        }
      },
      "execution_count": 80,
      "outputs": [
        {
          "output_type": "execute_result",
          "data": {
            "text/plain": [
              "(5, 10)"
            ]
          },
          "metadata": {},
          "execution_count": 80
        }
      ]
    },
    {
      "cell_type": "code",
      "source": [
        "np.column_stack([np.ones(X.shape[0]), X])"
      ],
      "metadata": {
        "id": "n6OWgNDbfbDT",
        "outputId": "28322a26-e7c2-4766-e1d1-7d84d448f3ed",
        "colab": {
          "base_uri": "https://localhost:8080/"
        }
      },
      "execution_count": 95,
      "outputs": [
        {
          "output_type": "execute_result",
          "data": {
            "text/plain": [
              "array([[ 1.        ,  0.03807591,  0.05068012, ..., -0.00259226,\n",
              "         0.01990749, -0.01764613],\n",
              "       [ 1.        , -0.00188202, -0.04464164, ..., -0.03949338,\n",
              "        -0.06833155, -0.09220405],\n",
              "       [ 1.        ,  0.08529891,  0.05068012, ..., -0.00259226,\n",
              "         0.00286131, -0.02593034],\n",
              "       ...,\n",
              "       [ 1.        ,  0.04170844,  0.05068012, ..., -0.01107952,\n",
              "        -0.04688253,  0.01549073],\n",
              "       [ 1.        , -0.04547248, -0.04464164, ...,  0.02655962,\n",
              "         0.04452873, -0.02593034],\n",
              "       [ 1.        , -0.04547248, -0.04464164, ..., -0.03949338,\n",
              "        -0.00422151,  0.00306441]])"
            ]
          },
          "metadata": {},
          "execution_count": 95
        }
      ]
    },
    {
      "cell_type": "code",
      "source": [
        "beta = np.linalg.inv(X.T @ X) @ X.T @ y"
      ],
      "metadata": {
        "id": "NxGhCE3UfbcX"
      },
      "execution_count": 96,
      "outputs": []
    },
    {
      "cell_type": "code",
      "source": [
        "from sklearn.linear_model import LinearRegression\n",
        "\n",
        "lr = LinearRegression()\n",
        "lr.fit(X, y)"
      ],
      "metadata": {
        "id": "IUWA9BGxgY85",
        "outputId": "1baaa041-c86e-4ed3-aa35-ebcb7ea65188",
        "colab": {
          "base_uri": "https://localhost:8080/",
          "height": 75
        }
      },
      "execution_count": 94,
      "outputs": [
        {
          "output_type": "execute_result",
          "data": {
            "text/plain": [
              "LinearRegression()"
            ],
            "text/html": [
              "<style>#sk-container-id-1 {color: black;background-color: white;}#sk-container-id-1 pre{padding: 0;}#sk-container-id-1 div.sk-toggleable {background-color: white;}#sk-container-id-1 label.sk-toggleable__label {cursor: pointer;display: block;width: 100%;margin-bottom: 0;padding: 0.3em;box-sizing: border-box;text-align: center;}#sk-container-id-1 label.sk-toggleable__label-arrow:before {content: \"▸\";float: left;margin-right: 0.25em;color: #696969;}#sk-container-id-1 label.sk-toggleable__label-arrow:hover:before {color: black;}#sk-container-id-1 div.sk-estimator:hover label.sk-toggleable__label-arrow:before {color: black;}#sk-container-id-1 div.sk-toggleable__content {max-height: 0;max-width: 0;overflow: hidden;text-align: left;background-color: #f0f8ff;}#sk-container-id-1 div.sk-toggleable__content pre {margin: 0.2em;color: black;border-radius: 0.25em;background-color: #f0f8ff;}#sk-container-id-1 input.sk-toggleable__control:checked~div.sk-toggleable__content {max-height: 200px;max-width: 100%;overflow: auto;}#sk-container-id-1 input.sk-toggleable__control:checked~label.sk-toggleable__label-arrow:before {content: \"▾\";}#sk-container-id-1 div.sk-estimator input.sk-toggleable__control:checked~label.sk-toggleable__label {background-color: #d4ebff;}#sk-container-id-1 div.sk-label input.sk-toggleable__control:checked~label.sk-toggleable__label {background-color: #d4ebff;}#sk-container-id-1 input.sk-hidden--visually {border: 0;clip: rect(1px 1px 1px 1px);clip: rect(1px, 1px, 1px, 1px);height: 1px;margin: -1px;overflow: hidden;padding: 0;position: absolute;width: 1px;}#sk-container-id-1 div.sk-estimator {font-family: monospace;background-color: #f0f8ff;border: 1px dotted black;border-radius: 0.25em;box-sizing: border-box;margin-bottom: 0.5em;}#sk-container-id-1 div.sk-estimator:hover {background-color: #d4ebff;}#sk-container-id-1 div.sk-parallel-item::after {content: \"\";width: 100%;border-bottom: 1px solid gray;flex-grow: 1;}#sk-container-id-1 div.sk-label:hover label.sk-toggleable__label {background-color: #d4ebff;}#sk-container-id-1 div.sk-serial::before {content: \"\";position: absolute;border-left: 1px solid gray;box-sizing: border-box;top: 0;bottom: 0;left: 50%;z-index: 0;}#sk-container-id-1 div.sk-serial {display: flex;flex-direction: column;align-items: center;background-color: white;padding-right: 0.2em;padding-left: 0.2em;position: relative;}#sk-container-id-1 div.sk-item {position: relative;z-index: 1;}#sk-container-id-1 div.sk-parallel {display: flex;align-items: stretch;justify-content: center;background-color: white;position: relative;}#sk-container-id-1 div.sk-item::before, #sk-container-id-1 div.sk-parallel-item::before {content: \"\";position: absolute;border-left: 1px solid gray;box-sizing: border-box;top: 0;bottom: 0;left: 50%;z-index: -1;}#sk-container-id-1 div.sk-parallel-item {display: flex;flex-direction: column;z-index: 1;position: relative;background-color: white;}#sk-container-id-1 div.sk-parallel-item:first-child::after {align-self: flex-end;width: 50%;}#sk-container-id-1 div.sk-parallel-item:last-child::after {align-self: flex-start;width: 50%;}#sk-container-id-1 div.sk-parallel-item:only-child::after {width: 0;}#sk-container-id-1 div.sk-dashed-wrapped {border: 1px dashed gray;margin: 0 0.4em 0.5em 0.4em;box-sizing: border-box;padding-bottom: 0.4em;background-color: white;}#sk-container-id-1 div.sk-label label {font-family: monospace;font-weight: bold;display: inline-block;line-height: 1.2em;}#sk-container-id-1 div.sk-label-container {text-align: center;}#sk-container-id-1 div.sk-container {/* jupyter's `normalize.less` sets `[hidden] { display: none; }` but bootstrap.min.css set `[hidden] { display: none !important; }` so we also need the `!important` here to be able to override the default hidden behavior on the sphinx rendered scikit-learn.org. See: https://github.com/scikit-learn/scikit-learn/issues/21755 */display: inline-block !important;position: relative;}#sk-container-id-1 div.sk-text-repr-fallback {display: none;}</style><div id=\"sk-container-id-1\" class=\"sk-top-container\"><div class=\"sk-text-repr-fallback\"><pre>LinearRegression()</pre><b>In a Jupyter environment, please rerun this cell to show the HTML representation or trust the notebook. <br />On GitHub, the HTML representation is unable to render, please try loading this page with nbviewer.org.</b></div><div class=\"sk-container\" hidden><div class=\"sk-item\"><div class=\"sk-estimator sk-toggleable\"><input class=\"sk-toggleable__control sk-hidden--visually\" id=\"sk-estimator-id-1\" type=\"checkbox\" checked><label for=\"sk-estimator-id-1\" class=\"sk-toggleable__label sk-toggleable__label-arrow\">LinearRegression</label><div class=\"sk-toggleable__content\"><pre>LinearRegression()</pre></div></div></div></div></div>"
            ]
          },
          "metadata": {},
          "execution_count": 94
        }
      ]
    },
    {
      "cell_type": "code",
      "source": [
        "(lr.intercept_ + X @ lr.coef_)[:5]"
      ],
      "metadata": {
        "id": "9h5S_OUjgi03",
        "outputId": "d8abfb8c-323a-4741-ea63-413d75eb80c4",
        "colab": {
          "base_uri": "https://localhost:8080/"
        }
      },
      "execution_count": 103,
      "outputs": [
        {
          "output_type": "execute_result",
          "data": {
            "text/plain": [
              "array([206.11667725,  68.07103297, 176.88279035, 166.91445843,\n",
              "       128.46225834])"
            ]
          },
          "metadata": {},
          "execution_count": 103
        }
      ]
    },
    {
      "cell_type": "code",
      "source": [
        "lr.predict(X)[:5]"
      ],
      "metadata": {
        "id": "L9IeZ1pog_Pf",
        "outputId": "82d311d0-9baa-4da6-e088-8831911642b7",
        "colab": {
          "base_uri": "https://localhost:8080/"
        }
      },
      "execution_count": 99,
      "outputs": [
        {
          "output_type": "execute_result",
          "data": {
            "text/plain": [
              "array([206.11667725,  68.07103297, 176.88279035, 166.91445843,\n",
              "       128.46225834])"
            ]
          },
          "metadata": {},
          "execution_count": 99
        }
      ]
    },
    {
      "cell_type": "code",
      "source": [
        "(X @ beta)[:5]"
      ],
      "metadata": {
        "id": "Kv7PQSsIhNkA",
        "outputId": "8d65992a-9476-45ca-b86e-5767f9786b08",
        "colab": {
          "base_uri": "https://localhost:8080/"
        }
      },
      "execution_count": 102,
      "outputs": [
        {
          "output_type": "execute_result",
          "data": {
            "text/plain": [
              "array([ 53.98319308, -84.06245119,  24.74930619,  14.78097427,\n",
              "       -23.67122583])"
            ]
          },
          "metadata": {},
          "execution_count": 102
        }
      ]
    },
    {
      "cell_type": "markdown",
      "metadata": {
        "id": "Un_r3-8Kiorw"
      },
      "source": [
        "## 참고자료\n",
        "\n",
        "- NumPy: the absolute basics for beginners, https://numpy.org/doc/stable/user/absolute_beginners.html\n",
        "- [Numpy] 행렬곱 함수 np.matmul 사용법, np.dot과의 차이, https://jimmy-ai.tistory.com/104"
      ]
    }
  ],
  "metadata": {
    "kaggle": {
      "accelerator": "none",
      "dataSources": [],
      "dockerImageVersionId": 30587,
      "isGpuEnabled": false,
      "isInternetEnabled": true,
      "language": "python",
      "sourceType": "notebook"
    },
    "kernelspec": {
      "display_name": "Python 3",
      "language": "python",
      "name": "python3"
    },
    "language_info": {
      "codemirror_mode": {
        "name": "ipython",
        "version": 3
      },
      "file_extension": ".py",
      "mimetype": "text/x-python",
      "name": "python",
      "nbconvert_exporter": "python",
      "pygments_lexer": "ipython3",
      "version": "3.9.13"
    },
    "colab": {
      "provenance": [],
      "include_colab_link": true
    }
  },
  "nbformat": 4,
  "nbformat_minor": 0
}
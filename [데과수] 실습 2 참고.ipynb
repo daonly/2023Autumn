{
  "cells": [
    {
      "cell_type": "markdown",
      "metadata": {
        "id": "view-in-github",
        "colab_type": "text"
      },
      "source": [
        "<a href=\"https://colab.research.google.com/github/daonly/2023Autumn/blob/main/%5B%EB%8D%B0%EA%B3%BC%EC%88%98%5D%20%EC%8B%A4%EC%8A%B5%202%20%EC%B0%B8%EA%B3%A0.ipynb\" target=\"_parent\"><img src=\"https://colab.research.google.com/assets/colab-badge.svg\" alt=\"Open In Colab\"/></a>"
      ]
    },
    {
      "cell_type": "raw",
      "metadata": {
        "id": "I_ztYYWEJe9e"
      },
      "source": [
        "# 데이터과학을위한수학과프로그래밍 실습 2차시 참고"
      ]
    },
    {
      "cell_type": "markdown",
      "metadata": {
        "id": "3_RLbsFLkDdD"
      },
      "source": [
        "*   [NumPy](https://numpy.org/doc/stable/) Documentation\n",
        "*   [matplotlib.pyplot](https://matplotlib.org/3.5.3/tutorials/introductory/pyplot.html#sphx-glr-tutorials-introductory-pyplot-py) Documentation\n",
        "*   [SymPy](https://docs.sympy.org/latest/index.html) Documentation"
      ]
    },
    {
      "cell_type": "code",
      "execution_count": null,
      "metadata": {
        "id": "SWYU7QhN2KHf"
      },
      "outputs": [],
      "source": [
        "import numpy as np\n",
        "import matplotlib.pyplot as plt"
      ]
    },
    {
      "cell_type": "markdown",
      "metadata": {
        "id": "JN84rjGWE4Qd"
      },
      "source": [
        "### 1. 함수"
      ]
    },
    {
      "cell_type": "markdown",
      "metadata": {
        "id": "E7SNuyYlDmNs"
      },
      "source": [
        "#### 예제 1-1.\n",
        "\n",
        "구간 $[-1, 5]$에서 함수 $f$을 다음과 같이 정의합니다.\n",
        "\n",
        "$$f(x)=\\begin{cases} -x^2+2, & -1\\leq x < 1 \\\\ x^2-4x+3, & 1 \\leq x \\leq 3 \\\\ -x^2+8x-14, & 3<x\\leq5 \\end{cases}$$\n",
        "\n",
        "함수 $f$의 함수값을 출력하는 파이썬 함수 $f(x)$을 작성하고, 이 함수를 이용해 구간 $[-1, 5]$에서 함수 $f$의 그래프를 그리는 코드를 작성하시오."
      ]
    },
    {
      "cell_type": "markdown",
      "metadata": {
        "id": "Q33k-UYokn8g"
      },
      "source": [
        "*   [```numpy.linspace()```](https://numpy.org/doc/stable/reference/generated/numpy.linspace.html)\n",
        "*   [```numpy.zeros_like()```](https://numpy.org/doc/stable/reference/generated/numpy.zeros_like.html)\n",
        "\n"
      ]
    },
    {
      "cell_type": "markdown",
      "metadata": {
        "id": "v5DfKIuVYuyI"
      },
      "source": [
        "> np.linspace와 np.arange"
      ]
    },
    {
      "cell_type": "code",
      "execution_count": null,
      "metadata": {
        "id": "02G8pKGHFXZ7"
      },
      "outputs": [],
      "source": [
        "def f(x):\n",
        "  if x < 1:\n",
        "    return -x**2 + 2\n",
        "  if x <=3:\n",
        "    return x **2 -4*x + 3\n",
        "  else:\n",
        "    return -x**2 + 8*x - 14"
      ]
    },
    {
      "cell_type": "code",
      "execution_count": null,
      "metadata": {
        "id": "3nyOFgsDF2Ri"
      },
      "outputs": [],
      "source": [
        "x = np.linspace(-1, 5, 601)"
      ]
    },
    {
      "cell_type": "markdown",
      "metadata": {
        "id": "NSgWIJ4YYuyK"
      },
      "source": [
        "첫번째 방법은,"
      ]
    },
    {
      "cell_type": "code",
      "execution_count": null,
      "metadata": {
        "id": "uOdKOUX2YuyK"
      },
      "outputs": [],
      "source": [
        "fx = np.zeros_like(x)"
      ]
    },
    {
      "cell_type": "markdown",
      "metadata": {
        "id": "AU8aD7I1YuyK"
      },
      "source": [
        "두번째 방법으로,"
      ]
    },
    {
      "cell_type": "code",
      "execution_count": null,
      "metadata": {
        "id": "DMf5wQnIYuyK"
      },
      "outputs": [],
      "source": [
        "fx = [f(i) for i in x]"
      ]
    },
    {
      "cell_type": "code",
      "execution_count": null,
      "metadata": {
        "id": "trKT8aY0GA7_",
        "outputId": "0577ffc2-2111-4db0-a852-ad4af99925a1"
      },
      "outputs": [
        {
          "data": {
            "image/png": "[encoded data removed]",
            "text/plain": [
              "<Figure size 640x480 with 1 Axes>"
            ]
          },
          "metadata": {},
          "output_type": "display_data"
        }
      ],
      "source": [
        "for i in range(0, 601):\n",
        "  fx[i] = f(x[i])\n",
        "\n",
        "plt.plot(x, fx, '.g')\n",
        "plt.show()"
      ]
    },
    {
      "cell_type": "markdown",
      "metadata": {
        "id": "gx1-1xD5YuyL"
      },
      "source": [
        "> matplotlib.pyplot의 편리성 vs  explicit API의 유연성\n",
        "\n",
        "> 플롯 스타일 포맷팅\n",
        "\n",
        "    * [matplotlib.pyplot.plot](https://matplotlib.org/stable/api/_as_gen/matplotlib.pyplot.plot.html#matplotlib.pyplot.plot)\n",
        "    * [color][marker][line]"
      ]
    },
    {
      "cell_type": "markdown",
      "metadata": {
        "id": "y0eFJSCyRYdW"
      },
      "source": [
        "#### 예제 1-2.\n",
        "\n",
        "$$f(x) = 3x-4$$\n",
        "\n",
        "$$f^{-1}(x) = \\frac{1}{3}(x+4)$$\n",
        "\n",
        "$f$의 그래프와 $f^{-1}$을 시각화하여 교점을 찾으시오.\n",
        "\n"
      ]
    },
    {
      "cell_type": "code",
      "execution_count": null,
      "metadata": {
        "id": "LTgFp13WI_b8"
      },
      "outputs": [],
      "source": [
        "def f(x):\n",
        "  return 3*x - 4\n",
        "\n",
        "def f_inv(x):\n",
        "  return (x+4)/3\n",
        "\n",
        "def identity(x):\n",
        "  return x"
      ]
    },
    {
      "cell_type": "code",
      "execution_count": null,
      "metadata": {
        "id": "EeVhmdkn2II2",
        "outputId": "405f980b-dd11-4f2e-f4ae-d01f3e957978"
      },
      "outputs": [
        {
          "data": {
            "image/png": "[encoded data removed]",
            "text/plain": [
              "<Figure size 640x480 with 1 Axes>"
            ]
          },
          "metadata": {},
          "output_type": "display_data"
        }
      ],
      "source": [
        "x = np.linspace(-1, 5, 601)\n",
        "graph,  = plt.plot(x, f(x), 'b')\n",
        "graph1, = plt.plot(x, f_inv(x), 'c')\n",
        "graph2, = plt.plot(x, identity(x), \"--\")\n",
        "plt.legend(handles=(graph, graph1, graph2),\n",
        "           labels=(r'$y=f(x)$', r'$y=f^{-1}(x)$', r'$y=x$'))\n",
        "plt.ylim(-1, 5)\n",
        "plt.show()"
      ]
    },
    {
      "cell_type": "markdown",
      "metadata": {
        "id": "SWnH7dAkYuyM"
      },
      "source": [
        "> Line2D 객체의 변수화\n",
        "    \n",
        "`plt.plot` 함수는 무조건 리스트 객체를 반환하므로, Line2D 객체만을 추출하는 방법\n",
        "\n",
        "> TeX in matplotlib text\n",
        "\n",
        "raw string with dollar sign (r'$<TeX code>$')\n",
        "\n",
        "TeX 를 편리하게 사용하기 위해 만든 포맷 -> LaTeX\n",
        "\n",
        "[Rendering math equations using TeX](https://matplotlib.org/stable/gallery/text_labels_and_annotations/tex_demo.html)"
      ]
    },
    {
      "cell_type": "markdown",
      "metadata": {
        "id": "VEYFUZLL450G"
      },
      "source": [
        "#### 예제 1-3.\n",
        "\n",
        "$$g(x) = x^2+1$$\n",
        "\n",
        "$$g^{-1}(x) = \\sqrt{x-1}(x\\geq1)$$\n",
        "\n",
        "$g$의 그래프와 $g^{-1}$을 시각화하여 교점을 찾으시오."
      ]
    },
    {
      "cell_type": "code",
      "execution_count": null,
      "metadata": {
        "id": "TRtaWOtp24bu"
      },
      "outputs": [],
      "source": [
        "def g(x):\n",
        "  return x**2 + 1\n",
        "\n",
        "def g_inv(x):\n",
        "  return np.sqrt(x-1)"
      ]
    },
    {
      "cell_type": "code",
      "execution_count": null,
      "metadata": {
        "id": "RRrS0Gdy6HQu",
        "outputId": "077dee52-ae18-4720-a813-8c4c3a97e91b"
      },
      "outputs": [
        {
          "name": "stderr",
          "output_type": "stream",
          "text": [
            "/tmp/ipykernel_1497/2372714319.py:5: RuntimeWarning: invalid value encountered in sqrt\n",
            "  return np.sqrt(x-1)\n"
          ]
        },
        {
          "data": {
            "image/png": "[encoded data removed]",
            "text/plain": [
              "<Figure size 640x480 with 1 Axes>"
            ]
          },
          "metadata": {},
          "output_type": "display_data"
        }
      ],
      "source": [
        "x = np.linspace(0, 6, 601)\n",
        "graph, = plt.plot(x, g(x))\n",
        "graph1, = plt.plot(x, g_inv(x))\n",
        "graph2, = plt.plot(x, identity(x), \"--\")\n",
        "plt.legend(handles=(graph, graph1, graph2),\n",
        "           labels=(r'$y=g(x)$', r'$y=g^{-1}(x)$', r'$y=x$'))\n",
        "plt.ylim(0, 6)\n",
        "plt.show()"
      ]
    },
    {
      "cell_type": "markdown",
      "metadata": {
        "id": "XFAKP-pfE80u"
      },
      "source": [
        "### 2. 극한"
      ]
    },
    {
      "cell_type": "markdown",
      "metadata": {
        "id": "ZIzL2s_qYuyN"
      },
      "source": [
        "\n",
        "*   [Sympy Calculus Tutorial](https://docs.sympy.org/latest/tutorials/intro-tutorial/calculus.html)\n",
        "\n"
      ]
    },
    {
      "cell_type": "markdown",
      "metadata": {
        "id": "yDPxEKpSHDLQ"
      },
      "source": [
        "#### 예제 2-1.\n",
        "\n",
        "다음 함수의 그래프를 그려 극한값을 추정한 후, `sympy`의 결과와 비교하시오.\n",
        "\n",
        "$$\\lim_{x\\to∞}\\frac{1}{x}$$"
      ]
    },
    {
      "cell_type": "code",
      "execution_count": null,
      "metadata": {
        "id": "vhNFZ-HpHaKS",
        "outputId": "45c74049-fe8c-4439-9b2f-a3f7a52be264"
      },
      "outputs": [
        {
          "data": {
            "image/png": "[encoded data removed]",
            "text/plain": [
              "<Figure size 640x480 with 1 Axes>"
            ]
          },
          "metadata": {},
          "output_type": "display_data"
        }
      ],
      "source": [
        "x = np.linspace(1, 100, 1001)\n",
        "fx = 1/x\n",
        "\n",
        "plt.plot(x, fx)\n",
        "plt.show()"
      ]
    },
    {
      "cell_type": "code",
      "execution_count": null,
      "metadata": {
        "id": "iuDnfFacYuyN",
        "outputId": "988f2acd-29c8-4246-a676-ded6ee3ea392"
      },
      "outputs": [
        {
          "data": {
            "text/latex": [
              "$\\displaystyle 0$"
            ],
            "text/plain": [
              "0"
            ]
          },
          "execution_count": 14,
          "metadata": {},
          "output_type": "execute_result"
        }
      ],
      "source": [
        "from sympy import Limit, Symbol, oo\n",
        "\n",
        "x = Symbol('x')\n",
        "Limit(1/x, x, oo).doit()"
      ]
    },
    {
      "cell_type": "markdown",
      "metadata": {
        "id": "d8EgqM9VYuyO"
      },
      "source": [
        "> Sympy\n",
        "\n",
        "**Sym**bolic mathematics in **Py**thon\n",
        "\n",
        "> Symbol\n",
        "\n",
        "데이터가 아닌, Symbol로 인식하겠음\n",
        "\n",
        "> Limit\n",
        "\n",
        "```python\n",
        "Limit(expression, variable, value)\n",
        "```\n",
        "\n",
        "> doit method\n",
        "\n",
        "극한, 미분, 적분 연산 메소드에 대해 Evaluation\n",
        "\n",
        "[SymPy ```.doit()```](https://docs.sympy.org/latest/modules/core.html?highlight=doit#sympy.core.basic.Basic.doit)"
      ]
    },
    {
      "cell_type": "markdown",
      "metadata": {
        "id": "jZqZtt9zHarZ"
      },
      "source": [
        "#### 예제 2-2.\n",
        "\n",
        "다음 함수의 그래프를 그려 극한값을 추정한 후, `sympy`의 결과와 비교하시오.\n",
        "\n",
        "$$\\lim_{x\\to-∞}(x^3+2x)$$"
      ]
    },
    {
      "cell_type": "code",
      "execution_count": null,
      "metadata": {
        "id": "vXXRwoS8H5ES",
        "outputId": "dcb96af5-31bf-4cb6-e88f-23b79dc85961"
      },
      "outputs": [
        {
          "data": {
            "image/png": "[encoded data removed]",
            "text/plain": [
              "<Figure size 640x480 with 1 Axes>"
            ]
          },
          "metadata": {},
          "output_type": "display_data"
        }
      ],
      "source": [
        "x = np.linspace(-100, 0, 1001)\n",
        "gx = x**3 + 2*x\n",
        "plt.plot(x, gx)\n",
        "plt.show()"
      ]
    },
    {
      "cell_type": "code",
      "execution_count": null,
      "metadata": {
        "id": "wjSKGFO4YuyO",
        "outputId": "b7fb7040-e256-4c18-ac84-7a4abef2d95e"
      },
      "outputs": [
        {
          "data": {
            "text/latex": [
              "$\\displaystyle -\\infty$"
            ],
            "text/plain": [
              "-oo"
            ]
          },
          "execution_count": 16,
          "metadata": {},
          "output_type": "execute_result"
        }
      ],
      "source": [
        "from sympy import Limit, Symbol, oo\n",
        "\n",
        "x = Symbol('x')\n",
        "Limit(x**3 + 2*x, x, -oo).doit()"
      ]
    },
    {
      "cell_type": "markdown",
      "metadata": {
        "id": "63Frg6xZFIb4"
      },
      "source": [
        "### 3. 미분"
      ]
    },
    {
      "cell_type": "markdown",
      "metadata": {
        "id": "6b4fXNa6Lo7R"
      },
      "source": [
        "#### 예제 3-1.\n",
        "\n",
        "다음 함수의 도함수를 구하시오.\n",
        "\n",
        "$$f(x)=x^{2023}+3x^3-1$$\n"
      ]
    },
    {
      "cell_type": "code",
      "execution_count": null,
      "metadata": {
        "id": "iYCvxVV1YuyP"
      },
      "outputs": [],
      "source": [
        "from sympy import Symbol, simplify, Derivative\n",
        "\n",
        "x  = Symbol('x')\n",
        "\n",
        "fx = x**2023 + 3*x**3 - 1"
      ]
    },
    {
      "cell_type": "code",
      "execution_count": null,
      "metadata": {
        "id": "HUakwDiYYuyP",
        "outputId": "07ecc1f9-d212-435b-f487-94febefc4e67"
      },
      "outputs": [
        {
          "data": {
            "text/latex": [
              "$\\displaystyle 2023 x^{2022} + 9 x^{2}$"
            ],
            "text/plain": [
              "2023*x**2022 + 9*x**2"
            ]
          },
          "execution_count": 18,
          "metadata": {},
          "output_type": "execute_result"
        }
      ],
      "source": [
        "Derivative(fx, x).doit()"
      ]
    },
    {
      "cell_type": "code",
      "execution_count": null,
      "metadata": {
        "id": "mi3tUOmQYuyP",
        "outputId": "6f7b383a-73a4-4c81-dfff-5c5c09939d55"
      },
      "outputs": [
        {
          "data": {
            "text/latex": [
              "$\\displaystyle x^{2} \\left(2023 x^{2020} + 9\\right)$"
            ],
            "text/plain": [
              "x**2*(2023*x**2020 + 9)"
            ]
          },
          "execution_count": 19,
          "metadata": {},
          "output_type": "execute_result"
        }
      ],
      "source": [
        "simplify(Derivative(fx, x).doit())"
      ]
    },
    {
      "cell_type": "markdown",
      "metadata": {
        "id": "gIOYksDCYuyP"
      },
      "source": [
        "> simplify\n",
        "\n",
        "[SymPy simplification](https://docs.sympy.org/latest/tutorials/intro-tutorial/simplification.html)\n",
        "\n",
        "> Derivative\n",
        "\n",
        "[SymPy ```Derivative()``` class](https://docs.sympy.org/latest/modules/core.html?highlight=derivative#sympy.core.function.Derivative)"
      ]
    },
    {
      "cell_type": "markdown",
      "metadata": {
        "id": "EaF3nOsmMjFg"
      },
      "source": [
        "#### 예제 3-2.\n",
        "\n",
        "다음 함수의 도함수를 구하시오.\n",
        "\n",
        "$$g(x)=\\frac{x}{x+1}$$\n"
      ]
    },
    {
      "cell_type": "code",
      "execution_count": null,
      "metadata": {
        "id": "AaiftlV6MiPn",
        "outputId": "dc95ed28-a815-4fad-d2fa-f8afeda66df2"
      },
      "outputs": [
        {
          "name": "stdout",
          "output_type": "stream",
          "text": [
            "g'(x)= (x + 1)**(-2)\n"
          ]
        }
      ],
      "source": [
        "from sympy import Symbol, simplify, Derivative\n",
        "\n",
        "x = Symbol('x')\n",
        "gx = x / (x+1)\n",
        "\n",
        "print(f\"g'(x)= {simplify(Derivative(gx, x).doit())}\")"
      ]
    },
    {
      "cell_type": "markdown",
      "metadata": {
        "id": "FcW51RhMYuyZ"
      },
      "source": [
        "> f-string\n",
        "\n",
        "Python에서 문자를 포맷팅하는 편리한 방법\n",
        "\n",
        "[f-string Formatting in Python](https://www.datacamp.com/tutorial/f-string-formatting-in-python)"
      ]
    },
    {
      "cell_type": "markdown",
      "metadata": {
        "id": "6f5-rStvHIo_"
      },
      "source": [
        "#### 예제 3-3.\n",
        "\n",
        "다음 함수의 도함수를 구하시오.\n",
        "\n",
        "$$f(x)=sin(x)cos(x)$$"
      ]
    },
    {
      "cell_type": "code",
      "execution_count": null,
      "metadata": {
        "id": "detYQWr3HV0X",
        "outputId": "c22bf191-c6f8-49a3-afcd-61e0c13c6fe2"
      },
      "outputs": [
        {
          "name": "stdout",
          "output_type": "stream",
          "text": [
            "f'(x)= cos(2*x)\n"
          ]
        }
      ],
      "source": [
        "import sympy as sp\n",
        "\n",
        "x = sp.Symbol('x')\n",
        "fx = sp.sin(x) * sp.cos(x)\n",
        "print(\"f'(x)=\", sp.simplify(sp.diff(fx, x)))"
      ]
    },
    {
      "cell_type": "markdown",
      "metadata": {
        "id": "y6j3ObHGYuyZ"
      },
      "source": [
        "> sp.diff\n",
        "\n",
        "Evaluation이 바로 일어나는 함수"
      ]
    },
    {
      "cell_type": "markdown",
      "metadata": {
        "id": "W04wjfmDQlpK"
      },
      "source": [
        "#### 예제 3-4.\n",
        "\n",
        "$x$와 $y$에 대한 관계식 $x^2 + 2y^2-xy-3x-4y=5$에서 $\\frac{dy}{dx}$를 구하시오."
      ]
    },
    {
      "cell_type": "markdown",
      "metadata": {
        "id": "mPZvQAH4pQok"
      },
      "source": [
        "*   [SymPy ```idiff()```](https://docs.sympy.org/latest/modules/geometry/utils.html?highlight=idiff#sympy.geometry.util.idiff)\n",
        "\n"
      ]
    },
    {
      "cell_type": "code",
      "execution_count": null,
      "metadata": {
        "id": "0MaKaYMHYuya",
        "outputId": "59db5114-172a-4709-d9c4-7c3eaf9d9c88"
      },
      "outputs": [
        {
          "data": {
            "text/latex": [
              "$\\displaystyle \\frac{2 x - y - 3}{x - 4 y + 4}$"
            ],
            "text/plain": [
              "(2*x - y - 3)/(x - 4*y + 4)"
            ]
          },
          "execution_count": 22,
          "metadata": {},
          "output_type": "execute_result"
        }
      ],
      "source": [
        "from sympy import Symbol, idiff\n",
        "\n",
        "x = Symbol('x')\n",
        "y = Symbol('y')\n",
        "fxy = x**2 + 2*y**2 - x*y - 3*x -4*y - 5\n",
        "\n",
        "idiff(fxy, y, x)"
      ]
    },
    {
      "cell_type": "markdown",
      "metadata": {
        "id": "hTTSJoNSvV26"
      },
      "source": [
        "#### 예제 3-5.\n",
        "\n",
        "다음 곡선 위에 주어진 점에서의 접선의 기울기를 구하시오.\n",
        "\n",
        "$$f = x^3+2x-1, (1, 2)$$"
      ]
    },
    {
      "cell_type": "code",
      "execution_count": null,
      "metadata": {
        "id": "Ug8pOdAOwEjf",
        "outputId": "52007b16-8f2c-44ca-e2b6-376aaa8d89bd"
      },
      "outputs": [
        {
          "name": "stdout",
          "output_type": "stream",
          "text": [
            "3*x**2 + 2\n",
            "f'(1) = 5\n"
          ]
        }
      ],
      "source": [
        "from sympy import * # sympy 내 모든 함수를 불러옴\n",
        "\n",
        "x = Symbol('x')\n",
        "f = x**3 + 2*x - 1\n",
        "df = Derivative(f, x).doit()\n",
        "\n",
        "print(df)\n",
        "print(f\"f'(1) = {df.subs(x, 1)}\")"
      ]
    },
    {
      "cell_type": "markdown",
      "metadata": {
        "id": "ZSMbJc0QYuya"
      },
      "source": [
        "> [SymPy ```subs()```](https://docs.sympy.org/latest/modules/core.html?highlight=subs#sympy.core.basic.Basic.subs)\n",
        "\n",
        "foo.subs(old, new)\n",
        "\n",
        "foo.subs(iterable)\n",
        "\n",
        "foo.subs(dict)\n",
        "\n"
      ]
    },
    {
      "cell_type": "markdown",
      "metadata": {
        "id": "w9TAgWga0t38"
      },
      "source": [
        "#### 예제 3-6.\n",
        "\n",
        "다음 함수의 극값을 구하시오.\n",
        "\n",
        "$$f(x)=-2x^3-3x^2+1$$"
      ]
    },
    {
      "cell_type": "code",
      "execution_count": null,
      "metadata": {
        "id": "1CGsOOua1ES9",
        "outputId": "1a79debb-f346-46be-8bba-77ec8ab9afe7"
      },
      "outputs": [
        {
          "data": {
            "image/png": "[encoded data removed]",
            "text/plain": [
              "<Figure size 640x480 with 1 Axes>"
            ]
          },
          "metadata": {},
          "output_type": "display_data"
        }
      ],
      "source": [
        "x = np.linspace(-2, 2, 401)\n",
        "fx = -2*x**3 - 3*x**2 + 1\n",
        "\n",
        "plt.plot(x, fx)\n",
        "plt.axhline(0)\n",
        "plt.axvline(0)\n",
        "plt.ylim(-1, 2)\n",
        "plt.show()"
      ]
    },
    {
      "cell_type": "code",
      "execution_count": null,
      "metadata": {
        "id": "NJIW5QruvVVL",
        "outputId": "42e193ec-0030-497c-db59-db5b61e616d3"
      },
      "outputs": [
        {
          "name": "stdout",
          "output_type": "stream",
          "text": [
            "[-1, 0]\n"
          ]
        }
      ],
      "source": [
        "from sympy import Symbol, Derivative, solve\n",
        "\n",
        "x = Symbol('x')\n",
        "f = -2*x**3 - 3*x**2 + 1\n",
        "\n",
        "df = Derivative(f, x).doit()\n",
        "print(solve(df))"
      ]
    },
    {
      "cell_type": "markdown",
      "metadata": {
        "id": "poIucO6fYuyb"
      },
      "source": [
        "*   [SymPy ```solve()```](https://docs.sympy.org/latest/modules/solvers/solvers.html?highlight=solve#sympy.solvers.solvers.solve)\n",
        "\n"
      ]
    },
    {
      "cell_type": "markdown",
      "metadata": {
        "id": "zHpt4QqqYuyb"
      },
      "source": [
        "(참고) Sympy 함수 표현을 파이썬 함수로 변환하는 방법\n",
        "    \n",
        "[`lambdify`(변수, 표현식)](https://docs.sympy.org/latest/modules/utilities/lambdify.html#sympy.utilities.lambdify.lambdify)"
      ]
    },
    {
      "cell_type": "code",
      "execution_count": null,
      "metadata": {
        "id": "IcgN4r09Yuyb",
        "outputId": "1bb7e906-f09f-4a27-de22-4781303233f5"
      },
      "outputs": [
        {
          "name": "stdout",
          "output_type": "stream",
          "text": [
            "<class 'sympy.core.power.Pow'>\n"
          ]
        },
        {
          "data": {
            "text/plain": [
              "4"
            ]
          },
          "execution_count": 3,
          "metadata": {},
          "output_type": "execute_result"
        }
      ],
      "source": [
        "from sympy import Symbol, lambdify\n",
        "\n",
        "x = Symbol('x')\n",
        "sympy_f = x**2\n",
        "\n",
        "print(type(sympy_f)) # sympy 내의 클래스\n",
        "\n",
        "f = lambdify(x, sympy_f)\n",
        "\n",
        "f(2) # 수치연산 가능"
      ]
    }
  ],
  "metadata": {
    "colab": {
      "provenance": [],
      "include_colab_link": true
    },
    "kernelspec": {
      "display_name": "Python 3",
      "name": "python3"
    },
    "language_info": {
      "codemirror_mode": {
        "name": "ipython",
        "version": 3
      },
      "file_extension": ".py",
      "mimetype": "text/x-python",
      "name": "python",
      "nbconvert_exporter": "python",
      "pygments_lexer": "ipython3",
      "version": "3.10.12"
    }
  },
  "nbformat": 4,
  "nbformat_minor": 0
}